{
 "cells": [
  {
   "cell_type": "code",
   "execution_count": 1,
   "id": "05c02214",
   "metadata": {},
   "outputs": [],
   "source": [
    "import pandas as pd"
   ]
  },
  {
   "cell_type": "code",
   "execution_count": 2,
   "id": "298ee1dd",
   "metadata": {},
   "outputs": [],
   "source": [
    "import numpy as np"
   ]
  },
  {
   "cell_type": "code",
   "execution_count": 3,
   "id": "3ebf0af9",
   "metadata": {},
   "outputs": [],
   "source": [
    "dfsocial=pd.read_csv(\"C:\\\\Users\\\\Legion\\\\OneDrive\\\\Desktop\\\\data\\\\social.csv\")"
   ]
  },
  {
   "cell_type": "code",
   "execution_count": 4,
   "id": "2a4e3dda",
   "metadata": {},
   "outputs": [
    {
     "data": {
      "text/html": [
       "<div>\n",
       "<style scoped>\n",
       "    .dataframe tbody tr th:only-of-type {\n",
       "        vertical-align: middle;\n",
       "    }\n",
       "\n",
       "    .dataframe tbody tr th {\n",
       "        vertical-align: top;\n",
       "    }\n",
       "\n",
       "    .dataframe thead th {\n",
       "        text-align: right;\n",
       "    }\n",
       "</style>\n",
       "<table border=\"1\" class=\"dataframe\">\n",
       "  <thead>\n",
       "    <tr style=\"text-align: right;\">\n",
       "      <th></th>\n",
       "      <th>User ID</th>\n",
       "      <th>Gender</th>\n",
       "      <th>Age</th>\n",
       "      <th>EstimatedSalary</th>\n",
       "      <th>Purchased</th>\n",
       "    </tr>\n",
       "  </thead>\n",
       "  <tbody>\n",
       "    <tr>\n",
       "      <th>0</th>\n",
       "      <td>15624510</td>\n",
       "      <td>Male</td>\n",
       "      <td>19</td>\n",
       "      <td>19000</td>\n",
       "      <td>0</td>\n",
       "    </tr>\n",
       "    <tr>\n",
       "      <th>1</th>\n",
       "      <td>15810944</td>\n",
       "      <td>Male</td>\n",
       "      <td>35</td>\n",
       "      <td>20000</td>\n",
       "      <td>0</td>\n",
       "    </tr>\n",
       "    <tr>\n",
       "      <th>2</th>\n",
       "      <td>15668575</td>\n",
       "      <td>Female</td>\n",
       "      <td>26</td>\n",
       "      <td>43000</td>\n",
       "      <td>0</td>\n",
       "    </tr>\n",
       "    <tr>\n",
       "      <th>3</th>\n",
       "      <td>15603246</td>\n",
       "      <td>Female</td>\n",
       "      <td>27</td>\n",
       "      <td>57000</td>\n",
       "      <td>0</td>\n",
       "    </tr>\n",
       "    <tr>\n",
       "      <th>4</th>\n",
       "      <td>15804002</td>\n",
       "      <td>Male</td>\n",
       "      <td>19</td>\n",
       "      <td>76000</td>\n",
       "      <td>0</td>\n",
       "    </tr>\n",
       "    <tr>\n",
       "      <th>...</th>\n",
       "      <td>...</td>\n",
       "      <td>...</td>\n",
       "      <td>...</td>\n",
       "      <td>...</td>\n",
       "      <td>...</td>\n",
       "    </tr>\n",
       "    <tr>\n",
       "      <th>395</th>\n",
       "      <td>15691863</td>\n",
       "      <td>Female</td>\n",
       "      <td>46</td>\n",
       "      <td>41000</td>\n",
       "      <td>1</td>\n",
       "    </tr>\n",
       "    <tr>\n",
       "      <th>396</th>\n",
       "      <td>15706071</td>\n",
       "      <td>Male</td>\n",
       "      <td>51</td>\n",
       "      <td>23000</td>\n",
       "      <td>1</td>\n",
       "    </tr>\n",
       "    <tr>\n",
       "      <th>397</th>\n",
       "      <td>15654296</td>\n",
       "      <td>Female</td>\n",
       "      <td>50</td>\n",
       "      <td>20000</td>\n",
       "      <td>1</td>\n",
       "    </tr>\n",
       "    <tr>\n",
       "      <th>398</th>\n",
       "      <td>15755018</td>\n",
       "      <td>Male</td>\n",
       "      <td>36</td>\n",
       "      <td>33000</td>\n",
       "      <td>0</td>\n",
       "    </tr>\n",
       "    <tr>\n",
       "      <th>399</th>\n",
       "      <td>15594041</td>\n",
       "      <td>Female</td>\n",
       "      <td>49</td>\n",
       "      <td>36000</td>\n",
       "      <td>1</td>\n",
       "    </tr>\n",
       "  </tbody>\n",
       "</table>\n",
       "<p>400 rows × 5 columns</p>\n",
       "</div>"
      ],
      "text/plain": [
       "      User ID  Gender  Age  EstimatedSalary  Purchased\n",
       "0    15624510    Male   19            19000          0\n",
       "1    15810944    Male   35            20000          0\n",
       "2    15668575  Female   26            43000          0\n",
       "3    15603246  Female   27            57000          0\n",
       "4    15804002    Male   19            76000          0\n",
       "..        ...     ...  ...              ...        ...\n",
       "395  15691863  Female   46            41000          1\n",
       "396  15706071    Male   51            23000          1\n",
       "397  15654296  Female   50            20000          1\n",
       "398  15755018    Male   36            33000          0\n",
       "399  15594041  Female   49            36000          1\n",
       "\n",
       "[400 rows x 5 columns]"
      ]
     },
     "execution_count": 4,
     "metadata": {},
     "output_type": "execute_result"
    }
   ],
   "source": [
    "dfsocial"
   ]
  },
  {
   "cell_type": "code",
   "execution_count": 5,
   "id": "11dffd41",
   "metadata": {},
   "outputs": [
    {
     "data": {
      "text/plain": [
       "User ID            0\n",
       "Gender             0\n",
       "Age                0\n",
       "EstimatedSalary    0\n",
       "Purchased          0\n",
       "dtype: int64"
      ]
     },
     "execution_count": 5,
     "metadata": {},
     "output_type": "execute_result"
    }
   ],
   "source": [
    "dfsocial.isna().sum()"
   ]
  },
  {
   "cell_type": "code",
   "execution_count": 6,
   "id": "7e28c101",
   "metadata": {},
   "outputs": [
    {
     "data": {
      "text/plain": [
       "Index(['User ID', 'Gender', 'Age', 'EstimatedSalary', 'Purchased'], dtype='object')"
      ]
     },
     "execution_count": 6,
     "metadata": {},
     "output_type": "execute_result"
    }
   ],
   "source": [
    "dfsocial.columns"
   ]
  },
  {
   "cell_type": "code",
   "execution_count": 7,
   "id": "97709808",
   "metadata": {},
   "outputs": [],
   "source": [
    "dfsocial.columns=['User ID', 'Gender', 'Age', 'Salary', 'Purchased']"
   ]
  },
  {
   "cell_type": "code",
   "execution_count": 8,
   "id": "19b0c384",
   "metadata": {},
   "outputs": [
    {
     "data": {
      "text/html": [
       "<div>\n",
       "<style scoped>\n",
       "    .dataframe tbody tr th:only-of-type {\n",
       "        vertical-align: middle;\n",
       "    }\n",
       "\n",
       "    .dataframe tbody tr th {\n",
       "        vertical-align: top;\n",
       "    }\n",
       "\n",
       "    .dataframe thead th {\n",
       "        text-align: right;\n",
       "    }\n",
       "</style>\n",
       "<table border=\"1\" class=\"dataframe\">\n",
       "  <thead>\n",
       "    <tr style=\"text-align: right;\">\n",
       "      <th></th>\n",
       "      <th>User ID</th>\n",
       "      <th>Gender</th>\n",
       "      <th>Age</th>\n",
       "      <th>Salary</th>\n",
       "      <th>Purchased</th>\n",
       "    </tr>\n",
       "  </thead>\n",
       "  <tbody>\n",
       "    <tr>\n",
       "      <th>0</th>\n",
       "      <td>15624510</td>\n",
       "      <td>Male</td>\n",
       "      <td>19</td>\n",
       "      <td>19000</td>\n",
       "      <td>0</td>\n",
       "    </tr>\n",
       "    <tr>\n",
       "      <th>1</th>\n",
       "      <td>15810944</td>\n",
       "      <td>Male</td>\n",
       "      <td>35</td>\n",
       "      <td>20000</td>\n",
       "      <td>0</td>\n",
       "    </tr>\n",
       "    <tr>\n",
       "      <th>2</th>\n",
       "      <td>15668575</td>\n",
       "      <td>Female</td>\n",
       "      <td>26</td>\n",
       "      <td>43000</td>\n",
       "      <td>0</td>\n",
       "    </tr>\n",
       "    <tr>\n",
       "      <th>3</th>\n",
       "      <td>15603246</td>\n",
       "      <td>Female</td>\n",
       "      <td>27</td>\n",
       "      <td>57000</td>\n",
       "      <td>0</td>\n",
       "    </tr>\n",
       "    <tr>\n",
       "      <th>4</th>\n",
       "      <td>15804002</td>\n",
       "      <td>Male</td>\n",
       "      <td>19</td>\n",
       "      <td>76000</td>\n",
       "      <td>0</td>\n",
       "    </tr>\n",
       "    <tr>\n",
       "      <th>...</th>\n",
       "      <td>...</td>\n",
       "      <td>...</td>\n",
       "      <td>...</td>\n",
       "      <td>...</td>\n",
       "      <td>...</td>\n",
       "    </tr>\n",
       "    <tr>\n",
       "      <th>395</th>\n",
       "      <td>15691863</td>\n",
       "      <td>Female</td>\n",
       "      <td>46</td>\n",
       "      <td>41000</td>\n",
       "      <td>1</td>\n",
       "    </tr>\n",
       "    <tr>\n",
       "      <th>396</th>\n",
       "      <td>15706071</td>\n",
       "      <td>Male</td>\n",
       "      <td>51</td>\n",
       "      <td>23000</td>\n",
       "      <td>1</td>\n",
       "    </tr>\n",
       "    <tr>\n",
       "      <th>397</th>\n",
       "      <td>15654296</td>\n",
       "      <td>Female</td>\n",
       "      <td>50</td>\n",
       "      <td>20000</td>\n",
       "      <td>1</td>\n",
       "    </tr>\n",
       "    <tr>\n",
       "      <th>398</th>\n",
       "      <td>15755018</td>\n",
       "      <td>Male</td>\n",
       "      <td>36</td>\n",
       "      <td>33000</td>\n",
       "      <td>0</td>\n",
       "    </tr>\n",
       "    <tr>\n",
       "      <th>399</th>\n",
       "      <td>15594041</td>\n",
       "      <td>Female</td>\n",
       "      <td>49</td>\n",
       "      <td>36000</td>\n",
       "      <td>1</td>\n",
       "    </tr>\n",
       "  </tbody>\n",
       "</table>\n",
       "<p>400 rows × 5 columns</p>\n",
       "</div>"
      ],
      "text/plain": [
       "      User ID  Gender  Age  Salary  Purchased\n",
       "0    15624510    Male   19   19000          0\n",
       "1    15810944    Male   35   20000          0\n",
       "2    15668575  Female   26   43000          0\n",
       "3    15603246  Female   27   57000          0\n",
       "4    15804002    Male   19   76000          0\n",
       "..        ...     ...  ...     ...        ...\n",
       "395  15691863  Female   46   41000          1\n",
       "396  15706071    Male   51   23000          1\n",
       "397  15654296  Female   50   20000          1\n",
       "398  15755018    Male   36   33000          0\n",
       "399  15594041  Female   49   36000          1\n",
       "\n",
       "[400 rows x 5 columns]"
      ]
     },
     "execution_count": 8,
     "metadata": {},
     "output_type": "execute_result"
    }
   ],
   "source": [
    "dfsocial"
   ]
  },
  {
   "cell_type": "code",
   "execution_count": 9,
   "id": "2ee0a18f",
   "metadata": {},
   "outputs": [],
   "source": [
    "import matplotlib.pyplot as plt"
   ]
  },
  {
   "cell_type": "code",
   "execution_count": 62,
   "id": "10902fe4",
   "metadata": {},
   "outputs": [
    {
     "data": {
      "image/png": "[encoded data removed]",
      "text/plain": [
       "<Figure size 640x480 with 1 Axes>"
      ]
     },
     "metadata": {},
     "output_type": "display_data"
    }
   ],
   "source": [
    "plt.boxplot(dfsocial)\n",
    "plt.show()"
   ]
  },
  {
   "cell_type": "code",
   "execution_count": 11,
   "id": "3c4888e3",
   "metadata": {},
   "outputs": [
    {
     "data": {
      "image/png": "[encoded data removed]",
      "text/plain": [
       "<Figure size 640x480 with 1 Axes>"
      ]
     },
     "metadata": {},
     "output_type": "display_data"
    }
   ],
   "source": [
    "plt.boxplot(dfsocial[\"Purchased\"])\n",
    "plt.show()"
   ]
  },
  {
   "cell_type": "code",
   "execution_count": 14,
   "id": "ee20d54e",
   "metadata": {},
   "outputs": [
    {
     "data": {
      "image/png": "[encoded data removed]",
      "text/plain": [
       "<Figure size 640x480 with 1 Axes>"
      ]
     },
     "metadata": {},
     "output_type": "display_data"
    }
   ],
   "source": [
    "plt.hist(dfsocial[\"Purchased\"])\n",
    "plt.show()"
   ]
  },
  {
   "cell_type": "code",
   "execution_count": null,
   "id": "151f9e36",
   "metadata": {},
   "outputs": [],
   "source": []
  },
  {
   "cell_type": "code",
   "execution_count": null,
   "id": "b2ae71cf",
   "metadata": {},
   "outputs": [],
   "source": []
  },
  {
   "cell_type": "code",
   "execution_count": null,
   "id": "5b917c5d",
   "metadata": {},
   "outputs": [],
   "source": []
  },
  {
   "cell_type": "code",
   "execution_count": 15,
   "id": "76c14ab3",
   "metadata": {},
   "outputs": [
    {
     "data": {
      "text/plain": [
       "Index(['User ID', 'Gender', 'Age', 'Salary', 'Purchased'], dtype='object')"
      ]
     },
     "execution_count": 15,
     "metadata": {},
     "output_type": "execute_result"
    }
   ],
   "source": [
    "dfsocial.columns"
   ]
  },
  {
   "cell_type": "code",
   "execution_count": 16,
   "id": "444a1ea8",
   "metadata": {},
   "outputs": [],
   "source": [
    "\n",
    "dfsocial.drop([\"User ID\",\"Gender\"],axis=1,inplace=True)"
   ]
  },
  {
   "cell_type": "code",
   "execution_count": 17,
   "id": "8f7d508d",
   "metadata": {},
   "outputs": [
    {
     "data": {
      "text/html": [
       "<div>\n",
       "<style scoped>\n",
       "    .dataframe tbody tr th:only-of-type {\n",
       "        vertical-align: middle;\n",
       "    }\n",
       "\n",
       "    .dataframe tbody tr th {\n",
       "        vertical-align: top;\n",
       "    }\n",
       "\n",
       "    .dataframe thead th {\n",
       "        text-align: right;\n",
       "    }\n",
       "</style>\n",
       "<table border=\"1\" class=\"dataframe\">\n",
       "  <thead>\n",
       "    <tr style=\"text-align: right;\">\n",
       "      <th></th>\n",
       "      <th>Age</th>\n",
       "      <th>Salary</th>\n",
       "      <th>Purchased</th>\n",
       "    </tr>\n",
       "  </thead>\n",
       "  <tbody>\n",
       "    <tr>\n",
       "      <th>0</th>\n",
       "      <td>19</td>\n",
       "      <td>19000</td>\n",
       "      <td>0</td>\n",
       "    </tr>\n",
       "    <tr>\n",
       "      <th>1</th>\n",
       "      <td>35</td>\n",
       "      <td>20000</td>\n",
       "      <td>0</td>\n",
       "    </tr>\n",
       "    <tr>\n",
       "      <th>2</th>\n",
       "      <td>26</td>\n",
       "      <td>43000</td>\n",
       "      <td>0</td>\n",
       "    </tr>\n",
       "    <tr>\n",
       "      <th>3</th>\n",
       "      <td>27</td>\n",
       "      <td>57000</td>\n",
       "      <td>0</td>\n",
       "    </tr>\n",
       "    <tr>\n",
       "      <th>4</th>\n",
       "      <td>19</td>\n",
       "      <td>76000</td>\n",
       "      <td>0</td>\n",
       "    </tr>\n",
       "    <tr>\n",
       "      <th>...</th>\n",
       "      <td>...</td>\n",
       "      <td>...</td>\n",
       "      <td>...</td>\n",
       "    </tr>\n",
       "    <tr>\n",
       "      <th>395</th>\n",
       "      <td>46</td>\n",
       "      <td>41000</td>\n",
       "      <td>1</td>\n",
       "    </tr>\n",
       "    <tr>\n",
       "      <th>396</th>\n",
       "      <td>51</td>\n",
       "      <td>23000</td>\n",
       "      <td>1</td>\n",
       "    </tr>\n",
       "    <tr>\n",
       "      <th>397</th>\n",
       "      <td>50</td>\n",
       "      <td>20000</td>\n",
       "      <td>1</td>\n",
       "    </tr>\n",
       "    <tr>\n",
       "      <th>398</th>\n",
       "      <td>36</td>\n",
       "      <td>33000</td>\n",
       "      <td>0</td>\n",
       "    </tr>\n",
       "    <tr>\n",
       "      <th>399</th>\n",
       "      <td>49</td>\n",
       "      <td>36000</td>\n",
       "      <td>1</td>\n",
       "    </tr>\n",
       "  </tbody>\n",
       "</table>\n",
       "<p>400 rows × 3 columns</p>\n",
       "</div>"
      ],
      "text/plain": [
       "     Age  Salary  Purchased\n",
       "0     19   19000          0\n",
       "1     35   20000          0\n",
       "2     26   43000          0\n",
       "3     27   57000          0\n",
       "4     19   76000          0\n",
       "..   ...     ...        ...\n",
       "395   46   41000          1\n",
       "396   51   23000          1\n",
       "397   50   20000          1\n",
       "398   36   33000          0\n",
       "399   49   36000          1\n",
       "\n",
       "[400 rows x 3 columns]"
      ]
     },
     "execution_count": 17,
     "metadata": {},
     "output_type": "execute_result"
    }
   ],
   "source": [
    "dfsocial"
   ]
  },
  {
   "cell_type": "markdown",
   "id": "6d96b33f",
   "metadata": {},
   "source": [
    "imbalance"
   ]
  },
  {
   "cell_type": "code",
   "execution_count": 18,
   "id": "a7190419",
   "metadata": {},
   "outputs": [
    {
     "data": {
      "text/plain": [
       "0      0\n",
       "1      0\n",
       "2      0\n",
       "3      0\n",
       "4      0\n",
       "      ..\n",
       "395    1\n",
       "396    1\n",
       "397    1\n",
       "398    0\n",
       "399    1\n",
       "Name: Purchased, Length: 400, dtype: int64"
      ]
     },
     "execution_count": 18,
     "metadata": {},
     "output_type": "execute_result"
    }
   ],
   "source": [
    "dfsocial[\"Purchased\"]"
   ]
  },
  {
   "cell_type": "code",
   "execution_count": 19,
   "id": "82a44157",
   "metadata": {},
   "outputs": [],
   "source": [
    "X=dfsocial.drop(\"Purchased\",axis=1) "
   ]
  },
  {
   "cell_type": "code",
   "execution_count": 20,
   "id": "ba91b46e",
   "metadata": {},
   "outputs": [
    {
     "data": {
      "text/html": [
       "<div>\n",
       "<style scoped>\n",
       "    .dataframe tbody tr th:only-of-type {\n",
       "        vertical-align: middle;\n",
       "    }\n",
       "\n",
       "    .dataframe tbody tr th {\n",
       "        vertical-align: top;\n",
       "    }\n",
       "\n",
       "    .dataframe thead th {\n",
       "        text-align: right;\n",
       "    }\n",
       "</style>\n",
       "<table border=\"1\" class=\"dataframe\">\n",
       "  <thead>\n",
       "    <tr style=\"text-align: right;\">\n",
       "      <th></th>\n",
       "      <th>Age</th>\n",
       "      <th>Salary</th>\n",
       "    </tr>\n",
       "  </thead>\n",
       "  <tbody>\n",
       "    <tr>\n",
       "      <th>0</th>\n",
       "      <td>19</td>\n",
       "      <td>19000</td>\n",
       "    </tr>\n",
       "    <tr>\n",
       "      <th>1</th>\n",
       "      <td>35</td>\n",
       "      <td>20000</td>\n",
       "    </tr>\n",
       "    <tr>\n",
       "      <th>2</th>\n",
       "      <td>26</td>\n",
       "      <td>43000</td>\n",
       "    </tr>\n",
       "    <tr>\n",
       "      <th>3</th>\n",
       "      <td>27</td>\n",
       "      <td>57000</td>\n",
       "    </tr>\n",
       "    <tr>\n",
       "      <th>4</th>\n",
       "      <td>19</td>\n",
       "      <td>76000</td>\n",
       "    </tr>\n",
       "    <tr>\n",
       "      <th>...</th>\n",
       "      <td>...</td>\n",
       "      <td>...</td>\n",
       "    </tr>\n",
       "    <tr>\n",
       "      <th>395</th>\n",
       "      <td>46</td>\n",
       "      <td>41000</td>\n",
       "    </tr>\n",
       "    <tr>\n",
       "      <th>396</th>\n",
       "      <td>51</td>\n",
       "      <td>23000</td>\n",
       "    </tr>\n",
       "    <tr>\n",
       "      <th>397</th>\n",
       "      <td>50</td>\n",
       "      <td>20000</td>\n",
       "    </tr>\n",
       "    <tr>\n",
       "      <th>398</th>\n",
       "      <td>36</td>\n",
       "      <td>33000</td>\n",
       "    </tr>\n",
       "    <tr>\n",
       "      <th>399</th>\n",
       "      <td>49</td>\n",
       "      <td>36000</td>\n",
       "    </tr>\n",
       "  </tbody>\n",
       "</table>\n",
       "<p>400 rows × 2 columns</p>\n",
       "</div>"
      ],
      "text/plain": [
       "     Age  Salary\n",
       "0     19   19000\n",
       "1     35   20000\n",
       "2     26   43000\n",
       "3     27   57000\n",
       "4     19   76000\n",
       "..   ...     ...\n",
       "395   46   41000\n",
       "396   51   23000\n",
       "397   50   20000\n",
       "398   36   33000\n",
       "399   49   36000\n",
       "\n",
       "[400 rows x 2 columns]"
      ]
     },
     "execution_count": 20,
     "metadata": {},
     "output_type": "execute_result"
    }
   ],
   "source": [
    "X"
   ]
  },
  {
   "cell_type": "code",
   "execution_count": 21,
   "id": "37254cce",
   "metadata": {},
   "outputs": [],
   "source": [
    "y=dfsocial[\"Purchased\"]"
   ]
  },
  {
   "cell_type": "code",
   "execution_count": 22,
   "id": "b70f14db",
   "metadata": {},
   "outputs": [
    {
     "data": {
      "text/plain": [
       "0      0\n",
       "1      0\n",
       "2      0\n",
       "3      0\n",
       "4      0\n",
       "      ..\n",
       "395    1\n",
       "396    1\n",
       "397    1\n",
       "398    0\n",
       "399    1\n",
       "Name: Purchased, Length: 400, dtype: int64"
      ]
     },
     "execution_count": 22,
     "metadata": {},
     "output_type": "execute_result"
    }
   ],
   "source": [
    "y"
   ]
  },
  {
   "cell_type": "markdown",
   "id": "e384702f",
   "metadata": {},
   "source": [
    "splitting "
   ]
  },
  {
   "cell_type": "code",
   "execution_count": 23,
   "id": "7b2ca596",
   "metadata": {},
   "outputs": [],
   "source": [
    "from sklearn.model_selection import train_test_split"
   ]
  },
  {
   "cell_type": "code",
   "execution_count": 24,
   "id": "89797727",
   "metadata": {},
   "outputs": [],
   "source": [
    "X_train,X_test,y_train,y_test=train_test_split(X,y,test_size=0.20,random_state=2)"
   ]
  },
  {
   "cell_type": "code",
   "execution_count": 25,
   "id": "00f07d01",
   "metadata": {},
   "outputs": [
    {
     "data": {
      "text/plain": [
       "((400, 2), (320, 2), (80, 2))"
      ]
     },
     "execution_count": 25,
     "metadata": {},
     "output_type": "execute_result"
    }
   ],
   "source": [
    "X.shape,X_train.shape,X_test.shape"
   ]
  },
  {
   "cell_type": "code",
   "execution_count": 26,
   "id": "fc49f299",
   "metadata": {},
   "outputs": [
    {
     "data": {
      "text/plain": [
       "((400,), (320,), (80,))"
      ]
     },
     "execution_count": 26,
     "metadata": {},
     "output_type": "execute_result"
    }
   ],
   "source": [
    "y.shape,y_train.shape,y_test.shape"
   ]
  },
  {
   "cell_type": "code",
   "execution_count": 27,
   "id": "4c7258b4",
   "metadata": {},
   "outputs": [
    {
     "data": {
      "text/html": [
       "<div>\n",
       "<style scoped>\n",
       "    .dataframe tbody tr th:only-of-type {\n",
       "        vertical-align: middle;\n",
       "    }\n",
       "\n",
       "    .dataframe tbody tr th {\n",
       "        vertical-align: top;\n",
       "    }\n",
       "\n",
       "    .dataframe thead th {\n",
       "        text-align: right;\n",
       "    }\n",
       "</style>\n",
       "<table border=\"1\" class=\"dataframe\">\n",
       "  <thead>\n",
       "    <tr style=\"text-align: right;\">\n",
       "      <th></th>\n",
       "      <th>Age</th>\n",
       "      <th>Salary</th>\n",
       "    </tr>\n",
       "  </thead>\n",
       "  <tbody>\n",
       "    <tr>\n",
       "      <th>205</th>\n",
       "      <td>47</td>\n",
       "      <td>47000</td>\n",
       "    </tr>\n",
       "    <tr>\n",
       "      <th>354</th>\n",
       "      <td>36</td>\n",
       "      <td>99000</td>\n",
       "    </tr>\n",
       "    <tr>\n",
       "      <th>3</th>\n",
       "      <td>27</td>\n",
       "      <td>57000</td>\n",
       "    </tr>\n",
       "    <tr>\n",
       "      <th>264</th>\n",
       "      <td>48</td>\n",
       "      <td>90000</td>\n",
       "    </tr>\n",
       "    <tr>\n",
       "      <th>194</th>\n",
       "      <td>28</td>\n",
       "      <td>89000</td>\n",
       "    </tr>\n",
       "  </tbody>\n",
       "</table>\n",
       "</div>"
      ],
      "text/plain": [
       "     Age  Salary\n",
       "205   47   47000\n",
       "354   36   99000\n",
       "3     27   57000\n",
       "264   48   90000\n",
       "194   28   89000"
      ]
     },
     "execution_count": 27,
     "metadata": {},
     "output_type": "execute_result"
    }
   ],
   "source": [
    "X_train.head()"
   ]
  },
  {
   "cell_type": "code",
   "execution_count": 28,
   "id": "180266fc",
   "metadata": {},
   "outputs": [
    {
     "data": {
      "text/html": [
       "<div>\n",
       "<style scoped>\n",
       "    .dataframe tbody tr th:only-of-type {\n",
       "        vertical-align: middle;\n",
       "    }\n",
       "\n",
       "    .dataframe tbody tr th {\n",
       "        vertical-align: top;\n",
       "    }\n",
       "\n",
       "    .dataframe thead th {\n",
       "        text-align: right;\n",
       "    }\n",
       "</style>\n",
       "<table border=\"1\" class=\"dataframe\">\n",
       "  <thead>\n",
       "    <tr style=\"text-align: right;\">\n",
       "      <th></th>\n",
       "      <th>Age</th>\n",
       "      <th>Salary</th>\n",
       "    </tr>\n",
       "  </thead>\n",
       "  <tbody>\n",
       "    <tr>\n",
       "      <th>94</th>\n",
       "      <td>29</td>\n",
       "      <td>83000</td>\n",
       "    </tr>\n",
       "    <tr>\n",
       "      <th>32</th>\n",
       "      <td>21</td>\n",
       "      <td>16000</td>\n",
       "    </tr>\n",
       "    <tr>\n",
       "      <th>225</th>\n",
       "      <td>37</td>\n",
       "      <td>53000</td>\n",
       "    </tr>\n",
       "    <tr>\n",
       "      <th>157</th>\n",
       "      <td>29</td>\n",
       "      <td>75000</td>\n",
       "    </tr>\n",
       "    <tr>\n",
       "      <th>356</th>\n",
       "      <td>54</td>\n",
       "      <td>70000</td>\n",
       "    </tr>\n",
       "  </tbody>\n",
       "</table>\n",
       "</div>"
      ],
      "text/plain": [
       "     Age  Salary\n",
       "94    29   83000\n",
       "32    21   16000\n",
       "225   37   53000\n",
       "157   29   75000\n",
       "356   54   70000"
      ]
     },
     "execution_count": 28,
     "metadata": {},
     "output_type": "execute_result"
    }
   ],
   "source": [
    "X_test.head()"
   ]
  },
  {
   "cell_type": "code",
   "execution_count": 29,
   "id": "ef5caace",
   "metadata": {},
   "outputs": [],
   "source": [
    "from sklearn.linear_model import LogisticRegression"
   ]
  },
  {
   "cell_type": "code",
   "execution_count": 56,
   "id": "ce0a947f",
   "metadata": {},
   "outputs": [],
   "source": [
    "lreg=LogisticRegression()"
   ]
  },
  {
   "cell_type": "code",
   "execution_count": 57,
   "id": "67f7589b",
   "metadata": {},
   "outputs": [
    {
     "data": {
      "text/html": [
       "<style>#sk-container-id-8 {color: black;background-color: white;}#sk-container-id-8 pre{padding: 0;}#sk-container-id-8 div.sk-toggleable {background-color: white;}#sk-container-id-8 label.sk-toggleable__label {cursor: pointer;display: block;width: 100%;margin-bottom: 0;padding: 0.3em;box-sizing: border-box;text-align: center;}#sk-container-id-8 label.sk-toggleable__label-arrow:before {content: \"▸\";float: left;margin-right: 0.25em;color: #696969;}#sk-container-id-8 label.sk-toggleable__label-arrow:hover:before {color: black;}#sk-container-id-8 div.sk-estimator:hover label.sk-toggleable__label-arrow:before {color: black;}#sk-container-id-8 div.sk-toggleable__content {max-height: 0;max-width: 0;overflow: hidden;text-align: left;background-color: #f0f8ff;}#sk-container-id-8 div.sk-toggleable__content pre {margin: 0.2em;color: black;border-radius: 0.25em;background-color: #f0f8ff;}#sk-container-id-8 input.sk-toggleable__control:checked~div.sk-toggleable__content {max-height: 200px;max-width: 100%;overflow: auto;}#sk-container-id-8 input.sk-toggleable__control:checked~label.sk-toggleable__label-arrow:before {content: \"▾\";}#sk-container-id-8 div.sk-estimator input.sk-toggleable__control:checked~label.sk-toggleable__label {background-color: #d4ebff;}#sk-container-id-8 div.sk-label input.sk-toggleable__control:checked~label.sk-toggleable__label {background-color: #d4ebff;}#sk-container-id-8 input.sk-hidden--visually {border: 0;clip: rect(1px 1px 1px 1px);clip: rect(1px, 1px, 1px, 1px);height: 1px;margin: -1px;overflow: hidden;padding: 0;position: absolute;width: 1px;}#sk-container-id-8 div.sk-estimator {font-family: monospace;background-color: #f0f8ff;border: 1px dotted black;border-radius: 0.25em;box-sizing: border-box;margin-bottom: 0.5em;}#sk-container-id-8 div.sk-estimator:hover {background-color: #d4ebff;}#sk-container-id-8 div.sk-parallel-item::after {content: \"\";width: 100%;border-bottom: 1px solid gray;flex-grow: 1;}#sk-container-id-8 div.sk-label:hover label.sk-toggleable__label {background-color: #d4ebff;}#sk-container-id-8 div.sk-serial::before {content: \"\";position: absolute;border-left: 1px solid gray;box-sizing: border-box;top: 0;bottom: 0;left: 50%;z-index: 0;}#sk-container-id-8 div.sk-serial {display: flex;flex-direction: column;align-items: center;background-color: white;padding-right: 0.2em;padding-left: 0.2em;position: relative;}#sk-container-id-8 div.sk-item {position: relative;z-index: 1;}#sk-container-id-8 div.sk-parallel {display: flex;align-items: stretch;justify-content: center;background-color: white;position: relative;}#sk-container-id-8 div.sk-item::before, #sk-container-id-8 div.sk-parallel-item::before {content: \"\";position: absolute;border-left: 1px solid gray;box-sizing: border-box;top: 0;bottom: 0;left: 50%;z-index: -1;}#sk-container-id-8 div.sk-parallel-item {display: flex;flex-direction: column;z-index: 1;position: relative;background-color: white;}#sk-container-id-8 div.sk-parallel-item:first-child::after {align-self: flex-end;width: 50%;}#sk-container-id-8 div.sk-parallel-item:last-child::after {align-self: flex-start;width: 50%;}#sk-container-id-8 div.sk-parallel-item:only-child::after {width: 0;}#sk-container-id-8 div.sk-dashed-wrapped {border: 1px dashed gray;margin: 0 0.4em 0.5em 0.4em;box-sizing: border-box;padding-bottom: 0.4em;background-color: white;}#sk-container-id-8 div.sk-label label {font-family: monospace;font-weight: bold;display: inline-block;line-height: 1.2em;}#sk-container-id-8 div.sk-label-container {text-align: center;}#sk-container-id-8 div.sk-container {/* jupyter's `normalize.less` sets `[hidden] { display: none; }` but bootstrap.min.css set `[hidden] { display: none !important; }` so we also need the `!important` here to be able to override the default hidden behavior on the sphinx rendered scikit-learn.org. See: https://github.com/scikit-learn/scikit-learn/issues/21755 */display: inline-block !important;position: relative;}#sk-container-id-8 div.sk-text-repr-fallback {display: none;}</style><div id=\"sk-container-id-8\" class=\"sk-top-container\"><div class=\"sk-text-repr-fallback\"><pre>LogisticRegression()</pre><b>In a Jupyter environment, please rerun this cell to show the HTML representation or trust the notebook. <br />On GitHub, the HTML representation is unable to render, please try loading this page with nbviewer.org.</b></div><div class=\"sk-container\" hidden><div class=\"sk-item\"><div class=\"sk-estimator sk-toggleable\"><input class=\"sk-toggleable__control sk-hidden--visually\" id=\"sk-estimator-id-8\" type=\"checkbox\" checked><label for=\"sk-estimator-id-8\" class=\"sk-toggleable__label sk-toggleable__label-arrow\">LogisticRegression</label><div class=\"sk-toggleable__content\"><pre>LogisticRegression()</pre></div></div></div></div></div>"
      ],
      "text/plain": [
       "LogisticRegression()"
      ]
     },
     "execution_count": 57,
     "metadata": {},
     "output_type": "execute_result"
    }
   ],
   "source": [
    "lreg"
   ]
  },
  {
   "cell_type": "code",
   "execution_count": 32,
   "id": "3e7cd424",
   "metadata": {},
   "outputs": [
    {
     "data": {
      "text/html": [
       "<style>#sk-container-id-2 {color: black;background-color: white;}#sk-container-id-2 pre{padding: 0;}#sk-container-id-2 div.sk-toggleable {background-color: white;}#sk-container-id-2 label.sk-toggleable__label {cursor: pointer;display: block;width: 100%;margin-bottom: 0;padding: 0.3em;box-sizing: border-box;text-align: center;}#sk-container-id-2 label.sk-toggleable__label-arrow:before {content: \"▸\";float: left;margin-right: 0.25em;color: #696969;}#sk-container-id-2 label.sk-toggleable__label-arrow:hover:before {color: black;}#sk-container-id-2 div.sk-estimator:hover label.sk-toggleable__label-arrow:before {color: black;}#sk-container-id-2 div.sk-toggleable__content {max-height: 0;max-width: 0;overflow: hidden;text-align: left;background-color: #f0f8ff;}#sk-container-id-2 div.sk-toggleable__content pre {margin: 0.2em;color: black;border-radius: 0.25em;background-color: #f0f8ff;}#sk-container-id-2 input.sk-toggleable__control:checked~div.sk-toggleable__content {max-height: 200px;max-width: 100%;overflow: auto;}#sk-container-id-2 input.sk-toggleable__control:checked~label.sk-toggleable__label-arrow:before {content: \"▾\";}#sk-container-id-2 div.sk-estimator input.sk-toggleable__control:checked~label.sk-toggleable__label {background-color: #d4ebff;}#sk-container-id-2 div.sk-label input.sk-toggleable__control:checked~label.sk-toggleable__label {background-color: #d4ebff;}#sk-container-id-2 input.sk-hidden--visually {border: 0;clip: rect(1px 1px 1px 1px);clip: rect(1px, 1px, 1px, 1px);height: 1px;margin: -1px;overflow: hidden;padding: 0;position: absolute;width: 1px;}#sk-container-id-2 div.sk-estimator {font-family: monospace;background-color: #f0f8ff;border: 1px dotted black;border-radius: 0.25em;box-sizing: border-box;margin-bottom: 0.5em;}#sk-container-id-2 div.sk-estimator:hover {background-color: #d4ebff;}#sk-container-id-2 div.sk-parallel-item::after {content: \"\";width: 100%;border-bottom: 1px solid gray;flex-grow: 1;}#sk-container-id-2 div.sk-label:hover label.sk-toggleable__label {background-color: #d4ebff;}#sk-container-id-2 div.sk-serial::before {content: \"\";position: absolute;border-left: 1px solid gray;box-sizing: border-box;top: 0;bottom: 0;left: 50%;z-index: 0;}#sk-container-id-2 div.sk-serial {display: flex;flex-direction: column;align-items: center;background-color: white;padding-right: 0.2em;padding-left: 0.2em;position: relative;}#sk-container-id-2 div.sk-item {position: relative;z-index: 1;}#sk-container-id-2 div.sk-parallel {display: flex;align-items: stretch;justify-content: center;background-color: white;position: relative;}#sk-container-id-2 div.sk-item::before, #sk-container-id-2 div.sk-parallel-item::before {content: \"\";position: absolute;border-left: 1px solid gray;box-sizing: border-box;top: 0;bottom: 0;left: 50%;z-index: -1;}#sk-container-id-2 div.sk-parallel-item {display: flex;flex-direction: column;z-index: 1;position: relative;background-color: white;}#sk-container-id-2 div.sk-parallel-item:first-child::after {align-self: flex-end;width: 50%;}#sk-container-id-2 div.sk-parallel-item:last-child::after {align-self: flex-start;width: 50%;}#sk-container-id-2 div.sk-parallel-item:only-child::after {width: 0;}#sk-container-id-2 div.sk-dashed-wrapped {border: 1px dashed gray;margin: 0 0.4em 0.5em 0.4em;box-sizing: border-box;padding-bottom: 0.4em;background-color: white;}#sk-container-id-2 div.sk-label label {font-family: monospace;font-weight: bold;display: inline-block;line-height: 1.2em;}#sk-container-id-2 div.sk-label-container {text-align: center;}#sk-container-id-2 div.sk-container {/* jupyter's `normalize.less` sets `[hidden] { display: none; }` but bootstrap.min.css set `[hidden] { display: none !important; }` so we also need the `!important` here to be able to override the default hidden behavior on the sphinx rendered scikit-learn.org. See: https://github.com/scikit-learn/scikit-learn/issues/21755 */display: inline-block !important;position: relative;}#sk-container-id-2 div.sk-text-repr-fallback {display: none;}</style><div id=\"sk-container-id-2\" class=\"sk-top-container\"><div class=\"sk-text-repr-fallback\"><pre>LogisticRegression()</pre><b>In a Jupyter environment, please rerun this cell to show the HTML representation or trust the notebook. <br />On GitHub, the HTML representation is unable to render, please try loading this page with nbviewer.org.</b></div><div class=\"sk-container\" hidden><div class=\"sk-item\"><div class=\"sk-estimator sk-toggleable\"><input class=\"sk-toggleable__control sk-hidden--visually\" id=\"sk-estimator-id-2\" type=\"checkbox\" checked><label for=\"sk-estimator-id-2\" class=\"sk-toggleable__label sk-toggleable__label-arrow\">LogisticRegression</label><div class=\"sk-toggleable__content\"><pre>LogisticRegression()</pre></div></div></div></div></div>"
      ],
      "text/plain": [
       "LogisticRegression()"
      ]
     },
     "execution_count": 32,
     "metadata": {},
     "output_type": "execute_result"
    }
   ],
   "source": [
    "lreg.fit(X_train,y_train)"
   ]
  },
  {
   "cell_type": "code",
   "execution_count": 33,
   "id": "a0c45702",
   "metadata": {},
   "outputs": [
    {
     "data": {
      "text/plain": [
       "0.6"
      ]
     },
     "execution_count": 33,
     "metadata": {},
     "output_type": "execute_result"
    }
   ],
   "source": [
    "lreg.score(X_test,y_test)"
   ]
  },
  {
   "cell_type": "markdown",
   "id": "9d78e043",
   "metadata": {},
   "source": [
    "Feature scaling"
   ]
  },
  {
   "cell_type": "code",
   "execution_count": 34,
   "id": "8b654912",
   "metadata": {},
   "outputs": [],
   "source": [
    "from sklearn.preprocessing import StandardScaler"
   ]
  },
  {
   "cell_type": "code",
   "execution_count": 35,
   "id": "147febf9",
   "metadata": {},
   "outputs": [],
   "source": [
    "ss=StandardScaler()"
   ]
  },
  {
   "cell_type": "code",
   "execution_count": 36,
   "id": "7230c6cc",
   "metadata": {},
   "outputs": [
    {
     "data": {
      "text/html": [
       "<style>#sk-container-id-3 {color: black;background-color: white;}#sk-container-id-3 pre{padding: 0;}#sk-container-id-3 div.sk-toggleable {background-color: white;}#sk-container-id-3 label.sk-toggleable__label {cursor: pointer;display: block;width: 100%;margin-bottom: 0;padding: 0.3em;box-sizing: border-box;text-align: center;}#sk-container-id-3 label.sk-toggleable__label-arrow:before {content: \"▸\";float: left;margin-right: 0.25em;color: #696969;}#sk-container-id-3 label.sk-toggleable__label-arrow:hover:before {color: black;}#sk-container-id-3 div.sk-estimator:hover label.sk-toggleable__label-arrow:before {color: black;}#sk-container-id-3 div.sk-toggleable__content {max-height: 0;max-width: 0;overflow: hidden;text-align: left;background-color: #f0f8ff;}#sk-container-id-3 div.sk-toggleable__content pre {margin: 0.2em;color: black;border-radius: 0.25em;background-color: #f0f8ff;}#sk-container-id-3 input.sk-toggleable__control:checked~div.sk-toggleable__content {max-height: 200px;max-width: 100%;overflow: auto;}#sk-container-id-3 input.sk-toggleable__control:checked~label.sk-toggleable__label-arrow:before {content: \"▾\";}#sk-container-id-3 div.sk-estimator input.sk-toggleable__control:checked~label.sk-toggleable__label {background-color: #d4ebff;}#sk-container-id-3 div.sk-label input.sk-toggleable__control:checked~label.sk-toggleable__label {background-color: #d4ebff;}#sk-container-id-3 input.sk-hidden--visually {border: 0;clip: rect(1px 1px 1px 1px);clip: rect(1px, 1px, 1px, 1px);height: 1px;margin: -1px;overflow: hidden;padding: 0;position: absolute;width: 1px;}#sk-container-id-3 div.sk-estimator {font-family: monospace;background-color: #f0f8ff;border: 1px dotted black;border-radius: 0.25em;box-sizing: border-box;margin-bottom: 0.5em;}#sk-container-id-3 div.sk-estimator:hover {background-color: #d4ebff;}#sk-container-id-3 div.sk-parallel-item::after {content: \"\";width: 100%;border-bottom: 1px solid gray;flex-grow: 1;}#sk-container-id-3 div.sk-label:hover label.sk-toggleable__label {background-color: #d4ebff;}#sk-container-id-3 div.sk-serial::before {content: \"\";position: absolute;border-left: 1px solid gray;box-sizing: border-box;top: 0;bottom: 0;left: 50%;z-index: 0;}#sk-container-id-3 div.sk-serial {display: flex;flex-direction: column;align-items: center;background-color: white;padding-right: 0.2em;padding-left: 0.2em;position: relative;}#sk-container-id-3 div.sk-item {position: relative;z-index: 1;}#sk-container-id-3 div.sk-parallel {display: flex;align-items: stretch;justify-content: center;background-color: white;position: relative;}#sk-container-id-3 div.sk-item::before, #sk-container-id-3 div.sk-parallel-item::before {content: \"\";position: absolute;border-left: 1px solid gray;box-sizing: border-box;top: 0;bottom: 0;left: 50%;z-index: -1;}#sk-container-id-3 div.sk-parallel-item {display: flex;flex-direction: column;z-index: 1;position: relative;background-color: white;}#sk-container-id-3 div.sk-parallel-item:first-child::after {align-self: flex-end;width: 50%;}#sk-container-id-3 div.sk-parallel-item:last-child::after {align-self: flex-start;width: 50%;}#sk-container-id-3 div.sk-parallel-item:only-child::after {width: 0;}#sk-container-id-3 div.sk-dashed-wrapped {border: 1px dashed gray;margin: 0 0.4em 0.5em 0.4em;box-sizing: border-box;padding-bottom: 0.4em;background-color: white;}#sk-container-id-3 div.sk-label label {font-family: monospace;font-weight: bold;display: inline-block;line-height: 1.2em;}#sk-container-id-3 div.sk-label-container {text-align: center;}#sk-container-id-3 div.sk-container {/* jupyter's `normalize.less` sets `[hidden] { display: none; }` but bootstrap.min.css set `[hidden] { display: none !important; }` so we also need the `!important` here to be able to override the default hidden behavior on the sphinx rendered scikit-learn.org. See: https://github.com/scikit-learn/scikit-learn/issues/21755 */display: inline-block !important;position: relative;}#sk-container-id-3 div.sk-text-repr-fallback {display: none;}</style><div id=\"sk-container-id-3\" class=\"sk-top-container\"><div class=\"sk-text-repr-fallback\"><pre>StandardScaler()</pre><b>In a Jupyter environment, please rerun this cell to show the HTML representation or trust the notebook. <br />On GitHub, the HTML representation is unable to render, please try loading this page with nbviewer.org.</b></div><div class=\"sk-container\" hidden><div class=\"sk-item\"><div class=\"sk-estimator sk-toggleable\"><input class=\"sk-toggleable__control sk-hidden--visually\" id=\"sk-estimator-id-3\" type=\"checkbox\" checked><label for=\"sk-estimator-id-3\" class=\"sk-toggleable__label sk-toggleable__label-arrow\">StandardScaler</label><div class=\"sk-toggleable__content\"><pre>StandardScaler()</pre></div></div></div></div></div>"
      ],
      "text/plain": [
       "StandardScaler()"
      ]
     },
     "execution_count": 36,
     "metadata": {},
     "output_type": "execute_result"
    }
   ],
   "source": [
    "ss.fit(X_train)"
   ]
  },
  {
   "cell_type": "code",
   "execution_count": 37,
   "id": "66634a7c",
   "metadata": {},
   "outputs": [],
   "source": [
    "X_train_ss=ss.transform(X_train)"
   ]
  },
  {
   "cell_type": "code",
   "execution_count": 38,
   "id": "21456283",
   "metadata": {},
   "outputs": [
    {
     "data": {
      "text/plain": [
       "array([[ 0.88928823, -0.65924556],\n",
       "       [-0.17254846,  0.87392651],\n",
       "       [-1.04132394, -0.36440478],\n",
       "       [ 0.98581884,  0.6085698 ],\n",
       "       [-0.94479333,  0.57908572],\n",
       "       [ 0.40663519,  0.01888824],\n",
       "       [ 0.98581884,  2.11225779],\n",
       "       [ 0.31010458, -0.30543662],\n",
       "       [ 1.7580637 , -0.27595254],\n",
       "       [-0.17254846,  2.20071003],\n",
       "       [ 1.7580637 ,  1.0213469 ],\n",
       "       [-1.33091576, -1.48479975],\n",
       "       [ 2.04765553,  0.54960165],\n",
       "       [ 1.27541066,  1.90586924],\n",
       "       [-1.13785454,  0.31372902],\n",
       "       [-0.36560968, -0.77718187],\n",
       "       [-1.71703819,  0.49063349],\n",
       "       [-0.5586709 , -1.51428383],\n",
       "       [ 0.31010458, -0.71821372],\n",
       "       [ 0.02051275, -0.57079333],\n",
       "       [ 0.02051275,  0.04837232],\n",
       "       [-0.07601785, -0.51182517],\n",
       "       [-0.6552015 , -1.51428383],\n",
       "       [ 0.02051275,  0.31372902],\n",
       "       [ 0.31010458,  0.07785639],\n",
       "       [-0.46214029, -1.13099081],\n",
       "       [-0.75173211, -1.54376791],\n",
       "       [-0.26907907, -0.65924556],\n",
       "       [-1.13785454,  0.49063349],\n",
       "       [-0.07601785,  2.20071003],\n",
       "       [ 0.02051275,  0.04837232],\n",
       "       [-1.13785454, -1.57325199],\n",
       "       [ 1.08234944,  0.54960165],\n",
       "       [-0.26907907, -1.24892713],\n",
       "       [ 1.37194127, -0.92460227],\n",
       "       [-1.42744637, -1.21944305],\n",
       "       [-0.94479333, -0.95408634],\n",
       "       [ 1.95112492, -0.65924556],\n",
       "       [ 0.88928823, -0.57079333],\n",
       "       [-1.13785454,  0.31372902],\n",
       "       [ 0.02051275, -0.24646847],\n",
       "       [ 0.79275762, -1.39634752],\n",
       "       [-0.26907907, -0.36440478],\n",
       "       [ 0.88928823,  1.2867036 ],\n",
       "       [ 0.31010458, -0.18750031],\n",
       "       [-0.26907907, -0.57079333],\n",
       "       [-0.26907907, -1.39634752],\n",
       "       [ 1.46847188, -1.04253858],\n",
       "       [-0.07601785,  0.13682455],\n",
       "       [-0.84826272, -0.65924556],\n",
       "       [-0.07601785,  0.01888824],\n",
       "       [-0.26907907,  0.10734047],\n",
       "       [ 0.21357397, -0.30543662],\n",
       "       [-0.26907907,  0.28424494],\n",
       "       [ 0.11704336,  0.04837232],\n",
       "       [ 1.95112492,  2.20071003],\n",
       "       [-1.04132394, -1.45531567],\n",
       "       [ 0.31010458,  0.31372902],\n",
       "       [ 2.04765553, -1.18995897],\n",
       "       [-1.13785454, -0.51182517],\n",
       "       [ 0.21357397,  0.16630863],\n",
       "       [-0.26907907, -0.92460227],\n",
       "       [-0.6552015 ,  0.04837232],\n",
       "       [ 0.21357397,  0.07785639],\n",
       "       [ 0.40663519, -0.12853215],\n",
       "       [-1.13785454, -1.10150673],\n",
       "       [-0.07601785,  2.25967818],\n",
       "       [ 1.08234944, -0.12853215],\n",
       "       [ 0.88928823,  1.05083098],\n",
       "       [-0.07601785,  0.28424494],\n",
       "       [-0.5586709 , -1.51428383],\n",
       "       [-1.13785454, -1.0130545 ],\n",
       "       [-0.75173211,  1.37515584],\n",
       "       [ 1.08234944,  0.57908572],\n",
       "       [ 1.56500249, -1.2784112 ],\n",
       "       [ 0.69622701, -1.39634752],\n",
       "       [-0.6552015 , -1.04253858],\n",
       "       [ 1.17888005,  0.54960165],\n",
       "       [-0.26907907, -1.45531567],\n",
       "       [-1.62050759,  0.54960165],\n",
       "       [-1.04132394, -1.13099081],\n",
       "       [-0.07601785,  0.04837232],\n",
       "       [ 0.31010458,  0.07785639],\n",
       "       [ 0.88928823, -1.36686344],\n",
       "       [-1.04132394, -0.3349207 ],\n",
       "       [-1.8135688 ,  0.19579271],\n",
       "       [-1.8135688 , -1.4258316 ],\n",
       "       [ 0.69622701,  1.81741701],\n",
       "       [-0.07601785,  0.31372902],\n",
       "       [-1.62050759,  0.07785639],\n",
       "       [-0.6552015 ,  1.43412399],\n",
       "       [-0.26907907, -0.24646847],\n",
       "       [-0.36560968,  1.34567176],\n",
       "       [ 0.5031658 ,  1.25721952],\n",
       "       [-0.6552015 ,  0.19579271],\n",
       "       [-1.52397698, -0.42337294],\n",
       "       [-1.04132394,  0.43166533],\n",
       "       [ 0.79275762,  0.28424494],\n",
       "       [ 1.95112492, -0.92460227],\n",
       "       [ 0.79275762, -0.30543662],\n",
       "       [ 0.21357397,  0.25476086],\n",
       "       [-1.71703819, -0.60027741],\n",
       "       [-0.26907907,  0.16630863],\n",
       "       [-1.33091576, -1.24892713],\n",
       "       [-0.26907907, -0.42337294],\n",
       "       [ 0.11704336,  0.10734047],\n",
       "       [-0.94479333,  0.46114941],\n",
       "       [ 2.04765553,  0.40218125],\n",
       "       [-1.91009941,  0.37269718],\n",
       "       [ 2.04765553, -0.80666595],\n",
       "       [ 2.14418614,  1.13928321],\n",
       "       [ 0.79275762, -1.21944305],\n",
       "       [ 0.40663519, -0.45285701],\n",
       "       [ 0.02051275, -0.24646847],\n",
       "       [ 1.46847188,  0.37269718],\n",
       "       [-0.17254846, -0.57079333],\n",
       "       [ 0.21357397, -0.24646847],\n",
       "       [-0.46214029,  2.34813042],\n",
       "       [ 0.11704336,  0.22527679],\n",
       "       [ 0.21357397, -0.65924556],\n",
       "       [ 0.98581884, -1.07202266],\n",
       "       [-0.17254846,  0.16630863],\n",
       "       [-0.07601785,  0.31372902],\n",
       "       [ 0.40663519, -0.48234109],\n",
       "       [-0.36560968, -1.30789528],\n",
       "       [ 0.88928823, -0.77718187],\n",
       "       [-0.94479333,  0.43166533],\n",
       "       [-0.07601785, -0.42337294],\n",
       "       [-0.94479333, -0.42337294],\n",
       "       [-1.8135688 ,  0.46114941],\n",
       "       [-0.84826272, -1.21944305],\n",
       "       [-0.94479333, -0.30543662],\n",
       "       [ 0.98581884,  0.78547427],\n",
       "       [-1.62050759, -0.04007992],\n",
       "       [-1.04132394, -0.3349207 ],\n",
       "       [ 0.02051275, -0.54130925],\n",
       "       [-0.6552015 , -0.3349207 ],\n",
       "       [-1.13785454, -1.54376791],\n",
       "       [ 1.95112492, -1.36686344],\n",
       "       [-0.6552015 , -1.60273606],\n",
       "       [ 0.21357397, -0.36440478],\n",
       "       [ 0.88928823,  2.20071003],\n",
       "       [ 1.17888005, -0.98357042],\n",
       "       [-0.17254846, -0.51182517],\n",
       "       [ 1.66153309,  1.78793293],\n",
       "       [ 1.08234944, -1.21944305],\n",
       "       [ 0.02051275,  1.2867036 ],\n",
       "       [-0.46214029, -0.27595254],\n",
       "       [ 1.66153309, -0.89511819],\n",
       "       [ 0.31010458,  0.52011757],\n",
       "       [-1.04132394, -1.54376791],\n",
       "       [ 1.56500249,  1.13928321],\n",
       "       [-1.52397698,  0.3432131 ],\n",
       "       [ 0.02051275, -0.12853215],\n",
       "       [ 0.11704336, -0.80666595],\n",
       "       [ 0.21357397,  1.10979913],\n",
       "       [ 0.40663519, -0.15801623],\n",
       "       [-0.46214029, -0.01059584],\n",
       "       [ 1.08234944,  2.11225779],\n",
       "       [-0.26907907, -0.12853215],\n",
       "       [-0.75173211, -0.60027741],\n",
       "       [ 1.17888005, -1.45531567],\n",
       "       [-1.42744637, -1.45531567],\n",
       "       [ 1.85459431, -0.27595254],\n",
       "       [ 1.85459431,  0.13682455],\n",
       "       [ 0.40663519,  0.16630863],\n",
       "       [ 1.27541066, -1.36686344],\n",
       "       [-0.46214029, -1.21944305],\n",
       "       [-0.75173211,  1.93535332],\n",
       "       [-0.26907907,  1.13928321],\n",
       "       [ 0.02051275, -0.57079333],\n",
       "       [ 0.21357397, -0.12853215],\n",
       "       [-0.5586709 ,  1.93535332],\n",
       "       [-0.94479333,  0.28424494],\n",
       "       [-1.91009941,  0.49063349],\n",
       "       [-1.33091576,  0.57908572],\n",
       "       [ 0.21357397,  0.16630863],\n",
       "       [ 1.37194127, -1.4258316 ],\n",
       "       [-0.07601785,  0.69702204],\n",
       "       [ 0.11704336,  1.90586924],\n",
       "       [-1.71703819, -0.98357042],\n",
       "       [ 0.21357397, -0.36440478],\n",
       "       [-1.8135688 , -1.30789528],\n",
       "       [ 0.79275762,  0.54960165],\n",
       "       [-0.17254846,  1.43412399],\n",
       "       [-1.04132394,  0.57908572],\n",
       "       [-1.23438515, -1.07202266],\n",
       "       [ 1.37194127,  2.02380556],\n",
       "       [ 0.79275762, -1.10150673],\n",
       "       [ 0.79275762,  0.13682455],\n",
       "       [-1.8135688 , -1.2784112 ],\n",
       "       [ 0.02051275,  1.25721952],\n",
       "       [ 0.88928823, -0.60027741],\n",
       "       [ 2.14418614,  0.40218125],\n",
       "       [ 2.14418614, -0.80666595],\n",
       "       [ 0.98581884, -1.07202266],\n",
       "       [ 0.11704336,  1.55206031],\n",
       "       [-0.94479333,  0.52011757],\n",
       "       [-1.23438515,  0.28424494],\n",
       "       [ 0.40663519,  0.6085698 ],\n",
       "       [ 0.11704336,  0.16630863],\n",
       "       [ 0.21357397,  0.04837232],\n",
       "       [ 2.04765553,  2.17122595],\n",
       "       [-0.07601785, -0.36440478],\n",
       "       [-0.26907907,  0.81495835],\n",
       "       [-1.42744637, -0.18750031],\n",
       "       [ 1.08234944,  0.13682455],\n",
       "       [ 0.31010458,  0.07785639],\n",
       "       [ 0.11704336,  0.04837232],\n",
       "       [ 0.98581884, -1.0130545 ],\n",
       "       [-0.5586709 ,  1.49309215],\n",
       "       [-1.13785454, -1.60273606],\n",
       "       [ 1.27541066,  2.25967818],\n",
       "       [-1.42744637, -0.09904808],\n",
       "       [-1.8135688 , -1.48479975],\n",
       "       [ 0.88928823, -1.16047489],\n",
       "       [ 2.14418614, -0.68872964],\n",
       "       [ 0.5996964 , -0.89511819],\n",
       "       [-1.23438515, -1.39634752],\n",
       "       [-0.46214029, -0.83615003],\n",
       "       [-0.84826272, -0.24646847],\n",
       "       [ 1.46847188,  2.17122595],\n",
       "       [ 0.40663519,  1.0213469 ],\n",
       "       [ 0.02051275, -0.42337294],\n",
       "       [-1.13785454, -1.16047489],\n",
       "       [-0.75173211,  0.57908572],\n",
       "       [ 0.11704336,  1.08031505],\n",
       "       [-0.5586709 ,  1.40463991],\n",
       "       [ 0.11704336,  1.90586924],\n",
       "       [ 0.21357397,  2.14174187],\n",
       "       [ 1.46847188,  1.0213469 ],\n",
       "       [-1.71703819,  0.13682455],\n",
       "       [-0.26907907, -0.48234109],\n",
       "       [ 0.11704336,  0.78547427],\n",
       "       [ 0.88928823, -1.30789528],\n",
       "       [-0.26907907, -0.27595254],\n",
       "       [ 2.14418614, -1.04253858],\n",
       "       [ 0.40663519,  0.31372902],\n",
       "       [-0.17254846,  1.64051254],\n",
       "       [ 0.79275762, -0.83615003],\n",
       "       [-0.94479333,  1.58154438],\n",
       "       [ 0.11704336, -0.24646847],\n",
       "       [-1.23438515,  0.52011757],\n",
       "       [ 0.11704336, -0.80666595],\n",
       "       [ 1.08234944, -0.98357042],\n",
       "       [ 0.98581884,  1.81741701],\n",
       "       [-1.42744637, -0.62976148],\n",
       "       [ 0.98581884, -1.18995897],\n",
       "       [-1.33091576, -0.42337294],\n",
       "       [ 0.31010458,  0.07785639],\n",
       "       [-0.26907907, -0.57079333],\n",
       "       [-0.75173211,  1.10979913],\n",
       "       [ 1.56500249,  1.0213469 ],\n",
       "       [-1.04132394,  0.6085698 ],\n",
       "       [ 0.40663519,  0.10734047],\n",
       "       [-0.94479333, -0.30543662],\n",
       "       [ 1.17888005, -0.7476978 ],\n",
       "       [-1.91009941, -0.51182517],\n",
       "       [ 1.08234944, -1.21944305],\n",
       "       [ 0.31010458,  0.28424494],\n",
       "       [-0.75173211, -1.60273606],\n",
       "       [-0.26907907, -1.30789528],\n",
       "       [-0.26907907,  0.54960165],\n",
       "       [ 0.98581884,  1.90586924],\n",
       "       [-0.6552015 , -0.09904808],\n",
       "       [-0.46214029,  1.2867036 ],\n",
       "       [ 0.31010458, -0.51182517],\n",
       "       [ 1.85459431,  1.55206031],\n",
       "       [ 1.08234944,  0.49063349],\n",
       "       [ 2.04765553,  0.19579271],\n",
       "       [-1.71703819,  0.37269718],\n",
       "       [-0.17254846, -0.18750031],\n",
       "       [-0.6552015 ,  0.57908572],\n",
       "       [ 1.37194127,  1.31618768],\n",
       "       [ 1.08234944, -0.89511819],\n",
       "       [ 1.85459431, -1.07202266],\n",
       "       [-0.75173211,  0.52011757],\n",
       "       [-1.33091576, -1.10150673],\n",
       "       [ 0.79275762,  0.37269718],\n",
       "       [-0.84826272,  0.40218125],\n",
       "       [-0.75173211,  0.31372902],\n",
       "       [-1.04132394,  1.99432148],\n",
       "       [-0.07601785,  0.07785639],\n",
       "       [ 1.37194127,  2.3776145 ],\n",
       "       [-0.07601785,  0.16630863],\n",
       "       [-0.07601785,  1.99432148],\n",
       "       [-0.75173211,  0.28424494],\n",
       "       [-1.13785454,  0.3432131 ],\n",
       "       [ 0.31010458, -0.27595254],\n",
       "       [ 0.98581884, -1.16047489],\n",
       "       [ 1.37194127,  0.6085698 ],\n",
       "       [-1.52397698, -1.51428383],\n",
       "       [-0.94479333, -0.7476978 ],\n",
       "       [-1.13785454,  0.07785639],\n",
       "       [ 0.40663519, -0.45285701],\n",
       "       [-1.91009941, -0.7476978 ],\n",
       "       [ 0.40663519,  0.28424494],\n",
       "       [-0.26907907,  0.22527679],\n",
       "       [-0.5586709 ,  0.49063349],\n",
       "       [-0.36560968, -0.77718187],\n",
       "       [-0.26907907,  0.04837232],\n",
       "       [-0.07601785,  0.22527679],\n",
       "       [-0.26907907,  0.16630863],\n",
       "       [ 0.31010458, -0.54130925],\n",
       "       [ 0.79275762,  0.78547427],\n",
       "       [ 0.98581884,  2.02380556],\n",
       "       [-0.17254846, -0.27595254],\n",
       "       [-1.04132394, -0.45285701],\n",
       "       [-0.26907907, -0.3349207 ],\n",
       "       [ 0.11704336, -0.30543662],\n",
       "       [-0.26907907, -0.7476978 ],\n",
       "       [-0.07601785, -1.07202266],\n",
       "       [-0.26907907,  0.07785639],\n",
       "       [ 0.5031658 ,  1.75844885],\n",
       "       [-0.36560968,  1.25721952],\n",
       "       [ 0.79275762,  1.40463991],\n",
       "       [ 0.98581884, -0.83615003],\n",
       "       [-1.71703819, -1.36686344],\n",
       "       [-0.84826272,  0.31372902],\n",
       "       [-0.84826272,  2.31864634]])"
      ]
     },
     "execution_count": 38,
     "metadata": {},
     "output_type": "execute_result"
    }
   ],
   "source": [
    "X_train_ss"
   ]
  },
  {
   "cell_type": "code",
   "execution_count": 39,
   "id": "50389c72",
   "metadata": {},
   "outputs": [],
   "source": [
    "X_test_ss=ss.transform(X_test)"
   ]
  },
  {
   "cell_type": "code",
   "execution_count": 40,
   "id": "9f48aa4c",
   "metadata": {},
   "outputs": [
    {
     "data": {
      "text/plain": [
       "array([[-0.84826272,  0.40218125],\n",
       "       [-1.62050759, -1.57325199],\n",
       "       [-0.07601785, -0.48234109],\n",
       "       [-0.84826272,  0.16630863],\n",
       "       [ 1.56500249,  0.01888824],\n",
       "       [ 0.88928823, -1.45531567],\n",
       "       [-1.42744637,  0.37269718],\n",
       "       [-0.94479333, -1.10150673],\n",
       "       [ 0.21357397, -0.27595254],\n",
       "       [-0.17254846,  1.66999662],\n",
       "       [-1.33091576, -1.36686344],\n",
       "       [-1.52397698, -1.24892713],\n",
       "       [-0.5586709 ,  1.40463991],\n",
       "       [ 0.69622701,  0.28424494],\n",
       "       [-0.26907907, -0.30543662],\n",
       "       [-0.46214029, -0.77718187],\n",
       "       [-1.8135688 ,  0.01888824],\n",
       "       [ 2.14418614, -0.80666595],\n",
       "       [ 1.46847188,  0.07785639],\n",
       "       [-1.13785454, -0.77718187],\n",
       "       [-0.07601785,  0.25476086],\n",
       "       [ 0.69622701, -0.71821372],\n",
       "       [-0.75173211, -0.21698439],\n",
       "       [-0.17254846, -1.07202266],\n",
       "       [-1.23438515,  0.31372902],\n",
       "       [ 0.69622701, -1.10150673],\n",
       "       [ 0.69622701, -1.39634752],\n",
       "       [ 0.21357397, -0.36440478],\n",
       "       [ 0.5996964 ,  2.05328964],\n",
       "       [-0.5586709 ,  0.90341058],\n",
       "       [-1.33091576, -0.42337294],\n",
       "       [ 0.31010458, -0.51182517],\n",
       "       [ 0.79275762, -1.36686344],\n",
       "       [ 0.02051275, -0.30543662],\n",
       "       [-0.5586709 ,  2.3776145 ],\n",
       "       [-0.26907907,  0.63805388],\n",
       "       [ 0.98581884,  0.13682455],\n",
       "       [-0.26907907, -1.36686344],\n",
       "       [-0.84826272, -0.77718187],\n",
       "       [ 0.88928823,  1.10979913],\n",
       "       [-0.26907907, -0.89511819],\n",
       "       [ 0.40663519, -0.12853215],\n",
       "       [-1.04132394,  0.54960165],\n",
       "       [ 0.40663519,  0.31372902],\n",
       "       [-1.91009941, -0.04007992],\n",
       "       [ 0.88928823, -0.54130925],\n",
       "       [-1.33091576,  0.43166533],\n",
       "       [ 0.88928823, -1.04253858],\n",
       "       [ 0.98581884,  1.46360807],\n",
       "       [-1.13785454, -1.60273606],\n",
       "       [-1.04132394,  0.78547427],\n",
       "       [ 0.40663519,  2.34813042],\n",
       "       [-0.36560968,  0.07785639],\n",
       "       [ 0.11704336,  0.28424494],\n",
       "       [-1.13785454,  1.43412399],\n",
       "       [-1.52397698, -0.18750031],\n",
       "       [ 0.31010458, -1.16047489],\n",
       "       [ 0.40663519,  1.13928321],\n",
       "       [ 0.5031658 ,  1.87638517],\n",
       "       [-0.6552015 ,  0.13682455],\n",
       "       [-1.13785454,  0.43166533],\n",
       "       [ 2.04765553,  1.78793293],\n",
       "       [ 1.95112492,  0.75599019],\n",
       "       [ 0.31010458,  0.04837232],\n",
       "       [-1.23438515,  0.6085698 ],\n",
       "       [-0.26907907,  2.28916226],\n",
       "       [ 0.69622701, -1.2784112 ],\n",
       "       [-0.17254846, -0.45285701],\n",
       "       [-0.6552015 , -0.04007992],\n",
       "       [ 1.85459431, -1.2784112 ],\n",
       "       [-0.07601785, -0.21698439],\n",
       "       [ 1.95112492,  0.93289466],\n",
       "       [-0.46214029, -0.54130925],\n",
       "       [-0.84826272, -0.77718187],\n",
       "       [ 1.7580637 ,  1.87638517],\n",
       "       [-0.26907907,  0.07785639],\n",
       "       [ 2.14418614,  0.96237874],\n",
       "       [-1.33091576, -0.3349207 ],\n",
       "       [ 1.66153309,  1.64051254],\n",
       "       [-1.71703819,  0.37269718]])"
      ]
     },
     "execution_count": 40,
     "metadata": {},
     "output_type": "execute_result"
    }
   ],
   "source": [
    "X_test_ss"
   ]
  },
  {
   "cell_type": "code",
   "execution_count": 41,
   "id": "ae10f74b",
   "metadata": {},
   "outputs": [],
   "source": [
    "from sklearn.preprocessing import MinMaxScaler"
   ]
  },
  {
   "cell_type": "code",
   "execution_count": 42,
   "id": "ff6c0179",
   "metadata": {},
   "outputs": [],
   "source": [
    "mms=MinMaxScaler()"
   ]
  },
  {
   "cell_type": "code",
   "execution_count": 43,
   "id": "e6cfa311",
   "metadata": {},
   "outputs": [
    {
     "data": {
      "text/html": [
       "<style>#sk-container-id-4 {color: black;background-color: white;}#sk-container-id-4 pre{padding: 0;}#sk-container-id-4 div.sk-toggleable {background-color: white;}#sk-container-id-4 label.sk-toggleable__label {cursor: pointer;display: block;width: 100%;margin-bottom: 0;padding: 0.3em;box-sizing: border-box;text-align: center;}#sk-container-id-4 label.sk-toggleable__label-arrow:before {content: \"▸\";float: left;margin-right: 0.25em;color: #696969;}#sk-container-id-4 label.sk-toggleable__label-arrow:hover:before {color: black;}#sk-container-id-4 div.sk-estimator:hover label.sk-toggleable__label-arrow:before {color: black;}#sk-container-id-4 div.sk-toggleable__content {max-height: 0;max-width: 0;overflow: hidden;text-align: left;background-color: #f0f8ff;}#sk-container-id-4 div.sk-toggleable__content pre {margin: 0.2em;color: black;border-radius: 0.25em;background-color: #f0f8ff;}#sk-container-id-4 input.sk-toggleable__control:checked~div.sk-toggleable__content {max-height: 200px;max-width: 100%;overflow: auto;}#sk-container-id-4 input.sk-toggleable__control:checked~label.sk-toggleable__label-arrow:before {content: \"▾\";}#sk-container-id-4 div.sk-estimator input.sk-toggleable__control:checked~label.sk-toggleable__label {background-color: #d4ebff;}#sk-container-id-4 div.sk-label input.sk-toggleable__control:checked~label.sk-toggleable__label {background-color: #d4ebff;}#sk-container-id-4 input.sk-hidden--visually {border: 0;clip: rect(1px 1px 1px 1px);clip: rect(1px, 1px, 1px, 1px);height: 1px;margin: -1px;overflow: hidden;padding: 0;position: absolute;width: 1px;}#sk-container-id-4 div.sk-estimator {font-family: monospace;background-color: #f0f8ff;border: 1px dotted black;border-radius: 0.25em;box-sizing: border-box;margin-bottom: 0.5em;}#sk-container-id-4 div.sk-estimator:hover {background-color: #d4ebff;}#sk-container-id-4 div.sk-parallel-item::after {content: \"\";width: 100%;border-bottom: 1px solid gray;flex-grow: 1;}#sk-container-id-4 div.sk-label:hover label.sk-toggleable__label {background-color: #d4ebff;}#sk-container-id-4 div.sk-serial::before {content: \"\";position: absolute;border-left: 1px solid gray;box-sizing: border-box;top: 0;bottom: 0;left: 50%;z-index: 0;}#sk-container-id-4 div.sk-serial {display: flex;flex-direction: column;align-items: center;background-color: white;padding-right: 0.2em;padding-left: 0.2em;position: relative;}#sk-container-id-4 div.sk-item {position: relative;z-index: 1;}#sk-container-id-4 div.sk-parallel {display: flex;align-items: stretch;justify-content: center;background-color: white;position: relative;}#sk-container-id-4 div.sk-item::before, #sk-container-id-4 div.sk-parallel-item::before {content: \"\";position: absolute;border-left: 1px solid gray;box-sizing: border-box;top: 0;bottom: 0;left: 50%;z-index: -1;}#sk-container-id-4 div.sk-parallel-item {display: flex;flex-direction: column;z-index: 1;position: relative;background-color: white;}#sk-container-id-4 div.sk-parallel-item:first-child::after {align-self: flex-end;width: 50%;}#sk-container-id-4 div.sk-parallel-item:last-child::after {align-self: flex-start;width: 50%;}#sk-container-id-4 div.sk-parallel-item:only-child::after {width: 0;}#sk-container-id-4 div.sk-dashed-wrapped {border: 1px dashed gray;margin: 0 0.4em 0.5em 0.4em;box-sizing: border-box;padding-bottom: 0.4em;background-color: white;}#sk-container-id-4 div.sk-label label {font-family: monospace;font-weight: bold;display: inline-block;line-height: 1.2em;}#sk-container-id-4 div.sk-label-container {text-align: center;}#sk-container-id-4 div.sk-container {/* jupyter's `normalize.less` sets `[hidden] { display: none; }` but bootstrap.min.css set `[hidden] { display: none !important; }` so we also need the `!important` here to be able to override the default hidden behavior on the sphinx rendered scikit-learn.org. See: https://github.com/scikit-learn/scikit-learn/issues/21755 */display: inline-block !important;position: relative;}#sk-container-id-4 div.sk-text-repr-fallback {display: none;}</style><div id=\"sk-container-id-4\" class=\"sk-top-container\"><div class=\"sk-text-repr-fallback\"><pre>MinMaxScaler()</pre><b>In a Jupyter environment, please rerun this cell to show the HTML representation or trust the notebook. <br />On GitHub, the HTML representation is unable to render, please try loading this page with nbviewer.org.</b></div><div class=\"sk-container\" hidden><div class=\"sk-item\"><div class=\"sk-estimator sk-toggleable\"><input class=\"sk-toggleable__control sk-hidden--visually\" id=\"sk-estimator-id-4\" type=\"checkbox\" checked><label for=\"sk-estimator-id-4\" class=\"sk-toggleable__label sk-toggleable__label-arrow\">MinMaxScaler</label><div class=\"sk-toggleable__content\"><pre>MinMaxScaler()</pre></div></div></div></div></div>"
      ],
      "text/plain": [
       "MinMaxScaler()"
      ]
     },
     "execution_count": 43,
     "metadata": {},
     "output_type": "execute_result"
    }
   ],
   "source": [
    "mms.fit(X_train)"
   ]
  },
  {
   "cell_type": "code",
   "execution_count": 45,
   "id": "2c8fd68a",
   "metadata": {},
   "outputs": [],
   "source": [
    "X_train_mms=mms.transform(X_train)"
   ]
  },
  {
   "cell_type": "code",
   "execution_count": 46,
   "id": "d9069c33",
   "metadata": {},
   "outputs": [
    {
     "data": {
      "text/plain": [
       "array([[0.69047619, 0.23703704],\n",
       "       [0.42857143, 0.62222222],\n",
       "       [0.21428571, 0.31111111],\n",
       "       [0.71428571, 0.55555556],\n",
       "       [0.23809524, 0.54814815],\n",
       "       [0.57142857, 0.40740741],\n",
       "       [0.71428571, 0.93333333],\n",
       "       [0.54761905, 0.32592593],\n",
       "       [0.9047619 , 0.33333333],\n",
       "       [0.42857143, 0.95555556],\n",
       "       [0.9047619 , 0.65925926],\n",
       "       [0.14285714, 0.02962963],\n",
       "       [0.97619048, 0.54074074],\n",
       "       [0.78571429, 0.88148148],\n",
       "       [0.19047619, 0.48148148],\n",
       "       [0.38095238, 0.20740741],\n",
       "       [0.04761905, 0.52592593],\n",
       "       [0.33333333, 0.02222222],\n",
       "       [0.54761905, 0.22222222],\n",
       "       [0.47619048, 0.25925926],\n",
       "       [0.47619048, 0.41481481],\n",
       "       [0.45238095, 0.27407407],\n",
       "       [0.30952381, 0.02222222],\n",
       "       [0.47619048, 0.48148148],\n",
       "       [0.54761905, 0.42222222],\n",
       "       [0.35714286, 0.11851852],\n",
       "       [0.28571429, 0.01481481],\n",
       "       [0.4047619 , 0.23703704],\n",
       "       [0.19047619, 0.52592593],\n",
       "       [0.45238095, 0.95555556],\n",
       "       [0.47619048, 0.41481481],\n",
       "       [0.19047619, 0.00740741],\n",
       "       [0.73809524, 0.54074074],\n",
       "       [0.4047619 , 0.08888889],\n",
       "       [0.80952381, 0.17037037],\n",
       "       [0.11904762, 0.0962963 ],\n",
       "       [0.23809524, 0.16296296],\n",
       "       [0.95238095, 0.23703704],\n",
       "       [0.69047619, 0.25925926],\n",
       "       [0.19047619, 0.48148148],\n",
       "       [0.47619048, 0.34074074],\n",
       "       [0.66666667, 0.05185185],\n",
       "       [0.4047619 , 0.31111111],\n",
       "       [0.69047619, 0.72592593],\n",
       "       [0.54761905, 0.35555556],\n",
       "       [0.4047619 , 0.25925926],\n",
       "       [0.4047619 , 0.05185185],\n",
       "       [0.83333333, 0.14074074],\n",
       "       [0.45238095, 0.43703704],\n",
       "       [0.26190476, 0.23703704],\n",
       "       [0.45238095, 0.40740741],\n",
       "       [0.4047619 , 0.42962963],\n",
       "       [0.52380952, 0.32592593],\n",
       "       [0.4047619 , 0.47407407],\n",
       "       [0.5       , 0.41481481],\n",
       "       [0.95238095, 0.95555556],\n",
       "       [0.21428571, 0.03703704],\n",
       "       [0.54761905, 0.48148148],\n",
       "       [0.97619048, 0.1037037 ],\n",
       "       [0.19047619, 0.27407407],\n",
       "       [0.52380952, 0.44444444],\n",
       "       [0.4047619 , 0.17037037],\n",
       "       [0.30952381, 0.41481481],\n",
       "       [0.52380952, 0.42222222],\n",
       "       [0.57142857, 0.37037037],\n",
       "       [0.19047619, 0.12592593],\n",
       "       [0.45238095, 0.97037037],\n",
       "       [0.73809524, 0.37037037],\n",
       "       [0.69047619, 0.66666667],\n",
       "       [0.45238095, 0.47407407],\n",
       "       [0.33333333, 0.02222222],\n",
       "       [0.19047619, 0.14814815],\n",
       "       [0.28571429, 0.74814815],\n",
       "       [0.73809524, 0.54814815],\n",
       "       [0.85714286, 0.08148148],\n",
       "       [0.64285714, 0.05185185],\n",
       "       [0.30952381, 0.14074074],\n",
       "       [0.76190476, 0.54074074],\n",
       "       [0.4047619 , 0.03703704],\n",
       "       [0.07142857, 0.54074074],\n",
       "       [0.21428571, 0.11851852],\n",
       "       [0.45238095, 0.41481481],\n",
       "       [0.54761905, 0.42222222],\n",
       "       [0.69047619, 0.05925926],\n",
       "       [0.21428571, 0.31851852],\n",
       "       [0.02380952, 0.45185185],\n",
       "       [0.02380952, 0.04444444],\n",
       "       [0.64285714, 0.85925926],\n",
       "       [0.45238095, 0.48148148],\n",
       "       [0.07142857, 0.42222222],\n",
       "       [0.30952381, 0.76296296],\n",
       "       [0.4047619 , 0.34074074],\n",
       "       [0.38095238, 0.74074074],\n",
       "       [0.5952381 , 0.71851852],\n",
       "       [0.30952381, 0.45185185],\n",
       "       [0.0952381 , 0.2962963 ],\n",
       "       [0.21428571, 0.51111111],\n",
       "       [0.66666667, 0.47407407],\n",
       "       [0.95238095, 0.17037037],\n",
       "       [0.66666667, 0.32592593],\n",
       "       [0.52380952, 0.46666667],\n",
       "       [0.04761905, 0.25185185],\n",
       "       [0.4047619 , 0.44444444],\n",
       "       [0.14285714, 0.08888889],\n",
       "       [0.4047619 , 0.2962963 ],\n",
       "       [0.5       , 0.42962963],\n",
       "       [0.23809524, 0.51851852],\n",
       "       [0.97619048, 0.5037037 ],\n",
       "       [0.        , 0.4962963 ],\n",
       "       [0.97619048, 0.2       ],\n",
       "       [1.        , 0.68888889],\n",
       "       [0.66666667, 0.0962963 ],\n",
       "       [0.57142857, 0.28888889],\n",
       "       [0.47619048, 0.34074074],\n",
       "       [0.83333333, 0.4962963 ],\n",
       "       [0.42857143, 0.25925926],\n",
       "       [0.52380952, 0.34074074],\n",
       "       [0.35714286, 0.99259259],\n",
       "       [0.5       , 0.45925926],\n",
       "       [0.52380952, 0.23703704],\n",
       "       [0.71428571, 0.13333333],\n",
       "       [0.42857143, 0.44444444],\n",
       "       [0.45238095, 0.48148148],\n",
       "       [0.57142857, 0.28148148],\n",
       "       [0.38095238, 0.07407407],\n",
       "       [0.69047619, 0.20740741],\n",
       "       [0.23809524, 0.51111111],\n",
       "       [0.45238095, 0.2962963 ],\n",
       "       [0.23809524, 0.2962963 ],\n",
       "       [0.02380952, 0.51851852],\n",
       "       [0.26190476, 0.0962963 ],\n",
       "       [0.23809524, 0.32592593],\n",
       "       [0.71428571, 0.6       ],\n",
       "       [0.07142857, 0.39259259],\n",
       "       [0.21428571, 0.31851852],\n",
       "       [0.47619048, 0.26666667],\n",
       "       [0.30952381, 0.31851852],\n",
       "       [0.19047619, 0.01481481],\n",
       "       [0.95238095, 0.05925926],\n",
       "       [0.30952381, 0.        ],\n",
       "       [0.52380952, 0.31111111],\n",
       "       [0.69047619, 0.95555556],\n",
       "       [0.76190476, 0.15555556],\n",
       "       [0.42857143, 0.27407407],\n",
       "       [0.88095238, 0.85185185],\n",
       "       [0.73809524, 0.0962963 ],\n",
       "       [0.47619048, 0.72592593],\n",
       "       [0.35714286, 0.33333333],\n",
       "       [0.88095238, 0.17777778],\n",
       "       [0.54761905, 0.53333333],\n",
       "       [0.21428571, 0.01481481],\n",
       "       [0.85714286, 0.68888889],\n",
       "       [0.0952381 , 0.48888889],\n",
       "       [0.47619048, 0.37037037],\n",
       "       [0.5       , 0.2       ],\n",
       "       [0.52380952, 0.68148148],\n",
       "       [0.57142857, 0.36296296],\n",
       "       [0.35714286, 0.4       ],\n",
       "       [0.73809524, 0.93333333],\n",
       "       [0.4047619 , 0.37037037],\n",
       "       [0.28571429, 0.25185185],\n",
       "       [0.76190476, 0.03703704],\n",
       "       [0.11904762, 0.03703704],\n",
       "       [0.92857143, 0.33333333],\n",
       "       [0.92857143, 0.43703704],\n",
       "       [0.57142857, 0.44444444],\n",
       "       [0.78571429, 0.05925926],\n",
       "       [0.35714286, 0.0962963 ],\n",
       "       [0.28571429, 0.88888889],\n",
       "       [0.4047619 , 0.68888889],\n",
       "       [0.47619048, 0.25925926],\n",
       "       [0.52380952, 0.37037037],\n",
       "       [0.33333333, 0.88888889],\n",
       "       [0.23809524, 0.47407407],\n",
       "       [0.        , 0.52592593],\n",
       "       [0.14285714, 0.54814815],\n",
       "       [0.52380952, 0.44444444],\n",
       "       [0.80952381, 0.04444444],\n",
       "       [0.45238095, 0.57777778],\n",
       "       [0.5       , 0.88148148],\n",
       "       [0.04761905, 0.15555556],\n",
       "       [0.52380952, 0.31111111],\n",
       "       [0.02380952, 0.07407407],\n",
       "       [0.66666667, 0.54074074],\n",
       "       [0.42857143, 0.76296296],\n",
       "       [0.21428571, 0.54814815],\n",
       "       [0.16666667, 0.13333333],\n",
       "       [0.80952381, 0.91111111],\n",
       "       [0.66666667, 0.12592593],\n",
       "       [0.66666667, 0.43703704],\n",
       "       [0.02380952, 0.08148148],\n",
       "       [0.47619048, 0.71851852],\n",
       "       [0.69047619, 0.25185185],\n",
       "       [1.        , 0.5037037 ],\n",
       "       [1.        , 0.2       ],\n",
       "       [0.71428571, 0.13333333],\n",
       "       [0.5       , 0.79259259],\n",
       "       [0.23809524, 0.53333333],\n",
       "       [0.16666667, 0.47407407],\n",
       "       [0.57142857, 0.55555556],\n",
       "       [0.5       , 0.44444444],\n",
       "       [0.52380952, 0.41481481],\n",
       "       [0.97619048, 0.94814815],\n",
       "       [0.45238095, 0.31111111],\n",
       "       [0.4047619 , 0.60740741],\n",
       "       [0.11904762, 0.35555556],\n",
       "       [0.73809524, 0.43703704],\n",
       "       [0.54761905, 0.42222222],\n",
       "       [0.5       , 0.41481481],\n",
       "       [0.71428571, 0.14814815],\n",
       "       [0.33333333, 0.77777778],\n",
       "       [0.19047619, 0.        ],\n",
       "       [0.78571429, 0.97037037],\n",
       "       [0.11904762, 0.37777778],\n",
       "       [0.02380952, 0.02962963],\n",
       "       [0.69047619, 0.11111111],\n",
       "       [1.        , 0.22962963],\n",
       "       [0.61904762, 0.17777778],\n",
       "       [0.16666667, 0.05185185],\n",
       "       [0.35714286, 0.19259259],\n",
       "       [0.26190476, 0.34074074],\n",
       "       [0.83333333, 0.94814815],\n",
       "       [0.57142857, 0.65925926],\n",
       "       [0.47619048, 0.2962963 ],\n",
       "       [0.19047619, 0.11111111],\n",
       "       [0.28571429, 0.54814815],\n",
       "       [0.5       , 0.67407407],\n",
       "       [0.33333333, 0.75555556],\n",
       "       [0.5       , 0.88148148],\n",
       "       [0.52380952, 0.94074074],\n",
       "       [0.83333333, 0.65925926],\n",
       "       [0.04761905, 0.43703704],\n",
       "       [0.4047619 , 0.28148148],\n",
       "       [0.5       , 0.6       ],\n",
       "       [0.69047619, 0.07407407],\n",
       "       [0.4047619 , 0.33333333],\n",
       "       [1.        , 0.14074074],\n",
       "       [0.57142857, 0.48148148],\n",
       "       [0.42857143, 0.81481481],\n",
       "       [0.66666667, 0.19259259],\n",
       "       [0.23809524, 0.8       ],\n",
       "       [0.5       , 0.34074074],\n",
       "       [0.16666667, 0.53333333],\n",
       "       [0.5       , 0.2       ],\n",
       "       [0.73809524, 0.15555556],\n",
       "       [0.71428571, 0.85925926],\n",
       "       [0.11904762, 0.24444444],\n",
       "       [0.71428571, 0.1037037 ],\n",
       "       [0.14285714, 0.2962963 ],\n",
       "       [0.54761905, 0.42222222],\n",
       "       [0.4047619 , 0.25925926],\n",
       "       [0.28571429, 0.68148148],\n",
       "       [0.85714286, 0.65925926],\n",
       "       [0.21428571, 0.55555556],\n",
       "       [0.57142857, 0.42962963],\n",
       "       [0.23809524, 0.32592593],\n",
       "       [0.76190476, 0.21481481],\n",
       "       [0.        , 0.27407407],\n",
       "       [0.73809524, 0.0962963 ],\n",
       "       [0.54761905, 0.47407407],\n",
       "       [0.28571429, 0.        ],\n",
       "       [0.4047619 , 0.07407407],\n",
       "       [0.4047619 , 0.54074074],\n",
       "       [0.71428571, 0.88148148],\n",
       "       [0.30952381, 0.37777778],\n",
       "       [0.35714286, 0.72592593],\n",
       "       [0.54761905, 0.27407407],\n",
       "       [0.92857143, 0.79259259],\n",
       "       [0.73809524, 0.52592593],\n",
       "       [0.97619048, 0.45185185],\n",
       "       [0.04761905, 0.4962963 ],\n",
       "       [0.42857143, 0.35555556],\n",
       "       [0.30952381, 0.54814815],\n",
       "       [0.80952381, 0.73333333],\n",
       "       [0.73809524, 0.17777778],\n",
       "       [0.92857143, 0.13333333],\n",
       "       [0.28571429, 0.53333333],\n",
       "       [0.14285714, 0.12592593],\n",
       "       [0.66666667, 0.4962963 ],\n",
       "       [0.26190476, 0.5037037 ],\n",
       "       [0.28571429, 0.48148148],\n",
       "       [0.21428571, 0.9037037 ],\n",
       "       [0.45238095, 0.42222222],\n",
       "       [0.80952381, 1.        ],\n",
       "       [0.45238095, 0.44444444],\n",
       "       [0.45238095, 0.9037037 ],\n",
       "       [0.28571429, 0.47407407],\n",
       "       [0.19047619, 0.48888889],\n",
       "       [0.54761905, 0.33333333],\n",
       "       [0.71428571, 0.11111111],\n",
       "       [0.80952381, 0.55555556],\n",
       "       [0.0952381 , 0.02222222],\n",
       "       [0.23809524, 0.21481481],\n",
       "       [0.19047619, 0.42222222],\n",
       "       [0.57142857, 0.28888889],\n",
       "       [0.        , 0.21481481],\n",
       "       [0.57142857, 0.47407407],\n",
       "       [0.4047619 , 0.45925926],\n",
       "       [0.33333333, 0.52592593],\n",
       "       [0.38095238, 0.20740741],\n",
       "       [0.4047619 , 0.41481481],\n",
       "       [0.45238095, 0.45925926],\n",
       "       [0.4047619 , 0.44444444],\n",
       "       [0.54761905, 0.26666667],\n",
       "       [0.66666667, 0.6       ],\n",
       "       [0.71428571, 0.91111111],\n",
       "       [0.42857143, 0.33333333],\n",
       "       [0.21428571, 0.28888889],\n",
       "       [0.4047619 , 0.31851852],\n",
       "       [0.5       , 0.32592593],\n",
       "       [0.4047619 , 0.21481481],\n",
       "       [0.45238095, 0.13333333],\n",
       "       [0.4047619 , 0.42222222],\n",
       "       [0.5952381 , 0.84444444],\n",
       "       [0.38095238, 0.71851852],\n",
       "       [0.66666667, 0.75555556],\n",
       "       [0.71428571, 0.19259259],\n",
       "       [0.04761905, 0.05925926],\n",
       "       [0.26190476, 0.48148148],\n",
       "       [0.26190476, 0.98518519]])"
      ]
     },
     "execution_count": 46,
     "metadata": {},
     "output_type": "execute_result"
    }
   ],
   "source": [
    "X_train_mms"
   ]
  },
  {
   "cell_type": "code",
   "execution_count": 48,
   "id": "2929bfb3",
   "metadata": {},
   "outputs": [],
   "source": [
    "X_test_mms=mms.transform(X_test)"
   ]
  },
  {
   "cell_type": "code",
   "execution_count": 49,
   "id": "8cb1dc75",
   "metadata": {},
   "outputs": [
    {
     "data": {
      "text/plain": [
       "array([[0.26190476, 0.5037037 ],\n",
       "       [0.07142857, 0.00740741],\n",
       "       [0.45238095, 0.28148148],\n",
       "       [0.26190476, 0.44444444],\n",
       "       [0.85714286, 0.40740741],\n",
       "       [0.69047619, 0.03703704],\n",
       "       [0.11904762, 0.4962963 ],\n",
       "       [0.23809524, 0.12592593],\n",
       "       [0.52380952, 0.33333333],\n",
       "       [0.42857143, 0.82222222],\n",
       "       [0.14285714, 0.05925926],\n",
       "       [0.0952381 , 0.08888889],\n",
       "       [0.33333333, 0.75555556],\n",
       "       [0.64285714, 0.47407407],\n",
       "       [0.4047619 , 0.32592593],\n",
       "       [0.35714286, 0.20740741],\n",
       "       [0.02380952, 0.40740741],\n",
       "       [1.        , 0.2       ],\n",
       "       [0.83333333, 0.42222222],\n",
       "       [0.19047619, 0.20740741],\n",
       "       [0.45238095, 0.46666667],\n",
       "       [0.64285714, 0.22222222],\n",
       "       [0.28571429, 0.34814815],\n",
       "       [0.42857143, 0.13333333],\n",
       "       [0.16666667, 0.48148148],\n",
       "       [0.64285714, 0.12592593],\n",
       "       [0.64285714, 0.05185185],\n",
       "       [0.52380952, 0.31111111],\n",
       "       [0.61904762, 0.91851852],\n",
       "       [0.33333333, 0.62962963],\n",
       "       [0.14285714, 0.2962963 ],\n",
       "       [0.54761905, 0.27407407],\n",
       "       [0.66666667, 0.05925926],\n",
       "       [0.47619048, 0.32592593],\n",
       "       [0.33333333, 1.        ],\n",
       "       [0.4047619 , 0.56296296],\n",
       "       [0.71428571, 0.43703704],\n",
       "       [0.4047619 , 0.05925926],\n",
       "       [0.26190476, 0.20740741],\n",
       "       [0.69047619, 0.68148148],\n",
       "       [0.4047619 , 0.17777778],\n",
       "       [0.57142857, 0.37037037],\n",
       "       [0.21428571, 0.54074074],\n",
       "       [0.57142857, 0.48148148],\n",
       "       [0.        , 0.39259259],\n",
       "       [0.69047619, 0.26666667],\n",
       "       [0.14285714, 0.51111111],\n",
       "       [0.69047619, 0.14074074],\n",
       "       [0.71428571, 0.77037037],\n",
       "       [0.19047619, 0.        ],\n",
       "       [0.21428571, 0.6       ],\n",
       "       [0.57142857, 0.99259259],\n",
       "       [0.38095238, 0.42222222],\n",
       "       [0.5       , 0.47407407],\n",
       "       [0.19047619, 0.76296296],\n",
       "       [0.0952381 , 0.35555556],\n",
       "       [0.54761905, 0.11111111],\n",
       "       [0.57142857, 0.68888889],\n",
       "       [0.5952381 , 0.87407407],\n",
       "       [0.30952381, 0.43703704],\n",
       "       [0.19047619, 0.51111111],\n",
       "       [0.97619048, 0.85185185],\n",
       "       [0.95238095, 0.59259259],\n",
       "       [0.54761905, 0.41481481],\n",
       "       [0.16666667, 0.55555556],\n",
       "       [0.4047619 , 0.97777778],\n",
       "       [0.64285714, 0.08148148],\n",
       "       [0.42857143, 0.28888889],\n",
       "       [0.30952381, 0.39259259],\n",
       "       [0.92857143, 0.08148148],\n",
       "       [0.45238095, 0.34814815],\n",
       "       [0.95238095, 0.63703704],\n",
       "       [0.35714286, 0.26666667],\n",
       "       [0.26190476, 0.20740741],\n",
       "       [0.9047619 , 0.87407407],\n",
       "       [0.4047619 , 0.42222222],\n",
       "       [1.        , 0.64444444],\n",
       "       [0.14285714, 0.31851852],\n",
       "       [0.88095238, 0.81481481],\n",
       "       [0.04761905, 0.4962963 ]])"
      ]
     },
     "execution_count": 49,
     "metadata": {},
     "output_type": "execute_result"
    }
   ],
   "source": [
    "X_test_mms"
   ]
  },
  {
   "cell_type": "code",
   "execution_count": 50,
   "id": "7d2fd295",
   "metadata": {},
   "outputs": [],
   "source": [
    "from sklearn.linear_model import LogisticRegression"
   ]
  },
  {
   "cell_type": "code",
   "execution_count": 53,
   "id": "4575898f",
   "metadata": {},
   "outputs": [],
   "source": [
    "lreg1=LogisticRegression()"
   ]
  },
  {
   "cell_type": "code",
   "execution_count": 55,
   "id": "5947df41",
   "metadata": {},
   "outputs": [
    {
     "data": {
      "text/html": [
       "<style>#sk-container-id-7 {color: black;background-color: white;}#sk-container-id-7 pre{padding: 0;}#sk-container-id-7 div.sk-toggleable {background-color: white;}#sk-container-id-7 label.sk-toggleable__label {cursor: pointer;display: block;width: 100%;margin-bottom: 0;padding: 0.3em;box-sizing: border-box;text-align: center;}#sk-container-id-7 label.sk-toggleable__label-arrow:before {content: \"▸\";float: left;margin-right: 0.25em;color: #696969;}#sk-container-id-7 label.sk-toggleable__label-arrow:hover:before {color: black;}#sk-container-id-7 div.sk-estimator:hover label.sk-toggleable__label-arrow:before {color: black;}#sk-container-id-7 div.sk-toggleable__content {max-height: 0;max-width: 0;overflow: hidden;text-align: left;background-color: #f0f8ff;}#sk-container-id-7 div.sk-toggleable__content pre {margin: 0.2em;color: black;border-radius: 0.25em;background-color: #f0f8ff;}#sk-container-id-7 input.sk-toggleable__control:checked~div.sk-toggleable__content {max-height: 200px;max-width: 100%;overflow: auto;}#sk-container-id-7 input.sk-toggleable__control:checked~label.sk-toggleable__label-arrow:before {content: \"▾\";}#sk-container-id-7 div.sk-estimator input.sk-toggleable__control:checked~label.sk-toggleable__label {background-color: #d4ebff;}#sk-container-id-7 div.sk-label input.sk-toggleable__control:checked~label.sk-toggleable__label {background-color: #d4ebff;}#sk-container-id-7 input.sk-hidden--visually {border: 0;clip: rect(1px 1px 1px 1px);clip: rect(1px, 1px, 1px, 1px);height: 1px;margin: -1px;overflow: hidden;padding: 0;position: absolute;width: 1px;}#sk-container-id-7 div.sk-estimator {font-family: monospace;background-color: #f0f8ff;border: 1px dotted black;border-radius: 0.25em;box-sizing: border-box;margin-bottom: 0.5em;}#sk-container-id-7 div.sk-estimator:hover {background-color: #d4ebff;}#sk-container-id-7 div.sk-parallel-item::after {content: \"\";width: 100%;border-bottom: 1px solid gray;flex-grow: 1;}#sk-container-id-7 div.sk-label:hover label.sk-toggleable__label {background-color: #d4ebff;}#sk-container-id-7 div.sk-serial::before {content: \"\";position: absolute;border-left: 1px solid gray;box-sizing: border-box;top: 0;bottom: 0;left: 50%;z-index: 0;}#sk-container-id-7 div.sk-serial {display: flex;flex-direction: column;align-items: center;background-color: white;padding-right: 0.2em;padding-left: 0.2em;position: relative;}#sk-container-id-7 div.sk-item {position: relative;z-index: 1;}#sk-container-id-7 div.sk-parallel {display: flex;align-items: stretch;justify-content: center;background-color: white;position: relative;}#sk-container-id-7 div.sk-item::before, #sk-container-id-7 div.sk-parallel-item::before {content: \"\";position: absolute;border-left: 1px solid gray;box-sizing: border-box;top: 0;bottom: 0;left: 50%;z-index: -1;}#sk-container-id-7 div.sk-parallel-item {display: flex;flex-direction: column;z-index: 1;position: relative;background-color: white;}#sk-container-id-7 div.sk-parallel-item:first-child::after {align-self: flex-end;width: 50%;}#sk-container-id-7 div.sk-parallel-item:last-child::after {align-self: flex-start;width: 50%;}#sk-container-id-7 div.sk-parallel-item:only-child::after {width: 0;}#sk-container-id-7 div.sk-dashed-wrapped {border: 1px dashed gray;margin: 0 0.4em 0.5em 0.4em;box-sizing: border-box;padding-bottom: 0.4em;background-color: white;}#sk-container-id-7 div.sk-label label {font-family: monospace;font-weight: bold;display: inline-block;line-height: 1.2em;}#sk-container-id-7 div.sk-label-container {text-align: center;}#sk-container-id-7 div.sk-container {/* jupyter's `normalize.less` sets `[hidden] { display: none; }` but bootstrap.min.css set `[hidden] { display: none !important; }` so we also need the `!important` here to be able to override the default hidden behavior on the sphinx rendered scikit-learn.org. See: https://github.com/scikit-learn/scikit-learn/issues/21755 */display: inline-block !important;position: relative;}#sk-container-id-7 div.sk-text-repr-fallback {display: none;}</style><div id=\"sk-container-id-7\" class=\"sk-top-container\"><div class=\"sk-text-repr-fallback\"><pre>LogisticRegression()</pre><b>In a Jupyter environment, please rerun this cell to show the HTML representation or trust the notebook. <br />On GitHub, the HTML representation is unable to render, please try loading this page with nbviewer.org.</b></div><div class=\"sk-container\" hidden><div class=\"sk-item\"><div class=\"sk-estimator sk-toggleable\"><input class=\"sk-toggleable__control sk-hidden--visually\" id=\"sk-estimator-id-7\" type=\"checkbox\" checked><label for=\"sk-estimator-id-7\" class=\"sk-toggleable__label sk-toggleable__label-arrow\">LogisticRegression</label><div class=\"sk-toggleable__content\"><pre>LogisticRegression()</pre></div></div></div></div></div>"
      ],
      "text/plain": [
       "LogisticRegression()"
      ]
     },
     "execution_count": 55,
     "metadata": {},
     "output_type": "execute_result"
    }
   ],
   "source": [
    "lreg1"
   ]
  },
  {
   "cell_type": "code",
   "execution_count": 59,
   "id": "b51cf0b9",
   "metadata": {},
   "outputs": [
    {
     "data": {
      "text/html": [
       "<style>#sk-container-id-9 {color: black;background-color: white;}#sk-container-id-9 pre{padding: 0;}#sk-container-id-9 div.sk-toggleable {background-color: white;}#sk-container-id-9 label.sk-toggleable__label {cursor: pointer;display: block;width: 100%;margin-bottom: 0;padding: 0.3em;box-sizing: border-box;text-align: center;}#sk-container-id-9 label.sk-toggleable__label-arrow:before {content: \"▸\";float: left;margin-right: 0.25em;color: #696969;}#sk-container-id-9 label.sk-toggleable__label-arrow:hover:before {color: black;}#sk-container-id-9 div.sk-estimator:hover label.sk-toggleable__label-arrow:before {color: black;}#sk-container-id-9 div.sk-toggleable__content {max-height: 0;max-width: 0;overflow: hidden;text-align: left;background-color: #f0f8ff;}#sk-container-id-9 div.sk-toggleable__content pre {margin: 0.2em;color: black;border-radius: 0.25em;background-color: #f0f8ff;}#sk-container-id-9 input.sk-toggleable__control:checked~div.sk-toggleable__content {max-height: 200px;max-width: 100%;overflow: auto;}#sk-container-id-9 input.sk-toggleable__control:checked~label.sk-toggleable__label-arrow:before {content: \"▾\";}#sk-container-id-9 div.sk-estimator input.sk-toggleable__control:checked~label.sk-toggleable__label {background-color: #d4ebff;}#sk-container-id-9 div.sk-label input.sk-toggleable__control:checked~label.sk-toggleable__label {background-color: #d4ebff;}#sk-container-id-9 input.sk-hidden--visually {border: 0;clip: rect(1px 1px 1px 1px);clip: rect(1px, 1px, 1px, 1px);height: 1px;margin: -1px;overflow: hidden;padding: 0;position: absolute;width: 1px;}#sk-container-id-9 div.sk-estimator {font-family: monospace;background-color: #f0f8ff;border: 1px dotted black;border-radius: 0.25em;box-sizing: border-box;margin-bottom: 0.5em;}#sk-container-id-9 div.sk-estimator:hover {background-color: #d4ebff;}#sk-container-id-9 div.sk-parallel-item::after {content: \"\";width: 100%;border-bottom: 1px solid gray;flex-grow: 1;}#sk-container-id-9 div.sk-label:hover label.sk-toggleable__label {background-color: #d4ebff;}#sk-container-id-9 div.sk-serial::before {content: \"\";position: absolute;border-left: 1px solid gray;box-sizing: border-box;top: 0;bottom: 0;left: 50%;z-index: 0;}#sk-container-id-9 div.sk-serial {display: flex;flex-direction: column;align-items: center;background-color: white;padding-right: 0.2em;padding-left: 0.2em;position: relative;}#sk-container-id-9 div.sk-item {position: relative;z-index: 1;}#sk-container-id-9 div.sk-parallel {display: flex;align-items: stretch;justify-content: center;background-color: white;position: relative;}#sk-container-id-9 div.sk-item::before, #sk-container-id-9 div.sk-parallel-item::before {content: \"\";position: absolute;border-left: 1px solid gray;box-sizing: border-box;top: 0;bottom: 0;left: 50%;z-index: -1;}#sk-container-id-9 div.sk-parallel-item {display: flex;flex-direction: column;z-index: 1;position: relative;background-color: white;}#sk-container-id-9 div.sk-parallel-item:first-child::after {align-self: flex-end;width: 50%;}#sk-container-id-9 div.sk-parallel-item:last-child::after {align-self: flex-start;width: 50%;}#sk-container-id-9 div.sk-parallel-item:only-child::after {width: 0;}#sk-container-id-9 div.sk-dashed-wrapped {border: 1px dashed gray;margin: 0 0.4em 0.5em 0.4em;box-sizing: border-box;padding-bottom: 0.4em;background-color: white;}#sk-container-id-9 div.sk-label label {font-family: monospace;font-weight: bold;display: inline-block;line-height: 1.2em;}#sk-container-id-9 div.sk-label-container {text-align: center;}#sk-container-id-9 div.sk-container {/* jupyter's `normalize.less` sets `[hidden] { display: none; }` but bootstrap.min.css set `[hidden] { display: none !important; }` so we also need the `!important` here to be able to override the default hidden behavior on the sphinx rendered scikit-learn.org. See: https://github.com/scikit-learn/scikit-learn/issues/21755 */display: inline-block !important;position: relative;}#sk-container-id-9 div.sk-text-repr-fallback {display: none;}</style><div id=\"sk-container-id-9\" class=\"sk-top-container\"><div class=\"sk-text-repr-fallback\"><pre>LogisticRegression()</pre><b>In a Jupyter environment, please rerun this cell to show the HTML representation or trust the notebook. <br />On GitHub, the HTML representation is unable to render, please try loading this page with nbviewer.org.</b></div><div class=\"sk-container\" hidden><div class=\"sk-item\"><div class=\"sk-estimator sk-toggleable\"><input class=\"sk-toggleable__control sk-hidden--visually\" id=\"sk-estimator-id-9\" type=\"checkbox\" checked><label for=\"sk-estimator-id-9\" class=\"sk-toggleable__label sk-toggleable__label-arrow\">LogisticRegression</label><div class=\"sk-toggleable__content\"><pre>LogisticRegression()</pre></div></div></div></div></div>"
      ],
      "text/plain": [
       "LogisticRegression()"
      ]
     },
     "execution_count": 59,
     "metadata": {},
     "output_type": "execute_result"
    }
   ],
   "source": [
    "lreg1.fit(X_train_ss,y_train)"
   ]
  },
  {
   "cell_type": "code",
   "execution_count": 61,
   "id": "2329b0fd",
   "metadata": {},
   "outputs": [
    {
     "data": {
      "text/plain": [
       "0.8125"
      ]
     },
     "execution_count": 61,
     "metadata": {},
     "output_type": "execute_result"
    }
   ],
   "source": [
    "lreg1.score(X_test_ss,y_test)"
   ]
  },
  {
   "cell_type": "code",
   "execution_count": null,
   "id": "8b196038",
   "metadata": {},
   "outputs": [],
   "source": [
    " "
   ]
  }
 ],
 "metadata": {
  "kernelspec": {
   "display_name": "Python 3 (ipykernel)",
   "language": "python",
   "name": "python3"
  },
  "language_info": {
   "codemirror_mode": {
    "name": "ipython",
    "version": 3
   },
   "file_extension": ".py",
   "mimetype": "text/x-python",
   "name": "python",
   "nbconvert_exporter": "python",
   "pygments_lexer": "ipython3",
   "version": "3.10.9"
  }
 },
 "nbformat": 4,
 "nbformat_minor": 5
}
