{
 "cells": [
  {
   "cell_type": "code",
   "execution_count": 1,
   "id": "206d7fc2",
   "metadata": {},
   "outputs": [],
   "source": [
    "import numpy as np "
   ]
  },
  {
   "cell_type": "code",
   "execution_count": 2,
   "id": "4da4994a",
   "metadata": {},
   "outputs": [],
   "source": [
    "import pandas as pd"
   ]
  },
  {
   "cell_type": "code",
   "execution_count": 3,
   "id": "13ff24dd",
   "metadata": {},
   "outputs": [],
   "source": [
    "import os"
   ]
  },
  {
   "cell_type": "code",
   "execution_count": 4,
   "id": "d6637078",
   "metadata": {},
   "outputs": [],
   "source": [
    "import cv2"
   ]
  },
  {
   "cell_type": "code",
   "execution_count": 5,
   "id": "108ec0e4",
   "metadata": {},
   "outputs": [],
   "source": [
    "import tensorflow as tf"
   ]
  },
  {
   "cell_type": "code",
   "execution_count": 6,
   "id": "de154b6e",
   "metadata": {},
   "outputs": [],
   "source": [
    "from tensorflow.keras.models import Sequential"
   ]
  },
  {
   "cell_type": "code",
   "execution_count": 7,
   "id": "af8e094c",
   "metadata": {},
   "outputs": [],
   "source": [
    "from tensorflow.keras.layers import Input,Conv2D,MaxPooling2D,Dropout,Flatten,Dense"
   ]
  },
  {
   "cell_type": "code",
   "execution_count": 8,
   "id": "09cd6b9e",
   "metadata": {},
   "outputs": [],
   "source": [
    "import matplotlib.pyplot as plt "
   ]
  },
  {
   "cell_type": "code",
   "execution_count": 9,
   "id": "b9073d89",
   "metadata": {},
   "outputs": [],
   "source": [
    "path=\"C:/Users/Legion/OneDrive/Desktop/data/Facial_Emotion/Facial_Emotion/\""
   ]
  },
  {
   "cell_type": "code",
   "execution_count": 10,
   "id": "9e797c8c",
   "metadata": {},
   "outputs": [
    {
     "data": {
      "text/plain": [
       "'C:/Users/Legion/OneDrive/Desktop/data/Facial_Emotion/Facial_Emotion/'"
      ]
     },
     "execution_count": 10,
     "metadata": {},
     "output_type": "execute_result"
    }
   ],
   "source": [
    "path"
   ]
  },
  {
   "cell_type": "code",
   "execution_count": 11,
   "id": "64e710fb",
   "metadata": {},
   "outputs": [],
   "source": [
    "path_angry=path+\"angry/\""
   ]
  },
  {
   "cell_type": "code",
   "execution_count": 12,
   "id": "f18579ce",
   "metadata": {},
   "outputs": [
    {
     "data": {
      "text/plain": [
       "'C:/Users/Legion/OneDrive/Desktop/data/Facial_Emotion/Facial_Emotion/angry/'"
      ]
     },
     "execution_count": 12,
     "metadata": {},
     "output_type": "execute_result"
    }
   ],
   "source": [
    "path_angry"
   ]
  },
  {
   "cell_type": "code",
   "execution_count": 13,
   "id": "05f3dd7b",
   "metadata": {},
   "outputs": [],
   "source": [
    "path_disgust=path+\"disgust/\""
   ]
  },
  {
   "cell_type": "code",
   "execution_count": 14,
   "id": "e8f051d8",
   "metadata": {},
   "outputs": [],
   "source": [
    "path_fear=path+\"fear/\""
   ]
  },
  {
   "cell_type": "code",
   "execution_count": 15,
   "id": "a08bd758",
   "metadata": {},
   "outputs": [],
   "source": [
    "path_happy=path+\"happy/\""
   ]
  },
  {
   "cell_type": "code",
   "execution_count": 16,
   "id": "292aebcd",
   "metadata": {},
   "outputs": [],
   "source": [
    "path_neutral=path+\"neutral/\""
   ]
  },
  {
   "cell_type": "code",
   "execution_count": 17,
   "id": "99b5af7f",
   "metadata": {},
   "outputs": [],
   "source": [
    "path_sad=path+\"sad/\""
   ]
  },
  {
   "cell_type": "code",
   "execution_count": 18,
   "id": "6c725b41",
   "metadata": {},
   "outputs": [],
   "source": [
    "path_surprise=path+\"surprise/\""
   ]
  },
  {
   "cell_type": "code",
   "execution_count": 19,
   "id": "28680650",
   "metadata": {},
   "outputs": [
    {
     "data": {
      "text/plain": [
       "'C:/Users/Legion/OneDrive/Desktop/data/Facial_Emotion/Facial_Emotion/disgust/'"
      ]
     },
     "execution_count": 19,
     "metadata": {},
     "output_type": "execute_result"
    }
   ],
   "source": [
    "path_disgust"
   ]
  },
  {
   "cell_type": "code",
   "execution_count": 20,
   "id": "ff954b0b",
   "metadata": {},
   "outputs": [
    {
     "data": {
      "text/plain": [
       "'C:/Users/Legion/OneDrive/Desktop/data/Facial_Emotion/Facial_Emotion/fear/'"
      ]
     },
     "execution_count": 20,
     "metadata": {},
     "output_type": "execute_result"
    }
   ],
   "source": [
    "path_fear"
   ]
  },
  {
   "cell_type": "code",
   "execution_count": 21,
   "id": "63029ca7",
   "metadata": {},
   "outputs": [
    {
     "data": {
      "text/plain": [
       "'C:/Users/Legion/OneDrive/Desktop/data/Facial_Emotion/Facial_Emotion/happy/'"
      ]
     },
     "execution_count": 21,
     "metadata": {},
     "output_type": "execute_result"
    }
   ],
   "source": [
    "path_happy"
   ]
  },
  {
   "cell_type": "code",
   "execution_count": 22,
   "id": "ab547829",
   "metadata": {},
   "outputs": [
    {
     "data": {
      "text/plain": [
       "'C:/Users/Legion/OneDrive/Desktop/data/Facial_Emotion/Facial_Emotion/neutral/'"
      ]
     },
     "execution_count": 22,
     "metadata": {},
     "output_type": "execute_result"
    }
   ],
   "source": [
    "path_neutral"
   ]
  },
  {
   "cell_type": "code",
   "execution_count": 23,
   "id": "0fe361f1",
   "metadata": {},
   "outputs": [
    {
     "data": {
      "text/plain": [
       "'C:/Users/Legion/OneDrive/Desktop/data/Facial_Emotion/Facial_Emotion/sad/'"
      ]
     },
     "execution_count": 23,
     "metadata": {},
     "output_type": "execute_result"
    }
   ],
   "source": [
    "path_sad"
   ]
  },
  {
   "cell_type": "code",
   "execution_count": 24,
   "id": "e1d6687f",
   "metadata": {},
   "outputs": [
    {
     "data": {
      "text/plain": [
       "'C:/Users/Legion/OneDrive/Desktop/data/Facial_Emotion/Facial_Emotion/surprise/'"
      ]
     },
     "execution_count": 24,
     "metadata": {},
     "output_type": "execute_result"
    }
   ],
   "source": [
    "path_surprise"
   ]
  },
  {
   "cell_type": "code",
   "execution_count": 25,
   "id": "043765c7",
   "metadata": {},
   "outputs": [],
   "source": [
    "namelist=[\"angry\",\"disgust\",\"fear\",\"happy\",\"neutral\",\"sad\",\"surprise\"]"
   ]
  },
  {
   "cell_type": "code",
   "execution_count": 26,
   "id": "f499d96f",
   "metadata": {},
   "outputs": [
    {
     "data": {
      "text/plain": [
       "['angry', 'disgust', 'fear', 'happy', 'neutral', 'sad', 'surprise']"
      ]
     },
     "execution_count": 26,
     "metadata": {},
     "output_type": "execute_result"
    }
   ],
   "source": [
    "namelist"
   ]
  },
  {
   "cell_type": "code",
   "execution_count": 27,
   "id": "f99aa6fa",
   "metadata": {},
   "outputs": [],
   "source": [
    "path_list=[path_angry,path_disgust,path_fear,path_happy,path_neutral,path_sad,path_surprise]"
   ]
  },
  {
   "cell_type": "code",
   "execution_count": 28,
   "id": "879069b0",
   "metadata": {},
   "outputs": [
    {
     "data": {
      "text/plain": [
       "'img_angry'"
      ]
     },
     "execution_count": 28,
     "metadata": {},
     "output_type": "execute_result"
    }
   ],
   "source": [
    "\"img_\"+namelist[0]"
   ]
  },
  {
   "cell_type": "code",
   "execution_count": 29,
   "id": "46efb2ff",
   "metadata": {},
   "outputs": [
    {
     "data": {
      "text/plain": [
       "'C:/Users/Legion/OneDrive/Desktop/data/Facial_Emotion/Facial_Emotion/angry/'"
      ]
     },
     "execution_count": 29,
     "metadata": {},
     "output_type": "execute_result"
    }
   ],
   "source": [
    "path_list[0]"
   ]
  },
  {
   "cell_type": "code",
   "execution_count": 30,
   "id": "96805e33",
   "metadata": {},
   "outputs": [],
   "source": [
    "img_dataset=[]\n",
    "img_label=[]"
   ]
  },
  {
   "cell_type": "code",
   "execution_count": 31,
   "id": "790792bd",
   "metadata": {},
   "outputs": [],
   "source": [
    "for i in range(len(path_list)):\n",
    "     image_name = os.listdir(path_list[i])\n",
    "     for img in image_name:\n",
    "        image=cv2.imread(path_list[i]+img)\n",
    "        image=cv2.resize(image,(40,40))\n",
    "        img_dataset.append(np.array(image))\n",
    "        img_label.append(i)\n",
    "        "
   ]
  },
  {
   "cell_type": "code",
   "execution_count": 32,
   "id": "d3c1c2fb",
   "metadata": {},
   "outputs": [
    {
     "data": {
      "text/plain": [
       "28888"
      ]
     },
     "execution_count": 32,
     "metadata": {},
     "output_type": "execute_result"
    }
   ],
   "source": [
    "len(img_dataset)"
   ]
  },
  {
   "cell_type": "code",
   "execution_count": 33,
   "id": "31c70c8a",
   "metadata": {},
   "outputs": [
    {
     "data": {
      "text/plain": [
       "28888"
      ]
     },
     "execution_count": 33,
     "metadata": {},
     "output_type": "execute_result"
    }
   ],
   "source": [
    "len(img_label)"
   ]
  },
  {
   "cell_type": "code",
   "execution_count": 34,
   "id": "5a57d702",
   "metadata": {},
   "outputs": [],
   "source": [
    "img_dataset_array=np.array(img_dataset)\n",
    "img_label_array=np.array(img_label)"
   ]
  },
  {
   "cell_type": "code",
   "execution_count": 35,
   "id": "cf0a6822",
   "metadata": {},
   "outputs": [
    {
     "data": {
      "text/plain": [
       "numpy.ndarray"
      ]
     },
     "execution_count": 35,
     "metadata": {},
     "output_type": "execute_result"
    }
   ],
   "source": [
    "type(img_dataset_array)"
   ]
  },
  {
   "cell_type": "code",
   "execution_count": 36,
   "id": "a286cacd",
   "metadata": {},
   "outputs": [
    {
     "data": {
      "text/plain": [
       "numpy.ndarray"
      ]
     },
     "execution_count": 36,
     "metadata": {},
     "output_type": "execute_result"
    }
   ],
   "source": [
    "type(img_label_array)"
   ]
  },
  {
   "cell_type": "code",
   "execution_count": null,
   "id": "73158e40",
   "metadata": {},
   "outputs": [],
   "source": []
  },
  {
   "cell_type": "markdown",
   "id": "95170192",
   "metadata": {},
   "source": [
    "# Scale"
   ]
  },
  {
   "cell_type": "code",
   "execution_count": 37,
   "id": "cbf3c140",
   "metadata": {},
   "outputs": [
    {
     "data": {
      "text/plain": [
       "6"
      ]
     },
     "execution_count": 37,
     "metadata": {},
     "output_type": "execute_result"
    }
   ],
   "source": [
    "img_label_array.max()"
   ]
  },
  {
   "cell_type": "code",
   "execution_count": 38,
   "id": "611eaf2d",
   "metadata": {},
   "outputs": [
    {
     "data": {
      "text/plain": [
       "array([[[[0.28235294, 0.28235294, 0.28235294],\n",
       "         [0.30196078, 0.30196078, 0.30196078],\n",
       "         [0.29803922, 0.29803922, 0.29803922],\n",
       "         ...,\n",
       "         [0.21960784, 0.21960784, 0.21960784],\n",
       "         [0.18039216, 0.18039216, 0.18039216],\n",
       "         [0.16078431, 0.16078431, 0.16078431]],\n",
       "\n",
       "        [[0.23137255, 0.23137255, 0.23137255],\n",
       "         [0.22352941, 0.22352941, 0.22352941],\n",
       "         [0.22352941, 0.22352941, 0.22352941],\n",
       "         ...,\n",
       "         [0.20392157, 0.20392157, 0.20392157],\n",
       "         [0.20784314, 0.20784314, 0.20784314],\n",
       "         [0.18431373, 0.18431373, 0.18431373]],\n",
       "\n",
       "        [[0.16862745, 0.16862745, 0.16862745],\n",
       "         [0.18823529, 0.18823529, 0.18823529],\n",
       "         [0.23137255, 0.23137255, 0.23137255],\n",
       "         ...,\n",
       "         [0.16470588, 0.16470588, 0.16470588],\n",
       "         [0.18823529, 0.18823529, 0.18823529],\n",
       "         [0.18039216, 0.18039216, 0.18039216]],\n",
       "\n",
       "        ...,\n",
       "\n",
       "        [[0.30588235, 0.30588235, 0.30588235],\n",
       "         [0.19607843, 0.19607843, 0.19607843],\n",
       "         [0.14901961, 0.14901961, 0.14901961],\n",
       "         ...,\n",
       "         [0.30196078, 0.30196078, 0.30196078],\n",
       "         [0.23921569, 0.23921569, 0.23921569],\n",
       "         [0.21176471, 0.21176471, 0.21176471]],\n",
       "\n",
       "        [[0.31372549, 0.31372549, 0.31372549],\n",
       "         [0.28627451, 0.28627451, 0.28627451],\n",
       "         [0.25098039, 0.25098039, 0.25098039],\n",
       "         ...,\n",
       "         [0.38039216, 0.38039216, 0.38039216],\n",
       "         [0.29019608, 0.29019608, 0.29019608],\n",
       "         [0.18431373, 0.18431373, 0.18431373]],\n",
       "\n",
       "        [[0.30196078, 0.30196078, 0.30196078],\n",
       "         [0.29803922, 0.29803922, 0.29803922],\n",
       "         [0.3254902 , 0.3254902 , 0.3254902 ],\n",
       "         ...,\n",
       "         [0.4       , 0.4       , 0.4       ],\n",
       "         [0.40784314, 0.40784314, 0.40784314],\n",
       "         [0.31764706, 0.31764706, 0.31764706]]],\n",
       "\n",
       "\n",
       "       [[[0.59215686, 0.59215686, 0.59215686],\n",
       "         [0.58431373, 0.58431373, 0.58431373],\n",
       "         [0.59607843, 0.59607843, 0.59607843],\n",
       "         ...,\n",
       "         [0.48235294, 0.48235294, 0.48235294],\n",
       "         [0.53333333, 0.53333333, 0.53333333],\n",
       "         [0.48627451, 0.48627451, 0.48627451]],\n",
       "\n",
       "        [[0.58823529, 0.58823529, 0.58823529],\n",
       "         [0.59607843, 0.59607843, 0.59607843],\n",
       "         [0.58823529, 0.58823529, 0.58823529],\n",
       "         ...,\n",
       "         [0.49411765, 0.49411765, 0.49411765],\n",
       "         [0.51764706, 0.51764706, 0.51764706],\n",
       "         [0.54117647, 0.54117647, 0.54117647]],\n",
       "\n",
       "        [[0.59215686, 0.59215686, 0.59215686],\n",
       "         [0.59607843, 0.59607843, 0.59607843],\n",
       "         [0.56862745, 0.56862745, 0.56862745],\n",
       "         ...,\n",
       "         [0.56862745, 0.56862745, 0.56862745],\n",
       "         [0.45490196, 0.45490196, 0.45490196],\n",
       "         [0.54509804, 0.54509804, 0.54509804]],\n",
       "\n",
       "        ...,\n",
       "\n",
       "        [[0.74117647, 0.74117647, 0.74117647],\n",
       "         [0.55686275, 0.55686275, 0.55686275],\n",
       "         [0.45098039, 0.45098039, 0.45098039],\n",
       "         ...,\n",
       "         [0.75686275, 0.75686275, 0.75686275],\n",
       "         [0.7254902 , 0.7254902 , 0.7254902 ],\n",
       "         [0.7254902 , 0.7254902 , 0.7254902 ]],\n",
       "\n",
       "        [[0.7372549 , 0.7372549 , 0.7372549 ],\n",
       "         [0.71764706, 0.71764706, 0.71764706],\n",
       "         [0.56078431, 0.56078431, 0.56078431],\n",
       "         ...,\n",
       "         [0.74509804, 0.74509804, 0.74509804],\n",
       "         [0.71764706, 0.71764706, 0.71764706],\n",
       "         [0.7372549 , 0.7372549 , 0.7372549 ]],\n",
       "\n",
       "        [[0.72941176, 0.72941176, 0.72941176],\n",
       "         [0.7254902 , 0.7254902 , 0.7254902 ],\n",
       "         [0.7372549 , 0.7372549 , 0.7372549 ],\n",
       "         ...,\n",
       "         [0.71764706, 0.71764706, 0.71764706],\n",
       "         [0.72156863, 0.72156863, 0.72156863],\n",
       "         [0.71764706, 0.71764706, 0.71764706]]],\n",
       "\n",
       "\n",
       "       [[[0.11372549, 0.11372549, 0.11372549],\n",
       "         [0.09411765, 0.09411765, 0.09411765],\n",
       "         [0.08627451, 0.08627451, 0.08627451],\n",
       "         ...,\n",
       "         [0.16470588, 0.16470588, 0.16470588],\n",
       "         [0.16470588, 0.16470588, 0.16470588],\n",
       "         [0.14901961, 0.14901961, 0.14901961]],\n",
       "\n",
       "        [[0.11372549, 0.11372549, 0.11372549],\n",
       "         [0.08627451, 0.08627451, 0.08627451],\n",
       "         [0.07843137, 0.07843137, 0.07843137],\n",
       "         ...,\n",
       "         [0.19215686, 0.19215686, 0.19215686],\n",
       "         [0.1372549 , 0.1372549 , 0.1372549 ],\n",
       "         [0.15294118, 0.15294118, 0.15294118]],\n",
       "\n",
       "        [[0.09411765, 0.09411765, 0.09411765],\n",
       "         [0.08235294, 0.08235294, 0.08235294],\n",
       "         [0.09019608, 0.09019608, 0.09019608],\n",
       "         ...,\n",
       "         [0.22352941, 0.22352941, 0.22352941],\n",
       "         [0.1372549 , 0.1372549 , 0.1372549 ],\n",
       "         [0.14117647, 0.14117647, 0.14117647]],\n",
       "\n",
       "        ...,\n",
       "\n",
       "        [[0.10980392, 0.10980392, 0.10980392],\n",
       "         [0.10980392, 0.10980392, 0.10980392],\n",
       "         [0.11372549, 0.11372549, 0.11372549],\n",
       "         ...,\n",
       "         [0.41568627, 0.41568627, 0.41568627],\n",
       "         [0.50588235, 0.50588235, 0.50588235],\n",
       "         [0.57647059, 0.57647059, 0.57647059]],\n",
       "\n",
       "        [[0.11372549, 0.11372549, 0.11372549],\n",
       "         [0.10980392, 0.10980392, 0.10980392],\n",
       "         [0.10196078, 0.10196078, 0.10196078],\n",
       "         ...,\n",
       "         [0.56470588, 0.56470588, 0.56470588],\n",
       "         [0.58039216, 0.58039216, 0.58039216],\n",
       "         [0.61960784, 0.61960784, 0.61960784]],\n",
       "\n",
       "        [[0.1254902 , 0.1254902 , 0.1254902 ],\n",
       "         [0.11372549, 0.11372549, 0.11372549],\n",
       "         [0.09803922, 0.09803922, 0.09803922],\n",
       "         ...,\n",
       "         [0.67058824, 0.67058824, 0.67058824],\n",
       "         [0.67058824, 0.67058824, 0.67058824],\n",
       "         [0.67843137, 0.67843137, 0.67843137]]],\n",
       "\n",
       "\n",
       "       ...,\n",
       "\n",
       "\n",
       "       [[[0.94117647, 0.94117647, 0.94117647],\n",
       "         [0.84705882, 0.84705882, 0.84705882],\n",
       "         [0.80392157, 0.80392157, 0.80392157],\n",
       "         ...,\n",
       "         [0.98431373, 0.98431373, 0.98431373],\n",
       "         [0.99607843, 0.99607843, 0.99607843],\n",
       "         [0.99607843, 0.99607843, 0.99607843]],\n",
       "\n",
       "        [[0.92941176, 0.92941176, 0.92941176],\n",
       "         [0.83529412, 0.83529412, 0.83529412],\n",
       "         [0.79607843, 0.79607843, 0.79607843],\n",
       "         ...,\n",
       "         [0.97647059, 0.97647059, 0.97647059],\n",
       "         [0.98823529, 0.98823529, 0.98823529],\n",
       "         [1.        , 1.        , 1.        ]],\n",
       "\n",
       "        [[0.89803922, 0.89803922, 0.89803922],\n",
       "         [0.81960784, 0.81960784, 0.81960784],\n",
       "         [0.78039216, 0.78039216, 0.78039216],\n",
       "         ...,\n",
       "         [0.97254902, 0.97254902, 0.97254902],\n",
       "         [0.96862745, 0.96862745, 0.96862745],\n",
       "         [0.99215686, 0.99215686, 0.99215686]],\n",
       "\n",
       "        ...,\n",
       "\n",
       "        [[0.97254902, 0.97254902, 0.97254902],\n",
       "         [0.86666667, 0.86666667, 0.86666667],\n",
       "         [0.8       , 0.8       , 0.8       ],\n",
       "         ...,\n",
       "         [0.21176471, 0.21176471, 0.21176471],\n",
       "         [0.25490196, 0.25490196, 0.25490196],\n",
       "         [0.56078431, 0.56078431, 0.56078431]],\n",
       "\n",
       "        [[1.        , 1.        , 1.        ],\n",
       "         [0.98823529, 0.98823529, 0.98823529],\n",
       "         [0.96078431, 0.96078431, 0.96078431],\n",
       "         ...,\n",
       "         [0.56862745, 0.56862745, 0.56862745],\n",
       "         [0.61176471, 0.61176471, 0.61176471],\n",
       "         [0.92156863, 0.92156863, 0.92156863]],\n",
       "\n",
       "        [[1.        , 1.        , 1.        ],\n",
       "         [1.        , 1.        , 1.        ],\n",
       "         [0.99215686, 0.99215686, 0.99215686],\n",
       "         ...,\n",
       "         [0.97254902, 0.97254902, 0.97254902],\n",
       "         [0.97647059, 0.97647059, 0.97647059],\n",
       "         [0.99215686, 0.99215686, 0.99215686]]],\n",
       "\n",
       "\n",
       "       [[[0.99215686, 0.99215686, 0.99215686],\n",
       "         [0.99215686, 0.99215686, 0.99215686],\n",
       "         [0.98823529, 0.98823529, 0.98823529],\n",
       "         ...,\n",
       "         [0.99607843, 0.99607843, 0.99607843],\n",
       "         [0.99607843, 0.99607843, 0.99607843],\n",
       "         [0.99607843, 0.99607843, 0.99607843]],\n",
       "\n",
       "        [[0.99607843, 0.99607843, 0.99607843],\n",
       "         [0.99215686, 0.99215686, 0.99215686],\n",
       "         [0.98823529, 0.98823529, 0.98823529],\n",
       "         ...,\n",
       "         [0.99607843, 0.99607843, 0.99607843],\n",
       "         [0.99215686, 0.99215686, 0.99215686],\n",
       "         [0.99607843, 0.99607843, 0.99607843]],\n",
       "\n",
       "        [[0.98823529, 0.98823529, 0.98823529],\n",
       "         [0.99215686, 0.99215686, 0.99215686],\n",
       "         [0.98431373, 0.98431373, 0.98431373],\n",
       "         ...,\n",
       "         [0.99607843, 0.99607843, 0.99607843],\n",
       "         [0.99607843, 0.99607843, 0.99607843],\n",
       "         [0.99607843, 0.99607843, 0.99607843]],\n",
       "\n",
       "        ...,\n",
       "\n",
       "        [[0.99215686, 0.99215686, 0.99215686],\n",
       "         [0.99607843, 0.99607843, 0.99607843],\n",
       "         [0.99607843, 0.99607843, 0.99607843],\n",
       "         ...,\n",
       "         [0.16470588, 0.16470588, 0.16470588],\n",
       "         [0.14117647, 0.14117647, 0.14117647],\n",
       "         [0.12156863, 0.12156863, 0.12156863]],\n",
       "\n",
       "        [[0.98823529, 0.98823529, 0.98823529],\n",
       "         [0.99215686, 0.99215686, 0.99215686],\n",
       "         [0.98823529, 0.98823529, 0.98823529],\n",
       "         ...,\n",
       "         [0.14117647, 0.14117647, 0.14117647],\n",
       "         [0.09803922, 0.09803922, 0.09803922],\n",
       "         [0.09019608, 0.09019608, 0.09019608]],\n",
       "\n",
       "        [[0.98431373, 0.98431373, 0.98431373],\n",
       "         [0.98431373, 0.98431373, 0.98431373],\n",
       "         [0.98431373, 0.98431373, 0.98431373],\n",
       "         ...,\n",
       "         [0.48627451, 0.48627451, 0.48627451],\n",
       "         [0.2       , 0.2       , 0.2       ],\n",
       "         [0.07843137, 0.07843137, 0.07843137]]],\n",
       "\n",
       "\n",
       "       [[[0.83529412, 0.83529412, 0.83529412],\n",
       "         [0.84705882, 0.84705882, 0.84705882],\n",
       "         [0.84705882, 0.84705882, 0.84705882],\n",
       "         ...,\n",
       "         [0.99215686, 0.99215686, 0.99215686],\n",
       "         [0.98823529, 0.98823529, 0.98823529],\n",
       "         [0.99215686, 0.99215686, 0.99215686]],\n",
       "\n",
       "        [[0.82745098, 0.82745098, 0.82745098],\n",
       "         [0.83921569, 0.83921569, 0.83921569],\n",
       "         [0.85490196, 0.85490196, 0.85490196],\n",
       "         ...,\n",
       "         [0.99607843, 0.99607843, 0.99607843],\n",
       "         [0.98823529, 0.98823529, 0.98823529],\n",
       "         [0.98823529, 0.98823529, 0.98823529]],\n",
       "\n",
       "        [[0.84313725, 0.84313725, 0.84313725],\n",
       "         [0.84705882, 0.84705882, 0.84705882],\n",
       "         [0.8627451 , 0.8627451 , 0.8627451 ],\n",
       "         ...,\n",
       "         [0.99215686, 0.99215686, 0.99215686],\n",
       "         [0.99215686, 0.99215686, 0.99215686],\n",
       "         [0.98823529, 0.98823529, 0.98823529]],\n",
       "\n",
       "        ...,\n",
       "\n",
       "        [[0.79607843, 0.79607843, 0.79607843],\n",
       "         [0.75686275, 0.75686275, 0.75686275],\n",
       "         [0.69411765, 0.69411765, 0.69411765],\n",
       "         ...,\n",
       "         [0.99215686, 0.99215686, 0.99215686],\n",
       "         [0.98431373, 0.98431373, 0.98431373],\n",
       "         [0.98823529, 0.98823529, 0.98823529]],\n",
       "\n",
       "        [[0.81568627, 0.81568627, 0.81568627],\n",
       "         [0.74901961, 0.74901961, 0.74901961],\n",
       "         [0.75294118, 0.75294118, 0.75294118],\n",
       "         ...,\n",
       "         [0.67058824, 0.67058824, 0.67058824],\n",
       "         [0.76862745, 0.76862745, 0.76862745],\n",
       "         [0.89803922, 0.89803922, 0.89803922]],\n",
       "\n",
       "        [[0.76862745, 0.76862745, 0.76862745],\n",
       "         [0.76078431, 0.76078431, 0.76078431],\n",
       "         [0.8       , 0.8       , 0.8       ],\n",
       "         ...,\n",
       "         [0.39607843, 0.39607843, 0.39607843],\n",
       "         [0.39607843, 0.39607843, 0.39607843],\n",
       "         [0.38039216, 0.38039216, 0.38039216]]]])"
      ]
     },
     "execution_count": 38,
     "metadata": {},
     "output_type": "execute_result"
    }
   ],
   "source": [
    "img_dataset_array/255.0"
   ]
  },
  {
   "cell_type": "code",
   "execution_count": 39,
   "id": "faa10376",
   "metadata": {},
   "outputs": [],
   "source": [
    "img_dataset_scale=img_dataset_array/255.0"
   ]
  },
  {
   "cell_type": "code",
   "execution_count": 40,
   "id": "393e6433",
   "metadata": {},
   "outputs": [],
   "source": [
    "X=img_dataset_scale"
   ]
  },
  {
   "cell_type": "code",
   "execution_count": 41,
   "id": "19d3d09a",
   "metadata": {},
   "outputs": [],
   "source": [
    "y=img_label_array"
   ]
  },
  {
   "cell_type": "code",
   "execution_count": 42,
   "id": "13e16314",
   "metadata": {},
   "outputs": [],
   "source": [
    "from sklearn.model_selection import train_test_split"
   ]
  },
  {
   "cell_type": "code",
   "execution_count": 43,
   "id": "fc204a50",
   "metadata": {},
   "outputs": [],
   "source": [
    "X_train,X_test,y_train,y_test=train_test_split(X,y,test_size=0.20)\n"
   ]
  },
  {
   "cell_type": "code",
   "execution_count": 44,
   "id": "1a852df5",
   "metadata": {},
   "outputs": [
    {
     "data": {
      "text/plain": [
       "(23110, 40, 40, 3)"
      ]
     },
     "execution_count": 44,
     "metadata": {},
     "output_type": "execute_result"
    }
   ],
   "source": [
    "X_train.shape"
   ]
  },
  {
   "cell_type": "code",
   "execution_count": 45,
   "id": "09a6d975",
   "metadata": {},
   "outputs": [
    {
     "data": {
      "text/plain": [
       "(5778, 40, 40, 3)"
      ]
     },
     "execution_count": 45,
     "metadata": {},
     "output_type": "execute_result"
    }
   ],
   "source": [
    "X_test.shape"
   ]
  },
  {
   "cell_type": "code",
   "execution_count": 46,
   "id": "6beb500c",
   "metadata": {},
   "outputs": [
    {
     "data": {
      "text/plain": [
       "1.0"
      ]
     },
     "execution_count": 46,
     "metadata": {},
     "output_type": "execute_result"
    }
   ],
   "source": [
    "X_test.max()"
   ]
  },
  {
   "cell_type": "code",
   "execution_count": 47,
   "id": "997495a7",
   "metadata": {},
   "outputs": [],
   "source": [
    "smodel=Sequential()"
   ]
  },
  {
   "cell_type": "code",
   "execution_count": 48,
   "id": "51307684",
   "metadata": {},
   "outputs": [],
   "source": [
    "smodel.add(Input(shape=(40,40,3)))"
   ]
  },
  {
   "cell_type": "code",
   "execution_count": 49,
   "id": "aefa160b",
   "metadata": {},
   "outputs": [],
   "source": [
    "smodel.add(Conv2D(filters=32,kernel_size=(3,3),activation=\"relu\",strides=(1,1),padding=\"valid\"))\n",
    "smodel.add(MaxPooling2D(pool_size=(2,2),strides=2,padding=\"valid\"))\n",
    "smodel.add(Dropout(0.20))"
   ]
  },
  {
   "cell_type": "code",
   "execution_count": 50,
   "id": "9b9e7469",
   "metadata": {},
   "outputs": [],
   "source": [
    "smodel.add(Conv2D(filters=64,kernel_size=(3,3),activation=\"relu\",strides=(1,1),padding=\"valid\"))\n",
    "smodel.add(MaxPooling2D(pool_size=(2,2),strides=2,padding=\"valid\"))\n",
    "smodel.add(Dropout(0.20))"
   ]
  },
  {
   "cell_type": "code",
   "execution_count": 51,
   "id": "a333da24",
   "metadata": {},
   "outputs": [],
   "source": [
    "smodel.add(Flatten())"
   ]
  },
  {
   "cell_type": "code",
   "execution_count": 52,
   "id": "af9ed76b",
   "metadata": {},
   "outputs": [],
   "source": [
    "smodel.add(Dense(32,activation=\"relu\"))"
   ]
  },
  {
   "cell_type": "code",
   "execution_count": 53,
   "id": "e3ebbde8",
   "metadata": {},
   "outputs": [],
   "source": [
    "smodel.add(Dense(64,activation=\"relu\"))"
   ]
  },
  {
   "cell_type": "code",
   "execution_count": 54,
   "id": "868ef99c",
   "metadata": {},
   "outputs": [],
   "source": [
    "smodel.add(Dense(7,activation=\"softmax\"))"
   ]
  },
  {
   "cell_type": "code",
   "execution_count": 55,
   "id": "d98e7aa5",
   "metadata": {},
   "outputs": [
    {
     "name": "stdout",
     "output_type": "stream",
     "text": [
      "Model: \"sequential\"\n",
      "_________________________________________________________________\n",
      " Layer (type)                Output Shape              Param #   \n",
      "=================================================================\n",
      " conv2d (Conv2D)             (None, 38, 38, 32)        896       \n",
      "                                                                 \n",
      " max_pooling2d (MaxPooling2  (None, 19, 19, 32)        0         \n",
      " D)                                                              \n",
      "                                                                 \n",
      " dropout (Dropout)           (None, 19, 19, 32)        0         \n",
      "                                                                 \n",
      " conv2d_1 (Conv2D)           (None, 17, 17, 64)        18496     \n",
      "                                                                 \n",
      " max_pooling2d_1 (MaxPoolin  (None, 8, 8, 64)          0         \n",
      " g2D)                                                            \n",
      "                                                                 \n",
      " dropout_1 (Dropout)         (None, 8, 8, 64)          0         \n",
      "                                                                 \n",
      " flatten (Flatten)           (None, 4096)              0         \n",
      "                                                                 \n",
      " dense (Dense)               (None, 32)                131104    \n",
      "                                                                 \n",
      " dense_1 (Dense)             (None, 64)                2112      \n",
      "                                                                 \n",
      " dense_2 (Dense)             (None, 7)                 455       \n",
      "                                                                 \n",
      "=================================================================\n",
      "Total params: 153063 (597.90 KB)\n",
      "Trainable params: 153063 (597.90 KB)\n",
      "Non-trainable params: 0 (0.00 Byte)\n",
      "_________________________________________________________________\n"
     ]
    }
   ],
   "source": [
    "smodel.summary()"
   ]
  },
  {
   "cell_type": "code",
   "execution_count": 56,
   "id": "c5b0cbd5",
   "metadata": {},
   "outputs": [],
   "source": [
    "smodel.compile(optimizer=\"adam\",loss=\"sparse_categorical_crossentropy\",metrics=[\"accuracy\"])"
   ]
  },
  {
   "cell_type": "code",
   "execution_count": 57,
   "id": "fb5dd0c6",
   "metadata": {},
   "outputs": [
    {
     "name": "stdout",
     "output_type": "stream",
     "text": [
      "Epoch 1/10\n",
      "723/723 [==============================] - 24s 32ms/step - loss: 1.8465 - accuracy: 0.2429\n",
      "Epoch 2/10\n",
      "723/723 [==============================] - 23s 31ms/step - loss: 1.5864 - accuracy: 0.3888\n",
      "Epoch 3/10\n",
      "723/723 [==============================] - 23s 31ms/step - loss: 1.4071 - accuracy: 0.4617\n",
      "Epoch 4/10\n",
      "723/723 [==============================] - 23s 31ms/step - loss: 1.3063 - accuracy: 0.4980\n",
      "Epoch 5/10\n",
      "723/723 [==============================] - 23s 32ms/step - loss: 1.2275 - accuracy: 0.5284\n",
      "Epoch 6/10\n",
      "723/723 [==============================] - 23s 32ms/step - loss: 1.1602 - accuracy: 0.5511\n",
      "Epoch 7/10\n",
      "723/723 [==============================] - 27s 38ms/step - loss: 1.1170 - accuracy: 0.5678\n",
      "Epoch 8/10\n",
      "723/723 [==============================] - 25s 34ms/step - loss: 1.0798 - accuracy: 0.5835\n",
      "Epoch 9/10\n",
      "723/723 [==============================] - 25s 35ms/step - loss: 1.0455 - accuracy: 0.5987\n",
      "Epoch 10/10\n",
      "723/723 [==============================] - 26s 36ms/step - loss: 1.0130 - accuracy: 0.6122\n"
     ]
    },
    {
     "data": {
      "text/plain": [
       "<keras.src.callbacks.History at 0x1cd65818e80>"
      ]
     },
     "execution_count": 57,
     "metadata": {},
     "output_type": "execute_result"
    }
   ],
   "source": [
    "smodel.fit(X_train,y_train,epochs=10)"
   ]
  },
  {
   "cell_type": "code",
   "execution_count": 58,
   "id": "d90d81d4",
   "metadata": {},
   "outputs": [
    {
     "name": "stdout",
     "output_type": "stream",
     "text": [
      "181/181 [==============================] - 1s 7ms/step - loss: 1.1240 - accuracy: 0.5618\n"
     ]
    },
    {
     "data": {
      "text/plain": [
       "[1.123998761177063, 0.5617860555648804]"
      ]
     },
     "execution_count": 58,
     "metadata": {},
     "output_type": "execute_result"
    }
   ],
   "source": [
    "smodel.evaluate(X_test,y_test)"
   ]
  },
  {
   "cell_type": "code",
   "execution_count": 74,
   "id": "6e84979d",
   "metadata": {},
   "outputs": [
    {
     "data": {
      "text/plain": [
       "array([[[0.18039216, 0.18039216, 0.18039216],\n",
       "        [0.15294118, 0.15294118, 0.15294118],\n",
       "        [0.14509804, 0.14509804, 0.14509804],\n",
       "        ...,\n",
       "        [0.1372549 , 0.1372549 , 0.1372549 ],\n",
       "        [0.17254902, 0.17254902, 0.17254902],\n",
       "        [0.12156863, 0.12156863, 0.12156863]],\n",
       "\n",
       "       [[0.17254902, 0.17254902, 0.17254902],\n",
       "        [0.14509804, 0.14509804, 0.14509804],\n",
       "        [0.14901961, 0.14901961, 0.14901961],\n",
       "        ...,\n",
       "        [0.13333333, 0.13333333, 0.13333333],\n",
       "        [0.17254902, 0.17254902, 0.17254902],\n",
       "        [0.1372549 , 0.1372549 , 0.1372549 ]],\n",
       "\n",
       "       [[0.15686275, 0.15686275, 0.15686275],\n",
       "        [0.1372549 , 0.1372549 , 0.1372549 ],\n",
       "        [0.14509804, 0.14509804, 0.14509804],\n",
       "        ...,\n",
       "        [0.1372549 , 0.1372549 , 0.1372549 ],\n",
       "        [0.17647059, 0.17647059, 0.17647059],\n",
       "        [0.15686275, 0.15686275, 0.15686275]],\n",
       "\n",
       "       ...,\n",
       "\n",
       "       [[0.        , 0.        , 0.        ],\n",
       "        [0.        , 0.        , 0.        ],\n",
       "        [0.        , 0.        , 0.        ],\n",
       "        ...,\n",
       "        [0.05490196, 0.05490196, 0.05490196],\n",
       "        [0.08235294, 0.08235294, 0.08235294],\n",
       "        [0.10980392, 0.10980392, 0.10980392]],\n",
       "\n",
       "       [[0.        , 0.        , 0.        ],\n",
       "        [0.        , 0.        , 0.        ],\n",
       "        [0.        , 0.        , 0.        ],\n",
       "        ...,\n",
       "        [0.05490196, 0.05490196, 0.05490196],\n",
       "        [0.0745098 , 0.0745098 , 0.0745098 ],\n",
       "        [0.10588235, 0.10588235, 0.10588235]],\n",
       "\n",
       "       [[0.        , 0.        , 0.        ],\n",
       "        [0.        , 0.        , 0.        ],\n",
       "        [0.        , 0.        , 0.        ],\n",
       "        ...,\n",
       "        [0.05882353, 0.05882353, 0.05882353],\n",
       "        [0.07843137, 0.07843137, 0.07843137],\n",
       "        [0.09019608, 0.09019608, 0.09019608]]])"
      ]
     },
     "execution_count": 74,
     "metadata": {},
     "output_type": "execute_result"
    }
   ],
   "source": [
    "X_train[1234]"
   ]
  },
  {
   "cell_type": "code",
   "execution_count": 75,
   "id": "e785bc97",
   "metadata": {},
   "outputs": [
    {
     "data": {
      "text/plain": [
       "(23110, 40, 40, 3)"
      ]
     },
     "execution_count": 75,
     "metadata": {},
     "output_type": "execute_result"
    }
   ],
   "source": [
    "X_train.shape"
   ]
  },
  {
   "cell_type": "code",
   "execution_count": 76,
   "id": "d05655c7",
   "metadata": {},
   "outputs": [
    {
     "data": {
      "text/plain": [
       "(40, 40, 3)"
      ]
     },
     "execution_count": 76,
     "metadata": {},
     "output_type": "execute_result"
    }
   ],
   "source": [
    "X_train[1234].shape"
   ]
  },
  {
   "cell_type": "code",
   "execution_count": 77,
   "id": "f564534b",
   "metadata": {},
   "outputs": [],
   "source": [
    "p_img=X_train[1234].reshape((1,)+X_train[1234].shape)"
   ]
  },
  {
   "cell_type": "code",
   "execution_count": 78,
   "id": "d5e5e460",
   "metadata": {},
   "outputs": [
    {
     "name": "stdout",
     "output_type": "stream",
     "text": [
      "1/1 [==============================] - 0s 18ms/step\n"
     ]
    },
    {
     "data": {
      "text/plain": [
       "array([[0.27740592, 0.00108667, 0.08409794, 0.030789  , 0.2533573 ,\n",
       "        0.33205023, 0.02121289]], dtype=float32)"
      ]
     },
     "execution_count": 78,
     "metadata": {},
     "output_type": "execute_result"
    }
   ],
   "source": [
    "smodel.predict(p_img)"
   ]
  },
  {
   "cell_type": "code",
   "execution_count": 79,
   "id": "755a027d",
   "metadata": {},
   "outputs": [
    {
     "name": "stdout",
     "output_type": "stream",
     "text": [
      "1/1 [==============================] - 0s 18ms/step\n"
     ]
    },
    {
     "data": {
      "text/plain": [
       "5"
      ]
     },
     "execution_count": 79,
     "metadata": {},
     "output_type": "execute_result"
    }
   ],
   "source": [
    "np.argmax(smodel.predict(p_img))"
   ]
  },
  {
   "cell_type": "code",
   "execution_count": 81,
   "id": "5b6ed585",
   "metadata": {},
   "outputs": [
    {
     "data": {
      "text/plain": [
       "'sad'"
      ]
     },
     "execution_count": 81,
     "metadata": {},
     "output_type": "execute_result"
    }
   ],
   "source": [
    "namelist[5]"
   ]
  },
  {
   "cell_type": "code",
   "execution_count": 82,
   "id": "23b570b4",
   "metadata": {},
   "outputs": [
    {
     "data": {
      "text/plain": [
       "<matplotlib.image.AxesImage at 0x1cd6b06caf0>"
      ]
     },
     "execution_count": 82,
     "metadata": {},
     "output_type": "execute_result"
    },
    {
     "data": {
      "image/png": "[encoded data removed]",
      "text/plain": [
       "<Figure size 640x480 with 1 Axes>"
      ]
     },
     "metadata": {},
     "output_type": "display_data"
    }
   ],
   "source": [
    "plt.imshow(X_train[1234])"
   ]
  },
  {
   "cell_type": "code",
   "execution_count": 83,
   "id": "96a09fb0",
   "metadata": {},
   "outputs": [
    {
     "data": {
      "text/plain": [
       "array([[[1.        , 1.        , 1.        ],\n",
       "        [1.        , 1.        , 1.        ],\n",
       "        [0.99215686, 0.99215686, 0.99215686],\n",
       "        ...,\n",
       "        [0.89803922, 0.89803922, 0.89803922],\n",
       "        [0.97254902, 0.97254902, 0.97254902],\n",
       "        [0.99607843, 0.99607843, 0.99607843]],\n",
       "\n",
       "       [[0.99607843, 0.99607843, 0.99607843],\n",
       "        [1.        , 1.        , 1.        ],\n",
       "        [0.95294118, 0.95294118, 0.95294118],\n",
       "        ...,\n",
       "        [0.8       , 0.8       , 0.8       ],\n",
       "        [0.95294118, 0.95294118, 0.95294118],\n",
       "        [0.98823529, 0.98823529, 0.98823529]],\n",
       "\n",
       "       [[0.99607843, 0.99607843, 0.99607843],\n",
       "        [0.98823529, 0.98823529, 0.98823529],\n",
       "        [0.83921569, 0.83921569, 0.83921569],\n",
       "        ...,\n",
       "        [0.70196078, 0.70196078, 0.70196078],\n",
       "        [0.89019608, 0.89019608, 0.89019608],\n",
       "        [0.98431373, 0.98431373, 0.98431373]],\n",
       "\n",
       "       ...,\n",
       "\n",
       "       [[0.3254902 , 0.3254902 , 0.3254902 ],\n",
       "        [0.2627451 , 0.2627451 , 0.2627451 ],\n",
       "        [0.18431373, 0.18431373, 0.18431373],\n",
       "        ...,\n",
       "        [0.57647059, 0.57647059, 0.57647059],\n",
       "        [0.5372549 , 0.5372549 , 0.5372549 ],\n",
       "        [0.48627451, 0.48627451, 0.48627451]],\n",
       "\n",
       "       [[0.29019608, 0.29019608, 0.29019608],\n",
       "        [0.23921569, 0.23921569, 0.23921569],\n",
       "        [0.17647059, 0.17647059, 0.17647059],\n",
       "        ...,\n",
       "        [0.59607843, 0.59607843, 0.59607843],\n",
       "        [0.56862745, 0.56862745, 0.56862745],\n",
       "        [0.51764706, 0.51764706, 0.51764706]],\n",
       "\n",
       "       [[0.28627451, 0.28627451, 0.28627451],\n",
       "        [0.23529412, 0.23529412, 0.23529412],\n",
       "        [0.18431373, 0.18431373, 0.18431373],\n",
       "        ...,\n",
       "        [0.57647059, 0.57647059, 0.57647059],\n",
       "        [0.59607843, 0.59607843, 0.59607843],\n",
       "        [0.56470588, 0.56470588, 0.56470588]]])"
      ]
     },
     "execution_count": 83,
     "metadata": {},
     "output_type": "execute_result"
    }
   ],
   "source": [
    "X_test[1234]"
   ]
  },
  {
   "cell_type": "code",
   "execution_count": null,
   "id": "1509bf80",
   "metadata": {},
   "outputs": [],
   "source": []
  }
 ],
 "metadata": {
  "kernelspec": {
   "display_name": "Python 3 (ipykernel)",
   "language": "python",
   "name": "python3"
  },
  "language_info": {
   "codemirror_mode": {
    "name": "ipython",
    "version": 3
   },
   "file_extension": ".py",
   "mimetype": "text/x-python",
   "name": "python",
   "nbconvert_exporter": "python",
   "pygments_lexer": "ipython3",
   "version": "3.10.9"
  }
 },
 "nbformat": 4,
 "nbformat_minor": 5
}
