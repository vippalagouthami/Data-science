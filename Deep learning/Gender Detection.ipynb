{
 "cells": [
  {
   "cell_type": "code",
   "execution_count": 1,
   "id": "15f0a2cf",
   "metadata": {},
   "outputs": [],
   "source": [
    "import pandas as pd"
   ]
  },
  {
   "cell_type": "code",
   "execution_count": 2,
   "id": "76ab7cee",
   "metadata": {},
   "outputs": [],
   "source": [
    "import numpy as np"
   ]
  },
  {
   "cell_type": "code",
   "execution_count": 3,
   "id": "95929c7e",
   "metadata": {},
   "outputs": [],
   "source": [
    "import os"
   ]
  },
  {
   "cell_type": "code",
   "execution_count": 9,
   "id": "e4719f27",
   "metadata": {},
   "outputs": [],
   "source": [
    "path=\"C:/Users/Legion/OneDrive/Desktop/data/Gender/Gender/\""
   ]
  },
  {
   "cell_type": "code",
   "execution_count": 10,
   "id": "28b092d9",
   "metadata": {},
   "outputs": [],
   "source": [
    "path_female=path+\"female/\""
   ]
  },
  {
   "cell_type": "code",
   "execution_count": 11,
   "id": "f8b71435",
   "metadata": {},
   "outputs": [],
   "source": [
    "path_male=path+\"male/\""
   ]
  },
  {
   "cell_type": "code",
   "execution_count": 12,
   "id": "fc722e0a",
   "metadata": {},
   "outputs": [],
   "source": [
    "img_female=os.listdir(path_female)"
   ]
  },
  {
   "cell_type": "code",
   "execution_count": 13,
   "id": "898562e5",
   "metadata": {},
   "outputs": [
    {
     "data": {
      "text/plain": [
       "['131422.jpg.jpg',\n",
       " '131423.jpg.jpg',\n",
       " '131425.jpg.jpg',\n",
       " '131427.jpg.jpg',\n",
       " '131428.jpg.jpg',\n",
       " '131429.jpg.jpg',\n",
       " '131432.jpg.jpg',\n",
       " '131433.jpg.jpg',\n",
       " '131435.jpg.jpg',\n",
       " '131437.jpg.jpg',\n",
       " '131440.jpg.jpg',\n",
       " '131449.jpg.jpg',\n",
       " '131452.jpg.jpg',\n",
       " '131458.jpg.jpg',\n",
       " '131459.jpg.jpg',\n",
       " '131468.jpg.jpg',\n",
       " '131469.jpg.jpg',\n",
       " '131472.jpg.jpg',\n",
       " '131475.jpg.jpg',\n",
       " '131482.jpg.jpg',\n",
       " '131484.jpg.jpg',\n",
       " '131485.jpg.jpg',\n",
       " '131486.jpg.jpg',\n",
       " '131489.jpg.jpg',\n",
       " '131490.jpg.jpg',\n",
       " '131506.jpg.jpg',\n",
       " '131507.jpg.jpg',\n",
       " '131508.jpg.jpg',\n",
       " '131509.jpg.jpg',\n",
       " '131511.jpg.jpg',\n",
       " '131513.jpg.jpg',\n",
       " '131515.jpg.jpg',\n",
       " '131516.jpg.jpg',\n",
       " '131517.jpg.jpg',\n",
       " '131521.jpg.jpg',\n",
       " '131523.jpg.jpg',\n",
       " '131527.jpg.jpg',\n",
       " '131529.jpg.jpg',\n",
       " '131530.jpg.jpg',\n",
       " '131531.jpg.jpg',\n",
       " '131537.jpg.jpg',\n",
       " '131541.jpg.jpg',\n",
       " '131544.jpg.jpg',\n",
       " '131546.jpg.jpg',\n",
       " '131547.jpg.jpg',\n",
       " '131551.jpg.jpg',\n",
       " '131552.jpg.jpg',\n",
       " '131554.jpg.jpg',\n",
       " '131556.jpg.jpg',\n",
       " '131564.jpg.jpg',\n",
       " '131571.jpg.jpg',\n",
       " '131572.jpg.jpg',\n",
       " '131573.jpg.jpg',\n",
       " '131576.jpg.jpg',\n",
       " '131578.jpg.jpg',\n",
       " '131579.jpg.jpg',\n",
       " '131583.jpg.jpg',\n",
       " '131585.jpg.jpg',\n",
       " '131588.jpg.jpg',\n",
       " '131601.jpg.jpg',\n",
       " '131605.jpg.jpg',\n",
       " '131608.jpg.jpg',\n",
       " '131617.jpg.jpg',\n",
       " '131623.jpg.jpg',\n",
       " '131630.jpg.jpg',\n",
       " '131634.jpg.jpg',\n",
       " '131643.jpg.jpg',\n",
       " '131651.jpg.jpg',\n",
       " '131652.jpg.jpg',\n",
       " '131653.jpg.jpg',\n",
       " '131654.jpg.jpg',\n",
       " '131662.jpg.jpg',\n",
       " '131668.jpg.jpg',\n",
       " '131669.jpg.jpg',\n",
       " '131671.jpg.jpg',\n",
       " '131675.jpg.jpg',\n",
       " '131677.jpg.jpg',\n",
       " '131682.jpg.jpg',\n",
       " '131686.jpg.jpg',\n",
       " '131694.jpg.jpg',\n",
       " '131697.jpg.jpg',\n",
       " '131703.jpg.jpg',\n",
       " '131707.jpg.jpg',\n",
       " '131708.jpg.jpg',\n",
       " '131711.jpg.jpg',\n",
       " '131713.jpg.jpg',\n",
       " '131716.jpg.jpg',\n",
       " '131719.jpg.jpg',\n",
       " '131720.jpg.jpg',\n",
       " '131723.jpg.jpg',\n",
       " '131728.jpg.jpg',\n",
       " '131731.jpg.jpg',\n",
       " '131732.jpg.jpg',\n",
       " '131742.jpg.jpg',\n",
       " '131743.jpg.jpg',\n",
       " '131744.jpg.jpg',\n",
       " '131746.jpg.jpg',\n",
       " '131757.jpg.jpg',\n",
       " '131760.jpg.jpg',\n",
       " '131761.jpg.jpg',\n",
       " '131766.jpg.jpg',\n",
       " '131769.jpg.jpg',\n",
       " '131773.jpg.jpg',\n",
       " '131781.jpg.jpg',\n",
       " '131789.jpg.jpg',\n",
       " '131792.jpg.jpg',\n",
       " '131795.jpg.jpg',\n",
       " '131800.jpg.jpg',\n",
       " '131811.jpg.jpg',\n",
       " '131812.jpg.jpg',\n",
       " '131813.jpg.jpg',\n",
       " '131816.jpg.jpg',\n",
       " '131819.jpg.jpg',\n",
       " '131824.jpg.jpg',\n",
       " '131825.jpg.jpg',\n",
       " '131827.jpg.jpg',\n",
       " '131831.jpg.jpg',\n",
       " '131834.jpg.jpg',\n",
       " '131835.jpg.jpg',\n",
       " '131836.jpg.jpg',\n",
       " '131837.jpg.jpg',\n",
       " '131838.jpg.jpg',\n",
       " '131840.jpg.jpg',\n",
       " '131847.jpg.jpg',\n",
       " '131850.jpg.jpg',\n",
       " '131852.jpg.jpg',\n",
       " '131854.jpg.jpg',\n",
       " '131857.jpg.jpg',\n",
       " '131861.jpg.jpg',\n",
       " '131864.jpg.jpg',\n",
       " '131866.jpg.jpg',\n",
       " '131869.jpg.jpg',\n",
       " '131870.jpg.jpg',\n",
       " '131871.jpg.jpg',\n",
       " '131872.jpg.jpg',\n",
       " '131873.jpg.jpg',\n",
       " '131874.jpg.jpg',\n",
       " '131877.jpg.jpg',\n",
       " '131880.jpg.jpg',\n",
       " '131882.jpg.jpg',\n",
       " '131898.jpg.jpg',\n",
       " '131900.jpg.jpg',\n",
       " '131901.jpg.jpg',\n",
       " '131902.jpg.jpg',\n",
       " '131909.jpg.jpg',\n",
       " '131911.jpg.jpg',\n",
       " '131912.jpg.jpg',\n",
       " '131913.jpg.jpg',\n",
       " '131915.jpg.jpg',\n",
       " '131921.jpg.jpg',\n",
       " '131926.jpg.jpg',\n",
       " '131928.jpg.jpg',\n",
       " '131930.jpg.jpg',\n",
       " '131931.jpg.jpg',\n",
       " '131933.jpg.jpg',\n",
       " '131934.jpg.jpg',\n",
       " '131936.jpg.jpg',\n",
       " '131943.jpg.jpg',\n",
       " '131946.jpg.jpg',\n",
       " '131949.jpg.jpg',\n",
       " '131953.jpg.jpg',\n",
       " '131962.jpg.jpg',\n",
       " '131967.jpg.jpg',\n",
       " '131968.jpg.jpg',\n",
       " '131976.jpg.jpg',\n",
       " '131978.jpg.jpg',\n",
       " '131979.jpg.jpg',\n",
       " '131980.jpg.jpg',\n",
       " '131981.jpg.jpg',\n",
       " '131984.jpg.jpg',\n",
       " '131986.jpg.jpg',\n",
       " '131989.jpg.jpg',\n",
       " '131991.jpg.jpg',\n",
       " '131993.jpg.jpg',\n",
       " '131995.jpg.jpg',\n",
       " '132000.jpg.jpg',\n",
       " '132001.jpg.jpg',\n",
       " '132002.jpg.jpg',\n",
       " '132009.jpg.jpg',\n",
       " '132031.jpg.jpg',\n",
       " '132035.jpg.jpg',\n",
       " '132040.jpg.jpg',\n",
       " '132041.jpg.jpg',\n",
       " '132043.jpg.jpg',\n",
       " '132044.jpg.jpg',\n",
       " '132045.jpg.jpg',\n",
       " '132047.jpg.jpg',\n",
       " '132054.jpg.jpg',\n",
       " '132061.jpg.jpg',\n",
       " '132063.jpg.jpg',\n",
       " '132069.jpg.jpg',\n",
       " '132070.jpg.jpg',\n",
       " '132071.jpg.jpg',\n",
       " '132074.jpg.jpg',\n",
       " '132078.jpg.jpg',\n",
       " '132080.jpg.jpg',\n",
       " '132082.jpg.jpg',\n",
       " '132083.jpg.jpg',\n",
       " '132088.jpg.jpg',\n",
       " '132089.jpg.jpg',\n",
       " '132094.jpg.jpg',\n",
       " '132095.jpg.jpg',\n",
       " '132096.jpg.jpg',\n",
       " '132100.jpg.jpg',\n",
       " '132102.jpg.jpg',\n",
       " '132106.jpg.jpg',\n",
       " '132109.jpg.jpg',\n",
       " '132114.jpg.jpg',\n",
       " '132116.jpg.jpg',\n",
       " '132124.jpg.jpg',\n",
       " '132125.jpg.jpg',\n",
       " '132126.jpg.jpg',\n",
       " '132127.jpg.jpg',\n",
       " '132129.jpg.jpg',\n",
       " '132130.jpg.jpg',\n",
       " '132132.jpg.jpg',\n",
       " '132135.jpg.jpg',\n",
       " '132140.jpg.jpg',\n",
       " '132141.jpg.jpg',\n",
       " '132143.jpg.jpg',\n",
       " '132147.jpg.jpg',\n",
       " '132149.jpg.jpg',\n",
       " '132152.jpg.jpg',\n",
       " '132154.jpg.jpg',\n",
       " '132155.jpg.jpg',\n",
       " '132157.jpg.jpg',\n",
       " '132159.jpg.jpg',\n",
       " '132160.jpg.jpg',\n",
       " '132163.jpg.jpg',\n",
       " '132165.jpg.jpg',\n",
       " '132167.jpg.jpg',\n",
       " '132168.jpg.jpg',\n",
       " '132177.jpg.jpg',\n",
       " '132181.jpg.jpg',\n",
       " '132183.jpg.jpg',\n",
       " '132191.jpg.jpg',\n",
       " '132192.jpg.jpg',\n",
       " '132198.jpg.jpg',\n",
       " '132200.jpg.jpg',\n",
       " '132201.jpg.jpg',\n",
       " '132205.jpg.jpg',\n",
       " '132206.jpg.jpg',\n",
       " '132216.jpg.jpg',\n",
       " '132220.jpg.jpg',\n",
       " '132227.jpg.jpg',\n",
       " '132228.jpg.jpg',\n",
       " '132231.jpg.jpg',\n",
       " '132234.jpg.jpg',\n",
       " '132235.jpg.jpg',\n",
       " '132236.jpg.jpg',\n",
       " '132237.jpg.jpg',\n",
       " '132239.jpg.jpg',\n",
       " '132241.jpg.jpg',\n",
       " '132242.jpg.jpg',\n",
       " '132246.jpg.jpg',\n",
       " '132247.jpg.jpg',\n",
       " '132250.jpg.jpg',\n",
       " '132254.jpg.jpg',\n",
       " '132260.jpg.jpg',\n",
       " '132261.jpg.jpg',\n",
       " '132263.jpg.jpg',\n",
       " '132264.jpg.jpg',\n",
       " '132265.jpg.jpg',\n",
       " '132269.jpg.jpg',\n",
       " '132272.jpg.jpg',\n",
       " '132279.jpg.jpg',\n",
       " '132282.jpg.jpg',\n",
       " '132284.jpg.jpg',\n",
       " '132285.jpg.jpg',\n",
       " '132288.jpg.jpg',\n",
       " '132295.jpg.jpg',\n",
       " '132296.jpg.jpg',\n",
       " '132297.jpg.jpg',\n",
       " '132300.jpg.jpg',\n",
       " '132301.jpg.jpg',\n",
       " '132303.jpg.jpg',\n",
       " '132305.jpg.jpg',\n",
       " '132306.jpg.jpg',\n",
       " '132307.jpg.jpg',\n",
       " '132310.jpg.jpg',\n",
       " '132312.jpg.jpg',\n",
       " '132315.jpg.jpg',\n",
       " '132316.jpg.jpg',\n",
       " '132317.jpg.jpg',\n",
       " '132318.jpg.jpg',\n",
       " '132319.jpg.jpg',\n",
       " '132320.jpg.jpg',\n",
       " '132327.jpg.jpg',\n",
       " '132333.jpg.jpg',\n",
       " '132336.jpg.jpg',\n",
       " '132337.jpg.jpg',\n",
       " '132338.jpg.jpg',\n",
       " '132340.jpg.jpg',\n",
       " '132344.jpg.jpg',\n",
       " '132346.jpg.jpg',\n",
       " '132347.jpg.jpg',\n",
       " '132348.jpg.jpg',\n",
       " '132358.jpg.jpg',\n",
       " '132360.jpg.jpg',\n",
       " '132366.jpg.jpg',\n",
       " '132367.jpg.jpg',\n",
       " '132368.jpg.jpg',\n",
       " '132370.jpg.jpg',\n",
       " '132371.jpg.jpg',\n",
       " '132375.jpg.jpg',\n",
       " '132377.jpg.jpg',\n",
       " '132378.jpg.jpg',\n",
       " '132381.jpg.jpg',\n",
       " '132389.jpg.jpg',\n",
       " '132391.jpg.jpg',\n",
       " '132392.jpg.jpg',\n",
       " '132402.jpg.jpg',\n",
       " '132404.jpg.jpg',\n",
       " '132405.jpg.jpg',\n",
       " '132407.jpg.jpg',\n",
       " '132409.jpg.jpg',\n",
       " '132410.jpg.jpg',\n",
       " '132419.jpg.jpg',\n",
       " '132420.jpg.jpg',\n",
       " '132422.jpg.jpg',\n",
       " '132425.jpg.jpg',\n",
       " '132426.jpg.jpg',\n",
       " '132427.jpg.jpg',\n",
       " '132428.jpg.jpg',\n",
       " '132429.jpg.jpg',\n",
       " '132431.jpg.jpg',\n",
       " '132434.jpg.jpg',\n",
       " '132437.jpg.jpg',\n",
       " '132443.jpg.jpg',\n",
       " '132444.jpg.jpg',\n",
       " '132446.jpg.jpg',\n",
       " '132447.jpg.jpg',\n",
       " '132452.jpg.jpg',\n",
       " '132454.jpg.jpg',\n",
       " '132455.jpg.jpg',\n",
       " '132459.jpg.jpg',\n",
       " '132460.jpg.jpg',\n",
       " '132462.jpg.jpg',\n",
       " '132464.jpg.jpg',\n",
       " '132465.jpg.jpg',\n",
       " '132467.jpg.jpg',\n",
       " '132469.jpg.jpg',\n",
       " '132474.jpg.jpg',\n",
       " '132476.jpg.jpg',\n",
       " '132481.jpg.jpg',\n",
       " '132486.jpg.jpg',\n",
       " '132487.jpg.jpg',\n",
       " '132493.jpg.jpg',\n",
       " '132494.jpg.jpg',\n",
       " '132497.jpg.jpg',\n",
       " '132499.jpg.jpg',\n",
       " '132500.jpg.jpg',\n",
       " '132501.jpg.jpg',\n",
       " '132508.jpg.jpg',\n",
       " '132511.jpg.jpg',\n",
       " '132513.jpg.jpg',\n",
       " '132516.jpg.jpg',\n",
       " '132524.jpg.jpg',\n",
       " '132526.jpg.jpg',\n",
       " '132528.jpg.jpg',\n",
       " '132536.jpg.jpg',\n",
       " '132537.jpg.jpg',\n",
       " '132538.jpg.jpg',\n",
       " '132539.jpg.jpg',\n",
       " '132543.jpg.jpg',\n",
       " '132551.jpg.jpg',\n",
       " '132557.jpg.jpg',\n",
       " '132561.jpg.jpg',\n",
       " '132562.jpg.jpg',\n",
       " '132566.jpg.jpg',\n",
       " '132567.jpg.jpg',\n",
       " '132569.jpg.jpg',\n",
       " '132572.jpg.jpg',\n",
       " '132573.jpg.jpg',\n",
       " '132575.jpg.jpg',\n",
       " '132576.jpg.jpg',\n",
       " '132578.jpg.jpg',\n",
       " '132587.jpg.jpg',\n",
       " '132590.jpg.jpg',\n",
       " '132602.jpg.jpg',\n",
       " '132603.jpg.jpg',\n",
       " '132605.jpg.jpg',\n",
       " '132609.jpg.jpg',\n",
       " '132611.jpg.jpg',\n",
       " '132613.jpg.jpg',\n",
       " '132620.jpg.jpg',\n",
       " '132628.jpg.jpg',\n",
       " '132633.jpg.jpg',\n",
       " '132634.jpg.jpg',\n",
       " '132637.jpg.jpg',\n",
       " '132638.jpg.jpg',\n",
       " '132640.jpg.jpg',\n",
       " '132643.jpg.jpg',\n",
       " '132647.jpg.jpg',\n",
       " '132648.jpg.jpg',\n",
       " '132661.jpg.jpg',\n",
       " '132662.jpg.jpg',\n",
       " '132665.jpg.jpg',\n",
       " '132666.jpg.jpg',\n",
       " '132671.jpg.jpg',\n",
       " '132673.jpg.jpg',\n",
       " '132676.jpg.jpg',\n",
       " '132679.jpg.jpg',\n",
       " '132681.jpg.jpg',\n",
       " '132684.jpg.jpg',\n",
       " '132685.jpg.jpg',\n",
       " '132690.jpg.jpg',\n",
       " '132697.jpg.jpg',\n",
       " '132698.jpg.jpg',\n",
       " '132701.jpg.jpg',\n",
       " '132703.jpg.jpg',\n",
       " '132705.jpg.jpg',\n",
       " '132709.jpg.jpg',\n",
       " '132711.jpg.jpg',\n",
       " '132712.jpg.jpg',\n",
       " '132718.jpg.jpg',\n",
       " '132720.jpg.jpg',\n",
       " '132721.jpg.jpg',\n",
       " '132723.jpg.jpg',\n",
       " '132726.jpg.jpg',\n",
       " '132728.jpg.jpg',\n",
       " '132733.jpg.jpg',\n",
       " '132738.jpg.jpg',\n",
       " '132744.jpg.jpg',\n",
       " '132749.jpg.jpg',\n",
       " '132753.jpg.jpg',\n",
       " '132754.jpg.jpg',\n",
       " '132756.jpg.jpg',\n",
       " '132759.jpg.jpg',\n",
       " '132761.jpg.jpg',\n",
       " '132764.jpg.jpg',\n",
       " '132765.jpg.jpg',\n",
       " '132769.jpg.jpg',\n",
       " '132776.jpg.jpg',\n",
       " '132777.jpg.jpg',\n",
       " '132778.jpg.jpg',\n",
       " '132779.jpg.jpg',\n",
       " '132781.jpg.jpg',\n",
       " '132783.jpg.jpg',\n",
       " '132789.jpg.jpg',\n",
       " '132791.jpg.jpg',\n",
       " '132792.jpg.jpg',\n",
       " '132793.jpg.jpg',\n",
       " '132798.jpg.jpg',\n",
       " '132800.jpg.jpg',\n",
       " '132803.jpg.jpg',\n",
       " '132804.jpg.jpg',\n",
       " '132805.jpg.jpg',\n",
       " '132806.jpg.jpg',\n",
       " '132809.jpg.jpg',\n",
       " '132812.jpg.jpg',\n",
       " '132818.jpg.jpg',\n",
       " '132823.jpg.jpg',\n",
       " '132826.jpg.jpg',\n",
       " '132828.jpg.jpg',\n",
       " '132829.jpg.jpg',\n",
       " '132830.jpg.jpg',\n",
       " '132831.jpg.jpg',\n",
       " '132832.jpg.jpg',\n",
       " '132834.jpg.jpg',\n",
       " '132836.jpg.jpg',\n",
       " '132837.jpg.jpg',\n",
       " '132838.jpg.jpg',\n",
       " '132839.jpg.jpg',\n",
       " '132842.jpg.jpg',\n",
       " '132851.jpg.jpg',\n",
       " '132852.jpg.jpg',\n",
       " '132853.jpg.jpg',\n",
       " '132857.jpg.jpg',\n",
       " '132867.jpg.jpg',\n",
       " '132870.jpg.jpg',\n",
       " '132871.jpg.jpg',\n",
       " '132873.jpg.jpg',\n",
       " '132874.jpg.jpg',\n",
       " '132880.jpg.jpg',\n",
       " '132881.jpg.jpg',\n",
       " '132886.jpg.jpg',\n",
       " '132887.jpg.jpg',\n",
       " '132888.jpg.jpg',\n",
       " '132889.jpg.jpg',\n",
       " '132890.jpg.jpg',\n",
       " '132894.jpg.jpg',\n",
       " '132903.jpg.jpg',\n",
       " '132904.jpg.jpg',\n",
       " '132907.jpg.jpg',\n",
       " '132909.jpg.jpg',\n",
       " '132913.jpg.jpg',\n",
       " '132914.jpg.jpg',\n",
       " '132920.jpg.jpg',\n",
       " '132935.jpg.jpg',\n",
       " '132937.jpg.jpg',\n",
       " '132942.jpg.jpg',\n",
       " '132945.jpg.jpg',\n",
       " '132948.jpg.jpg',\n",
       " '132954.jpg.jpg',\n",
       " '132957.jpg.jpg',\n",
       " '132963.jpg.jpg',\n",
       " '132968.jpg.jpg',\n",
       " '132970.jpg.jpg',\n",
       " '132971.jpg.jpg',\n",
       " '132974.jpg.jpg',\n",
       " '132979.jpg.jpg',\n",
       " '132983.jpg.jpg',\n",
       " '132984.jpg.jpg',\n",
       " '132988.jpg.jpg',\n",
       " '132990.jpg.jpg',\n",
       " '132994.jpg.jpg',\n",
       " '132997.jpg.jpg',\n",
       " '133000.jpg.jpg',\n",
       " '133001.jpg.jpg',\n",
       " '133004.jpg.jpg',\n",
       " '133006.jpg.jpg',\n",
       " '133010.jpg.jpg',\n",
       " '133015.jpg.jpg',\n",
       " '133016.jpg.jpg',\n",
       " '133017.jpg.jpg',\n",
       " '133024.jpg.jpg',\n",
       " '133031.jpg.jpg',\n",
       " '133035.jpg.jpg',\n",
       " '133038.jpg.jpg',\n",
       " '133040.jpg.jpg',\n",
       " '133043.jpg.jpg',\n",
       " '133044.jpg.jpg',\n",
       " '133045.jpg.jpg',\n",
       " '133046.jpg.jpg',\n",
       " '133058.jpg.jpg',\n",
       " '133060.jpg.jpg',\n",
       " '133061.jpg.jpg',\n",
       " '133063.jpg.jpg',\n",
       " '133069.jpg.jpg',\n",
       " '133070.jpg.jpg',\n",
       " '133071.jpg.jpg',\n",
       " '133073.jpg.jpg',\n",
       " '133079.jpg.jpg',\n",
       " '133080.jpg.jpg',\n",
       " '133082.jpg.jpg',\n",
       " '133085.jpg.jpg',\n",
       " '133091.jpg.jpg',\n",
       " '133093.jpg.jpg',\n",
       " '133094.jpg.jpg',\n",
       " '133096.jpg.jpg',\n",
       " '133100.jpg.jpg',\n",
       " '133102.jpg.jpg',\n",
       " '133104.jpg.jpg',\n",
       " '133106.jpg.jpg',\n",
       " '133107.jpg.jpg',\n",
       " '133110.jpg.jpg',\n",
       " '133112.jpg.jpg',\n",
       " '133113.jpg.jpg',\n",
       " '133116.jpg.jpg',\n",
       " '133117.jpg.jpg',\n",
       " '133118.jpg.jpg',\n",
       " '133119.jpg.jpg',\n",
       " '133129.jpg.jpg',\n",
       " '133130.jpg.jpg',\n",
       " '133132.jpg.jpg',\n",
       " '133134.jpg.jpg',\n",
       " '133139.jpg.jpg',\n",
       " '133146.jpg.jpg',\n",
       " '133149.jpg.jpg',\n",
       " '133157.jpg.jpg',\n",
       " '133158.jpg.jpg',\n",
       " '133162.jpg.jpg',\n",
       " '133164.jpg.jpg',\n",
       " '133166.jpg.jpg',\n",
       " '133169.jpg.jpg',\n",
       " '133175.jpg.jpg',\n",
       " '133176.jpg.jpg',\n",
       " '133186.jpg.jpg',\n",
       " '133187.jpg.jpg',\n",
       " '133201.jpg.jpg',\n",
       " '133205.jpg.jpg',\n",
       " '133209.jpg.jpg',\n",
       " '133211.jpg.jpg',\n",
       " '133212.jpg.jpg',\n",
       " '133218.jpg.jpg',\n",
       " '133224.jpg.jpg',\n",
       " '133233.jpg.jpg',\n",
       " '133236.jpg.jpg',\n",
       " '133240.jpg.jpg',\n",
       " '133245.jpg.jpg',\n",
       " '133246.jpg.jpg',\n",
       " '133248.jpg.jpg',\n",
       " '133249.jpg.jpg',\n",
       " '133250.jpg.jpg',\n",
       " '133251.jpg.jpg',\n",
       " '133263.jpg.jpg',\n",
       " '133264.jpg.jpg',\n",
       " '133265.jpg.jpg',\n",
       " '133266.jpg.jpg',\n",
       " '133269.jpg.jpg',\n",
       " '133273.jpg.jpg',\n",
       " '133275.jpg.jpg',\n",
       " '133279.jpg.jpg',\n",
       " '133281.jpg.jpg',\n",
       " '133282.jpg.jpg',\n",
       " '133284.jpg.jpg',\n",
       " '133285.jpg.jpg',\n",
       " '133286.jpg.jpg',\n",
       " '133287.jpg.jpg',\n",
       " '133288.jpg.jpg',\n",
       " '133292.jpg.jpg',\n",
       " '133297.jpg.jpg',\n",
       " '133298.jpg.jpg',\n",
       " '133302.jpg.jpg',\n",
       " '133310.jpg.jpg',\n",
       " '133316.jpg.jpg',\n",
       " '133319.jpg.jpg',\n",
       " '133321.jpg.jpg',\n",
       " '133331.jpg.jpg',\n",
       " '133334.jpg.jpg',\n",
       " '133341.jpg.jpg',\n",
       " '133346.jpg.jpg',\n",
       " '133349.jpg.jpg',\n",
       " '133356.jpg.jpg',\n",
       " '133372.jpg.jpg',\n",
       " '133373.jpg.jpg',\n",
       " '133376.jpg.jpg',\n",
       " '133377.jpg.jpg',\n",
       " '133381.jpg.jpg',\n",
       " '133383.jpg.jpg',\n",
       " '133384.jpg.jpg',\n",
       " '133385.jpg.jpg',\n",
       " '133386.jpg.jpg',\n",
       " '133393.jpg.jpg',\n",
       " '133398.jpg.jpg',\n",
       " '133399.jpg.jpg',\n",
       " '133400.jpg.jpg',\n",
       " '133401.jpg.jpg',\n",
       " '133410.jpg.jpg',\n",
       " '133414.jpg.jpg',\n",
       " '133415.jpg.jpg',\n",
       " '133421.jpg.jpg',\n",
       " '133426.jpg.jpg',\n",
       " '133428.jpg.jpg',\n",
       " '133432.jpg.jpg',\n",
       " '133434.jpg.jpg',\n",
       " '133438.jpg.jpg',\n",
       " '133442.jpg.jpg',\n",
       " '133448.jpg.jpg',\n",
       " '133452.jpg.jpg',\n",
       " '133457.jpg.jpg',\n",
       " '133459.jpg.jpg',\n",
       " '133469.jpg.jpg',\n",
       " '133472.jpg.jpg',\n",
       " '133481.jpg.jpg',\n",
       " '133484.jpg.jpg',\n",
       " '133485.jpg.jpg',\n",
       " '133486.jpg.jpg',\n",
       " '133487.jpg.jpg',\n",
       " '133488.jpg.jpg',\n",
       " '133490.jpg.jpg',\n",
       " '133492.jpg.jpg',\n",
       " '133495.jpg.jpg',\n",
       " '133497.jpg.jpg',\n",
       " '133498.jpg.jpg',\n",
       " '133502.jpg.jpg',\n",
       " '133503.jpg.jpg',\n",
       " '133506.jpg.jpg',\n",
       " '133509.jpg.jpg',\n",
       " '133511.jpg.jpg',\n",
       " '133512.jpg.jpg',\n",
       " '133515.jpg.jpg',\n",
       " '133520.jpg.jpg',\n",
       " '133528.jpg.jpg',\n",
       " '133529.jpg.jpg',\n",
       " '133530.jpg.jpg',\n",
       " '133532.jpg.jpg',\n",
       " '133535.jpg.jpg',\n",
       " '133543.jpg.jpg',\n",
       " '133544.jpg.jpg',\n",
       " '133546.jpg.jpg',\n",
       " '133550.jpg.jpg',\n",
       " '133553.jpg.jpg',\n",
       " '133554.jpg.jpg',\n",
       " '133555.jpg.jpg',\n",
       " '133556.jpg.jpg',\n",
       " '133559.jpg.jpg',\n",
       " '133560.jpg.jpg',\n",
       " '133562.jpg.jpg',\n",
       " '133563.jpg.jpg',\n",
       " '133564.jpg.jpg',\n",
       " '133566.jpg.jpg',\n",
       " '133567.jpg.jpg',\n",
       " '133570.jpg.jpg',\n",
       " '133572.jpg.jpg',\n",
       " '133579.jpg.jpg',\n",
       " '133581.jpg.jpg',\n",
       " '133589.jpg.jpg',\n",
       " '133592.jpg.jpg',\n",
       " '133595.jpg.jpg',\n",
       " '133598.jpg.jpg',\n",
       " '133601.jpg.jpg',\n",
       " '133602.jpg.jpg',\n",
       " '133604.jpg.jpg',\n",
       " '133606.jpg.jpg',\n",
       " '133609.jpg.jpg',\n",
       " '133613.jpg.jpg',\n",
       " '133615.jpg.jpg',\n",
       " '133616.jpg.jpg',\n",
       " '133617.jpg.jpg',\n",
       " '133619.jpg.jpg',\n",
       " '133623.jpg.jpg',\n",
       " '133624.jpg.jpg',\n",
       " '133628.jpg.jpg',\n",
       " '133630.jpg.jpg',\n",
       " '133632.jpg.jpg',\n",
       " '133635.jpg.jpg',\n",
       " '133636.jpg.jpg',\n",
       " '133637.jpg.jpg',\n",
       " '133646.jpg.jpg',\n",
       " '133647.jpg.jpg',\n",
       " '133648.jpg.jpg',\n",
       " '133650.jpg.jpg',\n",
       " '133651.jpg.jpg',\n",
       " '133652.jpg.jpg',\n",
       " '133653.jpg.jpg',\n",
       " '133657.jpg.jpg',\n",
       " '133658.jpg.jpg',\n",
       " '133663.jpg.jpg',\n",
       " '133668.jpg.jpg',\n",
       " '133669.jpg.jpg',\n",
       " '133670.jpg.jpg',\n",
       " '133674.jpg.jpg',\n",
       " '133675.jpg.jpg',\n",
       " '133677.jpg.jpg',\n",
       " '133680.jpg.jpg',\n",
       " '133681.jpg.jpg',\n",
       " '133682.jpg.jpg',\n",
       " '133685.jpg.jpg',\n",
       " '133687.jpg.jpg',\n",
       " '133692.jpg.jpg',\n",
       " '133695.jpg.jpg',\n",
       " '133697.jpg.jpg',\n",
       " '133703.jpg.jpg',\n",
       " '133705.jpg.jpg',\n",
       " '133707.jpg.jpg',\n",
       " '133708.jpg.jpg',\n",
       " '133714.jpg.jpg',\n",
       " '133728.jpg.jpg',\n",
       " '133731.jpg.jpg',\n",
       " '133733.jpg.jpg',\n",
       " '133735.jpg.jpg',\n",
       " '133736.jpg.jpg',\n",
       " '133739.jpg.jpg',\n",
       " '133743.jpg.jpg',\n",
       " '133746.jpg.jpg',\n",
       " '133747.jpg.jpg',\n",
       " '133748.jpg.jpg',\n",
       " '133749.jpg.jpg',\n",
       " '133751.jpg.jpg',\n",
       " '133752.jpg.jpg',\n",
       " '133755.jpg.jpg',\n",
       " '133758.jpg.jpg',\n",
       " '133760.jpg.jpg',\n",
       " '133765.jpg.jpg',\n",
       " '133767.jpg.jpg',\n",
       " '133769.jpg.jpg',\n",
       " '133771.jpg.jpg',\n",
       " '133777.jpg.jpg',\n",
       " '133779.jpg.jpg',\n",
       " '133781.jpg.jpg',\n",
       " '133790.jpg.jpg',\n",
       " '133791.jpg.jpg',\n",
       " '133792.jpg.jpg',\n",
       " '133794.jpg.jpg',\n",
       " '133795.jpg.jpg',\n",
       " '133796.jpg.jpg',\n",
       " '133799.jpg.jpg',\n",
       " '133801.jpg.jpg',\n",
       " '133806.jpg.jpg',\n",
       " '133811.jpg.jpg',\n",
       " '133812.jpg.jpg',\n",
       " '133819.jpg.jpg',\n",
       " '133820.jpg.jpg',\n",
       " '133821.jpg.jpg',\n",
       " '133825.jpg.jpg',\n",
       " '133832.jpg.jpg',\n",
       " '133837.jpg.jpg',\n",
       " '133838.jpg.jpg',\n",
       " '133842.jpg.jpg',\n",
       " '133847.jpg.jpg',\n",
       " '133848.jpg.jpg',\n",
       " '133851.jpg.jpg',\n",
       " '133855.jpg.jpg',\n",
       " '133856.jpg.jpg',\n",
       " '133861.jpg.jpg',\n",
       " '133863.jpg.jpg',\n",
       " '133865.jpg.jpg',\n",
       " '133872.jpg.jpg',\n",
       " '133874.jpg.jpg',\n",
       " '133875.jpg.jpg',\n",
       " '133877.jpg.jpg',\n",
       " '133879.jpg.jpg',\n",
       " '133892.jpg.jpg',\n",
       " '133894.jpg.jpg',\n",
       " '133895.jpg.jpg',\n",
       " '133900.jpg.jpg',\n",
       " '133902.jpg.jpg',\n",
       " '133905.jpg.jpg',\n",
       " '133906.jpg.jpg',\n",
       " '133908.jpg.jpg',\n",
       " '133916.jpg.jpg',\n",
       " '133917.jpg.jpg',\n",
       " '133919.jpg.jpg',\n",
       " '133921.jpg.jpg',\n",
       " '133923.jpg.jpg',\n",
       " '133926.jpg.jpg',\n",
       " '133937.jpg.jpg',\n",
       " '133938.jpg.jpg',\n",
       " '133944.jpg.jpg',\n",
       " '133945.jpg.jpg',\n",
       " '133946.jpg.jpg',\n",
       " '133947.jpg.jpg',\n",
       " '133948.jpg.jpg',\n",
       " '133950.jpg.jpg',\n",
       " '133951.jpg.jpg',\n",
       " '133952.jpg.jpg',\n",
       " '133954.jpg.jpg',\n",
       " '133956.jpg.jpg',\n",
       " '133957.jpg.jpg',\n",
       " '133966.jpg.jpg',\n",
       " '133967.jpg.jpg',\n",
       " '133968.jpg.jpg',\n",
       " '133969.jpg.jpg',\n",
       " '133970.jpg.jpg',\n",
       " '133971.jpg.jpg',\n",
       " '133975.jpg.jpg',\n",
       " '133979.jpg.jpg',\n",
       " '133982.jpg.jpg',\n",
       " '133984.jpg.jpg',\n",
       " '133986.jpg.jpg',\n",
       " '133992.jpg.jpg',\n",
       " '133993.jpg.jpg',\n",
       " '133994.jpg.jpg',\n",
       " '133995.jpg.jpg',\n",
       " '133997.jpg.jpg',\n",
       " '134004.jpg.jpg',\n",
       " '134005.jpg.jpg',\n",
       " '134008.jpg.jpg',\n",
       " '134011.jpg.jpg',\n",
       " '134012.jpg.jpg',\n",
       " '134013.jpg.jpg',\n",
       " '134024.jpg.jpg',\n",
       " '134025.jpg.jpg',\n",
       " '134029.jpg.jpg',\n",
       " '134033.jpg.jpg',\n",
       " '134034.jpg.jpg',\n",
       " '134037.jpg.jpg',\n",
       " '134040.jpg.jpg',\n",
       " '134044.jpg.jpg',\n",
       " '134045.jpg.jpg',\n",
       " '134047.jpg.jpg',\n",
       " '134051.jpg.jpg',\n",
       " '134054.jpg.jpg',\n",
       " '134055.jpg.jpg',\n",
       " '134057.jpg.jpg',\n",
       " '134059.jpg.jpg',\n",
       " '134068.jpg.jpg',\n",
       " '134069.jpg.jpg',\n",
       " '134073.jpg.jpg',\n",
       " '134075.jpg.jpg',\n",
       " '134077.jpg.jpg',\n",
       " '134078.jpg.jpg',\n",
       " '134081.jpg.jpg',\n",
       " '134083.jpg.jpg',\n",
       " '134084.jpg.jpg',\n",
       " '134087.jpg.jpg',\n",
       " '134088.jpg.jpg',\n",
       " '134091.jpg.jpg',\n",
       " '134101.jpg.jpg',\n",
       " '134102.jpg.jpg',\n",
       " '134103.jpg.jpg',\n",
       " '134104.jpg.jpg',\n",
       " '134106.jpg.jpg',\n",
       " '134107.jpg.jpg',\n",
       " '134108.jpg.jpg',\n",
       " '134109.jpg.jpg',\n",
       " '134110.jpg.jpg',\n",
       " '134112.jpg.jpg',\n",
       " '134126.jpg.jpg',\n",
       " '134127.jpg.jpg',\n",
       " '134128.jpg.jpg',\n",
       " '134132.jpg.jpg',\n",
       " '134133.jpg.jpg',\n",
       " '134134.jpg.jpg',\n",
       " '134137.jpg.jpg',\n",
       " '134138.jpg.jpg',\n",
       " '134139.jpg.jpg',\n",
       " '134142.jpg.jpg',\n",
       " '134145.jpg.jpg',\n",
       " '134148.jpg.jpg',\n",
       " '134149.jpg.jpg',\n",
       " '134150.jpg.jpg',\n",
       " '134158.jpg.jpg',\n",
       " '134160.jpg.jpg',\n",
       " '134164.jpg.jpg',\n",
       " '134165.jpg.jpg',\n",
       " '134167.jpg.jpg',\n",
       " '134169.jpg.jpg',\n",
       " '134177.jpg.jpg',\n",
       " '134179.jpg.jpg',\n",
       " '134180.jpg.jpg',\n",
       " '134185.jpg.jpg',\n",
       " '134189.jpg.jpg',\n",
       " '134190.jpg.jpg',\n",
       " '134191.jpg.jpg',\n",
       " '134199.jpg.jpg',\n",
       " '134202.jpg.jpg',\n",
       " '134204.jpg.jpg',\n",
       " '134205.jpg.jpg',\n",
       " '134211.jpg.jpg',\n",
       " '134212.jpg.jpg',\n",
       " '134217.jpg.jpg',\n",
       " '134218.jpg.jpg',\n",
       " '134220.jpg.jpg',\n",
       " '134221.jpg.jpg',\n",
       " '134223.jpg.jpg',\n",
       " '134226.jpg.jpg',\n",
       " '134227.jpg.jpg',\n",
       " '134228.jpg.jpg',\n",
       " '134229.jpg.jpg',\n",
       " '134234.jpg.jpg',\n",
       " '134236.jpg.jpg',\n",
       " '134237.jpg.jpg',\n",
       " '134241.jpg.jpg',\n",
       " '134244.jpg.jpg',\n",
       " '134248.jpg.jpg',\n",
       " '134250.jpg.jpg',\n",
       " '134255.jpg.jpg',\n",
       " '134262.jpg.jpg',\n",
       " '134264.jpg.jpg',\n",
       " '134273.jpg.jpg',\n",
       " '134285.jpg.jpg',\n",
       " '134286.jpg.jpg',\n",
       " '134294.jpg.jpg',\n",
       " '134296.jpg.jpg',\n",
       " '134299.jpg.jpg',\n",
       " '134303.jpg.jpg',\n",
       " '134306.jpg.jpg',\n",
       " '134307.jpg.jpg',\n",
       " '134308.jpg.jpg',\n",
       " '134313.jpg.jpg',\n",
       " '134318.jpg.jpg',\n",
       " '134319.jpg.jpg',\n",
       " '134320.jpg.jpg',\n",
       " '134324.jpg.jpg',\n",
       " '134330.jpg.jpg',\n",
       " '134331.jpg.jpg',\n",
       " '134335.jpg.jpg',\n",
       " '134336.jpg.jpg',\n",
       " '134337.jpg.jpg',\n",
       " '134340.jpg.jpg',\n",
       " '134341.jpg.jpg',\n",
       " '134345.jpg.jpg',\n",
       " '134346.jpg.jpg',\n",
       " '134348.jpg.jpg',\n",
       " '134349.jpg.jpg',\n",
       " '134352.jpg.jpg',\n",
       " '134353.jpg.jpg',\n",
       " '134357.jpg.jpg',\n",
       " '134358.jpg.jpg',\n",
       " '134362.jpg.jpg',\n",
       " '134363.jpg.jpg',\n",
       " '134364.jpg.jpg',\n",
       " '134367.jpg.jpg',\n",
       " '134378.jpg.jpg',\n",
       " '134384.jpg.jpg',\n",
       " '134385.jpg.jpg',\n",
       " '134386.jpg.jpg',\n",
       " '134390.jpg.jpg',\n",
       " '134392.jpg.jpg',\n",
       " '134393.jpg.jpg',\n",
       " '134394.jpg.jpg',\n",
       " '134399.jpg.jpg',\n",
       " '134402.jpg.jpg',\n",
       " '134410.jpg.jpg',\n",
       " '134412.jpg.jpg',\n",
       " '134417.jpg.jpg',\n",
       " '134419.jpg.jpg',\n",
       " '134422.jpg.jpg',\n",
       " '134428.jpg.jpg',\n",
       " '134433.jpg.jpg',\n",
       " '134435.jpg.jpg',\n",
       " '134444.jpg.jpg',\n",
       " '134446.jpg.jpg',\n",
       " '134447.jpg.jpg',\n",
       " '134449.jpg.jpg',\n",
       " '134456.jpg.jpg',\n",
       " '134457.jpg.jpg',\n",
       " '134467.jpg.jpg',\n",
       " '134468.jpg.jpg',\n",
       " '134472.jpg.jpg',\n",
       " '134474.jpg.jpg',\n",
       " '134485.jpg.jpg',\n",
       " '134486.jpg.jpg',\n",
       " '134493.jpg.jpg',\n",
       " '134496.jpg.jpg',\n",
       " '134498.jpg.jpg',\n",
       " '134499.jpg.jpg',\n",
       " ...]"
      ]
     },
     "execution_count": 13,
     "metadata": {},
     "output_type": "execute_result"
    }
   ],
   "source": [
    "img_female"
   ]
  },
  {
   "cell_type": "code",
   "execution_count": 14,
   "id": "97095525",
   "metadata": {},
   "outputs": [],
   "source": [
    "import matplotlib.pyplot as plt"
   ]
  },
  {
   "cell_type": "code",
   "execution_count": 15,
   "id": "7b750121",
   "metadata": {},
   "outputs": [],
   "source": [
    "img=plt.imread(path_female+img_female[0])"
   ]
  },
  {
   "cell_type": "code",
   "execution_count": 16,
   "id": "903bee4b",
   "metadata": {},
   "outputs": [
    {
     "data": {
      "text/plain": [
       "array([[[39, 39, 37],\n",
       "        [44, 44, 42],\n",
       "        [45, 45, 43],\n",
       "        ...,\n",
       "        [53, 53, 55],\n",
       "        [56, 56, 58],\n",
       "        [43, 43, 45]],\n",
       "\n",
       "       [[34, 34, 32],\n",
       "        [34, 34, 32],\n",
       "        [30, 30, 28],\n",
       "        ...,\n",
       "        [56, 56, 58],\n",
       "        [51, 51, 53],\n",
       "        [65, 65, 67]],\n",
       "\n",
       "       [[29, 29, 27],\n",
       "        [34, 34, 32],\n",
       "        [30, 30, 28],\n",
       "        ...,\n",
       "        [62, 62, 64],\n",
       "        [57, 57, 59],\n",
       "        [65, 65, 67]],\n",
       "\n",
       "       ...,\n",
       "\n",
       "       [[16, 28, 18],\n",
       "        [10, 20, 11],\n",
       "        [ 9, 16,  8],\n",
       "        ...,\n",
       "        [14, 16, 15],\n",
       "        [21, 23, 22],\n",
       "        [24, 26, 25]],\n",
       "\n",
       "       [[16, 24, 13],\n",
       "        [ 9, 17,  6],\n",
       "        [ 9, 14,  7],\n",
       "        ...,\n",
       "        [19, 19, 21],\n",
       "        [16, 16, 18],\n",
       "        [12, 12, 14]],\n",
       "\n",
       "       [[16, 24, 13],\n",
       "        [ 9, 17,  6],\n",
       "        [ 9, 14,  7],\n",
       "        ...,\n",
       "        [20, 20, 22],\n",
       "        [18, 18, 20],\n",
       "        [15, 15, 17]]], dtype=uint8)"
      ]
     },
     "execution_count": 16,
     "metadata": {},
     "output_type": "execute_result"
    }
   ],
   "source": [
    "img"
   ]
  },
  {
   "cell_type": "code",
   "execution_count": 17,
   "id": "17f6b4b4",
   "metadata": {},
   "outputs": [
    {
     "data": {
      "text/plain": [
       "<matplotlib.image.AxesImage at 0x24768c47970>"
      ]
     },
     "execution_count": 17,
     "metadata": {},
     "output_type": "execute_result"
    },
    {
     "data": {
      "image/png": "[encoded data removed]",
      "text/plain": [
       "<Figure size 640x480 with 1 Axes>"
      ]
     },
     "metadata": {},
     "output_type": "display_data"
    }
   ],
   "source": [
    "plt.imshow(img)"
   ]
  },
  {
   "cell_type": "code",
   "execution_count": 19,
   "id": "dab02d6c",
   "metadata": {},
   "outputs": [],
   "source": [
    "img_male=os.listdir(path_male)"
   ]
  },
  {
   "cell_type": "code",
   "execution_count": 21,
   "id": "6274b53a",
   "metadata": {},
   "outputs": [],
   "source": [
    "img1=plt.imread(path_male+img_male[0])"
   ]
  },
  {
   "cell_type": "code",
   "execution_count": 22,
   "id": "186c8f87",
   "metadata": {},
   "outputs": [
    {
     "data": {
      "text/plain": [
       "array([[[ 28,   7,   4],\n",
       "        [ 27,   6,   3],\n",
       "        [ 25,   6,   2],\n",
       "        ...,\n",
       "        [ 54,  33,  14],\n",
       "        [ 58,  37,  18],\n",
       "        [ 52,  29,  11]],\n",
       "\n",
       "       [[ 28,   7,   4],\n",
       "        [ 27,   6,   3],\n",
       "        [ 25,   6,   2],\n",
       "        ...,\n",
       "        [ 57,  34,  16],\n",
       "        [ 57,  34,  16],\n",
       "        [ 55,  32,  14]],\n",
       "\n",
       "       [[ 27,   6,   5],\n",
       "        [ 26,   6,   5],\n",
       "        [ 23,   5,   1],\n",
       "        ...,\n",
       "        [ 52,  26,   9],\n",
       "        [ 58,  32,  15],\n",
       "        [ 66,  40,  23]],\n",
       "\n",
       "       ...,\n",
       "\n",
       "       [[185, 128, 135],\n",
       "        [178, 117, 124],\n",
       "        [179, 114, 120],\n",
       "        ...,\n",
       "        [  2,   0,   1],\n",
       "        [  1,   1,   1],\n",
       "        [  0,   0,   0]],\n",
       "\n",
       "       [[183, 126, 133],\n",
       "        [179, 120, 126],\n",
       "        [181, 119, 124],\n",
       "        ...,\n",
       "        [  1,   0,   0],\n",
       "        [  1,   1,   1],\n",
       "        [  0,   0,   0]],\n",
       "\n",
       "       [[181, 126, 132],\n",
       "        [179, 122, 128],\n",
       "        [184, 123, 128],\n",
       "        ...,\n",
       "        [  1,   0,   0],\n",
       "        [  0,   0,   0],\n",
       "        [  0,   0,   0]]], dtype=uint8)"
      ]
     },
     "execution_count": 22,
     "metadata": {},
     "output_type": "execute_result"
    }
   ],
   "source": [
    "img1"
   ]
  },
  {
   "cell_type": "code",
   "execution_count": 24,
   "id": "2037b779",
   "metadata": {},
   "outputs": [
    {
     "data": {
      "text/plain": [
       "<matplotlib.image.AxesImage at 0x2476b775030>"
      ]
     },
     "execution_count": 24,
     "metadata": {},
     "output_type": "execute_result"
    },
    {
     "data": {
      "image/png": "[encoded data removed]",
      "text/plain": [
       "<Figure size 640x480 with 1 Axes>"
      ]
     },
     "metadata": {},
     "output_type": "display_data"
    }
   ],
   "source": [
    "plt.imshow(img1)"
   ]
  },
  {
   "cell_type": "code",
   "execution_count": 25,
   "id": "eb9b0f8f",
   "metadata": {},
   "outputs": [],
   "source": [
    "import cv2"
   ]
  },
  {
   "cell_type": "code",
   "execution_count": null,
   "id": "4bd2d375",
   "metadata": {},
   "outputs": [],
   "source": []
  },
  {
   "cell_type": "code",
   "execution_count": 29,
   "id": "e572bc95",
   "metadata": {},
   "outputs": [],
   "source": [
    "import time"
   ]
  },
  {
   "cell_type": "code",
   "execution_count": 30,
   "id": "a72086dc",
   "metadata": {},
   "outputs": [],
   "source": [
    "img_dataset=[]\n",
    "img_label=[]"
   ]
  },
  {
   "cell_type": "code",
   "execution_count": 32,
   "id": "46027fe8",
   "metadata": {},
   "outputs": [],
   "source": [
    "for i in img_female:\n",
    "    image=cv2.imread(path_female+i)\n",
    "    image=cv2.resize(image,(100,100))\n",
    "    img_dataset.append(np.array(image))\n",
    "    img_label.append(0)\n",
    "    "
   ]
  },
  {
   "cell_type": "code",
   "execution_count": 33,
   "id": "1e02d0ae",
   "metadata": {},
   "outputs": [
    {
     "data": {
      "text/plain": [
       "3000"
      ]
     },
     "execution_count": 33,
     "metadata": {},
     "output_type": "execute_result"
    }
   ],
   "source": [
    "len(img_dataset)"
   ]
  },
  {
   "cell_type": "code",
   "execution_count": 34,
   "id": "4b152aec",
   "metadata": {},
   "outputs": [
    {
     "data": {
      "text/plain": [
       "3000"
      ]
     },
     "execution_count": 34,
     "metadata": {},
     "output_type": "execute_result"
    }
   ],
   "source": [
    "len(img_label)"
   ]
  },
  {
   "cell_type": "code",
   "execution_count": 35,
   "id": "a80fd3e4",
   "metadata": {},
   "outputs": [],
   "source": [
    "for j in img_male:\n",
    "    image1=cv2.imread(path_male+j)\n",
    "    image1=cv2.resize(image,(100,100))\n",
    "    img_dataset.append(np.array(image1))\n",
    "    img_label.append(1)"
   ]
  },
  {
   "cell_type": "code",
   "execution_count": 36,
   "id": "ed9c1b43",
   "metadata": {},
   "outputs": [
    {
     "data": {
      "text/plain": [
       "6000"
      ]
     },
     "execution_count": 36,
     "metadata": {},
     "output_type": "execute_result"
    }
   ],
   "source": [
    "len(img_dataset)"
   ]
  },
  {
   "cell_type": "code",
   "execution_count": 37,
   "id": "3257c4b0",
   "metadata": {},
   "outputs": [
    {
     "data": {
      "text/plain": [
       "6000"
      ]
     },
     "execution_count": 37,
     "metadata": {},
     "output_type": "execute_result"
    }
   ],
   "source": [
    "len(img_label)"
   ]
  },
  {
   "cell_type": "code",
   "execution_count": 38,
   "id": "dce02aca",
   "metadata": {},
   "outputs": [
    {
     "data": {
      "text/plain": [
       "list"
      ]
     },
     "execution_count": 38,
     "metadata": {},
     "output_type": "execute_result"
    }
   ],
   "source": [
    "type(img_label)"
   ]
  },
  {
   "cell_type": "code",
   "execution_count": 40,
   "id": "1161e11d",
   "metadata": {},
   "outputs": [
    {
     "data": {
      "text/plain": [
       "list"
      ]
     },
     "execution_count": 40,
     "metadata": {},
     "output_type": "execute_result"
    }
   ],
   "source": [
    "type(img_dataset)"
   ]
  },
  {
   "cell_type": "code",
   "execution_count": 41,
   "id": "6536c489",
   "metadata": {},
   "outputs": [],
   "source": [
    "img_dataset_array=np.array(img_dataset)\n"
   ]
  },
  {
   "cell_type": "code",
   "execution_count": 43,
   "id": "143940f3",
   "metadata": {},
   "outputs": [],
   "source": [
    "img_label_array=np.array(img_label)"
   ]
  },
  {
   "cell_type": "code",
   "execution_count": 44,
   "id": "72163360",
   "metadata": {},
   "outputs": [
    {
     "data": {
      "text/plain": [
       "numpy.ndarray"
      ]
     },
     "execution_count": 44,
     "metadata": {},
     "output_type": "execute_result"
    }
   ],
   "source": [
    "type(img_dataset_array)"
   ]
  },
  {
   "cell_type": "code",
   "execution_count": 45,
   "id": "e04c4107",
   "metadata": {},
   "outputs": [
    {
     "data": {
      "text/plain": [
       "numpy.ndarray"
      ]
     },
     "execution_count": 45,
     "metadata": {},
     "output_type": "execute_result"
    }
   ],
   "source": [
    "type(img_label_array)"
   ]
  },
  {
   "cell_type": "markdown",
   "id": "ea8b7c04",
   "metadata": {},
   "source": [
    "# Scale"
   ]
  },
  {
   "cell_type": "code",
   "execution_count": 47,
   "id": "2308f635",
   "metadata": {},
   "outputs": [
    {
     "data": {
      "text/plain": [
       "0"
      ]
     },
     "execution_count": 47,
     "metadata": {},
     "output_type": "execute_result"
    }
   ],
   "source": [
    "img_label_array.min()"
   ]
  },
  {
   "cell_type": "code",
   "execution_count": 46,
   "id": "41a44c5f",
   "metadata": {},
   "outputs": [
    {
     "data": {
      "text/plain": [
       "255"
      ]
     },
     "execution_count": 46,
     "metadata": {},
     "output_type": "execute_result"
    }
   ],
   "source": [
    "img_dataset_array.max()"
   ]
  },
  {
   "cell_type": "code",
   "execution_count": 48,
   "id": "afcc6e3b",
   "metadata": {},
   "outputs": [],
   "source": [
    "img_dataset_scale=img_dataset_array/255.0"
   ]
  },
  {
   "cell_type": "code",
   "execution_count": 50,
   "id": "bdf85572",
   "metadata": {},
   "outputs": [],
   "source": [
    "X=img_dataset_scale"
   ]
  },
  {
   "cell_type": "code",
   "execution_count": 51,
   "id": "436dd474",
   "metadata": {},
   "outputs": [],
   "source": [
    "y=img_label_array"
   ]
  },
  {
   "cell_type": "code",
   "execution_count": 49,
   "id": "1cd817c1",
   "metadata": {},
   "outputs": [],
   "source": [
    "from sklearn.model_selection import train_test_split"
   ]
  },
  {
   "cell_type": "code",
   "execution_count": 52,
   "id": "50fc6cff",
   "metadata": {},
   "outputs": [],
   "source": [
    "X_train,X_test,y_train,y_test=train_test_split(X,y,test_size=0.20)"
   ]
  },
  {
   "cell_type": "code",
   "execution_count": 53,
   "id": "4fa533bc",
   "metadata": {},
   "outputs": [
    {
     "data": {
      "text/plain": [
       "(4800, 100, 100, 3)"
      ]
     },
     "execution_count": 53,
     "metadata": {},
     "output_type": "execute_result"
    }
   ],
   "source": [
    "X_train.shape"
   ]
  },
  {
   "cell_type": "code",
   "execution_count": 54,
   "id": "239df5ad",
   "metadata": {},
   "outputs": [
    {
     "data": {
      "text/plain": [
       "(1200, 100, 100, 3)"
      ]
     },
     "execution_count": 54,
     "metadata": {},
     "output_type": "execute_result"
    }
   ],
   "source": [
    "X_test.shape"
   ]
  },
  {
   "cell_type": "code",
   "execution_count": 55,
   "id": "695fc23e",
   "metadata": {},
   "outputs": [
    {
     "data": {
      "text/plain": [
       "1.0"
      ]
     },
     "execution_count": 55,
     "metadata": {},
     "output_type": "execute_result"
    }
   ],
   "source": [
    "X_train.max()"
   ]
  },
  {
   "cell_type": "code",
   "execution_count": 57,
   "id": "d45c9155",
   "metadata": {},
   "outputs": [
    {
     "data": {
      "text/plain": [
       "1.0"
      ]
     },
     "execution_count": 57,
     "metadata": {},
     "output_type": "execute_result"
    }
   ],
   "source": [
    "X_test.max()"
   ]
  },
  {
   "cell_type": "code",
   "execution_count": 60,
   "id": "f614fb54",
   "metadata": {},
   "outputs": [],
   "source": [
    "from tensorflow.keras.models import Sequential "
   ]
  },
  {
   "cell_type": "code",
   "execution_count": 62,
   "id": "b4f22843",
   "metadata": {},
   "outputs": [],
   "source": [
    "import tensorflow as tf"
   ]
  },
  {
   "cell_type": "code",
   "execution_count": 63,
   "id": "efde90ff",
   "metadata": {},
   "outputs": [],
   "source": [
    "from tensorflow.keras.layers import Input,Conv2D,MaxPooling2D,Dropout,Flatten,Dense"
   ]
  },
  {
   "cell_type": "code",
   "execution_count": 64,
   "id": "5d39931c",
   "metadata": {},
   "outputs": [],
   "source": [
    "smodel=Sequential()"
   ]
  },
  {
   "cell_type": "code",
   "execution_count": 66,
   "id": "74bf75a1",
   "metadata": {},
   "outputs": [],
   "source": [
    "smodel.add(Input(shape=(100,100,3)))"
   ]
  },
  {
   "cell_type": "markdown",
   "id": "806c44df",
   "metadata": {},
   "source": [
    "# First convolution lau=yers"
   ]
  },
  {
   "cell_type": "code",
   "execution_count": 69,
   "id": "02828a54",
   "metadata": {},
   "outputs": [],
   "source": [
    "smodel.add(Conv2D(filters=32,kernel_size=(3,3),activation=\"relu\",strides=(1,1),padding=\"valid\"))\n",
    "smodel.add(MaxPooling2D(pool_size=(2,2),strides=2,padding=\"valid\"))\n",
    "smodel.add(Dropout(0.20))"
   ]
  },
  {
   "cell_type": "markdown",
   "id": "0c7aab2f",
   "metadata": {},
   "source": [
    "# second convolution layers"
   ]
  },
  {
   "cell_type": "code",
   "execution_count": 71,
   "id": "495a8b4f",
   "metadata": {},
   "outputs": [],
   "source": [
    "smodel.add(Conv2D(filters=64,kernel_size=(3,3),activation=\"relu\",strides=(1,1),padding=\"valid\"))\n",
    "smodel.add(MaxPooling2D(pool_size=(2,2),strides=2,padding=\"valid\"))\n",
    "smodel.add(Dropout(0.20))"
   ]
  },
  {
   "cell_type": "markdown",
   "id": "edb09760",
   "metadata": {},
   "source": [
    "# Third convolution layers"
   ]
  },
  {
   "cell_type": "code",
   "execution_count": 72,
   "id": "466bb4d2",
   "metadata": {},
   "outputs": [],
   "source": [
    "smodel.add(Conv2D(filters=128,kernel_size=(3,3),activation=\"relu\",strides=(1,1),padding=\"valid\"))\n",
    "smodel.add(MaxPooling2D(pool_size=(2,2),strides=2,padding=\"valid\"))\n",
    "smodel.add(Dropout(0.20))"
   ]
  },
  {
   "cell_type": "code",
   "execution_count": 73,
   "id": "443f51d2",
   "metadata": {},
   "outputs": [],
   "source": [
    "smodel.add(Flatten())"
   ]
  },
  {
   "cell_type": "markdown",
   "id": "19ac4324",
   "metadata": {},
   "source": [
    "# Full connected Dense layers"
   ]
  },
  {
   "cell_type": "code",
   "execution_count": 75,
   "id": "0f08f20e",
   "metadata": {},
   "outputs": [],
   "source": [
    "smodel.add(Dense(32,activation=\"relu\"))\n",
    "smodel.add(Dense(64,activation=\"relu\"))\n",
    "smodel.add(Dense(128,activation=\"relu\"))"
   ]
  },
  {
   "cell_type": "code",
   "execution_count": 76,
   "id": "cecbd47e",
   "metadata": {},
   "outputs": [],
   "source": [
    "smodel.add(Dense(2,activation=\"softmax\"))"
   ]
  },
  {
   "cell_type": "code",
   "execution_count": 77,
   "id": "2750f06d",
   "metadata": {},
   "outputs": [
    {
     "name": "stdout",
     "output_type": "stream",
     "text": [
      "Model: \"sequential\"\n",
      "_________________________________________________________________\n",
      " Layer (type)                Output Shape              Param #   \n",
      "=================================================================\n",
      " conv2d_2 (Conv2D)           (None, 98, 98, 32)        896       \n",
      "                                                                 \n",
      " max_pooling2d (MaxPooling2  (None, 49, 49, 32)        0         \n",
      " D)                                                              \n",
      "                                                                 \n",
      " dropout (Dropout)           (None, 49, 49, 32)        0         \n",
      "                                                                 \n",
      " conv2d_4 (Conv2D)           (None, 47, 47, 64)        18496     \n",
      "                                                                 \n",
      " max_pooling2d_1 (MaxPoolin  (None, 23, 23, 64)        0         \n",
      " g2D)                                                            \n",
      "                                                                 \n",
      " dropout_1 (Dropout)         (None, 23, 23, 64)        0         \n",
      "                                                                 \n",
      " conv2d_5 (Conv2D)           (None, 21, 21, 128)       73856     \n",
      "                                                                 \n",
      " max_pooling2d_2 (MaxPoolin  (None, 10, 10, 128)       0         \n",
      " g2D)                                                            \n",
      "                                                                 \n",
      " dropout_2 (Dropout)         (None, 10, 10, 128)       0         \n",
      "                                                                 \n",
      " flatten (Flatten)           (None, 12800)             0         \n",
      "                                                                 \n",
      " dense (Dense)               (None, 32)                409632    \n",
      "                                                                 \n",
      " dense_1 (Dense)             (None, 64)                2112      \n",
      "                                                                 \n",
      " dense_2 (Dense)             (None, 128)               8320      \n",
      "                                                                 \n",
      " dense_3 (Dense)             (None, 2)                 258       \n",
      "                                                                 \n",
      "=================================================================\n",
      "Total params: 513570 (1.96 MB)\n",
      "Trainable params: 513570 (1.96 MB)\n",
      "Non-trainable params: 0 (0.00 Byte)\n",
      "_________________________________________________________________\n"
     ]
    }
   ],
   "source": [
    "smodel.summary()"
   ]
  },
  {
   "cell_type": "code",
   "execution_count": 78,
   "id": "0811dbbf",
   "metadata": {},
   "outputs": [],
   "source": [
    "smodel.compile(optimizer=\"adam\",loss=\"sparse_categorical_crossentropy\",metrics=[\"accuracy\"])"
   ]
  },
  {
   "cell_type": "code",
   "execution_count": 79,
   "id": "e4ad7641",
   "metadata": {},
   "outputs": [
    {
     "name": "stdout",
     "output_type": "stream",
     "text": [
      "Epoch 1/20\n",
      "150/150 [==============================] - 34s 220ms/step - loss: 0.2051 - accuracy: 0.9225\n",
      "Epoch 2/20\n",
      "150/150 [==============================] - 31s 203ms/step - loss: 0.0045 - accuracy: 0.9990\n",
      "Epoch 3/20\n",
      "150/150 [==============================] - 32s 213ms/step - loss: 0.0031 - accuracy: 0.9996\n",
      "Epoch 4/20\n",
      "150/150 [==============================] - 31s 207ms/step - loss: 0.0023 - accuracy: 0.9998\n",
      "Epoch 5/20\n",
      "150/150 [==============================] - 32s 213ms/step - loss: 0.0020 - accuracy: 0.9998\n",
      "Epoch 6/20\n",
      "150/150 [==============================] - 31s 207ms/step - loss: 0.0024 - accuracy: 0.9998\n",
      "Epoch 7/20\n",
      "150/150 [==============================] - 32s 214ms/step - loss: 0.0022 - accuracy: 0.9998\n",
      "Epoch 8/20\n",
      "150/150 [==============================] - 32s 216ms/step - loss: 0.0023 - accuracy: 0.9998\n",
      "Epoch 9/20\n",
      "150/150 [==============================] - 33s 220ms/step - loss: 0.0022 - accuracy: 0.9998\n",
      "Epoch 10/20\n",
      "150/150 [==============================] - 33s 219ms/step - loss: 0.0024 - accuracy: 0.9998\n",
      "Epoch 11/20\n",
      "150/150 [==============================] - 32s 216ms/step - loss: 0.0026 - accuracy: 0.9998\n",
      "Epoch 12/20\n",
      "150/150 [==============================] - 33s 217ms/step - loss: 0.0020 - accuracy: 0.9998\n",
      "Epoch 13/20\n",
      "150/150 [==============================] - 33s 219ms/step - loss: 0.0024 - accuracy: 0.9998\n",
      "Epoch 14/20\n",
      "150/150 [==============================] - 32s 216ms/step - loss: 0.0023 - accuracy: 0.9998\n",
      "Epoch 15/20\n",
      "150/150 [==============================] - 32s 214ms/step - loss: 0.0022 - accuracy: 0.9998\n",
      "Epoch 16/20\n",
      "150/150 [==============================] - 32s 215ms/step - loss: 0.0026 - accuracy: 0.9998\n",
      "Epoch 17/20\n",
      "150/150 [==============================] - 32s 214ms/step - loss: 0.1617 - accuracy: 0.9777\n",
      "Epoch 18/20\n",
      "150/150 [==============================] - 32s 211ms/step - loss: 0.0051 - accuracy: 0.9990\n",
      "Epoch 19/20\n",
      "150/150 [==============================] - 32s 212ms/step - loss: 0.0038 - accuracy: 0.9996\n",
      "Epoch 20/20\n",
      "150/150 [==============================] - 32s 210ms/step - loss: 0.0032 - accuracy: 0.9998\n"
     ]
    },
    {
     "data": {
      "text/plain": [
       "<keras.src.callbacks.History at 0x247ec1f0070>"
      ]
     },
     "execution_count": 79,
     "metadata": {},
     "output_type": "execute_result"
    }
   ],
   "source": [
    "smodel.fit(X_train,y_train,epochs=20)"
   ]
  },
  {
   "cell_type": "code",
   "execution_count": 80,
   "id": "91fbb86f",
   "metadata": {},
   "outputs": [
    {
     "name": "stdout",
     "output_type": "stream",
     "text": [
      "38/38 [==============================] - 2s 40ms/step - loss: 8.1789e-04 - accuracy: 1.0000\n"
     ]
    },
    {
     "data": {
      "text/plain": [
       "[0.0008178854477591813, 1.0]"
      ]
     },
     "execution_count": 80,
     "metadata": {},
     "output_type": "execute_result"
    }
   ],
   "source": [
    "smodel.evaluate(X_test,y_test)"
   ]
  },
  {
   "cell_type": "code",
   "execution_count": 113,
   "id": "a4e916e4",
   "metadata": {},
   "outputs": [
    {
     "data": {
      "text/plain": [
       "array([[[0.11372549, 0.12941176, 0.13333333],\n",
       "        [0.10588235, 0.12156863, 0.1254902 ],\n",
       "        [0.09803922, 0.10980392, 0.11372549],\n",
       "        ...,\n",
       "        [0.50588235, 0.62745098, 0.8       ],\n",
       "        [0.53333333, 0.66666667, 0.84313725],\n",
       "        [0.55686275, 0.69411765, 0.86666667]],\n",
       "\n",
       "       [[0.08627451, 0.10196078, 0.10588235],\n",
       "        [0.09019608, 0.10588235, 0.10980392],\n",
       "        [0.08627451, 0.10196078, 0.10196078],\n",
       "        ...,\n",
       "        [0.64313725, 0.76470588, 0.9372549 ],\n",
       "        [0.61568627, 0.74901961, 0.9254902 ],\n",
       "        [0.61568627, 0.74901961, 0.92156863]],\n",
       "\n",
       "       [[0.03921569, 0.05490196, 0.05882353],\n",
       "        [0.0627451 , 0.07843137, 0.08235294],\n",
       "        [0.05098039, 0.06666667, 0.07058824],\n",
       "        ...,\n",
       "        [0.63137255, 0.75686275, 0.92941176],\n",
       "        [0.67058824, 0.8       , 0.97254902],\n",
       "        [0.69411765, 0.82352941, 0.99607843]],\n",
       "\n",
       "       ...,\n",
       "\n",
       "       [[0.2627451 , 0.43137255, 0.69411765],\n",
       "        [0.23137255, 0.40392157, 0.6627451 ],\n",
       "        [0.21568627, 0.38823529, 0.64705882],\n",
       "        ...,\n",
       "        [0.97647059, 0.92941176, 0.91372549],\n",
       "        [0.95686275, 0.91372549, 0.89019608],\n",
       "        [0.88627451, 0.84313725, 0.81960784]],\n",
       "\n",
       "       [[0.20784314, 0.37647059, 0.63921569],\n",
       "        [0.18431373, 0.35294118, 0.61568627],\n",
       "        [0.18431373, 0.35294118, 0.61568627],\n",
       "        ...,\n",
       "        [0.96862745, 0.92941176, 0.90980392],\n",
       "        [0.98431373, 0.95294118, 0.92941176],\n",
       "        [0.9372549 , 0.89019608, 0.86666667]],\n",
       "\n",
       "       [[0.14901961, 0.31372549, 0.57647059],\n",
       "        [0.15686275, 0.32156863, 0.58431373],\n",
       "        [0.19607843, 0.36078431, 0.62352941],\n",
       "        ...,\n",
       "        [0.96470588, 0.91764706, 0.89803922],\n",
       "        [0.98039216, 0.93333333, 0.90980392],\n",
       "        [0.9372549 , 0.89019608, 0.86666667]]])"
      ]
     },
     "execution_count": 113,
     "metadata": {},
     "output_type": "execute_result"
    }
   ],
   "source": [
    "X_train[1432]"
   ]
  },
  {
   "cell_type": "code",
   "execution_count": 127,
   "id": "8864a864",
   "metadata": {},
   "outputs": [
    {
     "data": {
      "text/plain": [
       "(100, 100, 3)"
      ]
     },
     "execution_count": 127,
     "metadata": {},
     "output_type": "execute_result"
    }
   ],
   "source": [
    "X_train[1234].shape"
   ]
  },
  {
   "cell_type": "code",
   "execution_count": 128,
   "id": "0638fcec",
   "metadata": {},
   "outputs": [
    {
     "data": {
      "text/plain": [
       "(4800, 100, 100, 3)"
      ]
     },
     "execution_count": 128,
     "metadata": {},
     "output_type": "execute_result"
    }
   ],
   "source": [
    "X_train.shape"
   ]
  },
  {
   "cell_type": "code",
   "execution_count": 137,
   "id": "1d77e5b5",
   "metadata": {},
   "outputs": [],
   "source": [
    "img=X_train[1234].reshape((1,)+X_train[1234].shape)"
   ]
  },
  {
   "cell_type": "code",
   "execution_count": 138,
   "id": "27641783",
   "metadata": {},
   "outputs": [
    {
     "data": {
      "text/plain": [
       "array([[[[0.33333333, 0.43529412, 0.62352941],\n",
       "         [0.41568627, 0.51764706, 0.70196078],\n",
       "         [0.50588235, 0.60784314, 0.78823529],\n",
       "         ...,\n",
       "         [0.18039216, 0.19607843, 0.30980392],\n",
       "         [0.20784314, 0.22352941, 0.3372549 ],\n",
       "         [0.21960784, 0.23137255, 0.35294118]],\n",
       "\n",
       "        [[0.44705882, 0.54901961, 0.73333333],\n",
       "         [0.47058824, 0.56862745, 0.75294118],\n",
       "         [0.5254902 , 0.62745098, 0.80784314],\n",
       "         ...,\n",
       "         [0.15686275, 0.17254902, 0.28627451],\n",
       "         [0.17647059, 0.19215686, 0.30980392],\n",
       "         [0.23137255, 0.24313725, 0.36470588]],\n",
       "\n",
       "        [[0.48235294, 0.58431373, 0.76862745],\n",
       "         [0.49019608, 0.59215686, 0.77647059],\n",
       "         [0.5254902 , 0.62745098, 0.80784314],\n",
       "         ...,\n",
       "         [0.15294118, 0.16862745, 0.27843137],\n",
       "         [0.17254902, 0.18823529, 0.30196078],\n",
       "         [0.22745098, 0.24313725, 0.35686275]],\n",
       "\n",
       "        ...,\n",
       "\n",
       "        [[0.07843137, 0.09411765, 0.23137255],\n",
       "         [0.08627451, 0.10196078, 0.23529412],\n",
       "         [0.06666667, 0.08627451, 0.20392157],\n",
       "         ...,\n",
       "         [0.18039216, 0.18823529, 0.30980392],\n",
       "         [0.20392157, 0.21176471, 0.32941176],\n",
       "         [0.17647059, 0.18431373, 0.30588235]],\n",
       "\n",
       "        [[0.09019608, 0.10588235, 0.24313725],\n",
       "         [0.09803922, 0.11764706, 0.24313725],\n",
       "         [0.07843137, 0.09411765, 0.20784314],\n",
       "         ...,\n",
       "         [0.18823529, 0.19607843, 0.31764706],\n",
       "         [0.21176471, 0.21960784, 0.34117647],\n",
       "         [0.19607843, 0.20392157, 0.3254902 ]],\n",
       "\n",
       "        [[0.10196078, 0.11764706, 0.25490196],\n",
       "         [0.10980392, 0.12941176, 0.25490196],\n",
       "         [0.08235294, 0.10588235, 0.21960784],\n",
       "         ...,\n",
       "         [0.18823529, 0.19607843, 0.3254902 ],\n",
       "         [0.21960784, 0.22352941, 0.35686275],\n",
       "         [0.21568627, 0.21960784, 0.35294118]]]])"
      ]
     },
     "execution_count": 138,
     "metadata": {},
     "output_type": "execute_result"
    }
   ],
   "source": [
    "img"
   ]
  },
  {
   "cell_type": "code",
   "execution_count": 139,
   "id": "ce56916c",
   "metadata": {},
   "outputs": [
    {
     "name": "stdout",
     "output_type": "stream",
     "text": [
      "1/1 [==============================] - 0s 19ms/step\n"
     ]
    },
    {
     "data": {
      "text/plain": [
       "array([[1.000000e+00, 4.037308e-08]], dtype=float32)"
      ]
     },
     "execution_count": 139,
     "metadata": {},
     "output_type": "execute_result"
    }
   ],
   "source": [
    "smodel.predict(img)"
   ]
  },
  {
   "cell_type": "code",
   "execution_count": 140,
   "id": "062559db",
   "metadata": {},
   "outputs": [
    {
     "name": "stdout",
     "output_type": "stream",
     "text": [
      "1/1 [==============================] - 0s 22ms/step\n"
     ]
    },
    {
     "data": {
      "text/plain": [
       "0"
      ]
     },
     "execution_count": 140,
     "metadata": {},
     "output_type": "execute_result"
    }
   ],
   "source": [
    "np.argmax(smodel.predict(img))"
   ]
  },
  {
   "cell_type": "code",
   "execution_count": 141,
   "id": "28563af9",
   "metadata": {},
   "outputs": [
    {
     "data": {
      "text/plain": [
       "<matplotlib.image.AxesImage at 0x247f020d330>"
      ]
     },
     "execution_count": 141,
     "metadata": {},
     "output_type": "execute_result"
    },
    {
     "data": {
      "image/png": "[encoded data removed]",
      "text/plain": [
       "<Figure size 640x480 with 1 Axes>"
      ]
     },
     "metadata": {},
     "output_type": "display_data"
    }
   ],
   "source": [
    "plt.imshow(X_train[1234])"
   ]
  },
  {
   "cell_type": "code",
   "execution_count": 134,
   "id": "ea9d1df6",
   "metadata": {},
   "outputs": [
    {
     "data": {
      "text/plain": [
       "array([[[0.28627451, 0.27843137, 0.27843137],\n",
       "        [0.21176471, 0.21176471, 0.21176471],\n",
       "        [0.16470588, 0.16470588, 0.16862745],\n",
       "        ...,\n",
       "        [0.00392157, 0.00392157, 0.06666667],\n",
       "        [0.        , 0.        , 0.0627451 ],\n",
       "        [0.00392157, 0.00392157, 0.06666667]],\n",
       "\n",
       "       [[0.25490196, 0.24705882, 0.24705882],\n",
       "        [0.18039216, 0.18039216, 0.18039216],\n",
       "        [0.1372549 , 0.1372549 , 0.14509804],\n",
       "        ...,\n",
       "        [0.        , 0.00784314, 0.0745098 ],\n",
       "        [0.        , 0.00392157, 0.0627451 ],\n",
       "        [0.        , 0.        , 0.0627451 ]],\n",
       "\n",
       "       [[0.21960784, 0.21960784, 0.21960784],\n",
       "        [0.15294118, 0.15294118, 0.15294118],\n",
       "        [0.12156863, 0.12156863, 0.12941176],\n",
       "        ...,\n",
       "        [0.01176471, 0.03137255, 0.10196078],\n",
       "        [0.00784314, 0.02352941, 0.09411765],\n",
       "        [0.01176471, 0.01960784, 0.09019608]],\n",
       "\n",
       "       ...,\n",
       "\n",
       "       [[0.93333333, 0.94117647, 0.94117647],\n",
       "        [0.92941176, 0.9372549 , 0.9372549 ],\n",
       "        [0.93333333, 0.94509804, 0.94509804],\n",
       "        ...,\n",
       "        [0.40392157, 0.41960784, 0.45490196],\n",
       "        [0.56862745, 0.58039216, 0.61176471],\n",
       "        [0.6745098 , 0.68235294, 0.71372549]],\n",
       "\n",
       "       [[0.92941176, 0.9372549 , 0.9372549 ],\n",
       "        [0.9254902 , 0.93333333, 0.93333333],\n",
       "        [0.92941176, 0.9372549 , 0.94117647],\n",
       "        ...,\n",
       "        [0.45098039, 0.4627451 , 0.50588235],\n",
       "        [0.61960784, 0.62745098, 0.6627451 ],\n",
       "        [0.72156863, 0.72941176, 0.76078431]],\n",
       "\n",
       "       [[0.92941176, 0.9372549 , 0.94117647],\n",
       "        [0.92941176, 0.9372549 , 0.94117647],\n",
       "        [0.92941176, 0.9372549 , 0.94117647],\n",
       "        ...,\n",
       "        [0.50980392, 0.52156863, 0.56470588],\n",
       "        [0.67843137, 0.68627451, 0.7254902 ],\n",
       "        [0.78823529, 0.79607843, 0.82745098]]])"
      ]
     },
     "execution_count": 134,
     "metadata": {},
     "output_type": "execute_result"
    }
   ],
   "source": [
    "X_test[859]"
   ]
  },
  {
   "cell_type": "code",
   "execution_count": 135,
   "id": "a2f11bc1",
   "metadata": {},
   "outputs": [],
   "source": [
    "img1=X_test[859].reshape((1,)+X_test[859].shape)"
   ]
  },
  {
   "cell_type": "code",
   "execution_count": 136,
   "id": "b9c4622e",
   "metadata": {},
   "outputs": [
    {
     "data": {
      "text/plain": [
       "array([[[[0.28627451, 0.27843137, 0.27843137],\n",
       "         [0.21176471, 0.21176471, 0.21176471],\n",
       "         [0.16470588, 0.16470588, 0.16862745],\n",
       "         ...,\n",
       "         [0.00392157, 0.00392157, 0.06666667],\n",
       "         [0.        , 0.        , 0.0627451 ],\n",
       "         [0.00392157, 0.00392157, 0.06666667]],\n",
       "\n",
       "        [[0.25490196, 0.24705882, 0.24705882],\n",
       "         [0.18039216, 0.18039216, 0.18039216],\n",
       "         [0.1372549 , 0.1372549 , 0.14509804],\n",
       "         ...,\n",
       "         [0.        , 0.00784314, 0.0745098 ],\n",
       "         [0.        , 0.00392157, 0.0627451 ],\n",
       "         [0.        , 0.        , 0.0627451 ]],\n",
       "\n",
       "        [[0.21960784, 0.21960784, 0.21960784],\n",
       "         [0.15294118, 0.15294118, 0.15294118],\n",
       "         [0.12156863, 0.12156863, 0.12941176],\n",
       "         ...,\n",
       "         [0.01176471, 0.03137255, 0.10196078],\n",
       "         [0.00784314, 0.02352941, 0.09411765],\n",
       "         [0.01176471, 0.01960784, 0.09019608]],\n",
       "\n",
       "        ...,\n",
       "\n",
       "        [[0.93333333, 0.94117647, 0.94117647],\n",
       "         [0.92941176, 0.9372549 , 0.9372549 ],\n",
       "         [0.93333333, 0.94509804, 0.94509804],\n",
       "         ...,\n",
       "         [0.40392157, 0.41960784, 0.45490196],\n",
       "         [0.56862745, 0.58039216, 0.61176471],\n",
       "         [0.6745098 , 0.68235294, 0.71372549]],\n",
       "\n",
       "        [[0.92941176, 0.9372549 , 0.9372549 ],\n",
       "         [0.9254902 , 0.93333333, 0.93333333],\n",
       "         [0.92941176, 0.9372549 , 0.94117647],\n",
       "         ...,\n",
       "         [0.45098039, 0.4627451 , 0.50588235],\n",
       "         [0.61960784, 0.62745098, 0.6627451 ],\n",
       "         [0.72156863, 0.72941176, 0.76078431]],\n",
       "\n",
       "        [[0.92941176, 0.9372549 , 0.94117647],\n",
       "         [0.92941176, 0.9372549 , 0.94117647],\n",
       "         [0.92941176, 0.9372549 , 0.94117647],\n",
       "         ...,\n",
       "         [0.50980392, 0.52156863, 0.56470588],\n",
       "         [0.67843137, 0.68627451, 0.7254902 ],\n",
       "         [0.78823529, 0.79607843, 0.82745098]]]])"
      ]
     },
     "execution_count": 136,
     "metadata": {},
     "output_type": "execute_result"
    }
   ],
   "source": [
    "img1"
   ]
  },
  {
   "cell_type": "code",
   "execution_count": 124,
   "id": "80c0d506",
   "metadata": {},
   "outputs": [
    {
     "name": "stdout",
     "output_type": "stream",
     "text": [
      "1/1 [==============================] - 0s 20ms/step\n"
     ]
    },
    {
     "data": {
      "text/plain": [
       "array([[1.0000000e+00, 3.1694541e-10]], dtype=float32)"
      ]
     },
     "execution_count": 124,
     "metadata": {},
     "output_type": "execute_result"
    }
   ],
   "source": [
    "smodel.predict(img1)"
   ]
  },
  {
   "cell_type": "code",
   "execution_count": 125,
   "id": "4adfbf9e",
   "metadata": {},
   "outputs": [
    {
     "name": "stdout",
     "output_type": "stream",
     "text": [
      "1/1 [==============================] - 0s 20ms/step\n"
     ]
    },
    {
     "data": {
      "text/plain": [
       "0"
      ]
     },
     "execution_count": 125,
     "metadata": {},
     "output_type": "execute_result"
    }
   ],
   "source": [
    "np.argmax(smodel.predict(img1))"
   ]
  },
  {
   "cell_type": "code",
   "execution_count": 126,
   "id": "3f811aa4",
   "metadata": {},
   "outputs": [
    {
     "data": {
      "text/plain": [
       "<matplotlib.image.AxesImage at 0x247efe0e230>"
      ]
     },
     "execution_count": 126,
     "metadata": {},
     "output_type": "execute_result"
    },
    {
     "data": {
      "image/png": "[encoded data removed]",
      "text/plain": [
       "<Figure size 640x480 with 1 Axes>"
      ]
     },
     "metadata": {},
     "output_type": "display_data"
    }
   ],
   "source": [
    "plt.imshow(X_test[859])"
   ]
  },
  {
   "cell_type": "code",
   "execution_count": null,
   "id": "4471058a",
   "metadata": {},
   "outputs": [],
   "source": []
  },
  {
   "cell_type": "code",
   "execution_count": null,
   "id": "38b81f5b",
   "metadata": {},
   "outputs": [],
   "source": []
  }
 ],
 "metadata": {
  "kernelspec": {
   "display_name": "Python 3 (ipykernel)",
   "language": "python",
   "name": "python3"
  },
  "language_info": {
   "codemirror_mode": {
    "name": "ipython",
    "version": 3
   },
   "file_extension": ".py",
   "mimetype": "text/x-python",
   "name": "python",
   "nbconvert_exporter": "python",
   "pygments_lexer": "ipython3",
   "version": "3.10.9"
  }
 },
 "nbformat": 4,
 "nbformat_minor": 5
}
