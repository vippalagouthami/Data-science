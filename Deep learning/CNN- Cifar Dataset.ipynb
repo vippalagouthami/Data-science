{
 "cells": [
  {
   "cell_type": "code",
   "execution_count": 10,
   "id": "b10cfddf",
   "metadata": {},
   "outputs": [],
   "source": [
    "img_name=[\"Airplane\",\"Automoblie\",\"Bird\",\"Cat\",\"Deer\",\"Dog\",\"Frog\",\"Horse\",\"ship\",\"Truck\"]"
   ]
  },
  {
   "cell_type": "code",
   "execution_count": 1,
   "id": "af7dd698",
   "metadata": {},
   "outputs": [],
   "source": [
    "import pandas as pd \n"
   ]
  },
  {
   "cell_type": "code",
   "execution_count": 12,
   "id": "e0aeee25",
   "metadata": {},
   "outputs": [],
   "source": [
    "import cv2"
   ]
  },
  {
   "cell_type": "code",
   "execution_count": 2,
   "id": "0e468485",
   "metadata": {},
   "outputs": [],
   "source": [
    "import numpy as np \n"
   ]
  },
  {
   "cell_type": "code",
   "execution_count": 4,
   "id": "2de2f268",
   "metadata": {},
   "outputs": [],
   "source": [
    "import tensorflow as tf "
   ]
  },
  {
   "cell_type": "code",
   "execution_count": 18,
   "id": "be39fb8d",
   "metadata": {},
   "outputs": [],
   "source": [
    "import matplotlib.pyplot as plt"
   ]
  },
  {
   "cell_type": "code",
   "execution_count": 5,
   "id": "8689ad5a",
   "metadata": {},
   "outputs": [],
   "source": [
    "from tensorflow.keras.datasets import cifar10"
   ]
  },
  {
   "cell_type": "code",
   "execution_count": 6,
   "id": "f0c542f1",
   "metadata": {},
   "outputs": [],
   "source": [
    "(X_train,y_train),(X_test,y_test)=cifar10.load_data()"
   ]
  },
  {
   "cell_type": "code",
   "execution_count": 7,
   "id": "20d60fa1",
   "metadata": {},
   "outputs": [
    {
     "data": {
      "text/plain": [
       "(50000, 32, 32, 3)"
      ]
     },
     "execution_count": 7,
     "metadata": {},
     "output_type": "execute_result"
    }
   ],
   "source": [
    "X_train.shape"
   ]
  },
  {
   "cell_type": "code",
   "execution_count": 13,
   "id": "00139522",
   "metadata": {},
   "outputs": [
    {
     "data": {
      "text/plain": [
       "(10000, 32, 32, 3)"
      ]
     },
     "execution_count": 13,
     "metadata": {},
     "output_type": "execute_result"
    }
   ],
   "source": [
    "X_test.shape"
   ]
  },
  {
   "cell_type": "code",
   "execution_count": 15,
   "id": "77cbcb3d",
   "metadata": {},
   "outputs": [
    {
     "data": {
      "text/plain": [
       "array([[[159, 102, 101],\n",
       "        [150,  91,  95],\n",
       "        [153,  95,  97],\n",
       "        ...,\n",
       "        [ 91,  71,  56],\n",
       "        [ 74,  63,  55],\n",
       "        [ 76,  58,  55]],\n",
       "\n",
       "       [[142,  75,  68],\n",
       "        [146,  72,  66],\n",
       "        [155,  76,  65],\n",
       "        ...,\n",
       "        [127, 105,  71],\n",
       "        [122, 111,  93],\n",
       "        [ 86,  69,  61]],\n",
       "\n",
       "       [[109,  67,  75],\n",
       "        [ 99,  58,  60],\n",
       "        [105,  59,  52],\n",
       "        ...,\n",
       "        [137, 112,  80],\n",
       "        [163, 132, 105],\n",
       "        [ 93,  72,  71]],\n",
       "\n",
       "       ...,\n",
       "\n",
       "       [[244, 129,  70],\n",
       "        [240, 123,  65],\n",
       "        [241, 122,  65],\n",
       "        ...,\n",
       "        [156,  42,  15],\n",
       "        [179,  59,  26],\n",
       "        [200,  73,  36]],\n",
       "\n",
       "       [[246, 133,  74],\n",
       "        [243, 128,  72],\n",
       "        [243, 127,  70],\n",
       "        ...,\n",
       "        [162,  44,  14],\n",
       "        [178,  56,  22],\n",
       "        [192,  65,  27]],\n",
       "\n",
       "       [[246, 139,  82],\n",
       "        [243, 133,  78],\n",
       "        [244, 132,  77],\n",
       "        ...,\n",
       "        [166,  47,  14],\n",
       "        [173,  51,  17],\n",
       "        [182,  57,  19]]], dtype=uint8)"
      ]
     },
     "execution_count": 15,
     "metadata": {},
     "output_type": "execute_result"
    }
   ],
   "source": [
    "X_train[5]"
   ]
  },
  {
   "cell_type": "code",
   "execution_count": 16,
   "id": "39e52c79",
   "metadata": {},
   "outputs": [
    {
     "data": {
      "text/plain": [
       "-1"
      ]
     },
     "execution_count": 16,
     "metadata": {},
     "output_type": "execute_result"
    }
   ],
   "source": [
    "cv2.imshow(\"Image\",X_train[5])\n",
    "cv2.waitKey(-1)"
   ]
  },
  {
   "cell_type": "code",
   "execution_count": 19,
   "id": "c6839b84",
   "metadata": {},
   "outputs": [
    {
     "data": {
      "text/plain": [
       "<matplotlib.image.AxesImage at 0x204f1222680>"
      ]
     },
     "execution_count": 19,
     "metadata": {},
     "output_type": "execute_result"
    },
    {
     "data": {
      "image/png": "[encoded data removed]",
      "text/plain": [
       "<Figure size 640x480 with 1 Axes>"
      ]
     },
     "metadata": {},
     "output_type": "display_data"
    }
   ],
   "source": [
    "plt.imshow(X_train[5])"
   ]
  },
  {
   "cell_type": "code",
   "execution_count": 20,
   "id": "698b3acf",
   "metadata": {},
   "outputs": [
    {
     "data": {
      "text/plain": [
       "array([1], dtype=uint8)"
      ]
     },
     "execution_count": 20,
     "metadata": {},
     "output_type": "execute_result"
    }
   ],
   "source": [
    "y_train[5]"
   ]
  },
  {
   "cell_type": "code",
   "execution_count": 21,
   "id": "2606e433",
   "metadata": {},
   "outputs": [
    {
     "data": {
      "text/plain": [
       "'Automoblie'"
      ]
     },
     "execution_count": 21,
     "metadata": {},
     "output_type": "execute_result"
    }
   ],
   "source": [
    "img_name[1]"
   ]
  },
  {
   "cell_type": "code",
   "execution_count": 22,
   "id": "cd8382f4",
   "metadata": {},
   "outputs": [
    {
     "data": {
      "text/plain": [
       "array([[[ 34,  56, 107],\n",
       "        [ 32,  54, 103],\n",
       "        [ 32,  54, 102],\n",
       "        ...,\n",
       "        [ 34,  47,  93],\n",
       "        [ 34,  47,  93],\n",
       "        [ 34,  47,  95]],\n",
       "\n",
       "       [[ 32,  57, 110],\n",
       "        [ 30,  55, 106],\n",
       "        [ 30,  56, 105],\n",
       "        ...,\n",
       "        [ 31,  50,  97],\n",
       "        [ 31,  50,  97],\n",
       "        [ 32,  50,  99]],\n",
       "\n",
       "       [[ 30,  57, 111],\n",
       "        [ 29,  56, 109],\n",
       "        [ 28,  57, 108],\n",
       "        ...,\n",
       "        [ 30,  52, 101],\n",
       "        [ 30,  53, 101],\n",
       "        [ 30,  53, 103]],\n",
       "\n",
       "       ...,\n",
       "\n",
       "       [[ 35,  38,  54],\n",
       "        [ 37,  40,  58],\n",
       "        [ 36,  38,  60],\n",
       "        ...,\n",
       "        [ 35,  49,  74],\n",
       "        [ 29,  51,  79],\n",
       "        [ 29,  53,  81]],\n",
       "\n",
       "       [[ 36,  35,  50],\n",
       "        [ 37,  37,  54],\n",
       "        [ 35,  37,  56],\n",
       "        ...,\n",
       "        [ 30,  35,  53],\n",
       "        [ 29,  36,  58],\n",
       "        [ 30,  40,  65]],\n",
       "\n",
       "       [[ 34,  33,  48],\n",
       "        [ 37,  37,  55],\n",
       "        [ 35,  37,  55],\n",
       "        ...,\n",
       "        [ 30,  34,  52],\n",
       "        [ 31,  32,  51],\n",
       "        [ 32,  36,  57]]], dtype=uint8)"
      ]
     },
     "execution_count": 22,
     "metadata": {},
     "output_type": "execute_result"
    }
   ],
   "source": [
    "X_test[6743]"
   ]
  },
  {
   "cell_type": "code",
   "execution_count": 26,
   "id": "e4e7e7f6",
   "metadata": {},
   "outputs": [
    {
     "data": {
      "text/plain": [
       "<matplotlib.image.AxesImage at 0x204f580b760>"
      ]
     },
     "execution_count": 26,
     "metadata": {},
     "output_type": "execute_result"
    },
    {
     "data": {
      "image/png": "[encoded data removed]",
      "text/plain": [
       "<Figure size 640x480 with 1 Axes>"
      ]
     },
     "metadata": {},
     "output_type": "display_data"
    }
   ],
   "source": [
    "plt.imshow(X_test[6743])"
   ]
  },
  {
   "cell_type": "code",
   "execution_count": 27,
   "id": "c7621c82",
   "metadata": {},
   "outputs": [
    {
     "data": {
      "text/plain": [
       "array([8], dtype=uint8)"
      ]
     },
     "execution_count": 27,
     "metadata": {},
     "output_type": "execute_result"
    }
   ],
   "source": [
    "y_test[6743]"
   ]
  },
  {
   "cell_type": "code",
   "execution_count": 28,
   "id": "813ba0b7",
   "metadata": {},
   "outputs": [
    {
     "data": {
      "text/plain": [
       "'ship'"
      ]
     },
     "execution_count": 28,
     "metadata": {},
     "output_type": "execute_result"
    }
   ],
   "source": [
    "img_name[8]"
   ]
  },
  {
   "cell_type": "markdown",
   "id": "a65ce719",
   "metadata": {},
   "source": [
    "Scalling"
   ]
  },
  {
   "cell_type": "code",
   "execution_count": 124,
   "id": "8cde6725",
   "metadata": {},
   "outputs": [],
   "source": [
    "X_train_scale= X_train/255.0"
   ]
  },
  {
   "cell_type": "code",
   "execution_count": 125,
   "id": "cd9d8cf0",
   "metadata": {},
   "outputs": [],
   "source": [
    "X_test_scale=X_test/255.0"
   ]
  },
  {
   "cell_type": "code",
   "execution_count": 126,
   "id": "2aba02a4",
   "metadata": {},
   "outputs": [
    {
     "data": {
      "text/plain": [
       "array([[[249, 236, 232],\n",
       "        [250, 242, 239],\n",
       "        [251, 248, 245],\n",
       "        ...,\n",
       "        [213, 192, 185],\n",
       "        [212, 191, 186],\n",
       "        [208, 187, 183]],\n",
       "\n",
       "       [[255, 248, 242],\n",
       "        [255, 250, 246],\n",
       "        [255, 253, 249],\n",
       "        ...,\n",
       "        [206, 186, 180],\n",
       "        [198, 179, 171],\n",
       "        [199, 179, 170]],\n",
       "\n",
       "       [[255, 247, 239],\n",
       "        [254, 247, 241],\n",
       "        [255, 251, 246],\n",
       "        ...,\n",
       "        [197, 178, 174],\n",
       "        [173, 154, 145],\n",
       "        [176, 158, 145]],\n",
       "\n",
       "       ...,\n",
       "\n",
       "       [[209, 192, 182],\n",
       "        [223, 197, 185],\n",
       "        [168, 160, 163],\n",
       "        ...,\n",
       "        [ 23,  45,  59],\n",
       "        [ 12,  41,  58],\n",
       "        [ 16,  41,  55]],\n",
       "\n",
       "       [[219, 197, 182],\n",
       "        [217, 195, 184],\n",
       "        [155, 151, 157],\n",
       "        ...,\n",
       "        [ 26,  45,  61],\n",
       "        [ 14,  37,  55],\n",
       "        [ 22,  39,  50]],\n",
       "\n",
       "       [[214, 202, 191],\n",
       "        [209, 196, 190],\n",
       "        [166, 158, 162],\n",
       "        ...,\n",
       "        [ 36,  51,  68],\n",
       "        [ 31,  48,  64],\n",
       "        [ 70,  79,  85]]], dtype=uint8)"
      ]
     },
     "execution_count": 126,
     "metadata": {},
     "output_type": "execute_result"
    }
   ],
   "source": [
    "X_train[555]"
   ]
  },
  {
   "cell_type": "code",
   "execution_count": 134,
   "id": "97e94240",
   "metadata": {},
   "outputs": [
    {
     "data": {
      "text/plain": [
       "<matplotlib.image.AxesImage at 0x204f6500eb0>"
      ]
     },
     "execution_count": 134,
     "metadata": {},
     "output_type": "execute_result"
    },
    {
     "data": {
      "image/png": "[encoded data removed]",
      "text/plain": [
       "<Figure size 640x480 with 1 Axes>"
      ]
     },
     "metadata": {},
     "output_type": "display_data"
    }
   ],
   "source": [
    "plt.imshow(X_train[555])"
   ]
  },
  {
   "cell_type": "code",
   "execution_count": 135,
   "id": "ef06c6b8",
   "metadata": {},
   "outputs": [
    {
     "data": {
      "text/plain": [
       "<matplotlib.image.AxesImage at 0x204f64f73a0>"
      ]
     },
     "execution_count": 135,
     "metadata": {},
     "output_type": "execute_result"
    },
    {
     "data": {
      "image/png": "[encoded data removed]",
      "text/plain": [
       "<Figure size 640x480 with 1 Axes>"
      ]
     },
     "metadata": {},
     "output_type": "display_data"
    }
   ],
   "source": [
    "plt.imshow(X_test_scale[555])"
   ]
  },
  {
   "cell_type": "markdown",
   "id": "a06413de",
   "metadata": {},
   "source": [
    "sequential model"
   ]
  },
  {
   "cell_type": "code",
   "execution_count": 136,
   "id": "512767a4",
   "metadata": {},
   "outputs": [],
   "source": [
    "from tensorflow.keras.models import Sequential"
   ]
  },
  {
   "cell_type": "code",
   "execution_count": 137,
   "id": "69d26202",
   "metadata": {},
   "outputs": [],
   "source": [
    "from tensorflow.keras.layers import Conv2D,MaxPooling2D,Flatten,Dense,Input"
   ]
  },
  {
   "cell_type": "code",
   "execution_count": 138,
   "id": "fb98a1ec",
   "metadata": {},
   "outputs": [],
   "source": [
    "smodel=Sequential()\n",
    "smodel.add( Input ( shape = (32,32,3)))"
   ]
  },
  {
   "cell_type": "markdown",
   "id": "028e6074",
   "metadata": {},
   "source": [
    "first convolutional layers"
   ]
  },
  {
   "cell_type": "code",
   "execution_count": 139,
   "id": "6990011e",
   "metadata": {},
   "outputs": [],
   "source": [
    "smodel.add(Conv2D(filters=32,kernel_size=(3,3),activation=\"relu\",strides=(1,1),padding=\"valid\"))\n",
    "smodel.add(MaxPooling2D(pool_size=(2,2),strides=2,padding=\"valid\"))"
   ]
  },
  {
   "cell_type": "markdown",
   "id": "48babef8",
   "metadata": {},
   "source": [
    "second convolutional layers"
   ]
  },
  {
   "cell_type": "code",
   "execution_count": 140,
   "id": "66673570",
   "metadata": {},
   "outputs": [],
   "source": [
    "smodel.add(Conv2D(filters=32,kernel_size=(3,3),activation=\"relu\",strides=(1,1),padding=\"valid\"))\n",
    "smodel.add(MaxPooling2D(pool_size=(2,2),strides=2,padding=\"valid\"))"
   ]
  },
  {
   "cell_type": "markdown",
   "id": "fa13bbd5",
   "metadata": {},
   "source": [
    "Third Convolutional Layers  "
   ]
  },
  {
   "cell_type": "code",
   "execution_count": 141,
   "id": "4ffb2af8",
   "metadata": {},
   "outputs": [],
   "source": [
    "smodel.add(Conv2D(filters=32,kernel_size=(3,3),activation=\"relu\",strides=(1,1),padding=\"valid\"))\n",
    "smodel.add(MaxPooling2D(pool_size=(2,2),strides=2,padding=\"valid\"))"
   ]
  },
  {
   "cell_type": "code",
   "execution_count": 142,
   "id": "c16d30dc",
   "metadata": {},
   "outputs": [],
   "source": [
    "smodel.add(Flatten())"
   ]
  },
  {
   "cell_type": "markdown",
   "id": "d8a43cff",
   "metadata": {},
   "source": [
    "Fully connected Layer"
   ]
  },
  {
   "cell_type": "code",
   "execution_count": 143,
   "id": "c76ba381",
   "metadata": {},
   "outputs": [],
   "source": [
    "smodel.add(Dense(units=512,activation=\"relu\"))"
   ]
  },
  {
   "cell_type": "code",
   "execution_count": 144,
   "id": "ea0c7270",
   "metadata": {},
   "outputs": [],
   "source": [
    "smodel.add(Dense(units=256,activation=\"relu\"))"
   ]
  },
  {
   "cell_type": "code",
   "execution_count": 145,
   "id": "4852497c",
   "metadata": {},
   "outputs": [],
   "source": [
    "smodel.add(Dense(units=128,activation=\"relu\"))"
   ]
  },
  {
   "cell_type": "code",
   "execution_count": 146,
   "id": "13d08b23",
   "metadata": {},
   "outputs": [],
   "source": [
    "smodel.add(Dense(units=64,activation=\"relu\"))"
   ]
  },
  {
   "cell_type": "code",
   "execution_count": 147,
   "id": "869146d3",
   "metadata": {},
   "outputs": [],
   "source": [
    "smodel.add(Dense(units=10,activation=\"softmax\"))"
   ]
  },
  {
   "cell_type": "code",
   "execution_count": 148,
   "id": "9fbeeeaa",
   "metadata": {},
   "outputs": [
    {
     "name": "stdout",
     "output_type": "stream",
     "text": [
      "Model: \"sequential_12\"\n",
      "_________________________________________________________________\n",
      " Layer (type)                Output Shape              Param #   \n",
      "=================================================================\n",
      " conv2d_12 (Conv2D)          (None, 30, 30, 32)        896       \n",
      "                                                                 \n",
      " max_pooling2d_12 (MaxPooli  (None, 15, 15, 32)        0         \n",
      " ng2D)                                                           \n",
      "                                                                 \n",
      " conv2d_13 (Conv2D)          (None, 13, 13, 32)        9248      \n",
      "                                                                 \n",
      " max_pooling2d_13 (MaxPooli  (None, 6, 6, 32)          0         \n",
      " ng2D)                                                           \n",
      "                                                                 \n",
      " conv2d_14 (Conv2D)          (None, 4, 4, 32)          9248      \n",
      "                                                                 \n",
      " max_pooling2d_14 (MaxPooli  (None, 2, 2, 32)          0         \n",
      " ng2D)                                                           \n",
      "                                                                 \n",
      " flatten_3 (Flatten)         (None, 128)               0         \n",
      "                                                                 \n",
      " dense_16 (Dense)            (None, 512)               66048     \n",
      "                                                                 \n",
      " dense_17 (Dense)            (None, 256)               131328    \n",
      "                                                                 \n",
      " dense_18 (Dense)            (None, 128)               32896     \n",
      "                                                                 \n",
      " dense_19 (Dense)            (None, 64)                8256      \n",
      "                                                                 \n",
      " dense_20 (Dense)            (None, 10)                650       \n",
      "                                                                 \n",
      "=================================================================\n",
      "Total params: 258570 (1010.04 KB)\n",
      "Trainable params: 258570 (1010.04 KB)\n",
      "Non-trainable params: 0 (0.00 Byte)\n",
      "_________________________________________________________________\n"
     ]
    }
   ],
   "source": [
    "smodel.summary()"
   ]
  },
  {
   "cell_type": "code",
   "execution_count": 149,
   "id": "b229d79c",
   "metadata": {},
   "outputs": [],
   "source": [
    "smodel.compile(optimizer=\"adam\",loss=\"sparse_categorical_crossentropy\",metrics=[\"accuracy\"])"
   ]
  },
  {
   "cell_type": "code",
   "execution_count": 150,
   "id": "90c9ae7a",
   "metadata": {},
   "outputs": [
    {
     "data": {
      "text/plain": [
       "<keras.src.engine.sequential.Sequential at 0x204f6d8d990>"
      ]
     },
     "execution_count": 150,
     "metadata": {},
     "output_type": "execute_result"
    }
   ],
   "source": [
    "smodel"
   ]
  },
  {
   "cell_type": "code",
   "execution_count": 151,
   "id": "a64b48ea",
   "metadata": {},
   "outputs": [
    {
     "name": "stdout",
     "output_type": "stream",
     "text": [
      "Epoch 1/20\n",
      "1563/1563 [==============================] - 27s 17ms/step - loss: 1.6134 - accuracy: 0.3976\n",
      "Epoch 2/20\n",
      "1563/1563 [==============================] - 24s 16ms/step - loss: 1.2668 - accuracy: 0.5441\n",
      "Epoch 3/20\n",
      "1563/1563 [==============================] - 25s 16ms/step - loss: 1.1316 - accuracy: 0.5968\n",
      "Epoch 4/20\n",
      "1563/1563 [==============================] - 26s 16ms/step - loss: 1.0380 - accuracy: 0.6323\n",
      "Epoch 5/20\n",
      "1563/1563 [==============================] - 30s 19ms/step - loss: 0.9685 - accuracy: 0.6585\n",
      "Epoch 6/20\n",
      "1563/1563 [==============================] - 32s 21ms/step - loss: 0.9068 - accuracy: 0.6802\n",
      "Epoch 7/20\n",
      "1563/1563 [==============================] - 31s 20ms/step - loss: 0.8558 - accuracy: 0.7006\n",
      "Epoch 8/20\n",
      "1563/1563 [==============================] - 25s 16ms/step - loss: 0.8115 - accuracy: 0.7144\n",
      "Epoch 9/20\n",
      "1563/1563 [==============================] - 25s 16ms/step - loss: 0.7734 - accuracy: 0.7262\n",
      "Epoch 10/20\n",
      "1563/1563 [==============================] - 25s 16ms/step - loss: 0.7264 - accuracy: 0.7426\n",
      "Epoch 11/20\n",
      "1563/1563 [==============================] - 27s 17ms/step - loss: 0.6924 - accuracy: 0.7544\n",
      "Epoch 12/20\n",
      "1563/1563 [==============================] - 28s 18ms/step - loss: 0.6526 - accuracy: 0.7674\n",
      "Epoch 13/20\n",
      "1563/1563 [==============================] - 29s 19ms/step - loss: 0.6197 - accuracy: 0.7815\n",
      "Epoch 14/20\n",
      "1563/1563 [==============================] - 27s 17ms/step - loss: 0.5874 - accuracy: 0.7896\n",
      "Epoch 15/20\n",
      "1563/1563 [==============================] - 29s 19ms/step - loss: 0.5503 - accuracy: 0.8013\n",
      "Epoch 16/20\n",
      "1563/1563 [==============================] - 28s 18ms/step - loss: 0.5179 - accuracy: 0.8135\n",
      "Epoch 17/20\n",
      "1563/1563 [==============================] - 26s 17ms/step - loss: 0.4911 - accuracy: 0.8239\n",
      "Epoch 18/20\n",
      "1563/1563 [==============================] - 26s 17ms/step - loss: 0.4582 - accuracy: 0.8363\n",
      "Epoch 19/20\n",
      "1563/1563 [==============================] - 26s 17ms/step - loss: 0.4384 - accuracy: 0.8419\n",
      "Epoch 20/20\n",
      "1563/1563 [==============================] - 26s 17ms/step - loss: 0.4058 - accuracy: 0.8523\n"
     ]
    },
    {
     "data": {
      "text/plain": [
       "<keras.src.callbacks.History at 0x204f64f4130>"
      ]
     },
     "execution_count": 151,
     "metadata": {},
     "output_type": "execute_result"
    }
   ],
   "source": [
    "smodel.fit(X_train_scale,y_train,epochs=20)"
   ]
  },
  {
   "cell_type": "code",
   "execution_count": 152,
   "id": "a574ff94",
   "metadata": {},
   "outputs": [
    {
     "name": "stdout",
     "output_type": "stream",
     "text": [
      "313/313 [==============================] - 2s 5ms/step - loss: 1.1784 - accuracy: 0.6778\n"
     ]
    },
    {
     "data": {
      "text/plain": [
       "[1.1783735752105713, 0.6777999997138977]"
      ]
     },
     "execution_count": 152,
     "metadata": {},
     "output_type": "execute_result"
    }
   ],
   "source": [
    "smodel.evaluate(X_test_scale,y_test)"
   ]
  },
  {
   "cell_type": "code",
   "execution_count": 153,
   "id": "bd75b9ca",
   "metadata": {},
   "outputs": [
    {
     "data": {
      "text/plain": [
       "<keras.src.engine.sequential.Sequential at 0x204f6d8d990>"
      ]
     },
     "execution_count": 153,
     "metadata": {},
     "output_type": "execute_result"
    }
   ],
   "source": [
    "smodel"
   ]
  },
  {
   "cell_type": "code",
   "execution_count": 154,
   "id": "365a34d1",
   "metadata": {},
   "outputs": [
    {
     "data": {
      "text/plain": [
       "array([[[127,  78,  44],\n",
       "        [122,  73,  43],\n",
       "        [ 93,  44,  18],\n",
       "        ...,\n",
       "        [ 69,  41,  24],\n",
       "        [167, 124,  91],\n",
       "        [154, 107,  70]],\n",
       "\n",
       "       [[122,  71,  39],\n",
       "        [132,  81,  51],\n",
       "        [100,  49,  23],\n",
       "        ...,\n",
       "        [ 84,  48,  27],\n",
       "        [112,  63,  35],\n",
       "        [124,  72,  37]],\n",
       "\n",
       "       [[130,  78,  38],\n",
       "        [135,  84,  47],\n",
       "        [126,  74,  41],\n",
       "        ...,\n",
       "        [126, 111,  61],\n",
       "        [112,  80,  41],\n",
       "        [115,  69,  35]],\n",
       "\n",
       "       ...,\n",
       "\n",
       "       [[178, 115,  52],\n",
       "        [176, 114,  58],\n",
       "        [119,  63,  27],\n",
       "        ...,\n",
       "        [214, 138,  82],\n",
       "        [204, 135,  82],\n",
       "        [191, 124,  73]],\n",
       "\n",
       "       [[162,  97,  45],\n",
       "        [164, 100,  52],\n",
       "        [138,  74,  35],\n",
       "        ...,\n",
       "        [189, 117,  80],\n",
       "        [180, 111,  68],\n",
       "        [169, 104,  57]],\n",
       "\n",
       "       [[193, 121,  64],\n",
       "        [191, 119,  66],\n",
       "        [192, 120,  69],\n",
       "        ...,\n",
       "        [174,  97,  63],\n",
       "        [175,  99,  58],\n",
       "        [169,  98,  53]]], dtype=uint8)"
      ]
     },
     "execution_count": 154,
     "metadata": {},
     "output_type": "execute_result"
    }
   ],
   "source": [
    "X_train[2100]"
   ]
  },
  {
   "cell_type": "code",
   "execution_count": 155,
   "id": "0c884da8",
   "metadata": {},
   "outputs": [
    {
     "data": {
      "text/plain": [
       "(32, 32, 3)"
      ]
     },
     "execution_count": 155,
     "metadata": {},
     "output_type": "execute_result"
    }
   ],
   "source": [
    "X_train[2100].shape"
   ]
  },
  {
   "cell_type": "code",
   "execution_count": 156,
   "id": "02c7b468",
   "metadata": {},
   "outputs": [],
   "source": [
    "img=X_train[2100].reshape((1,)+X_train[2100].shape)"
   ]
  },
  {
   "cell_type": "code",
   "execution_count": 157,
   "id": "cfaae352",
   "metadata": {},
   "outputs": [
    {
     "name": "stdout",
     "output_type": "stream",
     "text": [
      "1/1 [==============================] - 0s 127ms/step\n"
     ]
    },
    {
     "data": {
      "text/plain": [
       "array([[0., 0., 0., 0., 0., 0., 1., 0., 0., 0.]], dtype=float32)"
      ]
     },
     "execution_count": 157,
     "metadata": {},
     "output_type": "execute_result"
    }
   ],
   "source": [
    "smodel.predict(img)"
   ]
  },
  {
   "cell_type": "code",
   "execution_count": null,
   "id": "5c2181cd",
   "metadata": {},
   "outputs": [],
   "source": []
  },
  {
   "cell_type": "code",
   "execution_count": 158,
   "id": "21ce6e7a",
   "metadata": {},
   "outputs": [
    {
     "name": "stdout",
     "output_type": "stream",
     "text": [
      "1/1 [==============================] - 0s 27ms/step\n"
     ]
    },
    {
     "data": {
      "text/plain": [
       "6"
      ]
     },
     "execution_count": 158,
     "metadata": {},
     "output_type": "execute_result"
    }
   ],
   "source": [
    "np.argmax(smodel.predict(img))"
   ]
  },
  {
   "cell_type": "code",
   "execution_count": 159,
   "id": "20982659",
   "metadata": {},
   "outputs": [
    {
     "data": {
      "text/plain": [
       "'Frog'"
      ]
     },
     "execution_count": 159,
     "metadata": {},
     "output_type": "execute_result"
    }
   ],
   "source": [
    "img_name[6]"
   ]
  },
  {
   "cell_type": "code",
   "execution_count": 160,
   "id": "bc199821",
   "metadata": {},
   "outputs": [
    {
     "data": {
      "text/plain": [
       "array([6], dtype=uint8)"
      ]
     },
     "execution_count": 160,
     "metadata": {},
     "output_type": "execute_result"
    }
   ],
   "source": [
    "y_train[2100]"
   ]
  },
  {
   "cell_type": "code",
   "execution_count": 162,
   "id": "f60c582c",
   "metadata": {},
   "outputs": [
    {
     "data": {
      "text/plain": [
       "<matplotlib.image.AxesImage at 0x204f1b9d570>"
      ]
     },
     "execution_count": 162,
     "metadata": {},
     "output_type": "execute_result"
    },
    {
     "data": {
      "image/png": "[encoded data removed]",
      "text/plain": [
       "<Figure size 640x480 with 1 Axes>"
      ]
     },
     "metadata": {},
     "output_type": "display_data"
    }
   ],
   "source": [
    "plt.imshow(X_train[2100])"
   ]
  },
  {
   "cell_type": "code",
   "execution_count": 163,
   "id": "ad6cf1e7",
   "metadata": {},
   "outputs": [
    {
     "data": {
      "text/plain": [
       "array([[[ 82,  95,  65],\n",
       "        [ 86, 101,  72],\n",
       "        [ 90, 105,  77],\n",
       "        ...,\n",
       "        [104, 114,  89],\n",
       "        [ 96, 107,  77],\n",
       "        [103, 115,  81]],\n",
       "\n",
       "       [[ 88, 101,  71],\n",
       "        [ 89, 103,  74],\n",
       "        [ 90, 104,  79],\n",
       "        ...,\n",
       "        [ 99, 109,  84],\n",
       "        [ 89, 101,  66],\n",
       "        [102, 113,  79]],\n",
       "\n",
       "       [[ 92, 105,  75],\n",
       "        [ 89, 104,  74],\n",
       "        [ 87, 102,  79],\n",
       "        ...,\n",
       "        [ 97, 106,  85],\n",
       "        [ 83,  95,  60],\n",
       "        [ 96, 108,  76]],\n",
       "\n",
       "       ...,\n",
       "\n",
       "       [[136, 140,  89],\n",
       "        [134, 140,  94],\n",
       "        [127, 133,  90],\n",
       "        ...,\n",
       "        [121, 136,  96],\n",
       "        [118, 135,  91],\n",
       "        [120, 134,  87]],\n",
       "\n",
       "       [[140, 142,  95],\n",
       "        [138, 142,  97],\n",
       "        [132, 137,  92],\n",
       "        ...,\n",
       "        [120, 134,  98],\n",
       "        [116, 132,  90],\n",
       "        [118, 132,  90]],\n",
       "\n",
       "       [[146, 149,  96],\n",
       "        [138, 143,  91],\n",
       "        [133, 141,  91],\n",
       "        ...,\n",
       "        [102, 115,  85],\n",
       "        [ 98, 113,  79],\n",
       "        [101, 115,  83]]], dtype=uint8)"
      ]
     },
     "execution_count": 163,
     "metadata": {},
     "output_type": "execute_result"
    }
   ],
   "source": [
    "X_test[5252]"
   ]
  },
  {
   "cell_type": "code",
   "execution_count": 166,
   "id": "f8d177c3",
   "metadata": {},
   "outputs": [],
   "source": [
    "img1=X_test[5252].reshape((1,)+X_test[5252].shape)"
   ]
  },
  {
   "cell_type": "code",
   "execution_count": 167,
   "id": "90a6a6e4",
   "metadata": {},
   "outputs": [
    {
     "data": {
      "text/plain": [
       "array([[[[ 82,  95,  65],\n",
       "         [ 86, 101,  72],\n",
       "         [ 90, 105,  77],\n",
       "         ...,\n",
       "         [104, 114,  89],\n",
       "         [ 96, 107,  77],\n",
       "         [103, 115,  81]],\n",
       "\n",
       "        [[ 88, 101,  71],\n",
       "         [ 89, 103,  74],\n",
       "         [ 90, 104,  79],\n",
       "         ...,\n",
       "         [ 99, 109,  84],\n",
       "         [ 89, 101,  66],\n",
       "         [102, 113,  79]],\n",
       "\n",
       "        [[ 92, 105,  75],\n",
       "         [ 89, 104,  74],\n",
       "         [ 87, 102,  79],\n",
       "         ...,\n",
       "         [ 97, 106,  85],\n",
       "         [ 83,  95,  60],\n",
       "         [ 96, 108,  76]],\n",
       "\n",
       "        ...,\n",
       "\n",
       "        [[136, 140,  89],\n",
       "         [134, 140,  94],\n",
       "         [127, 133,  90],\n",
       "         ...,\n",
       "         [121, 136,  96],\n",
       "         [118, 135,  91],\n",
       "         [120, 134,  87]],\n",
       "\n",
       "        [[140, 142,  95],\n",
       "         [138, 142,  97],\n",
       "         [132, 137,  92],\n",
       "         ...,\n",
       "         [120, 134,  98],\n",
       "         [116, 132,  90],\n",
       "         [118, 132,  90]],\n",
       "\n",
       "        [[146, 149,  96],\n",
       "         [138, 143,  91],\n",
       "         [133, 141,  91],\n",
       "         ...,\n",
       "         [102, 115,  85],\n",
       "         [ 98, 113,  79],\n",
       "         [101, 115,  83]]]], dtype=uint8)"
      ]
     },
     "execution_count": 167,
     "metadata": {},
     "output_type": "execute_result"
    }
   ],
   "source": [
    "img1"
   ]
  },
  {
   "cell_type": "code",
   "execution_count": 168,
   "id": "74d4b03e",
   "metadata": {},
   "outputs": [
    {
     "name": "stdout",
     "output_type": "stream",
     "text": [
      "1/1 [==============================] - 0s 31ms/step\n"
     ]
    },
    {
     "data": {
      "text/plain": [
       "array([[0., 0., 0., 0., 1., 0., 0., 0., 0., 0.]], dtype=float32)"
      ]
     },
     "execution_count": 168,
     "metadata": {},
     "output_type": "execute_result"
    }
   ],
   "source": [
    "smodel.predict(img1)"
   ]
  },
  {
   "cell_type": "code",
   "execution_count": null,
   "id": "ae69a77b",
   "metadata": {},
   "outputs": [],
   "source": [
    "np.argmax(smodel.predict)"
   ]
  }
 ],
 "metadata": {
  "kernelspec": {
   "display_name": "Python 3 (ipykernel)",
   "language": "python",
   "name": "python3"
  },
  "language_info": {
   "codemirror_mode": {
    "name": "ipython",
    "version": 3
   },
   "file_extension": ".py",
   "mimetype": "text/x-python",
   "name": "python",
   "nbconvert_exporter": "python",
   "pygments_lexer": "ipython3",
   "version": "3.10.9"
  }
 },
 "nbformat": 4,
 "nbformat_minor": 5
}
