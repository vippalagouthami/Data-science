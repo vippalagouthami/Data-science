{
 "cells": [
  {
   "cell_type": "code",
   "execution_count": 152,
   "id": "f56817f7",
   "metadata": {},
   "outputs": [],
   "source": [
    "result=[\"T_shirt\",\"Trouser\",\"pullover\",\"Dress\",\"coat\",\"sandal\",\"shirt\",\"sneaker\",\"Bag\",\"Ankle Boot\"]"
   ]
  },
  {
   "cell_type": "code",
   "execution_count": 1,
   "id": "8f804717",
   "metadata": {},
   "outputs": [],
   "source": [
    "import tensorflow as tf"
   ]
  },
  {
   "cell_type": "code",
   "execution_count": 2,
   "id": "1655f450",
   "metadata": {},
   "outputs": [],
   "source": [
    "from tensorflow.keras.models import Sequential"
   ]
  },
  {
   "cell_type": "code",
   "execution_count": 3,
   "id": "a080f8a5",
   "metadata": {},
   "outputs": [],
   "source": [
    "import numpy as np"
   ]
  },
  {
   "cell_type": "code",
   "execution_count": 4,
   "id": "b794fae8",
   "metadata": {},
   "outputs": [],
   "source": [
    "import pandas as pd "
   ]
  },
  {
   "cell_type": "code",
   "execution_count": 5,
   "id": "0d3108dd",
   "metadata": {},
   "outputs": [],
   "source": [
    "import matplotlib.pyplot as plt"
   ]
  },
  {
   "cell_type": "code",
   "execution_count": 6,
   "id": "f2980fe3",
   "metadata": {},
   "outputs": [],
   "source": [
    "from tensorflow.keras.datasets import fashion_mnist"
   ]
  },
  {
   "cell_type": "code",
   "execution_count": 8,
   "id": "ccae8d1c",
   "metadata": {},
   "outputs": [
    {
     "name": "stdout",
     "output_type": "stream",
     "text": [
      "Downloading data from https://storage.googleapis.com/tensorflow/tf-keras-datasets/train-labels-idx1-ubyte.gz\n",
      "29515/29515 [==============================] - 0s 2us/step\n",
      "Downloading data from https://storage.googleapis.com/tensorflow/tf-keras-datasets/train-images-idx3-ubyte.gz\n",
      "26421880/26421880 [==============================] - 12s 0us/step\n",
      "Downloading data from https://storage.googleapis.com/tensorflow/tf-keras-datasets/t10k-labels-idx1-ubyte.gz\n",
      "5148/5148 [==============================] - 0s 0s/step\n",
      "Downloading data from https://storage.googleapis.com/tensorflow/tf-keras-datasets/t10k-images-idx3-ubyte.gz\n",
      "4422102/4422102 [==============================] - 2s 1us/step\n"
     ]
    }
   ],
   "source": [
    "(X_train,y_train),(X_test,y_test)=fashion_mnist.load_data()"
   ]
  },
  {
   "cell_type": "code",
   "execution_count": 9,
   "id": "3bc16d4c",
   "metadata": {},
   "outputs": [
    {
     "data": {
      "text/plain": [
       "(60000, 28, 28)"
      ]
     },
     "execution_count": 9,
     "metadata": {},
     "output_type": "execute_result"
    }
   ],
   "source": [
    "X_train.shape"
   ]
  },
  {
   "cell_type": "code",
   "execution_count": 11,
   "id": "54ec4602",
   "metadata": {},
   "outputs": [
    {
     "data": {
      "text/plain": [
       "(10000, 28, 28)"
      ]
     },
     "execution_count": 11,
     "metadata": {},
     "output_type": "execute_result"
    }
   ],
   "source": [
    "X_test.shape"
   ]
  },
  {
   "cell_type": "code",
   "execution_count": 12,
   "id": "ae42bdf6",
   "metadata": {},
   "outputs": [
    {
     "data": {
      "text/plain": [
       "array([[[0, 0, 0, ..., 0, 0, 0],\n",
       "        [0, 0, 0, ..., 0, 0, 0],\n",
       "        [0, 0, 0, ..., 0, 0, 0],\n",
       "        ...,\n",
       "        [0, 0, 0, ..., 0, 0, 0],\n",
       "        [0, 0, 0, ..., 0, 0, 0],\n",
       "        [0, 0, 0, ..., 0, 0, 0]],\n",
       "\n",
       "       [[0, 0, 0, ..., 0, 0, 0],\n",
       "        [0, 0, 0, ..., 0, 0, 0],\n",
       "        [0, 0, 0, ..., 0, 0, 0],\n",
       "        ...,\n",
       "        [0, 0, 0, ..., 0, 0, 0],\n",
       "        [0, 0, 0, ..., 0, 0, 0],\n",
       "        [0, 0, 0, ..., 0, 0, 0]],\n",
       "\n",
       "       [[0, 0, 0, ..., 0, 0, 0],\n",
       "        [0, 0, 0, ..., 0, 0, 0],\n",
       "        [0, 0, 0, ..., 0, 0, 0],\n",
       "        ...,\n",
       "        [0, 0, 0, ..., 0, 0, 0],\n",
       "        [0, 0, 0, ..., 0, 0, 0],\n",
       "        [0, 0, 0, ..., 0, 0, 0]],\n",
       "\n",
       "       ...,\n",
       "\n",
       "       [[0, 0, 0, ..., 0, 0, 0],\n",
       "        [0, 0, 0, ..., 0, 0, 0],\n",
       "        [0, 0, 0, ..., 0, 0, 0],\n",
       "        ...,\n",
       "        [0, 0, 0, ..., 0, 0, 0],\n",
       "        [0, 0, 0, ..., 0, 0, 0],\n",
       "        [0, 0, 0, ..., 0, 0, 0]],\n",
       "\n",
       "       [[0, 0, 0, ..., 0, 0, 0],\n",
       "        [0, 0, 0, ..., 0, 0, 0],\n",
       "        [0, 0, 0, ..., 0, 0, 0],\n",
       "        ...,\n",
       "        [0, 0, 0, ..., 0, 0, 0],\n",
       "        [0, 0, 0, ..., 0, 0, 0],\n",
       "        [0, 0, 0, ..., 0, 0, 0]],\n",
       "\n",
       "       [[0, 0, 0, ..., 0, 0, 0],\n",
       "        [0, 0, 0, ..., 0, 0, 0],\n",
       "        [0, 0, 0, ..., 0, 0, 0],\n",
       "        ...,\n",
       "        [0, 0, 0, ..., 0, 0, 0],\n",
       "        [0, 0, 0, ..., 0, 0, 0],\n",
       "        [0, 0, 0, ..., 0, 0, 0]]], dtype=uint8)"
      ]
     },
     "execution_count": 12,
     "metadata": {},
     "output_type": "execute_result"
    }
   ],
   "source": [
    "X_train"
   ]
  },
  {
   "cell_type": "code",
   "execution_count": 13,
   "id": "da684789",
   "metadata": {},
   "outputs": [
    {
     "data": {
      "text/plain": [
       "array([[  0,   0,   0,   0,   0,   0,   0,   0,   0,  12, 107,  85,  68,\n",
       "         59,  80,  75,  73,  85,  72,  41,   0,   0,   1,   0,   0,   0,\n",
       "          0,   0],\n",
       "       [  0,   0,   0,   0,   0,   0,   0,   0,   0, 120, 196,  70, 150,\n",
       "        150, 119, 153, 150, 110, 167, 134,   8,   0,   1,   0,   0,   0,\n",
       "          0,   0],\n",
       "       [  0,   0,   0,   0,   0,   0,   0,   0,   0, 100, 138,  70, 106,\n",
       "        196, 255, 148,  32,  49,  63,  99,  28,   0,   0,   0,   0,   0,\n",
       "          0,   0],\n",
       "       [  0,   0,   0,   0,   0,   0,   0,  90, 109,  82,  76,  89,  73,\n",
       "         80, 120,  83,  99,  90, 107,  79,  80,  48,   0,   0,   0,   0,\n",
       "          0,   0],\n",
       "       [  0,   0,   0,   0,   0,   0,  87, 114,  75,  80,  73,  66,  62,\n",
       "         80,  77,  79,  56,  55,  42,  53,  62,  86,  45,   0,   0,   0,\n",
       "          0,   0],\n",
       "       [  0,   0,   0,   0,   0,  14, 116,  75,  93,  75,  76,  80,  72,\n",
       "         90,  89,  69,  59,  62,  66,  56,  59,  52,  72,   2,   0,   0,\n",
       "          0,   0],\n",
       "       [  0,   0,   0,   0,   0,  28, 111,  75,  85,  76,  73,  65,  66,\n",
       "         86,  89,  80,  53,  59,  49,  56,  51,  56,  87,   5,   0,   0,\n",
       "          0,   0],\n",
       "       [  0,   0,   0,   0,   0,  59, 123,  76,  87,  70,   4,  22,   0,\n",
       "         31,  60,  43,  15,  25,   4,  60,  42,  90, 104,  18,   0,   0,\n",
       "          0,   0],\n",
       "       [  0,   0,   0,   0,   0,  73, 141,  82,  97,  65,   2,  18,   1,\n",
       "         38,  43,  35,  18,  34,  15,  56,  41, 127,  94,  29,   0,   0,\n",
       "          0,   0],\n",
       "       [  0,   0,   0,   0,   0,  82, 130,  99,  94,  92,  59,  65,  76,\n",
       "         62,  56,  70,  53,  58,  34,  55,  52, 117,  79,  52,   0,   0,\n",
       "          0,   0],\n",
       "       [  0,   0,   0,   0,   0,  87, 121, 133, 100, 103, 110,  86,  87,\n",
       "         79,  76,  76,  72,  73,  72,  63,  51, 109,  63,  63,   0,   0,\n",
       "          0,   0],\n",
       "       [  0,   0,   0,   0,   0,  97, 116, 150, 111,  92,  87,  75,  79,\n",
       "         70,  66,  72,  65,  66,  65,  48,  68, 136,  60,  80,   0,   0,\n",
       "          0,   0],\n",
       "       [  0,   0,   0,   0,   0,  90, 133, 160, 140,  82,  83,  87,  83,\n",
       "         76,  73,  70,  70,  70,  60,  43,  94, 121,  68,  90,   0,   0,\n",
       "          0,   0],\n",
       "       [  0,   0,   0,   0,   4,  82, 133, 199, 144,  68,  85,  90,  82,\n",
       "         76,  76,  70,  69,  76,  72,  42, 162,  93,  90,  94,   0,   0,\n",
       "          0,   0],\n",
       "       [  0,   0,   0,   0,  21,  90,  89, 226, 196,  65,  85,  89,  82,\n",
       "         80,  76,  77,  86,  90,  82,  62, 208, 131, 111,  97,   0,   0,\n",
       "          0,   0],\n",
       "       [  0,   0,   0,   0,  34,  79,  90, 219, 182,  68,  94,  86,  89,\n",
       "         89,  76,  85,  92,  87,  96,  69, 188, 202, 116,  90,   0,   0,\n",
       "          0,   0],\n",
       "       [  0,   0,   0,   0,  35,  79,  89, 222, 138,  66,  94,  72,  86,\n",
       "         80,  68,  80,  89,  73,  97,  62, 138, 223, 106,  85,   8,   0,\n",
       "          0,   0],\n",
       "       [  0,   0,   0,   0,  39,  77,  87, 225, 109,  58,  80,  79,  89,\n",
       "         77,  72,  79,  90,  77,  80,  59, 110, 223, 106,  85,  19,   0,\n",
       "          0,   0],\n",
       "       [  0,   0,   0,   0,  52,  77,  82, 221,  70,  62,  76,  86,  83,\n",
       "         77,  76,  75,  83,  86,  77,  59,  70, 222, 104,  82,  25,   0,\n",
       "          0,   0],\n",
       "       [  0,   0,   0,   0,  49,  69,  94, 211,  41,  65,  83,  85,  79,\n",
       "         77,  75,  73,  76,  85,  85,  59,  45, 211, 107,  79,  29,   0,\n",
       "          0,   0],\n",
       "       [  0,   0,   0,   0,  46,  66, 109, 188,  21,  79,  79,  77,  77,\n",
       "         75,  76,  75,  77,  79,  80,  80,  18, 188, 104,  68,  32,   0,\n",
       "          0,   0],\n",
       "       [  0,   0,   0,   0,  48,  59, 128, 181,  15,  89,  72,  77,  79,\n",
       "         76,  76,  75,  80,  77,  70,  90,  18, 182, 127,  62,  39,   0,\n",
       "          0,   0],\n",
       "       [  0,   0,   0,   0,  46,  55, 150, 134,   9,  77,  73,  76,  77,\n",
       "         76,  75,  73,  73,  75,  72,  79,  11, 137, 145,  58,  46,   0,\n",
       "          0,   0],\n",
       "       [  0,   0,   0,   0,  48,  52, 145, 121,  12, 103,  80,  77,  79,\n",
       "         79,  83,  82,  80,  77,  79, 102,  14, 128, 144,  53,  45,   0,\n",
       "          0,   0],\n",
       "       [  0,   0,   0,   0,  52,  43, 160, 138,   5, 117,  86,  87,  89,\n",
       "         87,  85,  86,  87,  86,  89, 116,  12, 134, 160,  48,  48,   0,\n",
       "          0,   0],\n",
       "       [  0,   0,   0,   0,  56,  66, 168, 116,  14, 121,  93,  97,  97,\n",
       "         96,  92,  93,  94, 102,  96, 120,  18, 117, 168,  63,  55,   0,\n",
       "          0,   0],\n",
       "       [  0,   0,   0,   0,  52,  86, 155, 137,   0,   0,   0,   0,   0,\n",
       "          0,   0,   0,   0,   0,   0,   0,   0, 134, 157,  85,  52,   0,\n",
       "          0,   0],\n",
       "       [  0,   0,   0,   0,  34,  58, 107,  80,   0,   0,   0,   0,   0,\n",
       "          0,   0,   0,   0,   0,   0,   0,   0,  73, 110,  58,  32,   0,\n",
       "          0,   0]], dtype=uint8)"
      ]
     },
     "execution_count": 13,
     "metadata": {},
     "output_type": "execute_result"
    }
   ],
   "source": [
    "X_train[2108]"
   ]
  },
  {
   "cell_type": "code",
   "execution_count": 18,
   "id": "e0535f50",
   "metadata": {},
   "outputs": [
    {
     "data": {
      "text/plain": [
       "(28, 28)"
      ]
     },
     "execution_count": 18,
     "metadata": {},
     "output_type": "execute_result"
    }
   ],
   "source": [
    "X_train[2108].shape"
   ]
  },
  {
   "cell_type": "code",
   "execution_count": 19,
   "id": "e777059d",
   "metadata": {},
   "outputs": [
    {
     "data": {
      "text/plain": [
       "<matplotlib.image.AxesImage at 0x23379d76e90>"
      ]
     },
     "execution_count": 19,
     "metadata": {},
     "output_type": "execute_result"
    },
    {
     "data": {
      "image/png": "[encoded data removed]",
      "text/plain": [
       "<Figure size 640x480 with 1 Axes>"
      ]
     },
     "metadata": {},
     "output_type": "display_data"
    }
   ],
   "source": [
    "plt.imshow(X_train[2108])"
   ]
  },
  {
   "cell_type": "code",
   "execution_count": 20,
   "id": "ab8bd2d9",
   "metadata": {},
   "outputs": [
    {
     "data": {
      "text/plain": [
       "array([[  0,   0,   0,   0,   0,   0,   0,   0,   0,   0,   0,   0,   0,\n",
       "          0,   0,   0,   0,   0,   0,   0,   0,   0,   0,   0,   0,   0,\n",
       "          0,   0],\n",
       "       [  0,   0,   0,   0,   0,   0,   0,   0,   0,   0,   0,   0,   0,\n",
       "          0,   0,   0,   0,   0,   0,   0,   0,   0,   0,   0,   0,   0,\n",
       "          0,   0],\n",
       "       [  0,   0,   0,   0,   0,   0,   0,   0,   0,   0,   0,   0,   0,\n",
       "          0,   0,   0,   0,   0,   0,   0,   0,   0,   0,   0,   0,   0,\n",
       "          0,   0],\n",
       "       [  0,   0,   0,   0,   0,   0,   0,  43, 128, 143, 151, 175, 217,\n",
       "        236, 228, 231, 226, 205, 186, 183, 116,   0,   0,   0,   0,   0,\n",
       "          0,   0],\n",
       "       [  0,   0,   0,   0,  94, 190, 255, 255, 255, 255, 255, 255, 253,\n",
       "        244, 219, 254, 248, 252, 255, 255, 255, 255, 211, 122,  49,   0,\n",
       "          0,   0],\n",
       "       [  0,   0,   0, 168, 254, 248, 242, 233, 224, 236, 238, 232, 239,\n",
       "        238, 218, 242, 233, 235, 244, 228, 231, 239, 244, 253, 252, 109,\n",
       "          0,   0],\n",
       "       [  3,   0, 106, 255, 228, 234, 233, 231, 237, 235, 248, 246, 236,\n",
       "        240, 238, 233, 237, 246, 238, 231, 236, 231, 233, 225, 239, 228,\n",
       "          0,   0],\n",
       "       [  0,   0, 234, 239, 232, 232, 236, 234, 232, 234, 235, 242, 243,\n",
       "        241, 240, 241, 238, 237, 232, 232, 233, 233, 233, 230, 226, 254,\n",
       "         76,   0],\n",
       "       [  0,  40, 240, 230, 238, 228, 231, 231, 234, 234, 230, 229, 232,\n",
       "        236, 236, 233, 232, 230, 232, 232, 231, 231, 226, 235, 231, 247,\n",
       "        202,   0],\n",
       "       [  0, 185, 241, 230, 239, 231, 224, 231, 231, 235, 233, 232, 230,\n",
       "        229, 230, 232, 234, 234, 231, 231, 230, 230, 230, 235, 232, 226,\n",
       "        241,  55],\n",
       "       [ 10, 200, 255, 237, 233, 236, 227, 228, 228, 226, 229, 232, 233,\n",
       "        233, 233, 232, 230, 230, 230, 230, 229, 227, 233, 231, 230, 249,\n",
       "        243, 135],\n",
       "       [  0,   0,  71, 247, 250, 244, 232, 226, 229, 226, 230, 232, 230,\n",
       "        229, 228, 229, 229, 229, 229, 229, 228, 227, 231, 245, 243, 173,\n",
       "          4,   0],\n",
       "       [  0,   0,   0,   0, 130, 255, 253, 221, 231, 229, 230, 229, 229,\n",
       "        228, 228, 228, 228, 229, 229, 227, 226, 225, 255, 255,  31,   0,\n",
       "          0,   0],\n",
       "       [  0,   2,   1,   0,   0,  11, 176, 255, 222, 229, 227, 227, 228,\n",
       "        227, 227, 227, 227, 226, 229, 228, 229, 245, 112,   2,   0,   0,\n",
       "          2,   0],\n",
       "       [  3,   0,   0,   0,   0,   0, 131, 243, 217, 229, 226, 227, 227,\n",
       "        227, 227, 227, 227, 227, 225, 223, 226, 255,   0,   0,   1,   0,\n",
       "          0,   0],\n",
       "       [  3,   1,   3,   0,   1,   0, 109, 249, 223, 229, 228, 228, 228,\n",
       "        228, 227, 227, 227, 228, 225, 221, 233, 255,   0,   0,   1,   0,\n",
       "          1,   0],\n",
       "       [  0,   0,   1,   0,   3,   0,  81, 246, 226, 235, 231, 231, 232,\n",
       "        231, 230, 230, 230, 229, 230, 228, 242, 244,   0,   0,   1,   0,\n",
       "          0,   0],\n",
       "       [  0,   0,   0,   0,   4,   0,  53, 243, 229, 232, 231, 231, 231,\n",
       "        231, 231, 231, 231, 230, 232, 229, 241, 226,   0,   0,   0,   0,\n",
       "          0,   0],\n",
       "       [  0,   0,   0,   0,   4,   0,  29, 238, 226, 226, 226, 226, 226,\n",
       "        228, 229, 229, 229, 229, 228, 223, 240, 211,   0,   0,   0,   0,\n",
       "          0,   0],\n",
       "       [  0,   0,   0,   0,   3,   0,  16, 233, 225, 223, 225, 225, 224,\n",
       "        226, 227, 227, 227, 226, 225, 225, 241, 201,   0,   0,   0,   0,\n",
       "          0,   0],\n",
       "       [  0,   0,   0,   0,   2,   0,  10, 225, 230, 223, 225, 225, 225,\n",
       "        225, 226, 226, 225, 226, 228, 224, 240, 187,   0,   0,   0,   0,\n",
       "          0,   0],\n",
       "       [  0,   0,   0,   0,   2,   0,   0, 248, 234, 221, 223, 225, 227,\n",
       "        225, 225, 227, 229, 230, 221, 222, 243, 166,   0,   0,   0,   0,\n",
       "          0,   0],\n",
       "       [  0,   0,   0,   0,   1,   0,   0, 241, 233, 224, 226, 227, 227,\n",
       "        227, 228, 228, 230, 232, 225, 223, 245, 155,   0,   0,   0,   0,\n",
       "          0,   0],\n",
       "       [  0,   0,   0,   0,   1,   0,   0, 232, 227, 218, 220, 220, 221,\n",
       "        218, 216, 218, 217, 221, 223, 221, 243, 140,   0,   0,   0,   0,\n",
       "          0,   0],\n",
       "       [  0,   0,   0,   0,   2,   0,   0, 254, 237, 239, 241, 247, 252,\n",
       "        254, 255, 254, 254, 252, 246, 230, 248, 146,   0,   1,   0,   0,\n",
       "          0,   0],\n",
       "       [  0,   0,   0,   0,   3,   0,   0, 235, 217, 200, 200, 196, 189,\n",
       "        184, 182, 182, 186, 188, 198, 195, 223, 142,   0,   0,   0,   0,\n",
       "          0,   0],\n",
       "       [  0,   0,   0,   0,   0,   0,   0,   0,   0,   0,   0,   0,   0,\n",
       "          0,   0,   0,   0,   0,   0,   0,   0,   0,   0,   0,   0,   0,\n",
       "          0,   0],\n",
       "       [  0,   0,   0,   0,   0,   0,   0,   0,   0,   0,   0,   0,   0,\n",
       "          0,   0,   0,   0,   0,   0,   0,   0,   0,   0,   0,   0,   0,\n",
       "          0,   0]], dtype=uint8)"
      ]
     },
     "execution_count": 20,
     "metadata": {},
     "output_type": "execute_result"
    }
   ],
   "source": [
    "X_train[3543]"
   ]
  },
  {
   "cell_type": "code",
   "execution_count": 21,
   "id": "d7511c62",
   "metadata": {},
   "outputs": [
    {
     "data": {
      "text/plain": [
       "<matplotlib.image.AxesImage at 0x23302d38730>"
      ]
     },
     "execution_count": 21,
     "metadata": {},
     "output_type": "execute_result"
    },
    {
     "data": {
      "image/png": "[encoded data removed]",
      "text/plain": [
       "<Figure size 640x480 with 1 Axes>"
      ]
     },
     "metadata": {},
     "output_type": "display_data"
    }
   ],
   "source": [
    "plt.imshow(X_train[3543])"
   ]
  },
  {
   "cell_type": "code",
   "execution_count": 23,
   "id": "6870443f",
   "metadata": {},
   "outputs": [
    {
     "data": {
      "text/plain": [
       "['T_shirt',\n",
       " 'Trouser',\n",
       " 'pullover',\n",
       " 'Dress',\n",
       " 'coat',\n",
       " 'shirt',\n",
       " 'sneaker',\n",
       " 'Bag',\n",
       " 'Ankle Boot']"
      ]
     },
     "execution_count": 23,
     "metadata": {},
     "output_type": "execute_result"
    }
   ],
   "source": [
    "result"
   ]
  },
  {
   "cell_type": "code",
   "execution_count": 24,
   "id": "d1bbfe12",
   "metadata": {},
   "outputs": [
    {
     "data": {
      "text/plain": [
       "'pullover'"
      ]
     },
     "execution_count": 24,
     "metadata": {},
     "output_type": "execute_result"
    }
   ],
   "source": [
    "result[2]"
   ]
  },
  {
   "cell_type": "code",
   "execution_count": 25,
   "id": "f5ac79f0",
   "metadata": {},
   "outputs": [
    {
     "data": {
      "text/plain": [
       "0"
      ]
     },
     "execution_count": 25,
     "metadata": {},
     "output_type": "execute_result"
    }
   ],
   "source": [
    "y_train[3543]"
   ]
  },
  {
   "cell_type": "code",
   "execution_count": 26,
   "id": "875dc6f7",
   "metadata": {},
   "outputs": [
    {
     "data": {
      "text/plain": [
       "'T_shirt'"
      ]
     },
     "execution_count": 26,
     "metadata": {},
     "output_type": "execute_result"
    }
   ],
   "source": [
    "result[0]"
   ]
  },
  {
   "cell_type": "code",
   "execution_count": 27,
   "id": "c5194908",
   "metadata": {},
   "outputs": [
    {
     "data": {
      "text/plain": [
       "255"
      ]
     },
     "execution_count": 27,
     "metadata": {},
     "output_type": "execute_result"
    }
   ],
   "source": [
    "X_train.max()"
   ]
  },
  {
   "cell_type": "code",
   "execution_count": 28,
   "id": "6d30b8b1",
   "metadata": {},
   "outputs": [
    {
     "data": {
      "text/plain": [
       "0"
      ]
     },
     "execution_count": 28,
     "metadata": {},
     "output_type": "execute_result"
    }
   ],
   "source": [
    "X_train.min()"
   ]
  },
  {
   "cell_type": "code",
   "execution_count": 31,
   "id": "0279fee9",
   "metadata": {},
   "outputs": [],
   "source": [
    "X_train_scale=X_train/255.0"
   ]
  },
  {
   "cell_type": "code",
   "execution_count": 32,
   "id": "6443a9e8",
   "metadata": {},
   "outputs": [],
   "source": [
    "X_test_scale=X_test/255.0"
   ]
  },
  {
   "cell_type": "code",
   "execution_count": 33,
   "id": "3c699380",
   "metadata": {},
   "outputs": [
    {
     "data": {
      "text/plain": [
       "1.0"
      ]
     },
     "execution_count": 33,
     "metadata": {},
     "output_type": "execute_result"
    }
   ],
   "source": [
    "X_train_scale.max()"
   ]
  },
  {
   "cell_type": "code",
   "execution_count": 35,
   "id": "55a195ea",
   "metadata": {},
   "outputs": [
    {
     "data": {
      "text/plain": [
       "1.0"
      ]
     },
     "execution_count": 35,
     "metadata": {},
     "output_type": "execute_result"
    }
   ],
   "source": [
    "X_test_scale.max()"
   ]
  },
  {
   "cell_type": "code",
   "execution_count": 36,
   "id": "e771c26f",
   "metadata": {},
   "outputs": [
    {
     "data": {
      "text/plain": [
       "(60000, 28, 28)"
      ]
     },
     "execution_count": 36,
     "metadata": {},
     "output_type": "execute_result"
    }
   ],
   "source": [
    "X_train.shape"
   ]
  },
  {
   "cell_type": "code",
   "execution_count": 37,
   "id": "8161c5fc",
   "metadata": {},
   "outputs": [
    {
     "data": {
      "text/plain": [
       "(60000, 28, 28)"
      ]
     },
     "execution_count": 37,
     "metadata": {},
     "output_type": "execute_result"
    }
   ],
   "source": [
    "X_train_scale.shape"
   ]
  },
  {
   "cell_type": "code",
   "execution_count": 38,
   "id": "e58439cf",
   "metadata": {},
   "outputs": [
    {
     "data": {
      "text/plain": [
       "(28, 28)"
      ]
     },
     "execution_count": 38,
     "metadata": {},
     "output_type": "execute_result"
    }
   ],
   "source": [
    "X_train[0].shape"
   ]
  },
  {
   "cell_type": "code",
   "execution_count": 39,
   "id": "838a0c6a",
   "metadata": {},
   "outputs": [
    {
     "data": {
      "text/plain": [
       "array([[  0,   0,   0,   0,   0,   0,   0,  62, 159, 182,  74,   0,   0,\n",
       "          0,   0,   0,  22,  98, 189, 154,  49,   0,   0,   0,   0,   0,\n",
       "          0,   0],\n",
       "       [  0,   0,   0,   0,   0,   0, 211, 250, 240, 240, 248, 236, 223,\n",
       "        228, 254, 254, 228, 213, 236, 242, 249, 191,   0,   0,   0,   0,\n",
       "          0,   0],\n",
       "       [  0,   0,   0,   1,   0, 123, 255, 231, 228, 230, 233, 205, 181,\n",
       "        191, 195, 166, 175, 209, 236, 229, 230, 255, 126,   0,   1,   0,\n",
       "          0,   0],\n",
       "       [  0,   0,   0,   0,   0, 230, 244, 238, 233, 233, 238, 239, 245,\n",
       "        237, 232, 238, 247, 241, 235, 236, 234, 242, 228,   0,   0,   0,\n",
       "          0,   0],\n",
       "       [  0,   0,   0,   0,   0, 229, 243, 244, 233, 231, 231, 225, 227,\n",
       "        227, 229, 234, 230, 232, 231, 234, 243, 239, 229,   0,   0,   0,\n",
       "          0,   0],\n",
       "       [  0,   0,   0,   0,  31, 251, 242, 249, 241, 231, 229, 227, 225,\n",
       "        225, 222, 226, 222, 223, 231, 235, 247, 240, 249,  33,   0,   0,\n",
       "          0,   0],\n",
       "       [  0,   0,   0,   0,  71, 255, 239, 250, 242, 235, 232, 232, 230,\n",
       "        229, 228, 233, 215, 198, 210, 230, 253, 236, 253,  88,   0,   0,\n",
       "          0,   0],\n",
       "       [  0,   0,   0,   0, 146, 254, 237, 251, 243, 243, 239, 238, 238,\n",
       "        234, 234, 248, 237, 202, 206, 233, 248, 240, 253, 151,   0,   0,\n",
       "          0,   0],\n",
       "       [  0,   0,   0,   0, 213, 253, 241, 254, 246, 244, 242, 240, 239,\n",
       "        239, 238, 243, 232, 215, 212, 247, 248, 242, 249, 222,   0,   0,\n",
       "          0,   0],\n",
       "       [  0,   0,   0,   0, 250, 249, 245, 245, 247, 247, 240, 239, 237,\n",
       "        240, 242, 245, 239, 237, 223, 249, 254, 243, 244, 255,   0,   0,\n",
       "          0,   0],\n",
       "       [  0,   0,   0,   0, 255, 245, 255, 160, 212, 255, 239, 240, 238,\n",
       "        241, 241, 244, 240, 244, 244, 247, 252, 247, 243, 255,   0,   0,\n",
       "          0,   0],\n",
       "       [  0,   0,   0,   0, 255, 241, 255,  65, 187, 255, 238, 241, 238,\n",
       "        244, 244, 243, 241, 238, 239, 242, 254, 254, 241, 255,  50,   0,\n",
       "          0,   0],\n",
       "       [  0,   0,   0,   5, 245, 242, 255,  19, 201, 255, 239, 245, 238,\n",
       "        243, 242, 242, 242, 240, 239, 251, 238, 253, 241, 255,  90,   0,\n",
       "          0,   0],\n",
       "       [  0,   0,   0,  20, 245, 244, 255,   0, 237, 255, 239, 245, 238,\n",
       "        243, 243, 242, 240, 242, 239, 255, 159, 235, 249, 255, 106,   0,\n",
       "          0,   0],\n",
       "       [  0,   0,   0,  38, 247, 249, 255,   0, 255, 252, 243, 244, 238,\n",
       "        243, 243, 242, 241, 244, 236, 255,  74, 226, 254, 255, 123,   0,\n",
       "          0,   0],\n",
       "       [  0,   0,   0,  63, 248, 254, 233,   0, 255, 240, 243, 244, 238,\n",
       "        242, 242, 243, 241, 240, 234, 255,  73, 217, 255, 255, 150,   0,\n",
       "          0,   0],\n",
       "       [  0,   0,   0,  74, 248, 254, 183,   6, 255, 233, 245, 243, 239,\n",
       "        240, 242, 243, 241, 243, 232, 255,  89, 188, 255, 255, 171,   0,\n",
       "          0,   0],\n",
       "       [  0,   0,   0,  71, 247, 255, 144,  63, 255, 236, 246, 245, 241,\n",
       "        242, 243, 244, 242, 242, 231, 255, 102, 142, 255, 253, 188,   0,\n",
       "          0,   0],\n",
       "       [  0,   0,   0,  72, 246, 255, 106,  94, 255, 231, 246, 245, 241,\n",
       "        242, 244, 244, 243, 241, 236, 255, 136, 101, 255, 250, 199,   0,\n",
       "          0,   0],\n",
       "       [  0,   0,   0,  64, 245, 255,  77,  92, 255, 231, 244, 242, 241,\n",
       "        240, 245, 247, 243, 241, 238, 255, 175,  95, 255, 245, 204,   0,\n",
       "          0,   0],\n",
       "       [  0,   0,   0,  66, 243, 255,  84, 138, 255, 236, 239, 239, 238,\n",
       "        238, 240, 242, 239, 238, 238, 247, 199,  91, 255, 245, 204,   0,\n",
       "          0,   0],\n",
       "       [  0,   0,   0,  71, 245, 255, 109, 234, 255, 254, 255, 254, 254,\n",
       "        254, 255, 255, 254, 254, 254, 255, 255,  96, 255, 247, 204,   0,\n",
       "          0,   0],\n",
       "       [  0,   0,   0,  77, 248, 255, 126, 148, 198, 173, 176, 170, 168,\n",
       "        169, 173, 177, 176, 177, 179, 192, 187, 130, 255, 244, 200,   0,\n",
       "          0,   0],\n",
       "       [  0,   0,   0,  78, 248, 255, 123,   0,   0,   0,   0,   0,   0,\n",
       "          0,   0,   0,   0,   0,   0,   0,   0,  70, 253, 243, 187,   0,\n",
       "          0,   0],\n",
       "       [  0,   0,   0,  76, 245, 255, 138,   0,   5,   0,   0,   0,   0,\n",
       "          0,   0,   0,   0,   0,   0,   0,   0,  72, 250, 248, 167,   0,\n",
       "          0,   0],\n",
       "       [  0,   0,   0,  71, 239, 255, 128,   0,   4,   0,   0,   0,   0,\n",
       "          0,   0,   0,   0,   0,   0,   3,   0,  70, 248, 245, 147,   0,\n",
       "          0,   0],\n",
       "       [  0,   0,   0,  77, 253, 255, 129,   0,   5,   0,   0,   0,   0,\n",
       "          0,   0,   0,   0,   0,   0,   2,   0,  50, 252, 255, 160,   0,\n",
       "          0,   0],\n",
       "       [  0,   0,   0,  43, 193, 208,  87,   0,   4,   0,   0,   0,   0,\n",
       "          0,   0,   0,   0,   0,   0,   2,   0,  21, 206, 214, 114,   0,\n",
       "          0,   0]], dtype=uint8)"
      ]
     },
     "execution_count": 39,
     "metadata": {},
     "output_type": "execute_result"
    }
   ],
   "source": [
    "X_train[12120]"
   ]
  },
  {
   "cell_type": "code",
   "execution_count": 40,
   "id": "034209f3",
   "metadata": {},
   "outputs": [
    {
     "data": {
      "text/plain": [
       "<matplotlib.image.AxesImage at 0x23302dbb250>"
      ]
     },
     "execution_count": 40,
     "metadata": {},
     "output_type": "execute_result"
    },
    {
     "data": {
      "image/png": "[encoded data removed]",
      "text/plain": [
       "<Figure size 640x480 with 1 Axes>"
      ]
     },
     "metadata": {},
     "output_type": "display_data"
    }
   ],
   "source": [
    "plt.imshow(X_train[12120])"
   ]
  },
  {
   "cell_type": "code",
   "execution_count": 42,
   "id": "8fcff81e",
   "metadata": {},
   "outputs": [
    {
     "data": {
      "text/plain": [
       "2"
      ]
     },
     "execution_count": 42,
     "metadata": {},
     "output_type": "execute_result"
    }
   ],
   "source": [
    "y_train[12120]"
   ]
  },
  {
   "cell_type": "code",
   "execution_count": 43,
   "id": "14cb41e9",
   "metadata": {},
   "outputs": [
    {
     "data": {
      "text/plain": [
       "'pullover'"
      ]
     },
     "execution_count": 43,
     "metadata": {},
     "output_type": "execute_result"
    }
   ],
   "source": [
    "result[2]"
   ]
  },
  {
   "cell_type": "code",
   "execution_count": 44,
   "id": "5fee6045",
   "metadata": {},
   "outputs": [
    {
     "data": {
      "text/plain": [
       "array([[0.        , 0.        , 0.        , 0.        , 0.        ,\n",
       "        0.        , 0.        , 0.24313725, 0.62352941, 0.71372549,\n",
       "        0.29019608, 0.        , 0.        , 0.        , 0.        ,\n",
       "        0.        , 0.08627451, 0.38431373, 0.74117647, 0.60392157,\n",
       "        0.19215686, 0.        , 0.        , 0.        , 0.        ,\n",
       "        0.        , 0.        , 0.        ],\n",
       "       [0.        , 0.        , 0.        , 0.        , 0.        ,\n",
       "        0.        , 0.82745098, 0.98039216, 0.94117647, 0.94117647,\n",
       "        0.97254902, 0.9254902 , 0.8745098 , 0.89411765, 0.99607843,\n",
       "        0.99607843, 0.89411765, 0.83529412, 0.9254902 , 0.94901961,\n",
       "        0.97647059, 0.74901961, 0.        , 0.        , 0.        ,\n",
       "        0.        , 0.        , 0.        ],\n",
       "       [0.        , 0.        , 0.        , 0.00392157, 0.        ,\n",
       "        0.48235294, 1.        , 0.90588235, 0.89411765, 0.90196078,\n",
       "        0.91372549, 0.80392157, 0.70980392, 0.74901961, 0.76470588,\n",
       "        0.65098039, 0.68627451, 0.81960784, 0.9254902 , 0.89803922,\n",
       "        0.90196078, 1.        , 0.49411765, 0.        , 0.00392157,\n",
       "        0.        , 0.        , 0.        ],\n",
       "       [0.        , 0.        , 0.        , 0.        , 0.        ,\n",
       "        0.90196078, 0.95686275, 0.93333333, 0.91372549, 0.91372549,\n",
       "        0.93333333, 0.9372549 , 0.96078431, 0.92941176, 0.90980392,\n",
       "        0.93333333, 0.96862745, 0.94509804, 0.92156863, 0.9254902 ,\n",
       "        0.91764706, 0.94901961, 0.89411765, 0.        , 0.        ,\n",
       "        0.        , 0.        , 0.        ],\n",
       "       [0.        , 0.        , 0.        , 0.        , 0.        ,\n",
       "        0.89803922, 0.95294118, 0.95686275, 0.91372549, 0.90588235,\n",
       "        0.90588235, 0.88235294, 0.89019608, 0.89019608, 0.89803922,\n",
       "        0.91764706, 0.90196078, 0.90980392, 0.90588235, 0.91764706,\n",
       "        0.95294118, 0.9372549 , 0.89803922, 0.        , 0.        ,\n",
       "        0.        , 0.        , 0.        ],\n",
       "       [0.        , 0.        , 0.        , 0.        , 0.12156863,\n",
       "        0.98431373, 0.94901961, 0.97647059, 0.94509804, 0.90588235,\n",
       "        0.89803922, 0.89019608, 0.88235294, 0.88235294, 0.87058824,\n",
       "        0.88627451, 0.87058824, 0.8745098 , 0.90588235, 0.92156863,\n",
       "        0.96862745, 0.94117647, 0.97647059, 0.12941176, 0.        ,\n",
       "        0.        , 0.        , 0.        ],\n",
       "       [0.        , 0.        , 0.        , 0.        , 0.27843137,\n",
       "        1.        , 0.9372549 , 0.98039216, 0.94901961, 0.92156863,\n",
       "        0.90980392, 0.90980392, 0.90196078, 0.89803922, 0.89411765,\n",
       "        0.91372549, 0.84313725, 0.77647059, 0.82352941, 0.90196078,\n",
       "        0.99215686, 0.9254902 , 0.99215686, 0.34509804, 0.        ,\n",
       "        0.        , 0.        , 0.        ],\n",
       "       [0.        , 0.        , 0.        , 0.        , 0.57254902,\n",
       "        0.99607843, 0.92941176, 0.98431373, 0.95294118, 0.95294118,\n",
       "        0.9372549 , 0.93333333, 0.93333333, 0.91764706, 0.91764706,\n",
       "        0.97254902, 0.92941176, 0.79215686, 0.80784314, 0.91372549,\n",
       "        0.97254902, 0.94117647, 0.99215686, 0.59215686, 0.        ,\n",
       "        0.        , 0.        , 0.        ],\n",
       "       [0.        , 0.        , 0.        , 0.        , 0.83529412,\n",
       "        0.99215686, 0.94509804, 0.99607843, 0.96470588, 0.95686275,\n",
       "        0.94901961, 0.94117647, 0.9372549 , 0.9372549 , 0.93333333,\n",
       "        0.95294118, 0.90980392, 0.84313725, 0.83137255, 0.96862745,\n",
       "        0.97254902, 0.94901961, 0.97647059, 0.87058824, 0.        ,\n",
       "        0.        , 0.        , 0.        ],\n",
       "       [0.        , 0.        , 0.        , 0.        , 0.98039216,\n",
       "        0.97647059, 0.96078431, 0.96078431, 0.96862745, 0.96862745,\n",
       "        0.94117647, 0.9372549 , 0.92941176, 0.94117647, 0.94901961,\n",
       "        0.96078431, 0.9372549 , 0.92941176, 0.8745098 , 0.97647059,\n",
       "        0.99607843, 0.95294118, 0.95686275, 1.        , 0.        ,\n",
       "        0.        , 0.        , 0.        ],\n",
       "       [0.        , 0.        , 0.        , 0.        , 1.        ,\n",
       "        0.96078431, 1.        , 0.62745098, 0.83137255, 1.        ,\n",
       "        0.9372549 , 0.94117647, 0.93333333, 0.94509804, 0.94509804,\n",
       "        0.95686275, 0.94117647, 0.95686275, 0.95686275, 0.96862745,\n",
       "        0.98823529, 0.96862745, 0.95294118, 1.        , 0.        ,\n",
       "        0.        , 0.        , 0.        ],\n",
       "       [0.        , 0.        , 0.        , 0.        , 1.        ,\n",
       "        0.94509804, 1.        , 0.25490196, 0.73333333, 1.        ,\n",
       "        0.93333333, 0.94509804, 0.93333333, 0.95686275, 0.95686275,\n",
       "        0.95294118, 0.94509804, 0.93333333, 0.9372549 , 0.94901961,\n",
       "        0.99607843, 0.99607843, 0.94509804, 1.        , 0.19607843,\n",
       "        0.        , 0.        , 0.        ],\n",
       "       [0.        , 0.        , 0.        , 0.01960784, 0.96078431,\n",
       "        0.94901961, 1.        , 0.0745098 , 0.78823529, 1.        ,\n",
       "        0.9372549 , 0.96078431, 0.93333333, 0.95294118, 0.94901961,\n",
       "        0.94901961, 0.94901961, 0.94117647, 0.9372549 , 0.98431373,\n",
       "        0.93333333, 0.99215686, 0.94509804, 1.        , 0.35294118,\n",
       "        0.        , 0.        , 0.        ],\n",
       "       [0.        , 0.        , 0.        , 0.07843137, 0.96078431,\n",
       "        0.95686275, 1.        , 0.        , 0.92941176, 1.        ,\n",
       "        0.9372549 , 0.96078431, 0.93333333, 0.95294118, 0.95294118,\n",
       "        0.94901961, 0.94117647, 0.94901961, 0.9372549 , 1.        ,\n",
       "        0.62352941, 0.92156863, 0.97647059, 1.        , 0.41568627,\n",
       "        0.        , 0.        , 0.        ],\n",
       "       [0.        , 0.        , 0.        , 0.14901961, 0.96862745,\n",
       "        0.97647059, 1.        , 0.        , 1.        , 0.98823529,\n",
       "        0.95294118, 0.95686275, 0.93333333, 0.95294118, 0.95294118,\n",
       "        0.94901961, 0.94509804, 0.95686275, 0.9254902 , 1.        ,\n",
       "        0.29019608, 0.88627451, 0.99607843, 1.        , 0.48235294,\n",
       "        0.        , 0.        , 0.        ],\n",
       "       [0.        , 0.        , 0.        , 0.24705882, 0.97254902,\n",
       "        0.99607843, 0.91372549, 0.        , 1.        , 0.94117647,\n",
       "        0.95294118, 0.95686275, 0.93333333, 0.94901961, 0.94901961,\n",
       "        0.95294118, 0.94509804, 0.94117647, 0.91764706, 1.        ,\n",
       "        0.28627451, 0.85098039, 1.        , 1.        , 0.58823529,\n",
       "        0.        , 0.        , 0.        ],\n",
       "       [0.        , 0.        , 0.        , 0.29019608, 0.97254902,\n",
       "        0.99607843, 0.71764706, 0.02352941, 1.        , 0.91372549,\n",
       "        0.96078431, 0.95294118, 0.9372549 , 0.94117647, 0.94901961,\n",
       "        0.95294118, 0.94509804, 0.95294118, 0.90980392, 1.        ,\n",
       "        0.34901961, 0.7372549 , 1.        , 1.        , 0.67058824,\n",
       "        0.        , 0.        , 0.        ],\n",
       "       [0.        , 0.        , 0.        , 0.27843137, 0.96862745,\n",
       "        1.        , 0.56470588, 0.24705882, 1.        , 0.9254902 ,\n",
       "        0.96470588, 0.96078431, 0.94509804, 0.94901961, 0.95294118,\n",
       "        0.95686275, 0.94901961, 0.94901961, 0.90588235, 1.        ,\n",
       "        0.4       , 0.55686275, 1.        , 0.99215686, 0.7372549 ,\n",
       "        0.        , 0.        , 0.        ],\n",
       "       [0.        , 0.        , 0.        , 0.28235294, 0.96470588,\n",
       "        1.        , 0.41568627, 0.36862745, 1.        , 0.90588235,\n",
       "        0.96470588, 0.96078431, 0.94509804, 0.94901961, 0.95686275,\n",
       "        0.95686275, 0.95294118, 0.94509804, 0.9254902 , 1.        ,\n",
       "        0.53333333, 0.39607843, 1.        , 0.98039216, 0.78039216,\n",
       "        0.        , 0.        , 0.        ],\n",
       "       [0.        , 0.        , 0.        , 0.25098039, 0.96078431,\n",
       "        1.        , 0.30196078, 0.36078431, 1.        , 0.90588235,\n",
       "        0.95686275, 0.94901961, 0.94509804, 0.94117647, 0.96078431,\n",
       "        0.96862745, 0.95294118, 0.94509804, 0.93333333, 1.        ,\n",
       "        0.68627451, 0.37254902, 1.        , 0.96078431, 0.8       ,\n",
       "        0.        , 0.        , 0.        ],\n",
       "       [0.        , 0.        , 0.        , 0.25882353, 0.95294118,\n",
       "        1.        , 0.32941176, 0.54117647, 1.        , 0.9254902 ,\n",
       "        0.9372549 , 0.9372549 , 0.93333333, 0.93333333, 0.94117647,\n",
       "        0.94901961, 0.9372549 , 0.93333333, 0.93333333, 0.96862745,\n",
       "        0.78039216, 0.35686275, 1.        , 0.96078431, 0.8       ,\n",
       "        0.        , 0.        , 0.        ],\n",
       "       [0.        , 0.        , 0.        , 0.27843137, 0.96078431,\n",
       "        1.        , 0.42745098, 0.91764706, 1.        , 0.99607843,\n",
       "        1.        , 0.99607843, 0.99607843, 0.99607843, 1.        ,\n",
       "        1.        , 0.99607843, 0.99607843, 0.99607843, 1.        ,\n",
       "        1.        , 0.37647059, 1.        , 0.96862745, 0.8       ,\n",
       "        0.        , 0.        , 0.        ],\n",
       "       [0.        , 0.        , 0.        , 0.30196078, 0.97254902,\n",
       "        1.        , 0.49411765, 0.58039216, 0.77647059, 0.67843137,\n",
       "        0.69019608, 0.66666667, 0.65882353, 0.6627451 , 0.67843137,\n",
       "        0.69411765, 0.69019608, 0.69411765, 0.70196078, 0.75294118,\n",
       "        0.73333333, 0.50980392, 1.        , 0.95686275, 0.78431373,\n",
       "        0.        , 0.        , 0.        ],\n",
       "       [0.        , 0.        , 0.        , 0.30588235, 0.97254902,\n",
       "        1.        , 0.48235294, 0.        , 0.        , 0.        ,\n",
       "        0.        , 0.        , 0.        , 0.        , 0.        ,\n",
       "        0.        , 0.        , 0.        , 0.        , 0.        ,\n",
       "        0.        , 0.2745098 , 0.99215686, 0.95294118, 0.73333333,\n",
       "        0.        , 0.        , 0.        ],\n",
       "       [0.        , 0.        , 0.        , 0.29803922, 0.96078431,\n",
       "        1.        , 0.54117647, 0.        , 0.01960784, 0.        ,\n",
       "        0.        , 0.        , 0.        , 0.        , 0.        ,\n",
       "        0.        , 0.        , 0.        , 0.        , 0.        ,\n",
       "        0.        , 0.28235294, 0.98039216, 0.97254902, 0.65490196,\n",
       "        0.        , 0.        , 0.        ],\n",
       "       [0.        , 0.        , 0.        , 0.27843137, 0.9372549 ,\n",
       "        1.        , 0.50196078, 0.        , 0.01568627, 0.        ,\n",
       "        0.        , 0.        , 0.        , 0.        , 0.        ,\n",
       "        0.        , 0.        , 0.        , 0.        , 0.01176471,\n",
       "        0.        , 0.2745098 , 0.97254902, 0.96078431, 0.57647059,\n",
       "        0.        , 0.        , 0.        ],\n",
       "       [0.        , 0.        , 0.        , 0.30196078, 0.99215686,\n",
       "        1.        , 0.50588235, 0.        , 0.01960784, 0.        ,\n",
       "        0.        , 0.        , 0.        , 0.        , 0.        ,\n",
       "        0.        , 0.        , 0.        , 0.        , 0.00784314,\n",
       "        0.        , 0.19607843, 0.98823529, 1.        , 0.62745098,\n",
       "        0.        , 0.        , 0.        ],\n",
       "       [0.        , 0.        , 0.        , 0.16862745, 0.75686275,\n",
       "        0.81568627, 0.34117647, 0.        , 0.01568627, 0.        ,\n",
       "        0.        , 0.        , 0.        , 0.        , 0.        ,\n",
       "        0.        , 0.        , 0.        , 0.        , 0.00784314,\n",
       "        0.        , 0.08235294, 0.80784314, 0.83921569, 0.44705882,\n",
       "        0.        , 0.        , 0.        ]])"
      ]
     },
     "execution_count": 44,
     "metadata": {},
     "output_type": "execute_result"
    }
   ],
   "source": [
    "X_train_scale[12120]"
   ]
  },
  {
   "cell_type": "code",
   "execution_count": 45,
   "id": "5ce52f26",
   "metadata": {},
   "outputs": [
    {
     "data": {
      "text/plain": [
       "<matplotlib.image.AxesImage at 0x2331d1095a0>"
      ]
     },
     "execution_count": 45,
     "metadata": {},
     "output_type": "execute_result"
    },
    {
     "data": {
      "image/png": "[encoded data removed]",
      "text/plain": [
       "<Figure size 640x480 with 1 Axes>"
      ]
     },
     "metadata": {},
     "output_type": "display_data"
    }
   ],
   "source": [
    "plt.imshow(X_train_scale[12120])"
   ]
  },
  {
   "cell_type": "code",
   "execution_count": 46,
   "id": "1312e5de",
   "metadata": {},
   "outputs": [
    {
     "data": {
      "text/plain": [
       "2"
      ]
     },
     "execution_count": 46,
     "metadata": {},
     "output_type": "execute_result"
    }
   ],
   "source": [
    "y_train[12120]"
   ]
  },
  {
   "cell_type": "code",
   "execution_count": 47,
   "id": "f43eac97",
   "metadata": {},
   "outputs": [
    {
     "data": {
      "text/plain": [
       "'pullover'"
      ]
     },
     "execution_count": 47,
     "metadata": {},
     "output_type": "execute_result"
    }
   ],
   "source": [
    "result[2]"
   ]
  },
  {
   "cell_type": "markdown",
   "id": "97c26d2a",
   "metadata": {},
   "source": [
    "# Build the model sequential"
   ]
  },
  {
   "cell_type": "code",
   "execution_count": 48,
   "id": "ac002fd6",
   "metadata": {},
   "outputs": [],
   "source": [
    "from tensorflow.keras.models import Sequential\n",
    "from tensorflow.keras.layers import Flatten,Dense"
   ]
  },
  {
   "cell_type": "code",
   "execution_count": 49,
   "id": "560b4d74",
   "metadata": {},
   "outputs": [],
   "source": [
    "smodel=Sequential()"
   ]
  },
  {
   "cell_type": "code",
   "execution_count": 50,
   "id": "8017b0d1",
   "metadata": {},
   "outputs": [],
   "source": [
    "smodel.add( Flatten( input_shape = (28,28)))"
   ]
  },
  {
   "cell_type": "code",
   "execution_count": 51,
   "id": "798b9f02",
   "metadata": {},
   "outputs": [],
   "source": [
    "smodel.add(Dense(units=256,activation=\"relu\"))"
   ]
  },
  {
   "cell_type": "code",
   "execution_count": 52,
   "id": "ad088037",
   "metadata": {},
   "outputs": [],
   "source": [
    "smodel.add(Dense(units=128,activation=\"relu\"))"
   ]
  },
  {
   "cell_type": "code",
   "execution_count": 55,
   "id": "abc15bd9",
   "metadata": {},
   "outputs": [],
   "source": [
    "smodel.add(Dense(units=64,activation=\"relu\"))"
   ]
  },
  {
   "cell_type": "code",
   "execution_count": 56,
   "id": "fb7c32f0",
   "metadata": {},
   "outputs": [],
   "source": [
    "smodel.add(Dense(units =10,activation=\"softmax\"))"
   ]
  },
  {
   "cell_type": "code",
   "execution_count": 57,
   "id": "0341cd94",
   "metadata": {},
   "outputs": [
    {
     "name": "stdout",
     "output_type": "stream",
     "text": [
      "Model: \"sequential\"\n",
      "_________________________________________________________________\n",
      " Layer (type)                Output Shape              Param #   \n",
      "=================================================================\n",
      " flatten (Flatten)           (None, 784)               0         \n",
      "                                                                 \n",
      " dense (Dense)               (None, 256)               200960    \n",
      "                                                                 \n",
      " dense_1 (Dense)             (None, 128)               32896     \n",
      "                                                                 \n",
      " dense_2 (Dense)             (None, 64)                8256      \n",
      "                                                                 \n",
      " dense_3 (Dense)             (None, 10)                650       \n",
      "                                                                 \n",
      "=================================================================\n",
      "Total params: 242762 (948.29 KB)\n",
      "Trainable params: 242762 (948.29 KB)\n",
      "Non-trainable params: 0 (0.00 Byte)\n",
      "_________________________________________________________________\n"
     ]
    }
   ],
   "source": [
    "smodel.summary()"
   ]
  },
  {
   "cell_type": "code",
   "execution_count": 58,
   "id": "fc085fce",
   "metadata": {},
   "outputs": [],
   "source": [
    "smodel.compile(optimizer=\"adam\",loss=\"sparse_categorical_crossentropy\",metrics=[\"accuracy\"])"
   ]
  },
  {
   "cell_type": "code",
   "execution_count": 59,
   "id": "5fcd7d65",
   "metadata": {},
   "outputs": [
    {
     "name": "stdout",
     "output_type": "stream",
     "text": [
      "Epoch 1/20\n",
      "1875/1875 [==============================] - 5s 2ms/step - loss: 0.4953 - accuracy: 0.8210\n",
      "Epoch 2/20\n",
      "1875/1875 [==============================] - 4s 2ms/step - loss: 0.3664 - accuracy: 0.8660\n",
      "Epoch 3/20\n",
      "1875/1875 [==============================] - 4s 2ms/step - loss: 0.3278 - accuracy: 0.8789\n",
      "Epoch 4/20\n",
      "1875/1875 [==============================] - 4s 2ms/step - loss: 0.3034 - accuracy: 0.8870\n",
      "Epoch 5/20\n",
      "1875/1875 [==============================] - 4s 2ms/step - loss: 0.2889 - accuracy: 0.8924\n",
      "Epoch 6/20\n",
      "1875/1875 [==============================] - 4s 2ms/step - loss: 0.2741 - accuracy: 0.8978\n",
      "Epoch 7/20\n",
      "1875/1875 [==============================] - 4s 2ms/step - loss: 0.2632 - accuracy: 0.9000\n",
      "Epoch 8/20\n",
      "1875/1875 [==============================] - 4s 2ms/step - loss: 0.2509 - accuracy: 0.9038\n",
      "Epoch 9/20\n",
      "1875/1875 [==============================] - 4s 2ms/step - loss: 0.2427 - accuracy: 0.9077\n",
      "Epoch 10/20\n",
      "1875/1875 [==============================] - 4s 2ms/step - loss: 0.2334 - accuracy: 0.9122\n",
      "Epoch 11/20\n",
      "1875/1875 [==============================] - 4s 2ms/step - loss: 0.2248 - accuracy: 0.9136\n",
      "Epoch 12/20\n",
      "1875/1875 [==============================] - 4s 2ms/step - loss: 0.2189 - accuracy: 0.9177\n",
      "Epoch 13/20\n",
      "1875/1875 [==============================] - 4s 2ms/step - loss: 0.2148 - accuracy: 0.9179\n",
      "Epoch 14/20\n",
      "1875/1875 [==============================] - 4s 2ms/step - loss: 0.2062 - accuracy: 0.9216\n",
      "Epoch 15/20\n",
      "1875/1875 [==============================] - 4s 2ms/step - loss: 0.2017 - accuracy: 0.9230\n",
      "Epoch 16/20\n",
      "1875/1875 [==============================] - 4s 2ms/step - loss: 0.1932 - accuracy: 0.9254\n",
      "Epoch 17/20\n",
      "1875/1875 [==============================] - 4s 2ms/step - loss: 0.1871 - accuracy: 0.9279\n",
      "Epoch 18/20\n",
      "1875/1875 [==============================] - 4s 2ms/step - loss: 0.1896 - accuracy: 0.9279\n",
      "Epoch 19/20\n",
      "1875/1875 [==============================] - 4s 2ms/step - loss: 0.1800 - accuracy: 0.9304\n",
      "Epoch 20/20\n",
      "1875/1875 [==============================] - 4s 2ms/step - loss: 0.1768 - accuracy: 0.9323\n"
     ]
    },
    {
     "data": {
      "text/plain": [
       "<keras.src.callbacks.History at 0x2331e9f9ea0>"
      ]
     },
     "execution_count": 59,
     "metadata": {},
     "output_type": "execute_result"
    }
   ],
   "source": [
    "smodel.fit(X_train_scale,y_train,epochs=20)"
   ]
  },
  {
   "cell_type": "code",
   "execution_count": 60,
   "id": "1e75cff2",
   "metadata": {},
   "outputs": [
    {
     "name": "stdout",
     "output_type": "stream",
     "text": [
      "313/313 [==============================] - 0s 914us/step - loss: 0.3943 - accuracy: 0.8896\n"
     ]
    },
    {
     "data": {
      "text/plain": [
       "[0.39429718255996704, 0.8895999789237976]"
      ]
     },
     "execution_count": 60,
     "metadata": {},
     "output_type": "execute_result"
    }
   ],
   "source": [
    "smodel.evaluate(X_test_scale,y_test)"
   ]
  },
  {
   "cell_type": "markdown",
   "id": "68781f20",
   "metadata": {},
   "source": [
    "# Prediction"
   ]
  },
  {
   "cell_type": "code",
   "execution_count": 61,
   "id": "3a408be9",
   "metadata": {},
   "outputs": [
    {
     "data": {
      "text/plain": [
       "array([[0.        , 0.        , 0.        , 0.        , 0.        ,\n",
       "        0.        , 0.        , 0.        , 0.        , 0.        ,\n",
       "        0.        , 0.        , 0.09019608, 0.51372549, 0.57647059,\n",
       "        0.52941176, 0.2627451 , 0.        , 0.        , 0.00784314,\n",
       "        0.        , 0.        , 0.        , 0.        , 0.        ,\n",
       "        0.        , 0.        , 0.        ],\n",
       "       [0.        , 0.        , 0.        , 0.        , 0.        ,\n",
       "        0.        , 0.        , 0.        , 0.        , 0.        ,\n",
       "        0.        , 0.55294118, 0.90196078, 0.94901961, 0.94901961,\n",
       "        0.95294118, 0.94901961, 0.91764706, 0.01568627, 0.        ,\n",
       "        0.        , 0.        , 0.        , 0.        , 0.        ,\n",
       "        0.        , 0.        , 0.        ],\n",
       "       [0.        , 0.        , 0.        , 0.        , 0.        ,\n",
       "        0.        , 0.        , 0.01176471, 0.        , 0.01568627,\n",
       "        0.7372549 , 0.92941176, 0.87058824, 0.84313725, 0.83921569,\n",
       "        0.82352941, 0.83137255, 0.91372549, 0.86666667, 0.23137255,\n",
       "        0.        , 0.        , 0.        , 0.        , 0.        ,\n",
       "        0.        , 0.        , 0.        ],\n",
       "       [0.        , 0.        , 0.        , 0.        , 0.        ,\n",
       "        0.        , 0.00784314, 0.        , 0.        , 0.81176471,\n",
       "        0.85882353, 0.82745098, 0.94509804, 0.9254902 , 0.9372549 ,\n",
       "        0.9372549 , 0.87843137, 0.91372549, 0.84705882, 0.87843137,\n",
       "        0.        , 0.        , 0.01960784, 0.        , 0.        ,\n",
       "        0.        , 0.        , 0.        ],\n",
       "       [0.        , 0.        , 0.        , 0.        , 0.        ,\n",
       "        0.        , 0.        , 0.        , 0.25882353, 0.86666667,\n",
       "        0.77647059, 0.82745098, 0.98431373, 0.98039216, 0.91764706,\n",
       "        0.9372549 , 0.67843137, 0.91764706, 0.82352941, 0.87058824,\n",
       "        0.22745098, 0.        , 0.        , 0.00392157, 0.        ,\n",
       "        0.        , 0.        , 0.        ],\n",
       "       [0.        , 0.        , 0.        , 0.        , 0.        ,\n",
       "        0.00392157, 0.        , 0.39607843, 0.94901961, 0.79215686,\n",
       "        0.65098039, 0.76862745, 0.84705882, 1.        , 0.9254902 ,\n",
       "        0.94117647, 0.79607843, 0.89411765, 0.77254902, 0.67843137,\n",
       "        0.80784314, 0.4745098 , 0.        , 0.        , 0.        ,\n",
       "        0.        , 0.        , 0.        ],\n",
       "       [0.        , 0.        , 0.        , 0.        , 0.        ,\n",
       "        0.        , 0.        , 0.77254902, 0.93333333, 0.81960784,\n",
       "        0.65882353, 0.80784314, 0.74117647, 0.92156863, 0.97254902,\n",
       "        0.98823529, 0.89411765, 0.85490196, 0.6627451 , 0.79607843,\n",
       "        0.89019608, 0.96862745, 0.22745098, 0.        , 0.        ,\n",
       "        0.        , 0.        , 0.        ],\n",
       "       [0.        , 0.        , 0.        , 0.        , 0.        ,\n",
       "        0.        , 0.32941176, 0.81176471, 0.8627451 , 0.90588235,\n",
       "        0.96470588, 0.96470588, 0.88627451, 0.89019608, 0.99215686,\n",
       "        0.96862745, 0.81568627, 0.91764706, 0.96862745, 0.96078431,\n",
       "        0.90588235, 0.83137255, 0.55294118, 0.        , 0.        ,\n",
       "        0.        , 0.        , 0.        ],\n",
       "       [0.        , 0.        , 0.        , 0.        , 0.        ,\n",
       "        0.        , 0.57647059, 0.79215686, 0.88627451, 0.90588235,\n",
       "        0.9254902 , 0.9254902 , 0.91764706, 0.96470588, 0.95686275,\n",
       "        0.88235294, 0.9254902 , 1.        , 0.95686275, 0.92156863,\n",
       "        0.90980392, 0.77647059, 0.71764706, 0.        , 0.        ,\n",
       "        0.        , 0.        , 0.        ],\n",
       "       [0.        , 0.        , 0.        , 0.        , 0.        ,\n",
       "        0.        , 0.70196078, 0.73333333, 0.84313725, 0.75686275,\n",
       "        0.74509804, 0.61568627, 0.70588235, 0.82745098, 0.81960784,\n",
       "        0.94509804, 0.88235294, 0.7372549 , 0.78039216, 0.82352941,\n",
       "        0.89411765, 0.77647059, 0.8       , 0.        , 0.        ,\n",
       "        0.        , 0.        , 0.        ],\n",
       "       [0.        , 0.        , 0.        , 0.        , 0.        ,\n",
       "        0.        , 0.81176471, 0.74117647, 0.76862745, 0.69411765,\n",
       "        0.7254902 , 0.70196078, 0.77647059, 0.7254902 , 0.78823529,\n",
       "        0.80392157, 0.77254902, 0.69019608, 0.66666667, 0.59607843,\n",
       "        0.78823529, 0.79607843, 0.85490196, 0.04705882, 0.        ,\n",
       "        0.        , 0.        , 0.        ],\n",
       "       [0.        , 0.        , 0.        , 0.        , 0.        ,\n",
       "        0.01176471, 0.87058824, 0.75686275, 0.83137255, 0.81960784,\n",
       "        0.69019608, 0.71764706, 0.71764706, 0.76078431, 0.71372549,\n",
       "        0.76078431, 0.70588235, 0.74117647, 0.77254902, 0.74117647,\n",
       "        0.88627451, 0.77647059, 0.85882353, 0.09803922, 0.        ,\n",
       "        0.        , 0.        , 0.        ],\n",
       "       [0.        , 0.        , 0.        , 0.        , 0.        ,\n",
       "        0.03921569, 0.85490196, 0.78823529, 0.84705882, 0.79215686,\n",
       "        0.67843137, 0.67058824, 0.71764706, 0.77647059, 0.69019608,\n",
       "        0.80392157, 0.70980392, 0.71372549, 0.70196078, 0.6745098 ,\n",
       "        0.84313725, 0.82352941, 0.8627451 , 0.29803922, 0.        ,\n",
       "        0.        , 0.        , 0.        ],\n",
       "       [0.        , 0.        , 0.        , 0.        , 0.        ,\n",
       "        0.10196078, 0.85490196, 0.79607843, 0.90980392, 0.76862745,\n",
       "        0.68235294, 0.68235294, 0.74509804, 0.82745098, 0.68235294,\n",
       "        0.81960784, 0.7372549 , 0.73333333, 0.69803922, 0.68235294,\n",
       "        0.89411765, 0.82352941, 0.82352941, 0.4       , 0.        ,\n",
       "        0.        , 0.        , 0.        ],\n",
       "       [0.        , 0.        , 0.        , 0.        , 0.        ,\n",
       "        0.21960784, 0.89411765, 0.76862745, 0.95294118, 0.76078431,\n",
       "        0.72156863, 0.7254902 , 0.76862745, 0.83137255, 0.68627451,\n",
       "        0.75686275, 0.73333333, 0.7372549 , 0.75686275, 0.73333333,\n",
       "        0.88235294, 0.82352941, 0.81568627, 0.43921569, 0.        ,\n",
       "        0.        , 0.        , 0.        ],\n",
       "       [0.        , 0.        , 0.        , 0.        , 0.        ,\n",
       "        0.25882353, 0.93333333, 0.76078431, 0.95294118, 0.78431373,\n",
       "        0.70196078, 0.68235294, 0.74901961, 0.81960784, 0.68235294,\n",
       "        0.76470588, 0.70980392, 0.69803922, 0.72941176, 0.68235294,\n",
       "        0.89411765, 0.88627451, 0.79215686, 0.49411765, 0.        ,\n",
       "        0.        , 0.        , 0.        ],\n",
       "       [0.        , 0.        , 0.        , 0.        , 0.        ,\n",
       "        0.26666667, 0.88627451, 0.77254902, 0.90196078, 0.72941176,\n",
       "        0.67843137, 0.67058824, 0.77254902, 0.81568627, 0.69803922,\n",
       "        0.74117647, 0.7254902 , 0.73333333, 0.69019608, 0.64705882,\n",
       "        0.90980392, 0.86666667, 0.76078431, 0.59607843, 0.        ,\n",
       "        0.        , 0.        , 0.        ],\n",
       "       [0.        , 0.        , 0.        , 0.        , 0.        ,\n",
       "        0.35294118, 0.85882353, 0.77254902, 0.85098039, 0.67843137,\n",
       "        0.67843137, 0.65490196, 0.77647059, 0.81960784, 0.69803922,\n",
       "        0.74117647, 0.70588235, 0.71372549, 0.72156863, 0.69803922,\n",
       "        0.85490196, 0.82352941, 0.76078431, 0.54117647, 0.        ,\n",
       "        0.        , 0.        , 0.        ],\n",
       "       [0.        , 0.        , 0.        , 0.        , 0.        ,\n",
       "        0.49019608, 0.89411765, 0.78039216, 0.85490196, 0.70196078,\n",
       "        0.74901961, 0.65490196, 0.78431373, 0.81568627, 0.69803922,\n",
       "        0.75294118, 0.7254902 , 0.76470588, 0.76470588, 0.7372549 ,\n",
       "        0.76862745, 0.83137255, 0.78823529, 0.60392157, 0.        ,\n",
       "        0.        , 0.        , 0.        ],\n",
       "       [0.        , 0.        , 0.        , 0.        , 0.        ,\n",
       "        0.48627451, 0.84705882, 0.80392157, 0.76078431, 0.70588235,\n",
       "        0.70588235, 0.63921569, 0.92941176, 0.79607843, 0.67058824,\n",
       "        0.82745098, 0.70588235, 0.65882353, 0.69019608, 0.6745098 ,\n",
       "        0.68627451, 0.74117647, 0.81176471, 0.65490196, 0.        ,\n",
       "        0.        , 0.        , 0.        ],\n",
       "       [0.        , 0.        , 0.        , 0.        , 0.        ,\n",
       "        0.52941176, 0.78039216, 0.84313725, 0.77254902, 0.71764706,\n",
       "        0.74901961, 0.69803922, 0.96470588, 0.78823529, 0.68235294,\n",
       "        0.8       , 0.78823529, 0.72941176, 0.72941176, 0.70196078,\n",
       "        0.72156863, 0.8       , 0.79607843, 0.65882353, 0.        ,\n",
       "        0.        , 0.        , 0.        ],\n",
       "       [0.        , 0.        , 0.        , 0.        , 0.        ,\n",
       "        0.54901961, 0.79215686, 0.83921569, 0.74901961, 0.67843137,\n",
       "        0.7254902 , 0.61960784, 1.        , 0.75686275, 0.66666667,\n",
       "        0.81176471, 0.78823529, 0.69411765, 0.74117647, 0.68627451,\n",
       "        0.65882353, 0.91372549, 0.77647059, 0.6627451 , 0.        ,\n",
       "        0.        , 0.        , 0.        ],\n",
       "       [0.        , 0.        , 0.        , 0.        , 0.        ,\n",
       "        0.55686275, 0.80392157, 0.86666667, 0.70588235, 0.6745098 ,\n",
       "        0.65490196, 0.61960784, 1.        , 0.72941176, 0.66666667,\n",
       "        0.83137255, 0.8       , 0.64313725, 0.70196078, 0.67843137,\n",
       "        0.64313725, 0.8627451 , 0.74509804, 0.70980392, 0.        ,\n",
       "        0.        , 0.        , 0.        ],\n",
       "       [0.        , 0.        , 0.        , 0.        , 0.        ,\n",
       "        0.57647059, 0.79215686, 0.82352941, 0.67058824, 0.6627451 ,\n",
       "        0.64313725, 0.65098039, 0.90588235, 0.70196078, 0.68627451,\n",
       "        0.84313725, 0.80392157, 0.65882353, 0.68235294, 0.69411765,\n",
       "        0.73333333, 0.82352941, 0.72941176, 0.74509804, 0.        ,\n",
       "        0.        , 0.        , 0.        ],\n",
       "       [0.        , 0.        , 0.        , 0.        , 0.        ,\n",
       "        0.58823529, 0.77647059, 0.83529412, 0.69803922, 0.61960784,\n",
       "        0.61568627, 0.67058824, 0.88627451, 0.76470588, 0.71764706,\n",
       "        0.81176471, 0.76078431, 0.6627451 , 0.6745098 , 0.63529412,\n",
       "        0.70980392, 0.8       , 0.74901961, 0.7254902 , 0.        ,\n",
       "        0.        , 0.        , 0.        ],\n",
       "       [0.        , 0.        , 0.        , 0.        , 0.        ,\n",
       "        0.69411765, 0.83529412, 0.83921569, 0.64705882, 0.76470588,\n",
       "        0.72941176, 0.74901961, 0.90196078, 0.77254902, 0.74117647,\n",
       "        0.83921569, 0.81960784, 0.76862745, 0.76470588, 0.76862745,\n",
       "        0.76862745, 0.85882353, 0.80392157, 0.70980392, 0.        ,\n",
       "        0.        , 0.        , 0.        ],\n",
       "       [0.        , 0.        , 0.        , 0.        , 0.        ,\n",
       "        0.65882353, 0.82352941, 0.8745098 , 0.02745098, 0.52156863,\n",
       "        0.56078431, 0.58431373, 0.61568627, 0.61176471, 0.6       ,\n",
       "        0.58823529, 0.59215686, 0.55294118, 0.4745098 , 0.36078431,\n",
       "        0.27058824, 0.86666667, 0.81568627, 0.67843137, 0.        ,\n",
       "        0.        , 0.        , 0.        ],\n",
       "       [0.        , 0.        , 0.        , 0.        , 0.        ,\n",
       "        0.        , 0.01960784, 0.        , 0.        , 0.        ,\n",
       "        0.        , 0.        , 0.        , 0.        , 0.        ,\n",
       "        0.        , 0.        , 0.        , 0.        , 0.        ,\n",
       "        0.        , 0.06666667, 0.02745098, 0.        , 0.        ,\n",
       "        0.        , 0.        , 0.        ]])"
      ]
     },
     "execution_count": 61,
     "metadata": {},
     "output_type": "execute_result"
    }
   ],
   "source": [
    "X_train_scale[32343]"
   ]
  },
  {
   "cell_type": "code",
   "execution_count": 62,
   "id": "31443665",
   "metadata": {},
   "outputs": [
    {
     "data": {
      "text/plain": [
       "(60000, 28, 28)"
      ]
     },
     "execution_count": 62,
     "metadata": {},
     "output_type": "execute_result"
    }
   ],
   "source": [
    "X_train_scale.shape"
   ]
  },
  {
   "cell_type": "code",
   "execution_count": 63,
   "id": "902cc95c",
   "metadata": {},
   "outputs": [
    {
     "data": {
      "text/plain": [
       "3"
      ]
     },
     "execution_count": 63,
     "metadata": {},
     "output_type": "execute_result"
    }
   ],
   "source": [
    "X_train_scale.ndim"
   ]
  },
  {
   "cell_type": "code",
   "execution_count": 64,
   "id": "b3af9853",
   "metadata": {},
   "outputs": [
    {
     "data": {
      "text/plain": [
       "(28, 28)"
      ]
     },
     "execution_count": 64,
     "metadata": {},
     "output_type": "execute_result"
    }
   ],
   "source": [
    "X_train_scale[32343].shape"
   ]
  },
  {
   "cell_type": "code",
   "execution_count": 65,
   "id": "a8d21af5",
   "metadata": {},
   "outputs": [
    {
     "data": {
      "text/plain": [
       "2"
      ]
     },
     "execution_count": 65,
     "metadata": {},
     "output_type": "execute_result"
    }
   ],
   "source": [
    "X_train_scale[32343].ndim\n"
   ]
  },
  {
   "cell_type": "code",
   "execution_count": 68,
   "id": "4e00a52b",
   "metadata": {},
   "outputs": [],
   "source": [
    "img=X_train_scale[32343].reshape((1,)+X_train_scale[32343].shape)"
   ]
  },
  {
   "cell_type": "code",
   "execution_count": 69,
   "id": "5ec8469a",
   "metadata": {},
   "outputs": [
    {
     "data": {
      "text/plain": [
       "array([[[0.        , 0.        , 0.        , 0.        , 0.        ,\n",
       "         0.        , 0.        , 0.        , 0.        , 0.        ,\n",
       "         0.        , 0.        , 0.09019608, 0.51372549, 0.57647059,\n",
       "         0.52941176, 0.2627451 , 0.        , 0.        , 0.00784314,\n",
       "         0.        , 0.        , 0.        , 0.        , 0.        ,\n",
       "         0.        , 0.        , 0.        ],\n",
       "        [0.        , 0.        , 0.        , 0.        , 0.        ,\n",
       "         0.        , 0.        , 0.        , 0.        , 0.        ,\n",
       "         0.        , 0.55294118, 0.90196078, 0.94901961, 0.94901961,\n",
       "         0.95294118, 0.94901961, 0.91764706, 0.01568627, 0.        ,\n",
       "         0.        , 0.        , 0.        , 0.        , 0.        ,\n",
       "         0.        , 0.        , 0.        ],\n",
       "        [0.        , 0.        , 0.        , 0.        , 0.        ,\n",
       "         0.        , 0.        , 0.01176471, 0.        , 0.01568627,\n",
       "         0.7372549 , 0.92941176, 0.87058824, 0.84313725, 0.83921569,\n",
       "         0.82352941, 0.83137255, 0.91372549, 0.86666667, 0.23137255,\n",
       "         0.        , 0.        , 0.        , 0.        , 0.        ,\n",
       "         0.        , 0.        , 0.        ],\n",
       "        [0.        , 0.        , 0.        , 0.        , 0.        ,\n",
       "         0.        , 0.00784314, 0.        , 0.        , 0.81176471,\n",
       "         0.85882353, 0.82745098, 0.94509804, 0.9254902 , 0.9372549 ,\n",
       "         0.9372549 , 0.87843137, 0.91372549, 0.84705882, 0.87843137,\n",
       "         0.        , 0.        , 0.01960784, 0.        , 0.        ,\n",
       "         0.        , 0.        , 0.        ],\n",
       "        [0.        , 0.        , 0.        , 0.        , 0.        ,\n",
       "         0.        , 0.        , 0.        , 0.25882353, 0.86666667,\n",
       "         0.77647059, 0.82745098, 0.98431373, 0.98039216, 0.91764706,\n",
       "         0.9372549 , 0.67843137, 0.91764706, 0.82352941, 0.87058824,\n",
       "         0.22745098, 0.        , 0.        , 0.00392157, 0.        ,\n",
       "         0.        , 0.        , 0.        ],\n",
       "        [0.        , 0.        , 0.        , 0.        , 0.        ,\n",
       "         0.00392157, 0.        , 0.39607843, 0.94901961, 0.79215686,\n",
       "         0.65098039, 0.76862745, 0.84705882, 1.        , 0.9254902 ,\n",
       "         0.94117647, 0.79607843, 0.89411765, 0.77254902, 0.67843137,\n",
       "         0.80784314, 0.4745098 , 0.        , 0.        , 0.        ,\n",
       "         0.        , 0.        , 0.        ],\n",
       "        [0.        , 0.        , 0.        , 0.        , 0.        ,\n",
       "         0.        , 0.        , 0.77254902, 0.93333333, 0.81960784,\n",
       "         0.65882353, 0.80784314, 0.74117647, 0.92156863, 0.97254902,\n",
       "         0.98823529, 0.89411765, 0.85490196, 0.6627451 , 0.79607843,\n",
       "         0.89019608, 0.96862745, 0.22745098, 0.        , 0.        ,\n",
       "         0.        , 0.        , 0.        ],\n",
       "        [0.        , 0.        , 0.        , 0.        , 0.        ,\n",
       "         0.        , 0.32941176, 0.81176471, 0.8627451 , 0.90588235,\n",
       "         0.96470588, 0.96470588, 0.88627451, 0.89019608, 0.99215686,\n",
       "         0.96862745, 0.81568627, 0.91764706, 0.96862745, 0.96078431,\n",
       "         0.90588235, 0.83137255, 0.55294118, 0.        , 0.        ,\n",
       "         0.        , 0.        , 0.        ],\n",
       "        [0.        , 0.        , 0.        , 0.        , 0.        ,\n",
       "         0.        , 0.57647059, 0.79215686, 0.88627451, 0.90588235,\n",
       "         0.9254902 , 0.9254902 , 0.91764706, 0.96470588, 0.95686275,\n",
       "         0.88235294, 0.9254902 , 1.        , 0.95686275, 0.92156863,\n",
       "         0.90980392, 0.77647059, 0.71764706, 0.        , 0.        ,\n",
       "         0.        , 0.        , 0.        ],\n",
       "        [0.        , 0.        , 0.        , 0.        , 0.        ,\n",
       "         0.        , 0.70196078, 0.73333333, 0.84313725, 0.75686275,\n",
       "         0.74509804, 0.61568627, 0.70588235, 0.82745098, 0.81960784,\n",
       "         0.94509804, 0.88235294, 0.7372549 , 0.78039216, 0.82352941,\n",
       "         0.89411765, 0.77647059, 0.8       , 0.        , 0.        ,\n",
       "         0.        , 0.        , 0.        ],\n",
       "        [0.        , 0.        , 0.        , 0.        , 0.        ,\n",
       "         0.        , 0.81176471, 0.74117647, 0.76862745, 0.69411765,\n",
       "         0.7254902 , 0.70196078, 0.77647059, 0.7254902 , 0.78823529,\n",
       "         0.80392157, 0.77254902, 0.69019608, 0.66666667, 0.59607843,\n",
       "         0.78823529, 0.79607843, 0.85490196, 0.04705882, 0.        ,\n",
       "         0.        , 0.        , 0.        ],\n",
       "        [0.        , 0.        , 0.        , 0.        , 0.        ,\n",
       "         0.01176471, 0.87058824, 0.75686275, 0.83137255, 0.81960784,\n",
       "         0.69019608, 0.71764706, 0.71764706, 0.76078431, 0.71372549,\n",
       "         0.76078431, 0.70588235, 0.74117647, 0.77254902, 0.74117647,\n",
       "         0.88627451, 0.77647059, 0.85882353, 0.09803922, 0.        ,\n",
       "         0.        , 0.        , 0.        ],\n",
       "        [0.        , 0.        , 0.        , 0.        , 0.        ,\n",
       "         0.03921569, 0.85490196, 0.78823529, 0.84705882, 0.79215686,\n",
       "         0.67843137, 0.67058824, 0.71764706, 0.77647059, 0.69019608,\n",
       "         0.80392157, 0.70980392, 0.71372549, 0.70196078, 0.6745098 ,\n",
       "         0.84313725, 0.82352941, 0.8627451 , 0.29803922, 0.        ,\n",
       "         0.        , 0.        , 0.        ],\n",
       "        [0.        , 0.        , 0.        , 0.        , 0.        ,\n",
       "         0.10196078, 0.85490196, 0.79607843, 0.90980392, 0.76862745,\n",
       "         0.68235294, 0.68235294, 0.74509804, 0.82745098, 0.68235294,\n",
       "         0.81960784, 0.7372549 , 0.73333333, 0.69803922, 0.68235294,\n",
       "         0.89411765, 0.82352941, 0.82352941, 0.4       , 0.        ,\n",
       "         0.        , 0.        , 0.        ],\n",
       "        [0.        , 0.        , 0.        , 0.        , 0.        ,\n",
       "         0.21960784, 0.89411765, 0.76862745, 0.95294118, 0.76078431,\n",
       "         0.72156863, 0.7254902 , 0.76862745, 0.83137255, 0.68627451,\n",
       "         0.75686275, 0.73333333, 0.7372549 , 0.75686275, 0.73333333,\n",
       "         0.88235294, 0.82352941, 0.81568627, 0.43921569, 0.        ,\n",
       "         0.        , 0.        , 0.        ],\n",
       "        [0.        , 0.        , 0.        , 0.        , 0.        ,\n",
       "         0.25882353, 0.93333333, 0.76078431, 0.95294118, 0.78431373,\n",
       "         0.70196078, 0.68235294, 0.74901961, 0.81960784, 0.68235294,\n",
       "         0.76470588, 0.70980392, 0.69803922, 0.72941176, 0.68235294,\n",
       "         0.89411765, 0.88627451, 0.79215686, 0.49411765, 0.        ,\n",
       "         0.        , 0.        , 0.        ],\n",
       "        [0.        , 0.        , 0.        , 0.        , 0.        ,\n",
       "         0.26666667, 0.88627451, 0.77254902, 0.90196078, 0.72941176,\n",
       "         0.67843137, 0.67058824, 0.77254902, 0.81568627, 0.69803922,\n",
       "         0.74117647, 0.7254902 , 0.73333333, 0.69019608, 0.64705882,\n",
       "         0.90980392, 0.86666667, 0.76078431, 0.59607843, 0.        ,\n",
       "         0.        , 0.        , 0.        ],\n",
       "        [0.        , 0.        , 0.        , 0.        , 0.        ,\n",
       "         0.35294118, 0.85882353, 0.77254902, 0.85098039, 0.67843137,\n",
       "         0.67843137, 0.65490196, 0.77647059, 0.81960784, 0.69803922,\n",
       "         0.74117647, 0.70588235, 0.71372549, 0.72156863, 0.69803922,\n",
       "         0.85490196, 0.82352941, 0.76078431, 0.54117647, 0.        ,\n",
       "         0.        , 0.        , 0.        ],\n",
       "        [0.        , 0.        , 0.        , 0.        , 0.        ,\n",
       "         0.49019608, 0.89411765, 0.78039216, 0.85490196, 0.70196078,\n",
       "         0.74901961, 0.65490196, 0.78431373, 0.81568627, 0.69803922,\n",
       "         0.75294118, 0.7254902 , 0.76470588, 0.76470588, 0.7372549 ,\n",
       "         0.76862745, 0.83137255, 0.78823529, 0.60392157, 0.        ,\n",
       "         0.        , 0.        , 0.        ],\n",
       "        [0.        , 0.        , 0.        , 0.        , 0.        ,\n",
       "         0.48627451, 0.84705882, 0.80392157, 0.76078431, 0.70588235,\n",
       "         0.70588235, 0.63921569, 0.92941176, 0.79607843, 0.67058824,\n",
       "         0.82745098, 0.70588235, 0.65882353, 0.69019608, 0.6745098 ,\n",
       "         0.68627451, 0.74117647, 0.81176471, 0.65490196, 0.        ,\n",
       "         0.        , 0.        , 0.        ],\n",
       "        [0.        , 0.        , 0.        , 0.        , 0.        ,\n",
       "         0.52941176, 0.78039216, 0.84313725, 0.77254902, 0.71764706,\n",
       "         0.74901961, 0.69803922, 0.96470588, 0.78823529, 0.68235294,\n",
       "         0.8       , 0.78823529, 0.72941176, 0.72941176, 0.70196078,\n",
       "         0.72156863, 0.8       , 0.79607843, 0.65882353, 0.        ,\n",
       "         0.        , 0.        , 0.        ],\n",
       "        [0.        , 0.        , 0.        , 0.        , 0.        ,\n",
       "         0.54901961, 0.79215686, 0.83921569, 0.74901961, 0.67843137,\n",
       "         0.7254902 , 0.61960784, 1.        , 0.75686275, 0.66666667,\n",
       "         0.81176471, 0.78823529, 0.69411765, 0.74117647, 0.68627451,\n",
       "         0.65882353, 0.91372549, 0.77647059, 0.6627451 , 0.        ,\n",
       "         0.        , 0.        , 0.        ],\n",
       "        [0.        , 0.        , 0.        , 0.        , 0.        ,\n",
       "         0.55686275, 0.80392157, 0.86666667, 0.70588235, 0.6745098 ,\n",
       "         0.65490196, 0.61960784, 1.        , 0.72941176, 0.66666667,\n",
       "         0.83137255, 0.8       , 0.64313725, 0.70196078, 0.67843137,\n",
       "         0.64313725, 0.8627451 , 0.74509804, 0.70980392, 0.        ,\n",
       "         0.        , 0.        , 0.        ],\n",
       "        [0.        , 0.        , 0.        , 0.        , 0.        ,\n",
       "         0.57647059, 0.79215686, 0.82352941, 0.67058824, 0.6627451 ,\n",
       "         0.64313725, 0.65098039, 0.90588235, 0.70196078, 0.68627451,\n",
       "         0.84313725, 0.80392157, 0.65882353, 0.68235294, 0.69411765,\n",
       "         0.73333333, 0.82352941, 0.72941176, 0.74509804, 0.        ,\n",
       "         0.        , 0.        , 0.        ],\n",
       "        [0.        , 0.        , 0.        , 0.        , 0.        ,\n",
       "         0.58823529, 0.77647059, 0.83529412, 0.69803922, 0.61960784,\n",
       "         0.61568627, 0.67058824, 0.88627451, 0.76470588, 0.71764706,\n",
       "         0.81176471, 0.76078431, 0.6627451 , 0.6745098 , 0.63529412,\n",
       "         0.70980392, 0.8       , 0.74901961, 0.7254902 , 0.        ,\n",
       "         0.        , 0.        , 0.        ],\n",
       "        [0.        , 0.        , 0.        , 0.        , 0.        ,\n",
       "         0.69411765, 0.83529412, 0.83921569, 0.64705882, 0.76470588,\n",
       "         0.72941176, 0.74901961, 0.90196078, 0.77254902, 0.74117647,\n",
       "         0.83921569, 0.81960784, 0.76862745, 0.76470588, 0.76862745,\n",
       "         0.76862745, 0.85882353, 0.80392157, 0.70980392, 0.        ,\n",
       "         0.        , 0.        , 0.        ],\n",
       "        [0.        , 0.        , 0.        , 0.        , 0.        ,\n",
       "         0.65882353, 0.82352941, 0.8745098 , 0.02745098, 0.52156863,\n",
       "         0.56078431, 0.58431373, 0.61568627, 0.61176471, 0.6       ,\n",
       "         0.58823529, 0.59215686, 0.55294118, 0.4745098 , 0.36078431,\n",
       "         0.27058824, 0.86666667, 0.81568627, 0.67843137, 0.        ,\n",
       "         0.        , 0.        , 0.        ],\n",
       "        [0.        , 0.        , 0.        , 0.        , 0.        ,\n",
       "         0.        , 0.01960784, 0.        , 0.        , 0.        ,\n",
       "         0.        , 0.        , 0.        , 0.        , 0.        ,\n",
       "         0.        , 0.        , 0.        , 0.        , 0.        ,\n",
       "         0.        , 0.06666667, 0.02745098, 0.        , 0.        ,\n",
       "         0.        , 0.        , 0.        ]]])"
      ]
     },
     "execution_count": 69,
     "metadata": {},
     "output_type": "execute_result"
    }
   ],
   "source": [
    "img"
   ]
  },
  {
   "cell_type": "code",
   "execution_count": 70,
   "id": "c6c5fddd",
   "metadata": {},
   "outputs": [
    {
     "data": {
      "text/plain": [
       "(1, 28, 28)"
      ]
     },
     "execution_count": 70,
     "metadata": {},
     "output_type": "execute_result"
    }
   ],
   "source": [
    "img.shape"
   ]
  },
  {
   "cell_type": "code",
   "execution_count": 71,
   "id": "0cb7174b",
   "metadata": {},
   "outputs": [
    {
     "name": "stdout",
     "output_type": "stream",
     "text": [
      "1/1 [==============================] - 0s 70ms/step\n"
     ]
    },
    {
     "data": {
      "text/plain": [
       "array([[1.5175070e-05, 5.1255861e-06, 1.5302692e-01, 3.3567128e-06,\n",
       "        8.4556818e-01, 3.1105702e-07, 1.3716230e-03, 2.2840345e-07,\n",
       "        8.9483156e-06, 2.3268194e-08]], dtype=float32)"
      ]
     },
     "execution_count": 71,
     "metadata": {},
     "output_type": "execute_result"
    }
   ],
   "source": [
    "smodel.predict(img)"
   ]
  },
  {
   "cell_type": "code",
   "execution_count": 72,
   "id": "529d32c0",
   "metadata": {},
   "outputs": [
    {
     "name": "stdout",
     "output_type": "stream",
     "text": [
      "1/1 [==============================] - 0s 24ms/step\n"
     ]
    },
    {
     "data": {
      "text/plain": [
       "4"
      ]
     },
     "execution_count": 72,
     "metadata": {},
     "output_type": "execute_result"
    }
   ],
   "source": [
    "np.argmax(smodel.predict(img))"
   ]
  },
  {
   "cell_type": "code",
   "execution_count": 73,
   "id": "e1f23080",
   "metadata": {},
   "outputs": [
    {
     "data": {
      "text/plain": [
       "'coat'"
      ]
     },
     "execution_count": 73,
     "metadata": {},
     "output_type": "execute_result"
    }
   ],
   "source": [
    "result[4]"
   ]
  },
  {
   "cell_type": "code",
   "execution_count": 74,
   "id": "14b1b56b",
   "metadata": {},
   "outputs": [
    {
     "data": {
      "text/plain": [
       "<matplotlib.image.AxesImage at 0x2332aabc190>"
      ]
     },
     "execution_count": 74,
     "metadata": {},
     "output_type": "execute_result"
    },
    {
     "data": {
      "image/png": "[encoded data removed]",
      "text/plain": [
       "<Figure size 640x480 with 1 Axes>"
      ]
     },
     "metadata": {},
     "output_type": "display_data"
    }
   ],
   "source": [
    "plt.imshow(X_train_scale[32343])"
   ]
  },
  {
   "cell_type": "code",
   "execution_count": 75,
   "id": "b5e5adf0",
   "metadata": {},
   "outputs": [
    {
     "data": {
      "text/plain": [
       "4"
      ]
     },
     "execution_count": 75,
     "metadata": {},
     "output_type": "execute_result"
    }
   ],
   "source": [
    "y_train[32343]"
   ]
  },
  {
   "cell_type": "code",
   "execution_count": 76,
   "id": "329627b0",
   "metadata": {},
   "outputs": [
    {
     "data": {
      "text/plain": [
       "'coat'"
      ]
     },
     "execution_count": 76,
     "metadata": {},
     "output_type": "execute_result"
    }
   ],
   "source": [
    "result[4]"
   ]
  },
  {
   "cell_type": "markdown",
   "id": "833f1faa",
   "metadata": {},
   "source": [
    "# Second predict"
   ]
  },
  {
   "cell_type": "code",
   "execution_count": 153,
   "id": "4d46be55",
   "metadata": {},
   "outputs": [
    {
     "data": {
      "text/plain": [
       "(10000, 28, 28)"
      ]
     },
     "execution_count": 153,
     "metadata": {},
     "output_type": "execute_result"
    }
   ],
   "source": [
    "X_test_scale.shape"
   ]
  },
  {
   "cell_type": "code",
   "execution_count": 154,
   "id": "dacc27fc",
   "metadata": {},
   "outputs": [
    {
     "data": {
      "text/plain": [
       "array([[0.        , 0.        , 0.        , 0.        , 0.        ,\n",
       "        0.        , 0.        , 0.        , 0.        , 0.        ,\n",
       "        0.        , 0.        , 0.        , 0.        , 0.        ,\n",
       "        0.        , 0.        , 0.        , 0.        , 0.        ,\n",
       "        0.        , 0.        , 0.        , 0.        , 0.        ,\n",
       "        0.        , 0.        , 0.        ],\n",
       "       [0.        , 0.        , 0.        , 0.        , 0.        ,\n",
       "        0.        , 0.        , 0.        , 0.        , 0.        ,\n",
       "        0.        , 0.        , 0.        , 0.        , 0.        ,\n",
       "        0.        , 0.        , 0.        , 0.        , 0.        ,\n",
       "        0.        , 0.        , 0.        , 0.        , 0.        ,\n",
       "        0.        , 0.        , 0.        ],\n",
       "       [0.        , 0.        , 0.        , 0.        , 0.        ,\n",
       "        0.        , 0.        , 0.        , 0.        , 0.        ,\n",
       "        0.        , 0.        , 0.        , 0.        , 0.        ,\n",
       "        0.        , 0.        , 0.        , 0.        , 0.        ,\n",
       "        0.        , 0.        , 0.        , 0.        , 0.        ,\n",
       "        0.        , 0.        , 0.        ],\n",
       "       [0.        , 0.        , 0.        , 0.        , 0.        ,\n",
       "        0.        , 0.        , 0.        , 0.        , 0.        ,\n",
       "        0.        , 0.        , 0.        , 0.        , 0.        ,\n",
       "        0.        , 0.        , 0.        , 0.        , 0.        ,\n",
       "        0.        , 0.        , 0.        , 0.        , 0.        ,\n",
       "        0.        , 0.        , 0.        ],\n",
       "       [0.        , 0.        , 0.        , 0.        , 0.        ,\n",
       "        0.        , 0.        , 0.        , 0.        , 0.        ,\n",
       "        0.        , 0.        , 0.        , 0.        , 0.        ,\n",
       "        0.        , 0.        , 0.        , 0.        , 0.        ,\n",
       "        0.        , 0.        , 0.        , 0.        , 0.        ,\n",
       "        0.        , 0.        , 0.        ],\n",
       "       [0.        , 0.        , 0.        , 0.        , 0.        ,\n",
       "        0.        , 0.        , 0.        , 0.        , 0.        ,\n",
       "        0.        , 0.        , 0.        , 0.        , 0.        ,\n",
       "        0.        , 0.        , 0.        , 0.        , 0.        ,\n",
       "        0.        , 0.        , 0.        , 0.        , 0.        ,\n",
       "        0.        , 0.        , 0.        ],\n",
       "       [0.        , 0.        , 0.        , 0.        , 0.        ,\n",
       "        0.        , 0.        , 0.        , 0.        , 0.        ,\n",
       "        0.        , 0.        , 0.        , 0.        , 0.        ,\n",
       "        0.        , 0.        , 0.        , 0.        , 0.        ,\n",
       "        0.        , 0.        , 0.        , 0.        , 0.        ,\n",
       "        0.        , 0.        , 0.        ],\n",
       "       [0.        , 0.        , 0.        , 0.        , 0.        ,\n",
       "        0.        , 0.        , 0.        , 0.        , 0.        ,\n",
       "        0.        , 0.        , 0.        , 0.        , 0.        ,\n",
       "        0.        , 0.        , 0.        , 0.        , 0.        ,\n",
       "        0.        , 0.        , 0.        , 0.        , 0.        ,\n",
       "        0.        , 0.        , 0.        ],\n",
       "       [0.        , 0.        , 0.        , 0.        , 0.        ,\n",
       "        0.        , 0.        , 0.        , 0.        , 0.        ,\n",
       "        0.        , 0.        , 0.        , 0.        , 0.        ,\n",
       "        0.        , 0.        , 0.38431373, 0.07058824, 0.        ,\n",
       "        0.00392157, 0.00392157, 0.        , 0.        , 0.        ,\n",
       "        0.        , 0.        , 0.        ],\n",
       "       [0.        , 0.        , 0.        , 0.        , 0.        ,\n",
       "        0.        , 0.        , 0.        , 0.        , 0.00392157,\n",
       "        0.        , 0.        , 0.        , 0.        , 0.        ,\n",
       "        0.01960784, 0.52156863, 0.78431373, 0.81176471, 0.        ,\n",
       "        0.        , 0.00392157, 0.        , 0.        , 0.        ,\n",
       "        0.        , 0.01568627, 0.00784314],\n",
       "       [0.        , 0.        , 0.        , 0.        , 0.        ,\n",
       "        0.        , 0.        , 0.        , 0.        , 0.        ,\n",
       "        0.        , 0.00392157, 0.        , 0.        , 0.0745098 ,\n",
       "        0.99607843, 0.64705882, 0.45098039, 0.6       , 0.1254902 ,\n",
       "        0.        , 0.00784314, 0.        , 0.        , 0.        ,\n",
       "        0.        , 0.        , 0.        ],\n",
       "       [0.        , 0.        , 0.        , 0.        , 0.00392157,\n",
       "        0.        , 0.        , 0.        , 0.        , 0.00784314,\n",
       "        0.        , 0.        , 0.        , 0.42352941, 0.90196078,\n",
       "        0.55294118, 0.32941176, 0.27843137, 0.60784314, 0.49411765,\n",
       "        0.        , 0.        , 0.00784314, 0.02745098, 0.        ,\n",
       "        0.        , 0.34901961, 0.21176471],\n",
       "       [0.        , 0.        , 0.        , 0.        , 0.        ,\n",
       "        0.00784314, 0.01960784, 0.        , 0.00784314, 0.        ,\n",
       "        0.        , 0.29803922, 0.61960784, 0.61568627, 0.43137255,\n",
       "        0.51764706, 0.75294118, 0.95686275, 0.83137255, 0.8627451 ,\n",
       "        0.38039216, 0.        , 0.        , 0.        , 0.        ,\n",
       "        0.05490196, 0.88627451, 0.38431373],\n",
       "       [0.00392157, 0.01568627, 0.01960784, 0.00784314, 0.        ,\n",
       "        0.        , 0.        , 0.        , 0.        , 0.14117647,\n",
       "        0.41176471, 0.6745098 , 0.5372549 , 0.57254902, 0.78431373,\n",
       "        0.90588235, 0.75294118, 0.67058824, 0.8       , 0.83137255,\n",
       "        0.84705882, 0.69411765, 0.34901961, 0.36078431, 0.6       ,\n",
       "        0.6627451 , 0.70588235, 0.42352941],\n",
       "       [0.        , 0.        , 0.        , 0.        , 0.        ,\n",
       "        0.        , 0.14509804, 0.39607843, 0.61960784, 0.81960784,\n",
       "        0.69803922, 0.59607843, 0.74901961, 0.75686275, 0.71372549,\n",
       "        0.69411765, 0.71372549, 0.69411765, 0.79607843, 0.80392157,\n",
       "        0.87058824, 0.8745098 , 0.87843137, 0.87843137, 0.90980392,\n",
       "        0.89803922, 0.92941176, 0.66666667],\n",
       "       [0.        , 0.23137255, 0.4745098 , 0.49019608, 0.56862745,\n",
       "        0.63921569, 0.6627451 , 0.65098039, 0.66666667, 0.62352941,\n",
       "        0.68627451, 0.75294118, 0.80784314, 0.80784314, 0.80392157,\n",
       "        0.82352941, 0.79607843, 0.77254902, 0.80392157, 0.75294118,\n",
       "        0.81960784, 0.85882353, 0.8627451 , 0.84705882, 0.85098039,\n",
       "        0.83137255, 0.8627451 , 0.64705882],\n",
       "       [0.        , 0.23921569, 0.43529412, 0.56862745, 0.65882353,\n",
       "        0.70196078, 0.69019608, 0.68627451, 0.70196078, 0.69411765,\n",
       "        0.72941176, 0.7372549 , 0.78039216, 0.82745098, 0.83529412,\n",
       "        0.8627451 , 0.87058824, 0.85882353, 0.90196078, 0.91372549,\n",
       "        0.90980392, 0.90196078, 0.89803922, 0.87843137, 0.89019608,\n",
       "        0.88235294, 0.91372549, 0.69411765],\n",
       "       [0.03529412, 0.00392157, 0.        , 0.        , 0.        ,\n",
       "        0.        , 0.08627451, 0.23137255, 0.30588235, 0.43137255,\n",
       "        0.52941176, 0.59215686, 0.66666667, 0.61176471, 0.5372549 ,\n",
       "        0.56470588, 0.55294118, 0.53333333, 0.54117647, 0.53333333,\n",
       "        0.52941176, 0.52941176, 0.49411765, 0.50588235, 0.50588235,\n",
       "        0.42745098, 0.45098039, 0.21960784],\n",
       "       [0.        , 0.05882353, 0.17647059, 0.23137255, 0.17647059,\n",
       "        0.05490196, 0.        , 0.        , 0.        , 0.        ,\n",
       "        0.        , 0.        , 0.        , 0.        , 0.        ,\n",
       "        0.        , 0.        , 0.        , 0.        , 0.        ,\n",
       "        0.        , 0.        , 0.        , 0.        , 0.        ,\n",
       "        0.        , 0.        , 0.        ],\n",
       "       [0.        , 0.        , 0.        , 0.00392157, 0.1254902 ,\n",
       "        0.14509804, 0.16470588, 0.2       , 0.17254902, 0.11764706,\n",
       "        0.11764706, 0.11764706, 0.14509804, 0.16862745, 0.1372549 ,\n",
       "        0.10980392, 0.11372549, 0.10980392, 0.04705882, 0.0745098 ,\n",
       "        0.11764706, 0.1372549 , 0.16078431, 0.16862745, 0.16862745,\n",
       "        0.14901961, 0.1372549 , 0.03137255],\n",
       "       [0.        , 0.        , 0.        , 0.        , 0.        ,\n",
       "        0.        , 0.        , 0.        , 0.        , 0.        ,\n",
       "        0.        , 0.        , 0.        , 0.        , 0.        ,\n",
       "        0.        , 0.        , 0.        , 0.        , 0.        ,\n",
       "        0.        , 0.        , 0.        , 0.        , 0.        ,\n",
       "        0.        , 0.        , 0.        ],\n",
       "       [0.        , 0.        , 0.        , 0.        , 0.        ,\n",
       "        0.        , 0.        , 0.        , 0.        , 0.        ,\n",
       "        0.        , 0.        , 0.        , 0.        , 0.        ,\n",
       "        0.        , 0.        , 0.        , 0.        , 0.        ,\n",
       "        0.        , 0.        , 0.        , 0.        , 0.        ,\n",
       "        0.        , 0.        , 0.        ],\n",
       "       [0.        , 0.        , 0.        , 0.        , 0.        ,\n",
       "        0.        , 0.        , 0.        , 0.        , 0.        ,\n",
       "        0.        , 0.        , 0.        , 0.        , 0.        ,\n",
       "        0.        , 0.        , 0.        , 0.        , 0.        ,\n",
       "        0.        , 0.        , 0.        , 0.        , 0.        ,\n",
       "        0.        , 0.        , 0.        ],\n",
       "       [0.        , 0.        , 0.        , 0.        , 0.        ,\n",
       "        0.        , 0.        , 0.        , 0.        , 0.        ,\n",
       "        0.        , 0.        , 0.        , 0.        , 0.        ,\n",
       "        0.        , 0.        , 0.        , 0.        , 0.        ,\n",
       "        0.        , 0.        , 0.        , 0.        , 0.        ,\n",
       "        0.        , 0.        , 0.        ],\n",
       "       [0.        , 0.        , 0.        , 0.        , 0.        ,\n",
       "        0.        , 0.        , 0.        , 0.        , 0.        ,\n",
       "        0.        , 0.        , 0.        , 0.        , 0.        ,\n",
       "        0.        , 0.        , 0.        , 0.        , 0.        ,\n",
       "        0.        , 0.        , 0.        , 0.        , 0.        ,\n",
       "        0.        , 0.        , 0.        ],\n",
       "       [0.        , 0.        , 0.        , 0.        , 0.        ,\n",
       "        0.        , 0.        , 0.        , 0.        , 0.        ,\n",
       "        0.        , 0.        , 0.        , 0.        , 0.        ,\n",
       "        0.        , 0.        , 0.        , 0.        , 0.        ,\n",
       "        0.        , 0.        , 0.        , 0.        , 0.        ,\n",
       "        0.        , 0.        , 0.        ],\n",
       "       [0.        , 0.        , 0.        , 0.        , 0.        ,\n",
       "        0.        , 0.        , 0.        , 0.        , 0.        ,\n",
       "        0.        , 0.        , 0.        , 0.        , 0.        ,\n",
       "        0.        , 0.        , 0.        , 0.        , 0.        ,\n",
       "        0.        , 0.        , 0.        , 0.        , 0.        ,\n",
       "        0.        , 0.        , 0.        ],\n",
       "       [0.        , 0.        , 0.        , 0.        , 0.        ,\n",
       "        0.        , 0.        , 0.        , 0.        , 0.        ,\n",
       "        0.        , 0.        , 0.        , 0.        , 0.        ,\n",
       "        0.        , 0.        , 0.        , 0.        , 0.        ,\n",
       "        0.        , 0.        , 0.        , 0.        , 0.        ,\n",
       "        0.        , 0.        , 0.        ]])"
      ]
     },
     "execution_count": 154,
     "metadata": {},
     "output_type": "execute_result"
    }
   ],
   "source": [
    "X_test_scale[2122]"
   ]
  },
  {
   "cell_type": "code",
   "execution_count": 155,
   "id": "ecc8b8d6",
   "metadata": {},
   "outputs": [],
   "source": [
    "img1=X_test_scale[2122].reshape((1,)+X_test_scale[2122].shape)"
   ]
  },
  {
   "cell_type": "code",
   "execution_count": 156,
   "id": "d017ab24",
   "metadata": {},
   "outputs": [
    {
     "data": {
      "text/plain": [
       "array([[[0.        , 0.        , 0.        , 0.        , 0.        ,\n",
       "         0.        , 0.        , 0.        , 0.        , 0.        ,\n",
       "         0.        , 0.        , 0.        , 0.        , 0.        ,\n",
       "         0.        , 0.        , 0.        , 0.        , 0.        ,\n",
       "         0.        , 0.        , 0.        , 0.        , 0.        ,\n",
       "         0.        , 0.        , 0.        ],\n",
       "        [0.        , 0.        , 0.        , 0.        , 0.        ,\n",
       "         0.        , 0.        , 0.        , 0.        , 0.        ,\n",
       "         0.        , 0.        , 0.        , 0.        , 0.        ,\n",
       "         0.        , 0.        , 0.        , 0.        , 0.        ,\n",
       "         0.        , 0.        , 0.        , 0.        , 0.        ,\n",
       "         0.        , 0.        , 0.        ],\n",
       "        [0.        , 0.        , 0.        , 0.        , 0.        ,\n",
       "         0.        , 0.        , 0.        , 0.        , 0.        ,\n",
       "         0.        , 0.        , 0.        , 0.        , 0.        ,\n",
       "         0.        , 0.        , 0.        , 0.        , 0.        ,\n",
       "         0.        , 0.        , 0.        , 0.        , 0.        ,\n",
       "         0.        , 0.        , 0.        ],\n",
       "        [0.        , 0.        , 0.        , 0.        , 0.        ,\n",
       "         0.        , 0.        , 0.        , 0.        , 0.        ,\n",
       "         0.        , 0.        , 0.        , 0.        , 0.        ,\n",
       "         0.        , 0.        , 0.        , 0.        , 0.        ,\n",
       "         0.        , 0.        , 0.        , 0.        , 0.        ,\n",
       "         0.        , 0.        , 0.        ],\n",
       "        [0.        , 0.        , 0.        , 0.        , 0.        ,\n",
       "         0.        , 0.        , 0.        , 0.        , 0.        ,\n",
       "         0.        , 0.        , 0.        , 0.        , 0.        ,\n",
       "         0.        , 0.        , 0.        , 0.        , 0.        ,\n",
       "         0.        , 0.        , 0.        , 0.        , 0.        ,\n",
       "         0.        , 0.        , 0.        ],\n",
       "        [0.        , 0.        , 0.        , 0.        , 0.        ,\n",
       "         0.        , 0.        , 0.        , 0.        , 0.        ,\n",
       "         0.        , 0.        , 0.        , 0.        , 0.        ,\n",
       "         0.        , 0.        , 0.        , 0.        , 0.        ,\n",
       "         0.        , 0.        , 0.        , 0.        , 0.        ,\n",
       "         0.        , 0.        , 0.        ],\n",
       "        [0.        , 0.        , 0.        , 0.        , 0.        ,\n",
       "         0.        , 0.        , 0.        , 0.        , 0.        ,\n",
       "         0.        , 0.        , 0.        , 0.        , 0.        ,\n",
       "         0.        , 0.        , 0.        , 0.        , 0.        ,\n",
       "         0.        , 0.        , 0.        , 0.        , 0.        ,\n",
       "         0.        , 0.        , 0.        ],\n",
       "        [0.        , 0.        , 0.        , 0.        , 0.        ,\n",
       "         0.        , 0.        , 0.        , 0.        , 0.        ,\n",
       "         0.        , 0.        , 0.        , 0.        , 0.        ,\n",
       "         0.        , 0.        , 0.        , 0.        , 0.        ,\n",
       "         0.        , 0.        , 0.        , 0.        , 0.        ,\n",
       "         0.        , 0.        , 0.        ],\n",
       "        [0.        , 0.        , 0.        , 0.        , 0.        ,\n",
       "         0.        , 0.        , 0.        , 0.        , 0.        ,\n",
       "         0.        , 0.        , 0.        , 0.        , 0.        ,\n",
       "         0.        , 0.        , 0.38431373, 0.07058824, 0.        ,\n",
       "         0.00392157, 0.00392157, 0.        , 0.        , 0.        ,\n",
       "         0.        , 0.        , 0.        ],\n",
       "        [0.        , 0.        , 0.        , 0.        , 0.        ,\n",
       "         0.        , 0.        , 0.        , 0.        , 0.00392157,\n",
       "         0.        , 0.        , 0.        , 0.        , 0.        ,\n",
       "         0.01960784, 0.52156863, 0.78431373, 0.81176471, 0.        ,\n",
       "         0.        , 0.00392157, 0.        , 0.        , 0.        ,\n",
       "         0.        , 0.01568627, 0.00784314],\n",
       "        [0.        , 0.        , 0.        , 0.        , 0.        ,\n",
       "         0.        , 0.        , 0.        , 0.        , 0.        ,\n",
       "         0.        , 0.00392157, 0.        , 0.        , 0.0745098 ,\n",
       "         0.99607843, 0.64705882, 0.45098039, 0.6       , 0.1254902 ,\n",
       "         0.        , 0.00784314, 0.        , 0.        , 0.        ,\n",
       "         0.        , 0.        , 0.        ],\n",
       "        [0.        , 0.        , 0.        , 0.        , 0.00392157,\n",
       "         0.        , 0.        , 0.        , 0.        , 0.00784314,\n",
       "         0.        , 0.        , 0.        , 0.42352941, 0.90196078,\n",
       "         0.55294118, 0.32941176, 0.27843137, 0.60784314, 0.49411765,\n",
       "         0.        , 0.        , 0.00784314, 0.02745098, 0.        ,\n",
       "         0.        , 0.34901961, 0.21176471],\n",
       "        [0.        , 0.        , 0.        , 0.        , 0.        ,\n",
       "         0.00784314, 0.01960784, 0.        , 0.00784314, 0.        ,\n",
       "         0.        , 0.29803922, 0.61960784, 0.61568627, 0.43137255,\n",
       "         0.51764706, 0.75294118, 0.95686275, 0.83137255, 0.8627451 ,\n",
       "         0.38039216, 0.        , 0.        , 0.        , 0.        ,\n",
       "         0.05490196, 0.88627451, 0.38431373],\n",
       "        [0.00392157, 0.01568627, 0.01960784, 0.00784314, 0.        ,\n",
       "         0.        , 0.        , 0.        , 0.        , 0.14117647,\n",
       "         0.41176471, 0.6745098 , 0.5372549 , 0.57254902, 0.78431373,\n",
       "         0.90588235, 0.75294118, 0.67058824, 0.8       , 0.83137255,\n",
       "         0.84705882, 0.69411765, 0.34901961, 0.36078431, 0.6       ,\n",
       "         0.6627451 , 0.70588235, 0.42352941],\n",
       "        [0.        , 0.        , 0.        , 0.        , 0.        ,\n",
       "         0.        , 0.14509804, 0.39607843, 0.61960784, 0.81960784,\n",
       "         0.69803922, 0.59607843, 0.74901961, 0.75686275, 0.71372549,\n",
       "         0.69411765, 0.71372549, 0.69411765, 0.79607843, 0.80392157,\n",
       "         0.87058824, 0.8745098 , 0.87843137, 0.87843137, 0.90980392,\n",
       "         0.89803922, 0.92941176, 0.66666667],\n",
       "        [0.        , 0.23137255, 0.4745098 , 0.49019608, 0.56862745,\n",
       "         0.63921569, 0.6627451 , 0.65098039, 0.66666667, 0.62352941,\n",
       "         0.68627451, 0.75294118, 0.80784314, 0.80784314, 0.80392157,\n",
       "         0.82352941, 0.79607843, 0.77254902, 0.80392157, 0.75294118,\n",
       "         0.81960784, 0.85882353, 0.8627451 , 0.84705882, 0.85098039,\n",
       "         0.83137255, 0.8627451 , 0.64705882],\n",
       "        [0.        , 0.23921569, 0.43529412, 0.56862745, 0.65882353,\n",
       "         0.70196078, 0.69019608, 0.68627451, 0.70196078, 0.69411765,\n",
       "         0.72941176, 0.7372549 , 0.78039216, 0.82745098, 0.83529412,\n",
       "         0.8627451 , 0.87058824, 0.85882353, 0.90196078, 0.91372549,\n",
       "         0.90980392, 0.90196078, 0.89803922, 0.87843137, 0.89019608,\n",
       "         0.88235294, 0.91372549, 0.69411765],\n",
       "        [0.03529412, 0.00392157, 0.        , 0.        , 0.        ,\n",
       "         0.        , 0.08627451, 0.23137255, 0.30588235, 0.43137255,\n",
       "         0.52941176, 0.59215686, 0.66666667, 0.61176471, 0.5372549 ,\n",
       "         0.56470588, 0.55294118, 0.53333333, 0.54117647, 0.53333333,\n",
       "         0.52941176, 0.52941176, 0.49411765, 0.50588235, 0.50588235,\n",
       "         0.42745098, 0.45098039, 0.21960784],\n",
       "        [0.        , 0.05882353, 0.17647059, 0.23137255, 0.17647059,\n",
       "         0.05490196, 0.        , 0.        , 0.        , 0.        ,\n",
       "         0.        , 0.        , 0.        , 0.        , 0.        ,\n",
       "         0.        , 0.        , 0.        , 0.        , 0.        ,\n",
       "         0.        , 0.        , 0.        , 0.        , 0.        ,\n",
       "         0.        , 0.        , 0.        ],\n",
       "        [0.        , 0.        , 0.        , 0.00392157, 0.1254902 ,\n",
       "         0.14509804, 0.16470588, 0.2       , 0.17254902, 0.11764706,\n",
       "         0.11764706, 0.11764706, 0.14509804, 0.16862745, 0.1372549 ,\n",
       "         0.10980392, 0.11372549, 0.10980392, 0.04705882, 0.0745098 ,\n",
       "         0.11764706, 0.1372549 , 0.16078431, 0.16862745, 0.16862745,\n",
       "         0.14901961, 0.1372549 , 0.03137255],\n",
       "        [0.        , 0.        , 0.        , 0.        , 0.        ,\n",
       "         0.        , 0.        , 0.        , 0.        , 0.        ,\n",
       "         0.        , 0.        , 0.        , 0.        , 0.        ,\n",
       "         0.        , 0.        , 0.        , 0.        , 0.        ,\n",
       "         0.        , 0.        , 0.        , 0.        , 0.        ,\n",
       "         0.        , 0.        , 0.        ],\n",
       "        [0.        , 0.        , 0.        , 0.        , 0.        ,\n",
       "         0.        , 0.        , 0.        , 0.        , 0.        ,\n",
       "         0.        , 0.        , 0.        , 0.        , 0.        ,\n",
       "         0.        , 0.        , 0.        , 0.        , 0.        ,\n",
       "         0.        , 0.        , 0.        , 0.        , 0.        ,\n",
       "         0.        , 0.        , 0.        ],\n",
       "        [0.        , 0.        , 0.        , 0.        , 0.        ,\n",
       "         0.        , 0.        , 0.        , 0.        , 0.        ,\n",
       "         0.        , 0.        , 0.        , 0.        , 0.        ,\n",
       "         0.        , 0.        , 0.        , 0.        , 0.        ,\n",
       "         0.        , 0.        , 0.        , 0.        , 0.        ,\n",
       "         0.        , 0.        , 0.        ],\n",
       "        [0.        , 0.        , 0.        , 0.        , 0.        ,\n",
       "         0.        , 0.        , 0.        , 0.        , 0.        ,\n",
       "         0.        , 0.        , 0.        , 0.        , 0.        ,\n",
       "         0.        , 0.        , 0.        , 0.        , 0.        ,\n",
       "         0.        , 0.        , 0.        , 0.        , 0.        ,\n",
       "         0.        , 0.        , 0.        ],\n",
       "        [0.        , 0.        , 0.        , 0.        , 0.        ,\n",
       "         0.        , 0.        , 0.        , 0.        , 0.        ,\n",
       "         0.        , 0.        , 0.        , 0.        , 0.        ,\n",
       "         0.        , 0.        , 0.        , 0.        , 0.        ,\n",
       "         0.        , 0.        , 0.        , 0.        , 0.        ,\n",
       "         0.        , 0.        , 0.        ],\n",
       "        [0.        , 0.        , 0.        , 0.        , 0.        ,\n",
       "         0.        , 0.        , 0.        , 0.        , 0.        ,\n",
       "         0.        , 0.        , 0.        , 0.        , 0.        ,\n",
       "         0.        , 0.        , 0.        , 0.        , 0.        ,\n",
       "         0.        , 0.        , 0.        , 0.        , 0.        ,\n",
       "         0.        , 0.        , 0.        ],\n",
       "        [0.        , 0.        , 0.        , 0.        , 0.        ,\n",
       "         0.        , 0.        , 0.        , 0.        , 0.        ,\n",
       "         0.        , 0.        , 0.        , 0.        , 0.        ,\n",
       "         0.        , 0.        , 0.        , 0.        , 0.        ,\n",
       "         0.        , 0.        , 0.        , 0.        , 0.        ,\n",
       "         0.        , 0.        , 0.        ],\n",
       "        [0.        , 0.        , 0.        , 0.        , 0.        ,\n",
       "         0.        , 0.        , 0.        , 0.        , 0.        ,\n",
       "         0.        , 0.        , 0.        , 0.        , 0.        ,\n",
       "         0.        , 0.        , 0.        , 0.        , 0.        ,\n",
       "         0.        , 0.        , 0.        , 0.        , 0.        ,\n",
       "         0.        , 0.        , 0.        ]]])"
      ]
     },
     "execution_count": 156,
     "metadata": {},
     "output_type": "execute_result"
    }
   ],
   "source": [
    "img1"
   ]
  },
  {
   "cell_type": "code",
   "execution_count": 157,
   "id": "04a0972f",
   "metadata": {},
   "outputs": [
    {
     "data": {
      "text/plain": [
       "(1, 28, 28)"
      ]
     },
     "execution_count": 157,
     "metadata": {},
     "output_type": "execute_result"
    }
   ],
   "source": [
    "img1.shape"
   ]
  },
  {
   "cell_type": "code",
   "execution_count": 158,
   "id": "35ced67c",
   "metadata": {},
   "outputs": [
    {
     "name": "stdout",
     "output_type": "stream",
     "text": [
      "1/1 [==============================] - 0s 16ms/step\n"
     ]
    },
    {
     "data": {
      "text/plain": [
       "array([[3.0359279e-27, 1.1144934e-27, 1.3985995e-24, 2.7971571e-28,\n",
       "        1.7663069e-20, 1.6074185e-13, 1.8936176e-22, 1.0000000e+00,\n",
       "        7.4092785e-19, 2.5026826e-13]], dtype=float32)"
      ]
     },
     "execution_count": 158,
     "metadata": {},
     "output_type": "execute_result"
    }
   ],
   "source": [
    "smodel.predict(img1)"
   ]
  },
  {
   "cell_type": "code",
   "execution_count": 159,
   "id": "883dfc75",
   "metadata": {},
   "outputs": [
    {
     "name": "stdout",
     "output_type": "stream",
     "text": [
      "1/1 [==============================] - 0s 14ms/step\n"
     ]
    },
    {
     "data": {
      "text/plain": [
       "7"
      ]
     },
     "execution_count": 159,
     "metadata": {},
     "output_type": "execute_result"
    }
   ],
   "source": [
    "np.argmax(smodel.predict(img1))"
   ]
  },
  {
   "cell_type": "code",
   "execution_count": 160,
   "id": "bcdf8e4e",
   "metadata": {},
   "outputs": [
    {
     "data": {
      "text/plain": [
       "7"
      ]
     },
     "execution_count": 160,
     "metadata": {},
     "output_type": "execute_result"
    }
   ],
   "source": [
    "y_test[2122]"
   ]
  },
  {
   "cell_type": "code",
   "execution_count": 161,
   "id": "d8d22a0e",
   "metadata": {},
   "outputs": [
    {
     "data": {
      "text/plain": [
       "'sneaker'"
      ]
     },
     "execution_count": 161,
     "metadata": {},
     "output_type": "execute_result"
    }
   ],
   "source": [
    "result[7]"
   ]
  },
  {
   "cell_type": "code",
   "execution_count": 162,
   "id": "a89b2de3",
   "metadata": {},
   "outputs": [
    {
     "data": {
      "text/plain": [
       "<matplotlib.image.AxesImage at 0x23325e6a590>"
      ]
     },
     "execution_count": 162,
     "metadata": {},
     "output_type": "execute_result"
    },
    {
     "data": {
      "image/png": "[encoded data removed]",
      "text/plain": [
       "<Figure size 640x480 with 1 Axes>"
      ]
     },
     "metadata": {},
     "output_type": "display_data"
    }
   ],
   "source": [
    "plt.imshow(X_test_scale[2122])"
   ]
  },
  {
   "cell_type": "markdown",
   "id": "6dc00ede",
   "metadata": {},
   "source": [
    "# functional model"
   ]
  },
  {
   "cell_type": "code",
   "execution_count": 105,
   "id": "012e3842",
   "metadata": {},
   "outputs": [],
   "source": [
    "from tensorflow.keras.models import Model\n",
    "from tensorflow.keras.layers import Input,Flatten,Dense"
   ]
  },
  {
   "cell_type": "code",
   "execution_count": 110,
   "id": "f6f51edd",
   "metadata": {},
   "outputs": [],
   "source": [
    "feed=Input(shape=(28,28))"
   ]
  },
  {
   "cell_type": "code",
   "execution_count": 111,
   "id": "f7a54494",
   "metadata": {},
   "outputs": [
    {
     "data": {
      "text/plain": [
       "<KerasTensor: shape=(None, 28, 28) dtype=float32 (created by layer 'input_2')>"
      ]
     },
     "execution_count": 111,
     "metadata": {},
     "output_type": "execute_result"
    }
   ],
   "source": [
    "feed"
   ]
  },
  {
   "cell_type": "code",
   "execution_count": 112,
   "id": "1b7e3e3e",
   "metadata": {},
   "outputs": [],
   "source": [
    "flat=Flatten()(feed)"
   ]
  },
  {
   "cell_type": "code",
   "execution_count": 113,
   "id": "bc4f7cf5",
   "metadata": {},
   "outputs": [
    {
     "data": {
      "text/plain": [
       "<KerasTensor: shape=(None, 784) dtype=float32 (created by layer 'flatten_2')>"
      ]
     },
     "execution_count": 113,
     "metadata": {},
     "output_type": "execute_result"
    }
   ],
   "source": [
    "flat"
   ]
  },
  {
   "cell_type": "code",
   "execution_count": 114,
   "id": "3c371432",
   "metadata": {},
   "outputs": [],
   "source": [
    "den1=Dense(units=256,activation=\"relu\")(flat)"
   ]
  },
  {
   "cell_type": "code",
   "execution_count": 115,
   "id": "0c620f70",
   "metadata": {},
   "outputs": [
    {
     "data": {
      "text/plain": [
       "<KerasTensor: shape=(None, 256) dtype=float32 (created by layer 'dense_4')>"
      ]
     },
     "execution_count": 115,
     "metadata": {},
     "output_type": "execute_result"
    }
   ],
   "source": [
    "den1"
   ]
  },
  {
   "cell_type": "code",
   "execution_count": 116,
   "id": "5a0af3e5",
   "metadata": {},
   "outputs": [],
   "source": [
    "den2=Dense(units=128,activation=\"relu\")(den1)"
   ]
  },
  {
   "cell_type": "code",
   "execution_count": 117,
   "id": "6d447812",
   "metadata": {},
   "outputs": [
    {
     "data": {
      "text/plain": [
       "<KerasTensor: shape=(None, 128) dtype=float32 (created by layer 'dense_5')>"
      ]
     },
     "execution_count": 117,
     "metadata": {},
     "output_type": "execute_result"
    }
   ],
   "source": [
    "den2"
   ]
  },
  {
   "cell_type": "code",
   "execution_count": 118,
   "id": "62848a8d",
   "metadata": {},
   "outputs": [],
   "source": [
    "den3=Dense(units=64,activation=\"relu\")(den2)"
   ]
  },
  {
   "cell_type": "code",
   "execution_count": 119,
   "id": "ba5dc16d",
   "metadata": {},
   "outputs": [],
   "source": [
    "out=Dense(units=10,activation=\"softmax\")(den3)"
   ]
  },
  {
   "cell_type": "code",
   "execution_count": 122,
   "id": "10f398b0",
   "metadata": {},
   "outputs": [],
   "source": [
    "fun_model=Model(inputs=feed,outputs=out)"
   ]
  },
  {
   "cell_type": "code",
   "execution_count": 123,
   "id": "b2f9466f",
   "metadata": {},
   "outputs": [
    {
     "data": {
      "text/plain": [
       "<keras.src.engine.functional.Functional at 0x2331ef01d20>"
      ]
     },
     "execution_count": 123,
     "metadata": {},
     "output_type": "execute_result"
    }
   ],
   "source": [
    "fun_model"
   ]
  },
  {
   "cell_type": "code",
   "execution_count": 124,
   "id": "46bfa69a",
   "metadata": {},
   "outputs": [
    {
     "name": "stdout",
     "output_type": "stream",
     "text": [
      "Model: \"model_1\"\n",
      "_________________________________________________________________\n",
      " Layer (type)                Output Shape              Param #   \n",
      "=================================================================\n",
      " input_2 (InputLayer)        [(None, 28, 28)]          0         \n",
      "                                                                 \n",
      " flatten_2 (Flatten)         (None, 784)               0         \n",
      "                                                                 \n",
      " dense_4 (Dense)             (None, 256)               200960    \n",
      "                                                                 \n",
      " dense_5 (Dense)             (None, 128)               32896     \n",
      "                                                                 \n",
      " dense_6 (Dense)             (None, 64)                8256      \n",
      "                                                                 \n",
      " dense_7 (Dense)             (None, 10)                650       \n",
      "                                                                 \n",
      "=================================================================\n",
      "Total params: 242762 (948.29 KB)\n",
      "Trainable params: 242762 (948.29 KB)\n",
      "Non-trainable params: 0 (0.00 Byte)\n",
      "_________________________________________________________________\n"
     ]
    }
   ],
   "source": [
    "fun_model.summary()"
   ]
  },
  {
   "cell_type": "code",
   "execution_count": 125,
   "id": "cc0dcc5d",
   "metadata": {},
   "outputs": [],
   "source": [
    "fun_model.compile(optimizer=\"adam\",\n",
    "                 loss=\"sparse_categorical_crosstropy\",\n",
    "                 metrics=[\"accuracy\"])"
   ]
  },
  {
   "cell_type": "code",
   "execution_count": 129,
   "id": "a567897c",
   "metadata": {},
   "outputs": [
    {
     "name": "stdout",
     "output_type": "stream",
     "text": [
      "Epoch 1/20\n"
     ]
    },
    {
     "ename": "ValueError",
     "evalue": "in user code:\n\n    File \"C:\\Users\\Legion\\anaconda3\\lib\\site-packages\\keras\\src\\engine\\training.py\", line 1338, in train_function  *\n        return step_function(self, iterator)\n    File \"C:\\Users\\Legion\\anaconda3\\lib\\site-packages\\keras\\src\\engine\\training.py\", line 1322, in step_function  **\n        outputs = model.distribute_strategy.run(run_step, args=(data,))\n    File \"C:\\Users\\Legion\\anaconda3\\lib\\site-packages\\keras\\src\\engine\\training.py\", line 1303, in run_step  **\n        outputs = model.train_step(data)\n    File \"C:\\Users\\Legion\\anaconda3\\lib\\site-packages\\keras\\src\\engine\\training.py\", line 1081, in train_step\n        loss = self.compute_loss(x, y, y_pred, sample_weight)\n    File \"C:\\Users\\Legion\\anaconda3\\lib\\site-packages\\keras\\src\\engine\\training.py\", line 1139, in compute_loss\n        return self.compiled_loss(\n    File \"C:\\Users\\Legion\\anaconda3\\lib\\site-packages\\keras\\src\\engine\\compile_utils.py\", line 240, in __call__\n        self.build(y_pred)\n    File \"C:\\Users\\Legion\\anaconda3\\lib\\site-packages\\keras\\src\\engine\\compile_utils.py\", line 182, in build\n        self._losses = tf.nest.map_structure(\n    File \"C:\\Users\\Legion\\anaconda3\\lib\\site-packages\\keras\\src\\engine\\compile_utils.py\", line 353, in _get_loss_object\n        loss = losses_mod.get(loss)\n    File \"C:\\Users\\Legion\\anaconda3\\lib\\site-packages\\keras\\src\\losses.py\", line 2929, in get\n        return deserialize(identifier, use_legacy_format=use_legacy_format)\n    File \"C:\\Users\\Legion\\anaconda3\\lib\\site-packages\\keras\\src\\losses.py\", line 2876, in deserialize\n        return legacy_serialization.deserialize_keras_object(\n    File \"C:\\Users\\Legion\\anaconda3\\lib\\site-packages\\keras\\src\\saving\\legacy\\serialization.py\", line 537, in deserialize_keras_object\n        raise ValueError(\n\n    ValueError: Unknown loss function: 'sparse_categorical_crosstropy'. Please ensure you are using a `keras.utils.custom_object_scope` and that this object is included in the scope. See https://www.tensorflow.org/guide/keras/save_and_serialize#registering_the_custom_object for details.\n",
     "output_type": "error",
     "traceback": [
      "\u001b[1;31m---------------------------------------------------------------------------\u001b[0m",
      "\u001b[1;31mValueError\u001b[0m                                Traceback (most recent call last)",
      "Cell \u001b[1;32mIn[129], line 1\u001b[0m\n\u001b[1;32m----> 1\u001b[0m \u001b[43mfun_model\u001b[49m\u001b[38;5;241;43m.\u001b[39;49m\u001b[43mfit\u001b[49m\u001b[43m(\u001b[49m\u001b[43mX_train_scale\u001b[49m\u001b[43m,\u001b[49m\u001b[43my_train\u001b[49m\u001b[43m,\u001b[49m\u001b[43mepochs\u001b[49m\u001b[38;5;241;43m=\u001b[39;49m\u001b[38;5;241;43m20\u001b[39;49m\u001b[43m)\u001b[49m\n",
      "File \u001b[1;32m~\\anaconda3\\lib\\site-packages\\keras\\src\\utils\\traceback_utils.py:70\u001b[0m, in \u001b[0;36mfilter_traceback.<locals>.error_handler\u001b[1;34m(*args, **kwargs)\u001b[0m\n\u001b[0;32m     67\u001b[0m     filtered_tb \u001b[38;5;241m=\u001b[39m _process_traceback_frames(e\u001b[38;5;241m.\u001b[39m__traceback__)\n\u001b[0;32m     68\u001b[0m     \u001b[38;5;66;03m# To get the full stack trace, call:\u001b[39;00m\n\u001b[0;32m     69\u001b[0m     \u001b[38;5;66;03m# `tf.debugging.disable_traceback_filtering()`\u001b[39;00m\n\u001b[1;32m---> 70\u001b[0m     \u001b[38;5;28;01mraise\u001b[39;00m e\u001b[38;5;241m.\u001b[39mwith_traceback(filtered_tb) \u001b[38;5;28;01mfrom\u001b[39;00m \u001b[38;5;28mNone\u001b[39m\n\u001b[0;32m     71\u001b[0m \u001b[38;5;28;01mfinally\u001b[39;00m:\n\u001b[0;32m     72\u001b[0m     \u001b[38;5;28;01mdel\u001b[39;00m filtered_tb\n",
      "File \u001b[1;32m~\\AppData\\Local\\Temp\\__autograph_generated_fileumlyts8u.py:15\u001b[0m, in \u001b[0;36mouter_factory.<locals>.inner_factory.<locals>.tf__train_function\u001b[1;34m(iterator)\u001b[0m\n\u001b[0;32m     13\u001b[0m \u001b[38;5;28;01mtry\u001b[39;00m:\n\u001b[0;32m     14\u001b[0m     do_return \u001b[38;5;241m=\u001b[39m \u001b[38;5;28;01mTrue\u001b[39;00m\n\u001b[1;32m---> 15\u001b[0m     retval_ \u001b[38;5;241m=\u001b[39m ag__\u001b[38;5;241m.\u001b[39mconverted_call(ag__\u001b[38;5;241m.\u001b[39mld(step_function), (ag__\u001b[38;5;241m.\u001b[39mld(\u001b[38;5;28mself\u001b[39m), ag__\u001b[38;5;241m.\u001b[39mld(iterator)), \u001b[38;5;28;01mNone\u001b[39;00m, fscope)\n\u001b[0;32m     16\u001b[0m \u001b[38;5;28;01mexcept\u001b[39;00m:\n\u001b[0;32m     17\u001b[0m     do_return \u001b[38;5;241m=\u001b[39m \u001b[38;5;28;01mFalse\u001b[39;00m\n",
      "\u001b[1;31mValueError\u001b[0m: in user code:\n\n    File \"C:\\Users\\Legion\\anaconda3\\lib\\site-packages\\keras\\src\\engine\\training.py\", line 1338, in train_function  *\n        return step_function(self, iterator)\n    File \"C:\\Users\\Legion\\anaconda3\\lib\\site-packages\\keras\\src\\engine\\training.py\", line 1322, in step_function  **\n        outputs = model.distribute_strategy.run(run_step, args=(data,))\n    File \"C:\\Users\\Legion\\anaconda3\\lib\\site-packages\\keras\\src\\engine\\training.py\", line 1303, in run_step  **\n        outputs = model.train_step(data)\n    File \"C:\\Users\\Legion\\anaconda3\\lib\\site-packages\\keras\\src\\engine\\training.py\", line 1081, in train_step\n        loss = self.compute_loss(x, y, y_pred, sample_weight)\n    File \"C:\\Users\\Legion\\anaconda3\\lib\\site-packages\\keras\\src\\engine\\training.py\", line 1139, in compute_loss\n        return self.compiled_loss(\n    File \"C:\\Users\\Legion\\anaconda3\\lib\\site-packages\\keras\\src\\engine\\compile_utils.py\", line 240, in __call__\n        self.build(y_pred)\n    File \"C:\\Users\\Legion\\anaconda3\\lib\\site-packages\\keras\\src\\engine\\compile_utils.py\", line 182, in build\n        self._losses = tf.nest.map_structure(\n    File \"C:\\Users\\Legion\\anaconda3\\lib\\site-packages\\keras\\src\\engine\\compile_utils.py\", line 353, in _get_loss_object\n        loss = losses_mod.get(loss)\n    File \"C:\\Users\\Legion\\anaconda3\\lib\\site-packages\\keras\\src\\losses.py\", line 2929, in get\n        return deserialize(identifier, use_legacy_format=use_legacy_format)\n    File \"C:\\Users\\Legion\\anaconda3\\lib\\site-packages\\keras\\src\\losses.py\", line 2876, in deserialize\n        return legacy_serialization.deserialize_keras_object(\n    File \"C:\\Users\\Legion\\anaconda3\\lib\\site-packages\\keras\\src\\saving\\legacy\\serialization.py\", line 537, in deserialize_keras_object\n        raise ValueError(\n\n    ValueError: Unknown loss function: 'sparse_categorical_crosstropy'. Please ensure you are using a `keras.utils.custom_object_scope` and that this object is included in the scope. See https://www.tensorflow.org/guide/keras/save_and_serialize#registering_the_custom_object for details.\n"
     ]
    }
   ],
   "source": [
    "fun_model.fit(X_train_scale,y_train,epochs=20)"
   ]
  },
  {
   "cell_type": "code",
   "execution_count": null,
   "id": "3579b0c0",
   "metadata": {},
   "outputs": [],
   "source": []
  }
 ],
 "metadata": {
  "kernelspec": {
   "display_name": "Python 3 (ipykernel)",
   "language": "python",
   "name": "python3"
  },
  "language_info": {
   "codemirror_mode": {
    "name": "ipython",
    "version": 3
   },
   "file_extension": ".py",
   "mimetype": "text/x-python",
   "name": "python",
   "nbconvert_exporter": "python",
   "pygments_lexer": "ipython3",
   "version": "3.10.9"
  }
 },
 "nbformat": 4,
 "nbformat_minor": 5
}
