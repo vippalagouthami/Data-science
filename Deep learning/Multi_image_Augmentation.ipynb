{
 "cells": [
  {
   "cell_type": "code",
   "execution_count": 1,
   "id": "fd75275b",
   "metadata": {},
   "outputs": [],
   "source": [
    "import os"
   ]
  },
  {
   "cell_type": "code",
   "execution_count": 2,
   "id": "74c6f4d6",
   "metadata": {},
   "outputs": [],
   "source": [
    "import cv2"
   ]
  },
  {
   "cell_type": "code",
   "execution_count": 3,
   "id": "c9f25a35",
   "metadata": {},
   "outputs": [],
   "source": [
    "import pandas as pd "
   ]
  },
  {
   "cell_type": "code",
   "execution_count": 4,
   "id": "4474c957",
   "metadata": {},
   "outputs": [],
   "source": [
    "import numpy as np\n"
   ]
  },
  {
   "cell_type": "code",
   "execution_count": 5,
   "id": "52615c35",
   "metadata": {},
   "outputs": [],
   "source": [
    "import tensorflow as tf "
   ]
  },
  {
   "cell_type": "code",
   "execution_count": 8,
   "id": "d61ad937",
   "metadata": {},
   "outputs": [],
   "source": [
    "from tensorflow.keras.preprocessing.image import ImageDataGenerator"
   ]
  },
  {
   "cell_type": "code",
   "execution_count": 9,
   "id": "a468bc15",
   "metadata": {},
   "outputs": [],
   "source": [
    "img_gen=ImageDataGenerator(rotation_range=45,\n",
    "                          width_shift_range=0.20,\n",
    "                          height_shift_range=0.20,\n",
    "                          brightness_range=(0.5,1.5),\n",
    "                          horizontal_flip=True,\n",
    "                          vertical_flip=True,\n",
    "                          zoom_range=0.20,\n",
    "                          shear_range=0.20,\n",
    "                          fill_mode='reflect')"
   ]
  },
  {
   "cell_type": "code",
   "execution_count": 10,
   "id": "84192482",
   "metadata": {},
   "outputs": [
    {
     "data": {
      "text/plain": [
       "<keras.src.preprocessing.image.ImageDataGenerator at 0x1bf6eaf1bd0>"
      ]
     },
     "execution_count": 10,
     "metadata": {},
     "output_type": "execute_result"
    }
   ],
   "source": [
    "img_gen"
   ]
  },
  {
   "cell_type": "code",
   "execution_count": 14,
   "id": "8a2e5f18",
   "metadata": {},
   "outputs": [],
   "source": [
    "path=\"C:/Users/Legion/OneDrive/Desktop/image/\""
   ]
  },
  {
   "cell_type": "code",
   "execution_count": 15,
   "id": "82391221",
   "metadata": {},
   "outputs": [],
   "source": [
    "img_names=os.listdir(\"C:/Users/Legion/OneDrive/Desktop/image\")"
   ]
  },
  {
   "cell_type": "code",
   "execution_count": 16,
   "id": "d427ded1",
   "metadata": {},
   "outputs": [
    {
     "data": {
      "text/plain": [
       "['dog.jpeg', 'horse.jpeg', 'raddit.jpeg']"
      ]
     },
     "execution_count": 16,
     "metadata": {},
     "output_type": "execute_result"
    }
   ],
   "source": [
    "img_names"
   ]
  },
  {
   "cell_type": "code",
   "execution_count": 17,
   "id": "6339d3c0",
   "metadata": {},
   "outputs": [
    {
     "data": {
      "text/plain": [
       "'C:/Users/Legion/OneDrive/Desktop/image/'"
      ]
     },
     "execution_count": 17,
     "metadata": {},
     "output_type": "execute_result"
    }
   ],
   "source": [
    "path"
   ]
  },
  {
   "cell_type": "code",
   "execution_count": 18,
   "id": "ef2c1da1",
   "metadata": {},
   "outputs": [
    {
     "data": {
      "text/plain": [
       "'C:/Users/Legion/OneDrive/Desktop/image/dog.jpeg'"
      ]
     },
     "execution_count": 18,
     "metadata": {},
     "output_type": "execute_result"
    }
   ],
   "source": [
    "path+img_names[0]"
   ]
  },
  {
   "cell_type": "code",
   "execution_count": 19,
   "id": "a653e7a0",
   "metadata": {},
   "outputs": [],
   "source": [
    "img_dog=cv2.imread('C:/Users/Legion/OneDrive/Desktop/image/dog.jpeg')"
   ]
  },
  {
   "cell_type": "code",
   "execution_count": 20,
   "id": "8a8604a7",
   "metadata": {},
   "outputs": [
    {
     "data": {
      "text/plain": [
       "-1"
      ]
     },
     "execution_count": 20,
     "metadata": {},
     "output_type": "execute_result"
    }
   ],
   "source": [
    "cv2.imshow(\"Dog\",img_dog)\n",
    "cv2.waitKey(-1)"
   ]
  },
  {
   "cell_type": "code",
   "execution_count": 21,
   "id": "0f4c6654",
   "metadata": {},
   "outputs": [],
   "source": [
    "dataset=[]"
   ]
  },
  {
   "cell_type": "code",
   "execution_count": 22,
   "id": "4080b5b4",
   "metadata": {},
   "outputs": [
    {
     "name": "stdout",
     "output_type": "stream",
     "text": [
      "(128, 128, 3)\n",
      "(200, 200, 3)\n",
      "<class 'numpy.ndarray'>\n",
      "(131, 197, 3)\n",
      "(200, 200, 3)\n",
      "<class 'numpy.ndarray'>\n",
      "(141, 192, 3)\n",
      "(200, 200, 3)\n",
      "<class 'numpy.ndarray'>\n"
     ]
    }
   ],
   "source": [
    "for i,img in enumerate(img_names):\n",
    "    image=cv2.imread(path+img)\n",
    "    print(image.shape)\n",
    "    image=cv2.resize(image,(200,200))\n",
    "    print(image.shape)\n",
    "    \n",
    "    image = np.array(image)\n",
    "    print(type(image))\n",
    "    dataset.append(image)"
   ]
  },
  {
   "cell_type": "code",
   "execution_count": 23,
   "id": "47b6c84e",
   "metadata": {},
   "outputs": [
    {
     "data": {
      "text/plain": [
       "3"
      ]
     },
     "execution_count": 23,
     "metadata": {},
     "output_type": "execute_result"
    }
   ],
   "source": [
    "len(dataset)"
   ]
  },
  {
   "cell_type": "code",
   "execution_count": 24,
   "id": "bbc2f2fa",
   "metadata": {},
   "outputs": [
    {
     "data": {
      "text/plain": [
       "list"
      ]
     },
     "execution_count": 24,
     "metadata": {},
     "output_type": "execute_result"
    }
   ],
   "source": [
    "type(dataset)"
   ]
  },
  {
   "cell_type": "code",
   "execution_count": 25,
   "id": "a8fd8236",
   "metadata": {},
   "outputs": [],
   "source": [
    "dataset=np.array(dataset)"
   ]
  },
  {
   "cell_type": "code",
   "execution_count": 26,
   "id": "e99b523a",
   "metadata": {},
   "outputs": [
    {
     "data": {
      "text/plain": [
       "numpy.ndarray"
      ]
     },
     "execution_count": 26,
     "metadata": {},
     "output_type": "execute_result"
    }
   ],
   "source": [
    "type(dataset)"
   ]
  },
  {
   "cell_type": "code",
   "execution_count": 27,
   "id": "605e111b",
   "metadata": {},
   "outputs": [],
   "source": [
    "x=0\n",
    "for b in img_gen.flow(dataset,batch_size=32,\n",
    "                     save_to_dir=\"C:/Users/Legion/OneDrive/Desktop/image/Augmented2/\",\n",
    "                     save_prefix=\"August_\",save_format=\"jpg\"):\n",
    "    if x==100:\n",
    "        break\n",
    "    x=x+1    "
   ]
  },
  {
   "cell_type": "code",
   "execution_count": null,
   "id": "7dbb659c",
   "metadata": {},
   "outputs": [],
   "source": []
  }
 ],
 "metadata": {
  "kernelspec": {
   "display_name": "Python 3 (ipykernel)",
   "language": "python",
   "name": "python3"
  },
  "language_info": {
   "codemirror_mode": {
    "name": "ipython",
    "version": 3
   },
   "file_extension": ".py",
   "mimetype": "text/x-python",
   "name": "python",
   "nbconvert_exporter": "python",
   "pygments_lexer": "ipython3",
   "version": "3.10.9"
  }
 },
 "nbformat": 4,
 "nbformat_minor": 5
}
