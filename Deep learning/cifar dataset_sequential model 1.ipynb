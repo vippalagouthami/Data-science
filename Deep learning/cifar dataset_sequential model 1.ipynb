{
 "cells": [
  {
   "cell_type": "code",
   "execution_count": 1,
   "id": "abf66388",
   "metadata": {},
   "outputs": [],
   "source": [
    "import tensorflow as tf"
   ]
  },
  {
   "cell_type": "code",
   "execution_count": 2,
   "id": "f97c0127",
   "metadata": {},
   "outputs": [],
   "source": [
    "from tensorflow.keras.datasets import cifar10"
   ]
  },
  {
   "cell_type": "code",
   "execution_count": 3,
   "id": "02277894",
   "metadata": {},
   "outputs": [],
   "source": [
    "(X_train,y_train),(X_test,y_test)=cifar10.load_data()"
   ]
  },
  {
   "cell_type": "code",
   "execution_count": 4,
   "id": "ef76f703",
   "metadata": {},
   "outputs": [],
   "source": [
    " import matplotlib.pyplot as plt"
   ]
  },
  {
   "cell_type": "code",
   "execution_count": 5,
   "id": "16a6afc1",
   "metadata": {},
   "outputs": [],
   "source": [
    "import pandas as pd"
   ]
  },
  {
   "cell_type": "code",
   "execution_count": 6,
   "id": "2c0ebe53",
   "metadata": {},
   "outputs": [],
   "source": [
    "import numpy as np"
   ]
  },
  {
   "cell_type": "code",
   "execution_count": 7,
   "id": "3eb73fb3",
   "metadata": {},
   "outputs": [],
   "source": [
    "namelist=[\"Aeroplane\",\"automobile\",\"bird\",\"cat\",\"deer\",\"dog\",\"frog\",\"horse\",\"ship\",\"truck\"]"
   ]
  },
  {
   "cell_type": "code",
   "execution_count": 8,
   "id": "2033d305",
   "metadata": {},
   "outputs": [
    {
     "data": {
      "text/plain": [
       "['Aeroplane',\n",
       " 'automobile',\n",
       " 'bird',\n",
       " 'cat',\n",
       " 'deer',\n",
       " 'dog',\n",
       " 'frog',\n",
       " 'horse',\n",
       " 'ship',\n",
       " 'truck']"
      ]
     },
     "execution_count": 8,
     "metadata": {},
     "output_type": "execute_result"
    }
   ],
   "source": [
    "namelist"
   ]
  },
  {
   "cell_type": "code",
   "execution_count": 9,
   "id": "a77ca88b",
   "metadata": {},
   "outputs": [
    {
     "data": {
      "text/plain": [
       "array([[[[ 59,  62,  63],\n",
       "         [ 43,  46,  45],\n",
       "         [ 50,  48,  43],\n",
       "         ...,\n",
       "         [158, 132, 108],\n",
       "         [152, 125, 102],\n",
       "         [148, 124, 103]],\n",
       "\n",
       "        [[ 16,  20,  20],\n",
       "         [  0,   0,   0],\n",
       "         [ 18,   8,   0],\n",
       "         ...,\n",
       "         [123,  88,  55],\n",
       "         [119,  83,  50],\n",
       "         [122,  87,  57]],\n",
       "\n",
       "        [[ 25,  24,  21],\n",
       "         [ 16,   7,   0],\n",
       "         [ 49,  27,   8],\n",
       "         ...,\n",
       "         [118,  84,  50],\n",
       "         [120,  84,  50],\n",
       "         [109,  73,  42]],\n",
       "\n",
       "        ...,\n",
       "\n",
       "        [[208, 170,  96],\n",
       "         [201, 153,  34],\n",
       "         [198, 161,  26],\n",
       "         ...,\n",
       "         [160, 133,  70],\n",
       "         [ 56,  31,   7],\n",
       "         [ 53,  34,  20]],\n",
       "\n",
       "        [[180, 139,  96],\n",
       "         [173, 123,  42],\n",
       "         [186, 144,  30],\n",
       "         ...,\n",
       "         [184, 148,  94],\n",
       "         [ 97,  62,  34],\n",
       "         [ 83,  53,  34]],\n",
       "\n",
       "        [[177, 144, 116],\n",
       "         [168, 129,  94],\n",
       "         [179, 142,  87],\n",
       "         ...,\n",
       "         [216, 184, 140],\n",
       "         [151, 118,  84],\n",
       "         [123,  92,  72]]],\n",
       "\n",
       "\n",
       "       [[[154, 177, 187],\n",
       "         [126, 137, 136],\n",
       "         [105, 104,  95],\n",
       "         ...,\n",
       "         [ 91,  95,  71],\n",
       "         [ 87,  90,  71],\n",
       "         [ 79,  81,  70]],\n",
       "\n",
       "        [[140, 160, 169],\n",
       "         [145, 153, 154],\n",
       "         [125, 125, 118],\n",
       "         ...,\n",
       "         [ 96,  99,  78],\n",
       "         [ 77,  80,  62],\n",
       "         [ 71,  73,  61]],\n",
       "\n",
       "        [[140, 155, 164],\n",
       "         [139, 146, 149],\n",
       "         [115, 115, 112],\n",
       "         ...,\n",
       "         [ 79,  82,  64],\n",
       "         [ 68,  70,  55],\n",
       "         [ 67,  69,  55]],\n",
       "\n",
       "        ...,\n",
       "\n",
       "        [[175, 167, 166],\n",
       "         [156, 154, 160],\n",
       "         [154, 160, 170],\n",
       "         ...,\n",
       "         [ 42,  34,  36],\n",
       "         [ 61,  53,  57],\n",
       "         [ 93,  83,  91]],\n",
       "\n",
       "        [[165, 154, 128],\n",
       "         [156, 152, 130],\n",
       "         [159, 161, 142],\n",
       "         ...,\n",
       "         [103,  93,  96],\n",
       "         [123, 114, 120],\n",
       "         [131, 121, 131]],\n",
       "\n",
       "        [[163, 148, 120],\n",
       "         [158, 148, 122],\n",
       "         [163, 156, 133],\n",
       "         ...,\n",
       "         [143, 133, 139],\n",
       "         [143, 134, 142],\n",
       "         [143, 133, 144]]],\n",
       "\n",
       "\n",
       "       [[[255, 255, 255],\n",
       "         [253, 253, 253],\n",
       "         [253, 253, 253],\n",
       "         ...,\n",
       "         [253, 253, 253],\n",
       "         [253, 253, 253],\n",
       "         [253, 253, 253]],\n",
       "\n",
       "        [[255, 255, 255],\n",
       "         [255, 255, 255],\n",
       "         [255, 255, 255],\n",
       "         ...,\n",
       "         [255, 255, 255],\n",
       "         [255, 255, 255],\n",
       "         [255, 255, 255]],\n",
       "\n",
       "        [[255, 255, 255],\n",
       "         [254, 254, 254],\n",
       "         [254, 254, 254],\n",
       "         ...,\n",
       "         [254, 254, 254],\n",
       "         [254, 254, 254],\n",
       "         [254, 254, 254]],\n",
       "\n",
       "        ...,\n",
       "\n",
       "        [[113, 120, 112],\n",
       "         [111, 118, 111],\n",
       "         [105, 112, 106],\n",
       "         ...,\n",
       "         [ 72,  81,  80],\n",
       "         [ 72,  80,  79],\n",
       "         [ 72,  80,  79]],\n",
       "\n",
       "        [[111, 118, 110],\n",
       "         [104, 111, 104],\n",
       "         [ 99, 106,  98],\n",
       "         ...,\n",
       "         [ 68,  75,  73],\n",
       "         [ 70,  76,  75],\n",
       "         [ 78,  84,  82]],\n",
       "\n",
       "        [[106, 113, 105],\n",
       "         [ 99, 106,  98],\n",
       "         [ 95, 102,  94],\n",
       "         ...,\n",
       "         [ 78,  85,  83],\n",
       "         [ 79,  85,  83],\n",
       "         [ 80,  86,  84]]],\n",
       "\n",
       "\n",
       "       ...,\n",
       "\n",
       "\n",
       "       [[[ 35, 178, 235],\n",
       "         [ 40, 176, 239],\n",
       "         [ 42, 176, 241],\n",
       "         ...,\n",
       "         [ 99, 177, 219],\n",
       "         [ 79, 147, 197],\n",
       "         [ 89, 148, 189]],\n",
       "\n",
       "        [[ 57, 182, 234],\n",
       "         [ 44, 184, 250],\n",
       "         [ 50, 183, 240],\n",
       "         ...,\n",
       "         [156, 182, 200],\n",
       "         [141, 177, 206],\n",
       "         [116, 149, 175]],\n",
       "\n",
       "        [[ 98, 197, 237],\n",
       "         [ 64, 189, 252],\n",
       "         [ 69, 192, 245],\n",
       "         ...,\n",
       "         [188, 195, 206],\n",
       "         [119, 135, 147],\n",
       "         [ 61,  79,  90]],\n",
       "\n",
       "        ...,\n",
       "\n",
       "        [[ 73,  79,  77],\n",
       "         [ 53,  63,  68],\n",
       "         [ 54,  68,  80],\n",
       "         ...,\n",
       "         [ 17,  40,  64],\n",
       "         [ 21,  36,  51],\n",
       "         [ 33,  48,  49]],\n",
       "\n",
       "        [[ 61,  68,  75],\n",
       "         [ 55,  70,  86],\n",
       "         [ 57,  79, 103],\n",
       "         ...,\n",
       "         [ 24,  48,  72],\n",
       "         [ 17,  35,  53],\n",
       "         [  7,  23,  32]],\n",
       "\n",
       "        [[ 44,  56,  73],\n",
       "         [ 46,  66,  88],\n",
       "         [ 49,  77, 105],\n",
       "         ...,\n",
       "         [ 27,  52,  77],\n",
       "         [ 21,  43,  66],\n",
       "         [ 12,  31,  50]]],\n",
       "\n",
       "\n",
       "       [[[189, 211, 240],\n",
       "         [186, 208, 236],\n",
       "         [185, 207, 235],\n",
       "         ...,\n",
       "         [175, 195, 224],\n",
       "         [172, 194, 222],\n",
       "         [169, 194, 220]],\n",
       "\n",
       "        [[194, 210, 239],\n",
       "         [191, 207, 236],\n",
       "         [190, 206, 235],\n",
       "         ...,\n",
       "         [173, 192, 220],\n",
       "         [171, 191, 218],\n",
       "         [167, 190, 216]],\n",
       "\n",
       "        [[208, 219, 244],\n",
       "         [205, 216, 240],\n",
       "         [204, 215, 239],\n",
       "         ...,\n",
       "         [175, 191, 217],\n",
       "         [172, 190, 216],\n",
       "         [169, 191, 215]],\n",
       "\n",
       "        ...,\n",
       "\n",
       "        [[207, 199, 181],\n",
       "         [203, 195, 175],\n",
       "         [203, 196, 173],\n",
       "         ...,\n",
       "         [135, 132, 127],\n",
       "         [162, 158, 150],\n",
       "         [168, 163, 151]],\n",
       "\n",
       "        [[198, 190, 170],\n",
       "         [189, 181, 159],\n",
       "         [180, 172, 147],\n",
       "         ...,\n",
       "         [178, 171, 160],\n",
       "         [175, 169, 156],\n",
       "         [175, 169, 154]],\n",
       "\n",
       "        [[198, 189, 173],\n",
       "         [189, 181, 162],\n",
       "         [178, 170, 149],\n",
       "         ...,\n",
       "         [195, 184, 169],\n",
       "         [196, 189, 171],\n",
       "         [195, 190, 171]]],\n",
       "\n",
       "\n",
       "       [[[229, 229, 239],\n",
       "         [236, 237, 247],\n",
       "         [234, 236, 247],\n",
       "         ...,\n",
       "         [217, 219, 233],\n",
       "         [221, 223, 234],\n",
       "         [222, 223, 233]],\n",
       "\n",
       "        [[222, 221, 229],\n",
       "         [239, 239, 249],\n",
       "         [233, 234, 246],\n",
       "         ...,\n",
       "         [223, 223, 236],\n",
       "         [227, 228, 238],\n",
       "         [210, 211, 220]],\n",
       "\n",
       "        [[213, 206, 211],\n",
       "         [234, 232, 239],\n",
       "         [231, 233, 244],\n",
       "         ...,\n",
       "         [220, 220, 232],\n",
       "         [220, 219, 232],\n",
       "         [202, 203, 215]],\n",
       "\n",
       "        ...,\n",
       "\n",
       "        [[150, 143, 135],\n",
       "         [140, 135, 127],\n",
       "         [132, 127, 120],\n",
       "         ...,\n",
       "         [224, 222, 218],\n",
       "         [230, 228, 225],\n",
       "         [241, 241, 238]],\n",
       "\n",
       "        [[137, 132, 126],\n",
       "         [130, 127, 120],\n",
       "         [125, 121, 115],\n",
       "         ...,\n",
       "         [181, 180, 178],\n",
       "         [202, 201, 198],\n",
       "         [212, 211, 207]],\n",
       "\n",
       "        [[122, 119, 114],\n",
       "         [118, 116, 110],\n",
       "         [120, 116, 111],\n",
       "         ...,\n",
       "         [179, 177, 173],\n",
       "         [164, 164, 162],\n",
       "         [163, 163, 161]]]], dtype=uint8)"
      ]
     },
     "execution_count": 9,
     "metadata": {},
     "output_type": "execute_result"
    }
   ],
   "source": [
    " X_train"
   ]
  },
  {
   "cell_type": "code",
   "execution_count": 10,
   "id": "1bb39d6b",
   "metadata": {},
   "outputs": [
    {
     "data": {
      "text/plain": [
       "array([[[171, 193, 215],\n",
       "        [175, 197, 218],\n",
       "        [187, 206, 221],\n",
       "        ...,\n",
       "        [153, 179, 213],\n",
       "        [112, 158, 209],\n",
       "        [103, 152, 204]],\n",
       "\n",
       "       [[175, 197, 217],\n",
       "        [183, 202, 219],\n",
       "        [193, 209, 223],\n",
       "        ...,\n",
       "        [221, 225, 230],\n",
       "        [186, 201, 223],\n",
       "        [145, 177, 215]],\n",
       "\n",
       "       [[175, 195, 213],\n",
       "        [181, 199, 215],\n",
       "        [194, 209, 221],\n",
       "        ...,\n",
       "        [229, 230, 228],\n",
       "        [223, 224, 228],\n",
       "        [197, 209, 222]],\n",
       "\n",
       "       ...,\n",
       "\n",
       "       [[ 60,  72,  63],\n",
       "        [ 66,  78,  69],\n",
       "        [ 70,  81,  74],\n",
       "        ...,\n",
       "        [226, 226, 226],\n",
       "        [227, 227, 227],\n",
       "        [227, 227, 228]],\n",
       "\n",
       "       [[ 60,  72,  66],\n",
       "        [ 63,  76,  70],\n",
       "        [ 69,  80,  75],\n",
       "        ...,\n",
       "        [223, 223, 223],\n",
       "        [228, 228, 228],\n",
       "        [230, 230, 230]],\n",
       "\n",
       "       [[ 47,  57,  48],\n",
       "        [ 56,  68,  61],\n",
       "        [ 59,  69,  63],\n",
       "        ...,\n",
       "        [220, 220, 219],\n",
       "        [219, 219, 218],\n",
       "        [224, 224, 223]]], dtype=uint8)"
      ]
     },
     "execution_count": 10,
     "metadata": {},
     "output_type": "execute_result"
    }
   ],
   "source": [
    "X_train[23432]"
   ]
  },
  {
   "cell_type": "code",
   "execution_count": 11,
   "id": "8b7e803e",
   "metadata": {},
   "outputs": [
    {
     "data": {
      "text/plain": [
       "(32, 32, 3)"
      ]
     },
     "execution_count": 11,
     "metadata": {},
     "output_type": "execute_result"
    }
   ],
   "source": [
    "X_train[23432].shape"
   ]
  },
  {
   "cell_type": "code",
   "execution_count": 12,
   "id": "8ac84c8f",
   "metadata": {},
   "outputs": [
    {
     "data": {
      "text/plain": [
       "<matplotlib.image.AxesImage at 0x1e7f99c7e20>"
      ]
     },
     "execution_count": 12,
     "metadata": {},
     "output_type": "execute_result"
    },
    {
     "data": {
      "image/png": "[encoded data removed]",
      "text/plain": [
       "<Figure size 640x480 with 1 Axes>"
      ]
     },
     "metadata": {},
     "output_type": "display_data"
    }
   ],
   "source": [
    "plt.imshow(X_train[23432])"
   ]
  },
  {
   "cell_type": "code",
   "execution_count": 13,
   "id": "032b9e35",
   "metadata": {},
   "outputs": [
    {
     "data": {
      "text/plain": [
       "array([5], dtype=uint8)"
      ]
     },
     "execution_count": 13,
     "metadata": {},
     "output_type": "execute_result"
    }
   ],
   "source": [
    "y_train[23432]"
   ]
  },
  {
   "cell_type": "code",
   "execution_count": 14,
   "id": "b81c7cc6",
   "metadata": {},
   "outputs": [
    {
     "data": {
      "text/plain": [
       "'dog'"
      ]
     },
     "execution_count": 14,
     "metadata": {},
     "output_type": "execute_result"
    }
   ],
   "source": [
    "namelist[5]"
   ]
  },
  {
   "cell_type": "code",
   "execution_count": 16,
   "id": "b4a56a2f",
   "metadata": {},
   "outputs": [
    {
     "data": {
      "text/plain": [
       "array([[[ 69,  80,  56],\n",
       "        [ 63,  69,  50],\n",
       "        [ 79, 100,  51],\n",
       "        ...,\n",
       "        [100, 113,  80],\n",
       "        [ 89, 105,  62],\n",
       "        [ 73,  92,  49]],\n",
       "\n",
       "       [[ 75,  91,  48],\n",
       "        [ 58,  62,  49],\n",
       "        [ 75,  93,  51],\n",
       "        ...,\n",
       "        [ 87, 104,  65],\n",
       "        [ 81,  98,  55],\n",
       "        [ 69,  84,  52]],\n",
       "\n",
       "       [[ 62,  75,  42],\n",
       "        [ 72,  86,  50],\n",
       "        [ 85,  97,  60],\n",
       "        ...,\n",
       "        [ 73,  88,  59],\n",
       "        [ 63,  75,  47],\n",
       "        [ 82,  97,  62]],\n",
       "\n",
       "       ...,\n",
       "\n",
       "       [[132, 145, 105],\n",
       "        [120, 132,  85],\n",
       "        [133, 137,  99],\n",
       "        ...,\n",
       "        [141, 131, 111],\n",
       "        [129, 128,  92],\n",
       "        [133, 132,  97]],\n",
       "\n",
       "       [[131, 139, 100],\n",
       "        [123, 135,  93],\n",
       "        [127, 136,  93],\n",
       "        ...,\n",
       "        [137, 127, 103],\n",
       "        [133, 128,  92],\n",
       "        [141, 135,  97]],\n",
       "\n",
       "       [[128, 131,  91],\n",
       "        [116, 125,  82],\n",
       "        [113, 125,  83],\n",
       "        ...,\n",
       "        [141, 133, 104],\n",
       "        [136, 129, 100],\n",
       "        [141, 131, 103]]], dtype=uint8)"
      ]
     },
     "execution_count": 16,
     "metadata": {},
     "output_type": "execute_result"
    }
   ],
   "source": [
    "X_test[8695]"
   ]
  },
  {
   "cell_type": "code",
   "execution_count": 17,
   "id": "112fc50f",
   "metadata": {},
   "outputs": [
    {
     "data": {
      "text/plain": [
       "<matplotlib.image.AxesImage at 0x1e7f9c1c520>"
      ]
     },
     "execution_count": 17,
     "metadata": {},
     "output_type": "execute_result"
    },
    {
     "data": {
      "image/png": "[encoded data removed]",
      "text/plain": [
       "<Figure size 640x480 with 1 Axes>"
      ]
     },
     "metadata": {},
     "output_type": "display_data"
    }
   ],
   "source": [
    "plt.imshow(X_test[8695])"
   ]
  },
  {
   "cell_type": "code",
   "execution_count": 18,
   "id": "ddd7ce46",
   "metadata": {},
   "outputs": [
    {
     "data": {
      "text/plain": [
       "array([4], dtype=uint8)"
      ]
     },
     "execution_count": 18,
     "metadata": {},
     "output_type": "execute_result"
    }
   ],
   "source": [
    "y_test[8695]"
   ]
  },
  {
   "cell_type": "code",
   "execution_count": 19,
   "id": "e15627a8",
   "metadata": {},
   "outputs": [
    {
     "data": {
      "text/plain": [
       "'deer'"
      ]
     },
     "execution_count": 19,
     "metadata": {},
     "output_type": "execute_result"
    }
   ],
   "source": [
    "namelist[4]"
   ]
  },
  {
   "cell_type": "markdown",
   "id": "05d1c295",
   "metadata": {},
   "source": [
    "# Scaling"
   ]
  },
  {
   "cell_type": "code",
   "execution_count": 21,
   "id": "90e0cd19",
   "metadata": {},
   "outputs": [],
   "source": [
    "X_train_scale=X_train/255.0"
   ]
  },
  {
   "cell_type": "code",
   "execution_count": 22,
   "id": "616791db",
   "metadata": {},
   "outputs": [],
   "source": [
    "X_test_scale = X_test/255.0"
   ]
  },
  {
   "cell_type": "code",
   "execution_count": 23,
   "id": "15e7b5d6",
   "metadata": {},
   "outputs": [
    {
     "data": {
      "text/plain": [
       "(50000, 32, 32, 3)"
      ]
     },
     "execution_count": 23,
     "metadata": {},
     "output_type": "execute_result"
    }
   ],
   "source": [
    "X_train.shape"
   ]
  },
  {
   "cell_type": "code",
   "execution_count": 24,
   "id": "cb9ef1af",
   "metadata": {},
   "outputs": [
    {
     "data": {
      "text/plain": [
       "(50000, 32, 32, 3)"
      ]
     },
     "execution_count": 24,
     "metadata": {},
     "output_type": "execute_result"
    }
   ],
   "source": [
    "X_train_scale.shape"
   ]
  },
  {
   "cell_type": "code",
   "execution_count": 25,
   "id": "85f4312f",
   "metadata": {},
   "outputs": [
    {
     "data": {
      "text/plain": [
       "255"
      ]
     },
     "execution_count": 25,
     "metadata": {},
     "output_type": "execute_result"
    }
   ],
   "source": [
    "X_train.max()"
   ]
  },
  {
   "cell_type": "code",
   "execution_count": 26,
   "id": "52774a9e",
   "metadata": {},
   "outputs": [
    {
     "data": {
      "text/plain": [
       "1.0"
      ]
     },
     "execution_count": 26,
     "metadata": {},
     "output_type": "execute_result"
    }
   ],
   "source": [
    "X_train_scale.max()"
   ]
  },
  {
   "cell_type": "code",
   "execution_count": 27,
   "id": "361b6a05",
   "metadata": {},
   "outputs": [
    {
     "data": {
      "text/plain": [
       "0.0"
      ]
     },
     "execution_count": 27,
     "metadata": {},
     "output_type": "execute_result"
    }
   ],
   "source": [
    "X_train_scale.min()"
   ]
  },
  {
   "cell_type": "code",
   "execution_count": 28,
   "id": "34a3d1ac",
   "metadata": {},
   "outputs": [
    {
     "data": {
      "text/plain": [
       "array([[[ 14,  47,  89],\n",
       "        [ 19,  55, 104],\n",
       "        [ 29,  54, 114],\n",
       "        ...,\n",
       "        [196, 198, 197],\n",
       "        [189, 191, 190],\n",
       "        [191, 193, 192]],\n",
       "\n",
       "       [[ 37,  55,  88],\n",
       "        [ 17,  43,  86],\n",
       "        [ 22,  44,  93],\n",
       "        ...,\n",
       "        [221, 224, 223],\n",
       "        [213, 215, 214],\n",
       "        [204, 206, 205]],\n",
       "\n",
       "       [[ 77,  85,  96],\n",
       "        [ 14,  35,  60],\n",
       "        [ 22,  44,  69],\n",
       "        ...,\n",
       "        [223, 227, 226],\n",
       "        [222, 227, 225],\n",
       "        [222, 225, 225]],\n",
       "\n",
       "       ...,\n",
       "\n",
       "       [[ 85, 113, 184],\n",
       "        [ 84, 111, 180],\n",
       "        [ 84, 108, 176],\n",
       "        ...,\n",
       "        [168, 198, 213],\n",
       "        [169, 203, 201],\n",
       "        [167, 198, 195]],\n",
       "\n",
       "       [[ 84, 114, 183],\n",
       "        [ 85, 112, 180],\n",
       "        [ 85, 111, 178],\n",
       "        ...,\n",
       "        [183, 199, 210],\n",
       "        [189, 206, 216],\n",
       "        [195, 210, 219]],\n",
       "\n",
       "       [[ 83, 112, 179],\n",
       "        [ 82, 109, 175],\n",
       "        [ 81, 106, 171],\n",
       "        ...,\n",
       "        [204, 209, 214],\n",
       "        [201, 203, 221],\n",
       "        [192, 198, 215]]], dtype=uint8)"
      ]
     },
     "execution_count": 28,
     "metadata": {},
     "output_type": "execute_result"
    }
   ],
   "source": [
    "X_train[12125]"
   ]
  },
  {
   "cell_type": "code",
   "execution_count": 29,
   "id": "36204a88",
   "metadata": {},
   "outputs": [
    {
     "data": {
      "text/plain": [
       "array([[[0.05490196, 0.18431373, 0.34901961],\n",
       "        [0.0745098 , 0.21568627, 0.40784314],\n",
       "        [0.11372549, 0.21176471, 0.44705882],\n",
       "        ...,\n",
       "        [0.76862745, 0.77647059, 0.77254902],\n",
       "        [0.74117647, 0.74901961, 0.74509804],\n",
       "        [0.74901961, 0.75686275, 0.75294118]],\n",
       "\n",
       "       [[0.14509804, 0.21568627, 0.34509804],\n",
       "        [0.06666667, 0.16862745, 0.3372549 ],\n",
       "        [0.08627451, 0.17254902, 0.36470588],\n",
       "        ...,\n",
       "        [0.86666667, 0.87843137, 0.8745098 ],\n",
       "        [0.83529412, 0.84313725, 0.83921569],\n",
       "        [0.8       , 0.80784314, 0.80392157]],\n",
       "\n",
       "       [[0.30196078, 0.33333333, 0.37647059],\n",
       "        [0.05490196, 0.1372549 , 0.23529412],\n",
       "        [0.08627451, 0.17254902, 0.27058824],\n",
       "        ...,\n",
       "        [0.8745098 , 0.89019608, 0.88627451],\n",
       "        [0.87058824, 0.89019608, 0.88235294],\n",
       "        [0.87058824, 0.88235294, 0.88235294]],\n",
       "\n",
       "       ...,\n",
       "\n",
       "       [[0.33333333, 0.44313725, 0.72156863],\n",
       "        [0.32941176, 0.43529412, 0.70588235],\n",
       "        [0.32941176, 0.42352941, 0.69019608],\n",
       "        ...,\n",
       "        [0.65882353, 0.77647059, 0.83529412],\n",
       "        [0.6627451 , 0.79607843, 0.78823529],\n",
       "        [0.65490196, 0.77647059, 0.76470588]],\n",
       "\n",
       "       [[0.32941176, 0.44705882, 0.71764706],\n",
       "        [0.33333333, 0.43921569, 0.70588235],\n",
       "        [0.33333333, 0.43529412, 0.69803922],\n",
       "        ...,\n",
       "        [0.71764706, 0.78039216, 0.82352941],\n",
       "        [0.74117647, 0.80784314, 0.84705882],\n",
       "        [0.76470588, 0.82352941, 0.85882353]],\n",
       "\n",
       "       [[0.3254902 , 0.43921569, 0.70196078],\n",
       "        [0.32156863, 0.42745098, 0.68627451],\n",
       "        [0.31764706, 0.41568627, 0.67058824],\n",
       "        ...,\n",
       "        [0.8       , 0.81960784, 0.83921569],\n",
       "        [0.78823529, 0.79607843, 0.86666667],\n",
       "        [0.75294118, 0.77647059, 0.84313725]]])"
      ]
     },
     "execution_count": 29,
     "metadata": {},
     "output_type": "execute_result"
    }
   ],
   "source": [
    "X_train_scale[12125]"
   ]
  },
  {
   "cell_type": "code",
   "execution_count": 30,
   "id": "01aa97ef",
   "metadata": {},
   "outputs": [
    {
     "data": {
      "text/plain": [
       "<matplotlib.image.AxesImage at 0x1e7f9c58fd0>"
      ]
     },
     "execution_count": 30,
     "metadata": {},
     "output_type": "execute_result"
    },
    {
     "data": {
      "image/png": "[encoded data removed]",
      "text/plain": [
       "<Figure size 640x480 with 1 Axes>"
      ]
     },
     "metadata": {},
     "output_type": "display_data"
    }
   ],
   "source": [
    "plt.imshow(X_train[12125])"
   ]
  },
  {
   "cell_type": "code",
   "execution_count": 31,
   "id": "20afed29",
   "metadata": {},
   "outputs": [
    {
     "data": {
      "text/plain": [
       "array([8], dtype=uint8)"
      ]
     },
     "execution_count": 31,
     "metadata": {},
     "output_type": "execute_result"
    }
   ],
   "source": [
    "y_train[12125]"
   ]
  },
  {
   "cell_type": "code",
   "execution_count": 32,
   "id": "a20738f5",
   "metadata": {},
   "outputs": [
    {
     "data": {
      "text/plain": [
       "'ship'"
      ]
     },
     "execution_count": 32,
     "metadata": {},
     "output_type": "execute_result"
    }
   ],
   "source": [
    "namelist[8]"
   ]
  },
  {
   "cell_type": "code",
   "execution_count": 33,
   "id": "67263398",
   "metadata": {},
   "outputs": [
    {
     "data": {
      "text/plain": [
       "array([[[0.05490196, 0.18431373, 0.34901961],\n",
       "        [0.0745098 , 0.21568627, 0.40784314],\n",
       "        [0.11372549, 0.21176471, 0.44705882],\n",
       "        ...,\n",
       "        [0.76862745, 0.77647059, 0.77254902],\n",
       "        [0.74117647, 0.74901961, 0.74509804],\n",
       "        [0.74901961, 0.75686275, 0.75294118]],\n",
       "\n",
       "       [[0.14509804, 0.21568627, 0.34509804],\n",
       "        [0.06666667, 0.16862745, 0.3372549 ],\n",
       "        [0.08627451, 0.17254902, 0.36470588],\n",
       "        ...,\n",
       "        [0.86666667, 0.87843137, 0.8745098 ],\n",
       "        [0.83529412, 0.84313725, 0.83921569],\n",
       "        [0.8       , 0.80784314, 0.80392157]],\n",
       "\n",
       "       [[0.30196078, 0.33333333, 0.37647059],\n",
       "        [0.05490196, 0.1372549 , 0.23529412],\n",
       "        [0.08627451, 0.17254902, 0.27058824],\n",
       "        ...,\n",
       "        [0.8745098 , 0.89019608, 0.88627451],\n",
       "        [0.87058824, 0.89019608, 0.88235294],\n",
       "        [0.87058824, 0.88235294, 0.88235294]],\n",
       "\n",
       "       ...,\n",
       "\n",
       "       [[0.33333333, 0.44313725, 0.72156863],\n",
       "        [0.32941176, 0.43529412, 0.70588235],\n",
       "        [0.32941176, 0.42352941, 0.69019608],\n",
       "        ...,\n",
       "        [0.65882353, 0.77647059, 0.83529412],\n",
       "        [0.6627451 , 0.79607843, 0.78823529],\n",
       "        [0.65490196, 0.77647059, 0.76470588]],\n",
       "\n",
       "       [[0.32941176, 0.44705882, 0.71764706],\n",
       "        [0.33333333, 0.43921569, 0.70588235],\n",
       "        [0.33333333, 0.43529412, 0.69803922],\n",
       "        ...,\n",
       "        [0.71764706, 0.78039216, 0.82352941],\n",
       "        [0.74117647, 0.80784314, 0.84705882],\n",
       "        [0.76470588, 0.82352941, 0.85882353]],\n",
       "\n",
       "       [[0.3254902 , 0.43921569, 0.70196078],\n",
       "        [0.32156863, 0.42745098, 0.68627451],\n",
       "        [0.31764706, 0.41568627, 0.67058824],\n",
       "        ...,\n",
       "        [0.8       , 0.81960784, 0.83921569],\n",
       "        [0.78823529, 0.79607843, 0.86666667],\n",
       "        [0.75294118, 0.77647059, 0.84313725]]])"
      ]
     },
     "execution_count": 33,
     "metadata": {},
     "output_type": "execute_result"
    }
   ],
   "source": [
    "X_train_scale[12125]"
   ]
  },
  {
   "cell_type": "code",
   "execution_count": 34,
   "id": "7a385927",
   "metadata": {},
   "outputs": [
    {
     "data": {
      "text/plain": [
       "<matplotlib.image.AxesImage at 0x1e7fa40ead0>"
      ]
     },
     "execution_count": 34,
     "metadata": {},
     "output_type": "execute_result"
    },
    {
     "data": {
      "image/png": "[encoded data removed]",
      "text/plain": [
       "<Figure size 640x480 with 1 Axes>"
      ]
     },
     "metadata": {},
     "output_type": "display_data"
    }
   ],
   "source": [
    "plt.imshow(X_train_scale[12125])"
   ]
  },
  {
   "cell_type": "code",
   "execution_count": 35,
   "id": "0768f17a",
   "metadata": {},
   "outputs": [
    {
     "data": {
      "text/plain": [
       "array([8], dtype=uint8)"
      ]
     },
     "execution_count": 35,
     "metadata": {},
     "output_type": "execute_result"
    }
   ],
   "source": [
    "y_train[12125]"
   ]
  },
  {
   "cell_type": "code",
   "execution_count": 36,
   "id": "952b6166",
   "metadata": {},
   "outputs": [
    {
     "data": {
      "text/plain": [
       "'ship'"
      ]
     },
     "execution_count": 36,
     "metadata": {},
     "output_type": "execute_result"
    }
   ],
   "source": [
    "namelist[8]"
   ]
  },
  {
   "cell_type": "markdown",
   "id": "1951e98d",
   "metadata": {},
   "source": [
    "# sequential model Building"
   ]
  },
  {
   "cell_type": "code",
   "execution_count": 43,
   "id": "7a7e0ee4",
   "metadata": {},
   "outputs": [],
   "source": [
    "from tensorflow.keras.models import Sequential"
   ]
  },
  {
   "cell_type": "code",
   "execution_count": 53,
   "id": "6263acad",
   "metadata": {},
   "outputs": [],
   "source": [
    "from tensorflow.keras.layers import Input,Dense,Flatten"
   ]
  },
  {
   "cell_type": "code",
   "execution_count": 62,
   "id": "9a9a393b",
   "metadata": {},
   "outputs": [],
   "source": [
    "seq_model=Sequential()"
   ]
  },
  {
   "cell_type": "code",
   "execution_count": 63,
   "id": "553919a0",
   "metadata": {},
   "outputs": [],
   "source": [
    "seq_model.add(Flatten(input_shape=(32,32,3)))"
   ]
  },
  {
   "cell_type": "code",
   "execution_count": 64,
   "id": "d023edc4",
   "metadata": {},
   "outputs": [],
   "source": [
    "seq_model.add(Dense(units=256,activation=\"relu\"))"
   ]
  },
  {
   "cell_type": "code",
   "execution_count": 65,
   "id": "b4e30e23",
   "metadata": {},
   "outputs": [],
   "source": [
    "seq_model.add(Dense(units=128,activation=\"relu\"))"
   ]
  },
  {
   "cell_type": "code",
   "execution_count": 66,
   "id": "dc5d1754",
   "metadata": {},
   "outputs": [],
   "source": [
    "seq_model.add(Dense(units=64,activation=\"relu\"))"
   ]
  },
  {
   "cell_type": "code",
   "execution_count": 67,
   "id": "47afba8d",
   "metadata": {},
   "outputs": [],
   "source": [
    "seq_model.add(Dense(units=128,activation=\"relu\"))"
   ]
  },
  {
   "cell_type": "code",
   "execution_count": 68,
   "id": "a7b6794f",
   "metadata": {},
   "outputs": [],
   "source": [
    "seq_model.add(Dense(units=256,activation=\"relu\"))"
   ]
  },
  {
   "cell_type": "code",
   "execution_count": 69,
   "id": "20e5c807",
   "metadata": {},
   "outputs": [],
   "source": [
    "seq_model.add(Dense(units=10,activation=\"softmax\"))"
   ]
  },
  {
   "cell_type": "code",
   "execution_count": 70,
   "id": "8ed59430",
   "metadata": {},
   "outputs": [
    {
     "data": {
      "text/plain": [
       "<keras.src.engine.sequential.Sequential at 0x1e7fd2e3910>"
      ]
     },
     "execution_count": 70,
     "metadata": {},
     "output_type": "execute_result"
    }
   ],
   "source": [
    "seq_model"
   ]
  },
  {
   "cell_type": "code",
   "execution_count": 71,
   "id": "33893b22",
   "metadata": {},
   "outputs": [
    {
     "name": "stdout",
     "output_type": "stream",
     "text": [
      "Model: \"sequential_4\"\n",
      "_________________________________________________________________\n",
      " Layer (type)                Output Shape              Param #   \n",
      "=================================================================\n",
      " flatten (Flatten)           (None, 3072)              0         \n",
      "                                                                 \n",
      " dense_8 (Dense)             (None, 256)               786688    \n",
      "                                                                 \n",
      " dense_9 (Dense)             (None, 128)               32896     \n",
      "                                                                 \n",
      " dense_10 (Dense)            (None, 64)                8256      \n",
      "                                                                 \n",
      " dense_11 (Dense)            (None, 128)               8320      \n",
      "                                                                 \n",
      " dense_12 (Dense)            (None, 256)               33024     \n",
      "                                                                 \n",
      " dense_13 (Dense)            (None, 10)                2570      \n",
      "                                                                 \n",
      "=================================================================\n",
      "Total params: 871754 (3.33 MB)\n",
      "Trainable params: 871754 (3.33 MB)\n",
      "Non-trainable params: 0 (0.00 Byte)\n",
      "_________________________________________________________________\n"
     ]
    }
   ],
   "source": [
    "seq_model.summary()"
   ]
  },
  {
   "cell_type": "code",
   "execution_count": 72,
   "id": "ec7baa94",
   "metadata": {},
   "outputs": [],
   "source": [
    "seq_model.compile(optimizer=\"adam\",loss=\"sparse_categorical_crossentropy\",metrics=[\"accuracy\"])"
   ]
  },
  {
   "cell_type": "code",
   "execution_count": 77,
   "id": "a2f06ffe",
   "metadata": {},
   "outputs": [
    {
     "name": "stdout",
     "output_type": "stream",
     "text": [
      "Epoch 1/100\n",
      "1563/1563 [==============================] - 19s 12ms/step - loss: 1.0287 - accuracy: 0.6284\n",
      "Epoch 2/100\n",
      "1563/1563 [==============================] - 16s 10ms/step - loss: 1.0206 - accuracy: 0.6303\n",
      "Epoch 3/100\n",
      "1563/1563 [==============================] - 16s 10ms/step - loss: 1.0271 - accuracy: 0.6268\n",
      "Epoch 4/100\n",
      "1563/1563 [==============================] - 16s 10ms/step - loss: 1.0323 - accuracy: 0.6260\n",
      "Epoch 5/100\n",
      "1563/1563 [==============================] - 16s 10ms/step - loss: 1.0151 - accuracy: 0.6299\n",
      "Epoch 6/100\n",
      "1563/1563 [==============================] - 16s 10ms/step - loss: 1.0100 - accuracy: 0.6319\n",
      "Epoch 7/100\n",
      "1563/1563 [==============================] - 16s 10ms/step - loss: 1.0125 - accuracy: 0.6327\n",
      "Epoch 8/100\n",
      "1563/1563 [==============================] - 16s 10ms/step - loss: 1.0085 - accuracy: 0.6337\n",
      "Epoch 9/100\n",
      "1563/1563 [==============================] - 16s 10ms/step - loss: 1.0019 - accuracy: 0.6377\n",
      "Epoch 10/100\n",
      "1563/1563 [==============================] - 16s 10ms/step - loss: 1.0018 - accuracy: 0.6371\n",
      "Epoch 11/100\n",
      "1563/1563 [==============================] - 16s 11ms/step - loss: 0.9975 - accuracy: 0.6372\n",
      "Epoch 12/100\n",
      "1563/1563 [==============================] - 16s 10ms/step - loss: 0.9938 - accuracy: 0.6383\n",
      "Epoch 13/100\n",
      "1563/1563 [==============================] - 16s 10ms/step - loss: 0.9896 - accuracy: 0.6384\n",
      "Epoch 14/100\n",
      "1563/1563 [==============================] - 16s 11ms/step - loss: 0.9957 - accuracy: 0.6387\n",
      "Epoch 15/100\n",
      "1563/1563 [==============================] - 16s 10ms/step - loss: 0.9909 - accuracy: 0.6418\n",
      "Epoch 16/100\n",
      "1563/1563 [==============================] - 16s 10ms/step - loss: 0.9916 - accuracy: 0.6406\n",
      "Epoch 17/100\n",
      "1563/1563 [==============================] - 16s 10ms/step - loss: 0.9863 - accuracy: 0.6423\n",
      "Epoch 18/100\n",
      "1563/1563 [==============================] - 17s 11ms/step - loss: 0.9759 - accuracy: 0.6478\n",
      "Epoch 19/100\n",
      "1563/1563 [==============================] - 16s 10ms/step - loss: 0.9828 - accuracy: 0.6424\n",
      "Epoch 20/100\n",
      "1563/1563 [==============================] - 16s 10ms/step - loss: 0.9735 - accuracy: 0.6463\n",
      "Epoch 21/100\n",
      "1563/1563 [==============================] - 16s 10ms/step - loss: 0.9788 - accuracy: 0.6450\n",
      "Epoch 22/100\n",
      "1563/1563 [==============================] - 16s 11ms/step - loss: 0.9800 - accuracy: 0.6443\n",
      "Epoch 23/100\n",
      "1563/1563 [==============================] - 16s 10ms/step - loss: 0.9752 - accuracy: 0.6469\n",
      "Epoch 24/100\n",
      "1563/1563 [==============================] - 16s 10ms/step - loss: 0.9687 - accuracy: 0.6480\n",
      "Epoch 25/100\n",
      "1563/1563 [==============================] - 17s 11ms/step - loss: 0.9728 - accuracy: 0.6486\n",
      "Epoch 26/100\n",
      "1563/1563 [==============================] - 17s 11ms/step - loss: 0.9700 - accuracy: 0.6485\n",
      "Epoch 27/100\n",
      "1563/1563 [==============================] - 19s 12ms/step - loss: 0.9609 - accuracy: 0.6488\n",
      "Epoch 28/100\n",
      "1563/1563 [==============================] - 17s 11ms/step - loss: 0.9636 - accuracy: 0.6500\n",
      "Epoch 29/100\n",
      "1563/1563 [==============================] - 16s 10ms/step - loss: 0.9647 - accuracy: 0.6498\n",
      "Epoch 30/100\n",
      "1563/1563 [==============================] - 17s 11ms/step - loss: 0.9537 - accuracy: 0.6542\n",
      "Epoch 31/100\n",
      "1563/1563 [==============================] - 17s 11ms/step - loss: 0.9535 - accuracy: 0.6550\n",
      "Epoch 32/100\n",
      "1563/1563 [==============================] - 16s 10ms/step - loss: 0.9571 - accuracy: 0.6537\n",
      "Epoch 33/100\n",
      "1563/1563 [==============================] - 16s 10ms/step - loss: 0.9494 - accuracy: 0.6555\n",
      "Epoch 34/100\n",
      "1563/1563 [==============================] - 15s 10ms/step - loss: 0.9453 - accuracy: 0.6566\n",
      "Epoch 35/100\n",
      "1563/1563 [==============================] - 15s 10ms/step - loss: 0.9524 - accuracy: 0.6535\n",
      "Epoch 36/100\n",
      "1563/1563 [==============================] - 15s 10ms/step - loss: 0.9551 - accuracy: 0.6541\n",
      "Epoch 37/100\n",
      "1563/1563 [==============================] - 15s 10ms/step - loss: 0.9484 - accuracy: 0.6568\n",
      "Epoch 38/100\n",
      "1563/1563 [==============================] - 15s 10ms/step - loss: 0.9455 - accuracy: 0.6573\n",
      "Epoch 39/100\n",
      "1563/1563 [==============================] - 15s 10ms/step - loss: 0.9502 - accuracy: 0.6550\n",
      "Epoch 40/100\n",
      "1563/1563 [==============================] - 15s 10ms/step - loss: 0.9329 - accuracy: 0.6626\n",
      "Epoch 41/100\n",
      "1563/1563 [==============================] - 15s 10ms/step - loss: 0.9479 - accuracy: 0.6561\n",
      "Epoch 42/100\n",
      "1563/1563 [==============================] - 16s 10ms/step - loss: 0.9309 - accuracy: 0.6627\n",
      "Epoch 43/100\n",
      "1563/1563 [==============================] - 16s 10ms/step - loss: 0.9375 - accuracy: 0.6609\n",
      "Epoch 44/100\n",
      "1563/1563 [==============================] - 16s 10ms/step - loss: 0.9443 - accuracy: 0.6591\n",
      "Epoch 45/100\n",
      "1563/1563 [==============================] - 16s 10ms/step - loss: 0.9437 - accuracy: 0.6569\n",
      "Epoch 46/100\n",
      "1563/1563 [==============================] - 16s 10ms/step - loss: 0.9286 - accuracy: 0.6627\n",
      "Epoch 47/100\n",
      "1563/1563 [==============================] - 16s 10ms/step - loss: 0.9258 - accuracy: 0.6666\n",
      "Epoch 48/100\n",
      "1563/1563 [==============================] - 16s 10ms/step - loss: 0.9185 - accuracy: 0.6668\n",
      "Epoch 49/100\n",
      "1563/1563 [==============================] - 16s 10ms/step - loss: 0.9304 - accuracy: 0.6630\n",
      "Epoch 50/100\n",
      "1563/1563 [==============================] - 17s 11ms/step - loss: 0.9187 - accuracy: 0.6646\n",
      "Epoch 51/100\n",
      "1563/1563 [==============================] - 16s 10ms/step - loss: 0.9238 - accuracy: 0.6644\n",
      "Epoch 52/100\n",
      "1563/1563 [==============================] - 16s 10ms/step - loss: 0.9179 - accuracy: 0.6668\n",
      "Epoch 53/100\n",
      "1563/1563 [==============================] - 16s 10ms/step - loss: 0.9154 - accuracy: 0.6695\n",
      "Epoch 54/100\n",
      "1563/1563 [==============================] - 17s 11ms/step - loss: 0.9193 - accuracy: 0.6664\n",
      "Epoch 55/100\n",
      "1563/1563 [==============================] - 17s 11ms/step - loss: 0.9114 - accuracy: 0.6679\n",
      "Epoch 56/100\n",
      "1563/1563 [==============================] - 16s 11ms/step - loss: 0.9235 - accuracy: 0.6658\n",
      "Epoch 57/100\n",
      "1563/1563 [==============================] - 16s 10ms/step - loss: 0.9084 - accuracy: 0.6718\n",
      "Epoch 58/100\n",
      "1563/1563 [==============================] - 16s 11ms/step - loss: 0.9058 - accuracy: 0.6735\n",
      "Epoch 59/100\n",
      "1563/1563 [==============================] - 16s 10ms/step - loss: 0.9274 - accuracy: 0.6646\n",
      "Epoch 60/100\n",
      "1563/1563 [==============================] - 17s 11ms/step - loss: 0.9045 - accuracy: 0.6692\n",
      "Epoch 61/100\n",
      "1563/1563 [==============================] - 17s 11ms/step - loss: 0.9064 - accuracy: 0.6717\n",
      "Epoch 62/100\n",
      "1563/1563 [==============================] - 17s 11ms/step - loss: 0.9101 - accuracy: 0.6665\n",
      "Epoch 63/100\n",
      "1563/1563 [==============================] - 17s 11ms/step - loss: 0.9179 - accuracy: 0.6691\n",
      "Epoch 64/100\n",
      "1563/1563 [==============================] - 17s 11ms/step - loss: 0.8996 - accuracy: 0.6749\n",
      "Epoch 65/100\n",
      "1563/1563 [==============================] - 17s 11ms/step - loss: 0.9033 - accuracy: 0.6735\n",
      "Epoch 66/100\n",
      "1563/1563 [==============================] - 17s 11ms/step - loss: 0.9018 - accuracy: 0.6735\n",
      "Epoch 67/100\n",
      "1563/1563 [==============================] - 17s 11ms/step - loss: 0.9028 - accuracy: 0.6715\n",
      "Epoch 68/100\n",
      "1563/1563 [==============================] - 17s 11ms/step - loss: 0.9067 - accuracy: 0.6723\n",
      "Epoch 69/100\n",
      "1563/1563 [==============================] - 16s 10ms/step - loss: 0.9093 - accuracy: 0.6714\n",
      "Epoch 70/100\n",
      "1563/1563 [==============================] - 17s 11ms/step - loss: 0.8978 - accuracy: 0.6751\n",
      "Epoch 71/100\n",
      "1563/1563 [==============================] - 17s 11ms/step - loss: 0.8945 - accuracy: 0.6752\n",
      "Epoch 72/100\n",
      "1563/1563 [==============================] - 16s 10ms/step - loss: 0.8991 - accuracy: 0.6778\n",
      "Epoch 73/100\n",
      "1563/1563 [==============================] - 15s 10ms/step - loss: 0.8886 - accuracy: 0.6778\n",
      "Epoch 74/100\n",
      "1563/1563 [==============================] - 16s 10ms/step - loss: 0.9002 - accuracy: 0.6753\n",
      "Epoch 75/100\n",
      "1563/1563 [==============================] - 16s 10ms/step - loss: 0.8890 - accuracy: 0.6782\n",
      "Epoch 76/100\n",
      "1563/1563 [==============================] - 16s 10ms/step - loss: 0.8959 - accuracy: 0.6764\n",
      "Epoch 77/100\n",
      "1563/1563 [==============================] - 16s 10ms/step - loss: 0.8855 - accuracy: 0.6792\n",
      "Epoch 78/100\n",
      "1563/1563 [==============================] - 16s 10ms/step - loss: 0.8913 - accuracy: 0.6788\n",
      "Epoch 79/100\n",
      "1563/1563 [==============================] - 16s 10ms/step - loss: 0.8703 - accuracy: 0.6831\n",
      "Epoch 80/100\n",
      "1563/1563 [==============================] - 15s 10ms/step - loss: 0.8880 - accuracy: 0.6791\n",
      "Epoch 81/100\n",
      "1563/1563 [==============================] - 16s 10ms/step - loss: 0.8837 - accuracy: 0.6806\n",
      "Epoch 82/100\n",
      "1563/1563 [==============================] - 16s 10ms/step - loss: 0.9008 - accuracy: 0.6765\n",
      "Epoch 83/100\n",
      "1563/1563 [==============================] - 16s 10ms/step - loss: 0.8715 - accuracy: 0.6840\n",
      "Epoch 84/100\n",
      "1563/1563 [==============================] - 15s 10ms/step - loss: 0.8851 - accuracy: 0.6812\n",
      "Epoch 85/100\n",
      "1563/1563 [==============================] - 15s 10ms/step - loss: 0.8841 - accuracy: 0.6793\n",
      "Epoch 86/100\n",
      "1563/1563 [==============================] - 15s 10ms/step - loss: 0.8925 - accuracy: 0.6789\n",
      "Epoch 87/100\n",
      "1563/1563 [==============================] - 16s 10ms/step - loss: 0.8762 - accuracy: 0.6827\n",
      "Epoch 88/100\n",
      "1563/1563 [==============================] - 16s 10ms/step - loss: 0.8693 - accuracy: 0.6871\n",
      "Epoch 89/100\n",
      "1563/1563 [==============================] - 15s 10ms/step - loss: 0.8837 - accuracy: 0.6808\n",
      "Epoch 90/100\n",
      "1563/1563 [==============================] - 15s 10ms/step - loss: 0.9039 - accuracy: 0.6783\n",
      "Epoch 91/100\n",
      "1563/1563 [==============================] - 16s 10ms/step - loss: 0.8747 - accuracy: 0.6857\n",
      "Epoch 92/100\n",
      "1563/1563 [==============================] - 16s 10ms/step - loss: 0.8846 - accuracy: 0.6813\n",
      "Epoch 93/100\n",
      "1563/1563 [==============================] - 16s 10ms/step - loss: 0.8802 - accuracy: 0.6835\n",
      "Epoch 94/100\n",
      "1563/1563 [==============================] - 15s 10ms/step - loss: 0.8857 - accuracy: 0.6822\n",
      "Epoch 95/100\n",
      "1563/1563 [==============================] - 16s 10ms/step - loss: 0.8797 - accuracy: 0.6808\n",
      "Epoch 96/100\n",
      "1563/1563 [==============================] - 16s 10ms/step - loss: 0.8851 - accuracy: 0.6810\n",
      "Epoch 97/100\n",
      "1563/1563 [==============================] - 15s 10ms/step - loss: 0.8669 - accuracy: 0.6857\n",
      "Epoch 98/100\n",
      "1563/1563 [==============================] - 15s 10ms/step - loss: 0.8917 - accuracy: 0.6800\n",
      "Epoch 99/100\n",
      "1563/1563 [==============================] - 16s 10ms/step - loss: 0.8846 - accuracy: 0.6827\n",
      "Epoch 100/100\n",
      "1563/1563 [==============================] - 16s 10ms/step - loss: 0.8857 - accuracy: 0.6807\n"
     ]
    },
    {
     "data": {
      "text/plain": [
       "<keras.src.callbacks.History at 0x1e826d586a0>"
      ]
     },
     "execution_count": 77,
     "metadata": {},
     "output_type": "execute_result"
    }
   ],
   "source": [
    "seq_model.fit(X_train_scale,y_train,epochs=100)"
   ]
  },
  {
   "cell_type": "code",
   "execution_count": 78,
   "id": "408bae87",
   "metadata": {},
   "outputs": [
    {
     "name": "stdout",
     "output_type": "stream",
     "text": [
      "313/313 [==============================] - 1s 2ms/step - loss: 2.2118 - accuracy: 0.4719\n"
     ]
    },
    {
     "data": {
      "text/plain": [
       "[2.2118465900421143, 0.47189998626708984]"
      ]
     },
     "execution_count": 78,
     "metadata": {},
     "output_type": "execute_result"
    }
   ],
   "source": [
    "seq_model.evaluate(X_test_scale,y_test)"
   ]
  },
  {
   "cell_type": "code",
   "execution_count": 79,
   "id": "c1cd1591",
   "metadata": {},
   "outputs": [
    {
     "data": {
      "text/plain": [
       "array([[[0.66666667, 0.67843137, 0.68627451],\n",
       "        [0.6745098 , 0.68235294, 0.69019608],\n",
       "        [0.68235294, 0.69411765, 0.69803922],\n",
       "        ...,\n",
       "        [0.70588235, 0.72156863, 0.73333333],\n",
       "        [0.69803922, 0.71764706, 0.72941176],\n",
       "        [0.69019608, 0.70980392, 0.72156863]],\n",
       "\n",
       "       [[0.67843137, 0.68235294, 0.68627451],\n",
       "        [0.68235294, 0.68627451, 0.69019608],\n",
       "        [0.69019608, 0.69411765, 0.69411765],\n",
       "        ...,\n",
       "        [0.72156863, 0.73333333, 0.7372549 ],\n",
       "        [0.71372549, 0.7254902 , 0.73333333],\n",
       "        [0.70980392, 0.72156863, 0.7254902 ]],\n",
       "\n",
       "       [[0.66666667, 0.66666667, 0.66666667],\n",
       "        [0.67058824, 0.67058824, 0.67058824],\n",
       "        [0.67843137, 0.67843137, 0.67843137],\n",
       "        ...,\n",
       "        [0.71764706, 0.72156863, 0.7254902 ],\n",
       "        [0.71372549, 0.71764706, 0.71764706],\n",
       "        [0.70588235, 0.70980392, 0.70980392]],\n",
       "\n",
       "       ...,\n",
       "\n",
       "       [[0.4745098 , 0.34117647, 0.10980392],\n",
       "        [0.4627451 , 0.3254902 , 0.08235294],\n",
       "        [0.50196078, 0.47058824, 0.39215686],\n",
       "        ...,\n",
       "        [0.20392157, 0.19215686, 0.09019608],\n",
       "        [0.20784314, 0.19215686, 0.09803922],\n",
       "        [0.2       , 0.18039216, 0.09803922]],\n",
       "\n",
       "       [[0.46666667, 0.36078431, 0.17254902],\n",
       "        [0.4627451 , 0.30588235, 0.03529412],\n",
       "        [0.4745098 , 0.42745098, 0.31764706],\n",
       "        ...,\n",
       "        [0.16078431, 0.16078431, 0.08627451],\n",
       "        [0.19215686, 0.18431373, 0.09803922],\n",
       "        [0.18823529, 0.18039216, 0.10196078]],\n",
       "\n",
       "       [[0.44705882, 0.38039216, 0.24313725],\n",
       "        [0.4627451 , 0.30196078, 0.02352941],\n",
       "        [0.45490196, 0.37254902, 0.22352941],\n",
       "        ...,\n",
       "        [0.10196078, 0.11764706, 0.08627451],\n",
       "        [0.15294118, 0.15294118, 0.09019608],\n",
       "        [0.18823529, 0.17647059, 0.09803922]]])"
      ]
     },
     "execution_count": 79,
     "metadata": {},
     "output_type": "execute_result"
    }
   ],
   "source": [
    "X_train_scale[1234]"
   ]
  },
  {
   "cell_type": "code",
   "execution_count": 91,
   "id": "769af3e4",
   "metadata": {},
   "outputs": [
    {
     "data": {
      "text/plain": [
       "4"
      ]
     },
     "execution_count": 91,
     "metadata": {},
     "output_type": "execute_result"
    }
   ],
   "source": [
    "X_train_scale.ndim"
   ]
  },
  {
   "cell_type": "code",
   "execution_count": 92,
   "id": "d1115ec7",
   "metadata": {},
   "outputs": [
    {
     "data": {
      "text/plain": [
       "3"
      ]
     },
     "execution_count": 92,
     "metadata": {},
     "output_type": "execute_result"
    }
   ],
   "source": [
    "X_train_scale[1234].ndim"
   ]
  },
  {
   "cell_type": "code",
   "execution_count": 93,
   "id": "b6e348de",
   "metadata": {},
   "outputs": [],
   "source": [
    "img=X_train_scale[1234].reshape((1,)+ X_train_scale[1234].shape)"
   ]
  },
  {
   "cell_type": "code",
   "execution_count": 94,
   "id": "ef22bf74",
   "metadata": {},
   "outputs": [
    {
     "name": "stdout",
     "output_type": "stream",
     "text": [
      "1/1 [==============================] - 0s 10ms/step\n"
     ]
    },
    {
     "data": {
      "text/plain": [
       "array([[6.1388212e-01, 3.4709652e-03, 8.6074305e-04, 1.4331393e-02,\n",
       "        1.7800456e-04, 1.0315489e-03, 2.2394105e-03, 3.1248730e-02,\n",
       "        2.8237956e-02, 3.0451921e-01]], dtype=float32)"
      ]
     },
     "execution_count": 94,
     "metadata": {},
     "output_type": "execute_result"
    }
   ],
   "source": [
    "seq_model.predict(img)"
   ]
  },
  {
   "cell_type": "code",
   "execution_count": 95,
   "id": "d8be9416",
   "metadata": {},
   "outputs": [
    {
     "name": "stdout",
     "output_type": "stream",
     "text": [
      "1/1 [==============================] - 0s 10ms/step\n"
     ]
    },
    {
     "data": {
      "text/plain": [
       "0"
      ]
     },
     "execution_count": 95,
     "metadata": {},
     "output_type": "execute_result"
    }
   ],
   "source": [
    "np.argmax(seq_model.predict(img))"
   ]
  },
  {
   "cell_type": "code",
   "execution_count": 98,
   "id": "a957819c",
   "metadata": {},
   "outputs": [
    {
     "data": {
      "text/plain": [
       "'Aeroplane'"
      ]
     },
     "execution_count": 98,
     "metadata": {},
     "output_type": "execute_result"
    }
   ],
   "source": [
    "namelist[0]"
   ]
  },
  {
   "cell_type": "code",
   "execution_count": 97,
   "id": "8694183b",
   "metadata": {},
   "outputs": [
    {
     "data": {
      "text/plain": [
       "<matplotlib.image.AxesImage at 0x1e82d161ae0>"
      ]
     },
     "execution_count": 97,
     "metadata": {},
     "output_type": "execute_result"
    },
    {
     "data": {
      "image/png": "[encoded data removed]",
      "text/plain": [
       "<Figure size 640x480 with 1 Axes>"
      ]
     },
     "metadata": {},
     "output_type": "display_data"
    }
   ],
   "source": [
    "plt.imshow(X_train_scale[1234])"
   ]
  },
  {
   "cell_type": "code",
   "execution_count": 99,
   "id": "8d0eca54",
   "metadata": {},
   "outputs": [
    {
     "data": {
      "text/plain": [
       "array([0], dtype=uint8)"
      ]
     },
     "execution_count": 99,
     "metadata": {},
     "output_type": "execute_result"
    }
   ],
   "source": [
    "y_train[1234]"
   ]
  },
  {
   "cell_type": "code",
   "execution_count": 102,
   "id": "5ee05c47",
   "metadata": {},
   "outputs": [
    {
     "data": {
      "text/plain": [
       "'Aeroplane'"
      ]
     },
     "execution_count": 102,
     "metadata": {},
     "output_type": "execute_result"
    }
   ],
   "source": [
    "namelist[0]"
   ]
  },
  {
   "cell_type": "markdown",
   "id": "986a9b83",
   "metadata": {},
   "source": [
    "# second predict"
   ]
  },
  {
   "cell_type": "code",
   "execution_count": 103,
   "id": "d3771e01",
   "metadata": {},
   "outputs": [
    {
     "data": {
      "text/plain": [
       "(10000, 32, 32, 3)"
      ]
     },
     "execution_count": 103,
     "metadata": {},
     "output_type": "execute_result"
    }
   ],
   "source": [
    "X_test_scale.shape"
   ]
  },
  {
   "cell_type": "code",
   "execution_count": 104,
   "id": "9d61279d",
   "metadata": {},
   "outputs": [
    {
     "data": {
      "text/plain": [
       "array([[[0.90980392, 0.90980392, 0.90980392],\n",
       "        [0.89411765, 0.89411765, 0.89019608],\n",
       "        [0.89411765, 0.89803922, 0.89019608],\n",
       "        ...,\n",
       "        [0.88235294, 0.89411765, 0.89411765],\n",
       "        [0.88627451, 0.89411765, 0.89803922],\n",
       "        [0.89803922, 0.89803922, 0.89803922]],\n",
       "\n",
       "       [[0.91764706, 0.91764706, 0.91372549],\n",
       "        [0.86666667, 0.86666667, 0.85098039],\n",
       "        [0.84705882, 0.85098039, 0.82745098],\n",
       "        ...,\n",
       "        [0.84705882, 0.85490196, 0.83529412],\n",
       "        [0.84313725, 0.85098039, 0.83529412],\n",
       "        [0.87843137, 0.87843137, 0.8745098 ]],\n",
       "\n",
       "       [[0.88235294, 0.88627451, 0.87843137],\n",
       "        [0.76470588, 0.76470588, 0.73333333],\n",
       "        [0.72156863, 0.71764706, 0.67843137],\n",
       "        ...,\n",
       "        [0.72156863, 0.69803922, 0.62352941],\n",
       "        [0.6745098 , 0.65490196, 0.59215686],\n",
       "        [0.78431373, 0.78039216, 0.77647059]],\n",
       "\n",
       "       ...,\n",
       "\n",
       "       [[0.82745098, 0.83137255, 0.81960784],\n",
       "        [0.48235294, 0.49019608, 0.45098039],\n",
       "        [0.35686275, 0.36078431, 0.3254902 ],\n",
       "        ...,\n",
       "        [0.38039216, 0.36078431, 0.32941176],\n",
       "        [0.34901961, 0.32941176, 0.30196078],\n",
       "        [0.61176471, 0.60784314, 0.60392157]],\n",
       "\n",
       "       [[0.86666667, 0.87058824, 0.86666667],\n",
       "        [0.65098039, 0.65098039, 0.64705882],\n",
       "        [0.53333333, 0.53333333, 0.52941176],\n",
       "        ...,\n",
       "        [0.5254902 , 0.51764706, 0.51372549],\n",
       "        [0.54901961, 0.54117647, 0.54117647],\n",
       "        [0.7372549 , 0.73333333, 0.73333333]],\n",
       "\n",
       "       [[0.90588235, 0.90588235, 0.90588235],\n",
       "        [0.84313725, 0.84313725, 0.84313725],\n",
       "        [0.80784314, 0.80784314, 0.80784314],\n",
       "        ...,\n",
       "        [0.79215686, 0.79215686, 0.79215686],\n",
       "        [0.80392157, 0.80392157, 0.80392157],\n",
       "        [0.85882353, 0.85882353, 0.85882353]]])"
      ]
     },
     "execution_count": 104,
     "metadata": {},
     "output_type": "execute_result"
    }
   ],
   "source": [
    "X_test_scale[1234]"
   ]
  },
  {
   "cell_type": "code",
   "execution_count": 106,
   "id": "b18ed4c0",
   "metadata": {},
   "outputs": [],
   "source": [
    "img1=X_test_scale[1234].reshape((1,)+X_test_scale[1234].shape)"
   ]
  },
  {
   "cell_type": "code",
   "execution_count": 107,
   "id": "c8a1d7a0",
   "metadata": {},
   "outputs": [
    {
     "data": {
      "text/plain": [
       "array([[[[0.90980392, 0.90980392, 0.90980392],\n",
       "         [0.89411765, 0.89411765, 0.89019608],\n",
       "         [0.89411765, 0.89803922, 0.89019608],\n",
       "         ...,\n",
       "         [0.88235294, 0.89411765, 0.89411765],\n",
       "         [0.88627451, 0.89411765, 0.89803922],\n",
       "         [0.89803922, 0.89803922, 0.89803922]],\n",
       "\n",
       "        [[0.91764706, 0.91764706, 0.91372549],\n",
       "         [0.86666667, 0.86666667, 0.85098039],\n",
       "         [0.84705882, 0.85098039, 0.82745098],\n",
       "         ...,\n",
       "         [0.84705882, 0.85490196, 0.83529412],\n",
       "         [0.84313725, 0.85098039, 0.83529412],\n",
       "         [0.87843137, 0.87843137, 0.8745098 ]],\n",
       "\n",
       "        [[0.88235294, 0.88627451, 0.87843137],\n",
       "         [0.76470588, 0.76470588, 0.73333333],\n",
       "         [0.72156863, 0.71764706, 0.67843137],\n",
       "         ...,\n",
       "         [0.72156863, 0.69803922, 0.62352941],\n",
       "         [0.6745098 , 0.65490196, 0.59215686],\n",
       "         [0.78431373, 0.78039216, 0.77647059]],\n",
       "\n",
       "        ...,\n",
       "\n",
       "        [[0.82745098, 0.83137255, 0.81960784],\n",
       "         [0.48235294, 0.49019608, 0.45098039],\n",
       "         [0.35686275, 0.36078431, 0.3254902 ],\n",
       "         ...,\n",
       "         [0.38039216, 0.36078431, 0.32941176],\n",
       "         [0.34901961, 0.32941176, 0.30196078],\n",
       "         [0.61176471, 0.60784314, 0.60392157]],\n",
       "\n",
       "        [[0.86666667, 0.87058824, 0.86666667],\n",
       "         [0.65098039, 0.65098039, 0.64705882],\n",
       "         [0.53333333, 0.53333333, 0.52941176],\n",
       "         ...,\n",
       "         [0.5254902 , 0.51764706, 0.51372549],\n",
       "         [0.54901961, 0.54117647, 0.54117647],\n",
       "         [0.7372549 , 0.73333333, 0.73333333]],\n",
       "\n",
       "        [[0.90588235, 0.90588235, 0.90588235],\n",
       "         [0.84313725, 0.84313725, 0.84313725],\n",
       "         [0.80784314, 0.80784314, 0.80784314],\n",
       "         ...,\n",
       "         [0.79215686, 0.79215686, 0.79215686],\n",
       "         [0.80392157, 0.80392157, 0.80392157],\n",
       "         [0.85882353, 0.85882353, 0.85882353]]]])"
      ]
     },
     "execution_count": 107,
     "metadata": {},
     "output_type": "execute_result"
    }
   ],
   "source": [
    "img1"
   ]
  },
  {
   "cell_type": "code",
   "execution_count": 108,
   "id": "08178e7b",
   "metadata": {},
   "outputs": [
    {
     "data": {
      "text/plain": [
       "(1, 32, 32, 3)"
      ]
     },
     "execution_count": 108,
     "metadata": {},
     "output_type": "execute_result"
    }
   ],
   "source": [
    "img1.shape\n"
   ]
  },
  {
   "cell_type": "code",
   "execution_count": 109,
   "id": "1700c234",
   "metadata": {},
   "outputs": [
    {
     "name": "stdout",
     "output_type": "stream",
     "text": [
      "1/1 [==============================] - 0s 17ms/step\n"
     ]
    },
    {
     "data": {
      "text/plain": [
       "array([[8.5857536e-08, 9.1952455e-01, 6.0362842e-15, 3.7367949e-14,\n",
       "        1.0964197e-16, 3.4320748e-09, 1.2732422e-17, 4.4138190e-13,\n",
       "        8.3994719e-06, 8.0467016e-02]], dtype=float32)"
      ]
     },
     "execution_count": 109,
     "metadata": {},
     "output_type": "execute_result"
    }
   ],
   "source": [
    "seq_model.predict(img1)"
   ]
  },
  {
   "cell_type": "code",
   "execution_count": 110,
   "id": "677e8a0d",
   "metadata": {},
   "outputs": [
    {
     "name": "stdout",
     "output_type": "stream",
     "text": [
      "1/1 [==============================] - 0s 20ms/step\n"
     ]
    },
    {
     "data": {
      "text/plain": [
       "1"
      ]
     },
     "execution_count": 110,
     "metadata": {},
     "output_type": "execute_result"
    }
   ],
   "source": [
    "np.argmax(seq_model.predict(img1))"
   ]
  },
  {
   "cell_type": "code",
   "execution_count": 111,
   "id": "7a3f3d8d",
   "metadata": {},
   "outputs": [
    {
     "data": {
      "text/plain": [
       "array([1], dtype=uint8)"
      ]
     },
     "execution_count": 111,
     "metadata": {},
     "output_type": "execute_result"
    }
   ],
   "source": [
    "y_test[1234]"
   ]
  },
  {
   "cell_type": "code",
   "execution_count": 112,
   "id": "bb2b0918",
   "metadata": {},
   "outputs": [
    {
     "data": {
      "text/plain": [
       "'automobile'"
      ]
     },
     "execution_count": 112,
     "metadata": {},
     "output_type": "execute_result"
    }
   ],
   "source": [
    "namelist[1]"
   ]
  },
  {
   "cell_type": "code",
   "execution_count": 113,
   "id": "a7aba6a1",
   "metadata": {},
   "outputs": [
    {
     "data": {
      "text/plain": [
       "<matplotlib.image.AxesImage at 0x1e82d1b5fc0>"
      ]
     },
     "execution_count": 113,
     "metadata": {},
     "output_type": "execute_result"
    },
    {
     "data": {
      "image/png": "[encoded data removed]",
      "text/plain": [
       "<Figure size 640x480 with 1 Axes>"
      ]
     },
     "metadata": {},
     "output_type": "display_data"
    }
   ],
   "source": [
    "plt.imshow(X_test_scale[1234])"
   ]
  },
  {
   "cell_type": "code",
   "execution_count": null,
   "id": "1d4bb531",
   "metadata": {},
   "outputs": [],
   "source": []
  }
 ],
 "metadata": {
  "kernelspec": {
   "display_name": "Python 3 (ipykernel)",
   "language": "python",
   "name": "python3"
  },
  "language_info": {
   "codemirror_mode": {
    "name": "ipython",
    "version": 3
   },
   "file_extension": ".py",
   "mimetype": "text/x-python",
   "name": "python",
   "nbconvert_exporter": "python",
   "pygments_lexer": "ipython3",
   "version": "3.10.9"
  }
 },
 "nbformat": 4,
 "nbformat_minor": 5
}
