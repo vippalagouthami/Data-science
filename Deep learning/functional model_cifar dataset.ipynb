{
 "cells": [
  {
   "cell_type": "code",
   "execution_count": 1,
   "id": "f0fdb670",
   "metadata": {},
   "outputs": [],
   "source": [
    " import tensorflow as tf"
   ]
  },
  {
   "cell_type": "code",
   "execution_count": 2,
   "id": "75ab8929",
   "metadata": {},
   "outputs": [],
   "source": [
    "import numpy as np"
   ]
  },
  {
   "cell_type": "code",
   "execution_count": 3,
   "id": "593c4a75",
   "metadata": {},
   "outputs": [],
   "source": [
    "import pandas as pd"
   ]
  },
  {
   "cell_type": "code",
   "execution_count": 4,
   "id": "8bffc2e7",
   "metadata": {},
   "outputs": [],
   "source": [
    "import matplotlib.pyplot as plt "
   ]
  },
  {
   "cell_type": "code",
   "execution_count": 8,
   "id": "8f864823",
   "metadata": {},
   "outputs": [],
   "source": [
    "from tensorflow.keras.models import Model"
   ]
  },
  {
   "cell_type": "code",
   "execution_count": 9,
   "id": "f0005eb3",
   "metadata": {},
   "outputs": [],
   "source": [
    "from tensorflow.keras.layers import Input,Flatten,Dense"
   ]
  },
  {
   "cell_type": "code",
   "execution_count": 10,
   "id": "ee56d66f",
   "metadata": {},
   "outputs": [],
   "source": [
    "from tensorflow.keras.datasets import cifar10"
   ]
  },
  {
   "cell_type": "code",
   "execution_count": 11,
   "id": "dbc4c040",
   "metadata": {},
   "outputs": [],
   "source": [
    "namelist=[\"Aeroplane\",\"automobile\",\"bird\",\"cat\",\"deer\",\"dog\",\"frog\",\"horse\",\"ship\",\"truck\"]"
   ]
  },
  {
   "cell_type": "code",
   "execution_count": 12,
   "id": "a2dfcaee",
   "metadata": {},
   "outputs": [
    {
     "data": {
      "text/plain": [
       "['Aeroplane',\n",
       " 'automobile',\n",
       " 'bird',\n",
       " 'cat',\n",
       " 'deer',\n",
       " 'dog',\n",
       " 'frog',\n",
       " 'horse',\n",
       " 'ship',\n",
       " 'truck']"
      ]
     },
     "execution_count": 12,
     "metadata": {},
     "output_type": "execute_result"
    }
   ],
   "source": [
    "namelist"
   ]
  },
  {
   "cell_type": "code",
   "execution_count": 13,
   "id": "39e6009a",
   "metadata": {},
   "outputs": [],
   "source": [
    "(X_train,y_train),(X_test,y_test)=cifar10.load_data()"
   ]
  },
  {
   "cell_type": "code",
   "execution_count": 14,
   "id": "88e40cdc",
   "metadata": {},
   "outputs": [
    {
     "data": {
      "text/plain": [
       "(50000, 32, 32, 3)"
      ]
     },
     "execution_count": 14,
     "metadata": {},
     "output_type": "execute_result"
    }
   ],
   "source": [
    "X_train.shape"
   ]
  },
  {
   "cell_type": "code",
   "execution_count": 15,
   "id": "4d665b37",
   "metadata": {},
   "outputs": [
    {
     "data": {
      "text/plain": [
       "(10000, 32, 32, 3)"
      ]
     },
     "execution_count": 15,
     "metadata": {},
     "output_type": "execute_result"
    }
   ],
   "source": [
    "X_test.shape"
   ]
  },
  {
   "cell_type": "code",
   "execution_count": 16,
   "id": "bd5da6fb",
   "metadata": {},
   "outputs": [
    {
     "data": {
      "text/plain": [
       "array([[[[ 59,  62,  63],\n",
       "         [ 43,  46,  45],\n",
       "         [ 50,  48,  43],\n",
       "         ...,\n",
       "         [158, 132, 108],\n",
       "         [152, 125, 102],\n",
       "         [148, 124, 103]],\n",
       "\n",
       "        [[ 16,  20,  20],\n",
       "         [  0,   0,   0],\n",
       "         [ 18,   8,   0],\n",
       "         ...,\n",
       "         [123,  88,  55],\n",
       "         [119,  83,  50],\n",
       "         [122,  87,  57]],\n",
       "\n",
       "        [[ 25,  24,  21],\n",
       "         [ 16,   7,   0],\n",
       "         [ 49,  27,   8],\n",
       "         ...,\n",
       "         [118,  84,  50],\n",
       "         [120,  84,  50],\n",
       "         [109,  73,  42]],\n",
       "\n",
       "        ...,\n",
       "\n",
       "        [[208, 170,  96],\n",
       "         [201, 153,  34],\n",
       "         [198, 161,  26],\n",
       "         ...,\n",
       "         [160, 133,  70],\n",
       "         [ 56,  31,   7],\n",
       "         [ 53,  34,  20]],\n",
       "\n",
       "        [[180, 139,  96],\n",
       "         [173, 123,  42],\n",
       "         [186, 144,  30],\n",
       "         ...,\n",
       "         [184, 148,  94],\n",
       "         [ 97,  62,  34],\n",
       "         [ 83,  53,  34]],\n",
       "\n",
       "        [[177, 144, 116],\n",
       "         [168, 129,  94],\n",
       "         [179, 142,  87],\n",
       "         ...,\n",
       "         [216, 184, 140],\n",
       "         [151, 118,  84],\n",
       "         [123,  92,  72]]],\n",
       "\n",
       "\n",
       "       [[[154, 177, 187],\n",
       "         [126, 137, 136],\n",
       "         [105, 104,  95],\n",
       "         ...,\n",
       "         [ 91,  95,  71],\n",
       "         [ 87,  90,  71],\n",
       "         [ 79,  81,  70]],\n",
       "\n",
       "        [[140, 160, 169],\n",
       "         [145, 153, 154],\n",
       "         [125, 125, 118],\n",
       "         ...,\n",
       "         [ 96,  99,  78],\n",
       "         [ 77,  80,  62],\n",
       "         [ 71,  73,  61]],\n",
       "\n",
       "        [[140, 155, 164],\n",
       "         [139, 146, 149],\n",
       "         [115, 115, 112],\n",
       "         ...,\n",
       "         [ 79,  82,  64],\n",
       "         [ 68,  70,  55],\n",
       "         [ 67,  69,  55]],\n",
       "\n",
       "        ...,\n",
       "\n",
       "        [[175, 167, 166],\n",
       "         [156, 154, 160],\n",
       "         [154, 160, 170],\n",
       "         ...,\n",
       "         [ 42,  34,  36],\n",
       "         [ 61,  53,  57],\n",
       "         [ 93,  83,  91]],\n",
       "\n",
       "        [[165, 154, 128],\n",
       "         [156, 152, 130],\n",
       "         [159, 161, 142],\n",
       "         ...,\n",
       "         [103,  93,  96],\n",
       "         [123, 114, 120],\n",
       "         [131, 121, 131]],\n",
       "\n",
       "        [[163, 148, 120],\n",
       "         [158, 148, 122],\n",
       "         [163, 156, 133],\n",
       "         ...,\n",
       "         [143, 133, 139],\n",
       "         [143, 134, 142],\n",
       "         [143, 133, 144]]],\n",
       "\n",
       "\n",
       "       [[[255, 255, 255],\n",
       "         [253, 253, 253],\n",
       "         [253, 253, 253],\n",
       "         ...,\n",
       "         [253, 253, 253],\n",
       "         [253, 253, 253],\n",
       "         [253, 253, 253]],\n",
       "\n",
       "        [[255, 255, 255],\n",
       "         [255, 255, 255],\n",
       "         [255, 255, 255],\n",
       "         ...,\n",
       "         [255, 255, 255],\n",
       "         [255, 255, 255],\n",
       "         [255, 255, 255]],\n",
       "\n",
       "        [[255, 255, 255],\n",
       "         [254, 254, 254],\n",
       "         [254, 254, 254],\n",
       "         ...,\n",
       "         [254, 254, 254],\n",
       "         [254, 254, 254],\n",
       "         [254, 254, 254]],\n",
       "\n",
       "        ...,\n",
       "\n",
       "        [[113, 120, 112],\n",
       "         [111, 118, 111],\n",
       "         [105, 112, 106],\n",
       "         ...,\n",
       "         [ 72,  81,  80],\n",
       "         [ 72,  80,  79],\n",
       "         [ 72,  80,  79]],\n",
       "\n",
       "        [[111, 118, 110],\n",
       "         [104, 111, 104],\n",
       "         [ 99, 106,  98],\n",
       "         ...,\n",
       "         [ 68,  75,  73],\n",
       "         [ 70,  76,  75],\n",
       "         [ 78,  84,  82]],\n",
       "\n",
       "        [[106, 113, 105],\n",
       "         [ 99, 106,  98],\n",
       "         [ 95, 102,  94],\n",
       "         ...,\n",
       "         [ 78,  85,  83],\n",
       "         [ 79,  85,  83],\n",
       "         [ 80,  86,  84]]],\n",
       "\n",
       "\n",
       "       ...,\n",
       "\n",
       "\n",
       "       [[[ 35, 178, 235],\n",
       "         [ 40, 176, 239],\n",
       "         [ 42, 176, 241],\n",
       "         ...,\n",
       "         [ 99, 177, 219],\n",
       "         [ 79, 147, 197],\n",
       "         [ 89, 148, 189]],\n",
       "\n",
       "        [[ 57, 182, 234],\n",
       "         [ 44, 184, 250],\n",
       "         [ 50, 183, 240],\n",
       "         ...,\n",
       "         [156, 182, 200],\n",
       "         [141, 177, 206],\n",
       "         [116, 149, 175]],\n",
       "\n",
       "        [[ 98, 197, 237],\n",
       "         [ 64, 189, 252],\n",
       "         [ 69, 192, 245],\n",
       "         ...,\n",
       "         [188, 195, 206],\n",
       "         [119, 135, 147],\n",
       "         [ 61,  79,  90]],\n",
       "\n",
       "        ...,\n",
       "\n",
       "        [[ 73,  79,  77],\n",
       "         [ 53,  63,  68],\n",
       "         [ 54,  68,  80],\n",
       "         ...,\n",
       "         [ 17,  40,  64],\n",
       "         [ 21,  36,  51],\n",
       "         [ 33,  48,  49]],\n",
       "\n",
       "        [[ 61,  68,  75],\n",
       "         [ 55,  70,  86],\n",
       "         [ 57,  79, 103],\n",
       "         ...,\n",
       "         [ 24,  48,  72],\n",
       "         [ 17,  35,  53],\n",
       "         [  7,  23,  32]],\n",
       "\n",
       "        [[ 44,  56,  73],\n",
       "         [ 46,  66,  88],\n",
       "         [ 49,  77, 105],\n",
       "         ...,\n",
       "         [ 27,  52,  77],\n",
       "         [ 21,  43,  66],\n",
       "         [ 12,  31,  50]]],\n",
       "\n",
       "\n",
       "       [[[189, 211, 240],\n",
       "         [186, 208, 236],\n",
       "         [185, 207, 235],\n",
       "         ...,\n",
       "         [175, 195, 224],\n",
       "         [172, 194, 222],\n",
       "         [169, 194, 220]],\n",
       "\n",
       "        [[194, 210, 239],\n",
       "         [191, 207, 236],\n",
       "         [190, 206, 235],\n",
       "         ...,\n",
       "         [173, 192, 220],\n",
       "         [171, 191, 218],\n",
       "         [167, 190, 216]],\n",
       "\n",
       "        [[208, 219, 244],\n",
       "         [205, 216, 240],\n",
       "         [204, 215, 239],\n",
       "         ...,\n",
       "         [175, 191, 217],\n",
       "         [172, 190, 216],\n",
       "         [169, 191, 215]],\n",
       "\n",
       "        ...,\n",
       "\n",
       "        [[207, 199, 181],\n",
       "         [203, 195, 175],\n",
       "         [203, 196, 173],\n",
       "         ...,\n",
       "         [135, 132, 127],\n",
       "         [162, 158, 150],\n",
       "         [168, 163, 151]],\n",
       "\n",
       "        [[198, 190, 170],\n",
       "         [189, 181, 159],\n",
       "         [180, 172, 147],\n",
       "         ...,\n",
       "         [178, 171, 160],\n",
       "         [175, 169, 156],\n",
       "         [175, 169, 154]],\n",
       "\n",
       "        [[198, 189, 173],\n",
       "         [189, 181, 162],\n",
       "         [178, 170, 149],\n",
       "         ...,\n",
       "         [195, 184, 169],\n",
       "         [196, 189, 171],\n",
       "         [195, 190, 171]]],\n",
       "\n",
       "\n",
       "       [[[229, 229, 239],\n",
       "         [236, 237, 247],\n",
       "         [234, 236, 247],\n",
       "         ...,\n",
       "         [217, 219, 233],\n",
       "         [221, 223, 234],\n",
       "         [222, 223, 233]],\n",
       "\n",
       "        [[222, 221, 229],\n",
       "         [239, 239, 249],\n",
       "         [233, 234, 246],\n",
       "         ...,\n",
       "         [223, 223, 236],\n",
       "         [227, 228, 238],\n",
       "         [210, 211, 220]],\n",
       "\n",
       "        [[213, 206, 211],\n",
       "         [234, 232, 239],\n",
       "         [231, 233, 244],\n",
       "         ...,\n",
       "         [220, 220, 232],\n",
       "         [220, 219, 232],\n",
       "         [202, 203, 215]],\n",
       "\n",
       "        ...,\n",
       "\n",
       "        [[150, 143, 135],\n",
       "         [140, 135, 127],\n",
       "         [132, 127, 120],\n",
       "         ...,\n",
       "         [224, 222, 218],\n",
       "         [230, 228, 225],\n",
       "         [241, 241, 238]],\n",
       "\n",
       "        [[137, 132, 126],\n",
       "         [130, 127, 120],\n",
       "         [125, 121, 115],\n",
       "         ...,\n",
       "         [181, 180, 178],\n",
       "         [202, 201, 198],\n",
       "         [212, 211, 207]],\n",
       "\n",
       "        [[122, 119, 114],\n",
       "         [118, 116, 110],\n",
       "         [120, 116, 111],\n",
       "         ...,\n",
       "         [179, 177, 173],\n",
       "         [164, 164, 162],\n",
       "         [163, 163, 161]]]], dtype=uint8)"
      ]
     },
     "execution_count": 16,
     "metadata": {},
     "output_type": "execute_result"
    }
   ],
   "source": [
    "X_train"
   ]
  },
  {
   "cell_type": "code",
   "execution_count": 17,
   "id": "1129746e",
   "metadata": {},
   "outputs": [
    {
     "data": {
      "text/plain": [
       "255"
      ]
     },
     "execution_count": 17,
     "metadata": {},
     "output_type": "execute_result"
    }
   ],
   "source": [
    "X_train.max()"
   ]
  },
  {
   "cell_type": "code",
   "execution_count": 18,
   "id": "89a0f482",
   "metadata": {},
   "outputs": [
    {
     "data": {
      "text/plain": [
       "0"
      ]
     },
     "execution_count": 18,
     "metadata": {},
     "output_type": "execute_result"
    }
   ],
   "source": [
    "X_train.min()"
   ]
  },
  {
   "cell_type": "code",
   "execution_count": 19,
   "id": "1149636a",
   "metadata": {},
   "outputs": [],
   "source": [
    "X_train_scale=X_train/255.0"
   ]
  },
  {
   "cell_type": "code",
   "execution_count": 20,
   "id": "428dba6f",
   "metadata": {},
   "outputs": [],
   "source": [
    "X_test_scale=X_test/255.0"
   ]
  },
  {
   "cell_type": "code",
   "execution_count": 21,
   "id": "ef7b13ea",
   "metadata": {},
   "outputs": [
    {
     "data": {
      "text/plain": [
       "1.0"
      ]
     },
     "execution_count": 21,
     "metadata": {},
     "output_type": "execute_result"
    }
   ],
   "source": [
    "X_train_scale.max()"
   ]
  },
  {
   "cell_type": "code",
   "execution_count": 22,
   "id": "f6d4dd15",
   "metadata": {},
   "outputs": [
    {
     "data": {
      "text/plain": [
       "0.0"
      ]
     },
     "execution_count": 22,
     "metadata": {},
     "output_type": "execute_result"
    }
   ],
   "source": [
    "X_train_scale.min()"
   ]
  },
  {
   "cell_type": "code",
   "execution_count": 23,
   "id": "fb93b568",
   "metadata": {},
   "outputs": [
    {
     "data": {
      "text/plain": [
       "1.0"
      ]
     },
     "execution_count": 23,
     "metadata": {},
     "output_type": "execute_result"
    }
   ],
   "source": [
    "X_test_scale.max()"
   ]
  },
  {
   "cell_type": "code",
   "execution_count": 24,
   "id": "83950a33",
   "metadata": {},
   "outputs": [
    {
     "data": {
      "text/plain": [
       "0.0"
      ]
     },
     "execution_count": 24,
     "metadata": {},
     "output_type": "execute_result"
    }
   ],
   "source": [
    "X_test_scale.min()"
   ]
  },
  {
   "cell_type": "code",
   "execution_count": 25,
   "id": "68d70297",
   "metadata": {},
   "outputs": [
    {
     "data": {
      "text/plain": [
       "(50000, 32, 32, 3)"
      ]
     },
     "execution_count": 25,
     "metadata": {},
     "output_type": "execute_result"
    }
   ],
   "source": [
    "X_train.shape"
   ]
  },
  {
   "cell_type": "code",
   "execution_count": 26,
   "id": "d5fab0c2",
   "metadata": {},
   "outputs": [
    {
     "data": {
      "text/plain": [
       "(50000, 32, 32, 3)"
      ]
     },
     "execution_count": 26,
     "metadata": {},
     "output_type": "execute_result"
    }
   ],
   "source": [
    "X_train_scale.shape"
   ]
  },
  {
   "cell_type": "code",
   "execution_count": 27,
   "id": "a5de1a27",
   "metadata": {},
   "outputs": [],
   "source": [
    "feed=Input(shape=(32,32,3))"
   ]
  },
  {
   "cell_type": "code",
   "execution_count": 28,
   "id": "dab8b89f",
   "metadata": {},
   "outputs": [
    {
     "data": {
      "text/plain": [
       "<KerasTensor: shape=(None, 32, 32, 3) dtype=float32 (created by layer 'input_1')>"
      ]
     },
     "execution_count": 28,
     "metadata": {},
     "output_type": "execute_result"
    }
   ],
   "source": [
    "feed"
   ]
  },
  {
   "cell_type": "code",
   "execution_count": 29,
   "id": "323d5d17",
   "metadata": {},
   "outputs": [],
   "source": [
    "flat=Flatten()(feed)"
   ]
  },
  {
   "cell_type": "code",
   "execution_count": 30,
   "id": "7bafd88b",
   "metadata": {},
   "outputs": [
    {
     "data": {
      "text/plain": [
       "<KerasTensor: shape=(None, 3072) dtype=float32 (created by layer 'flatten')>"
      ]
     },
     "execution_count": 30,
     "metadata": {},
     "output_type": "execute_result"
    }
   ],
   "source": [
    "flat"
   ]
  },
  {
   "cell_type": "code",
   "execution_count": 31,
   "id": "c4de5003",
   "metadata": {},
   "outputs": [],
   "source": [
    "den1=Dense(units=256,activation=\"relu\")(flat)"
   ]
  },
  {
   "cell_type": "code",
   "execution_count": 32,
   "id": "d991dd0b",
   "metadata": {},
   "outputs": [
    {
     "data": {
      "text/plain": [
       "<KerasTensor: shape=(None, 256) dtype=float32 (created by layer 'dense')>"
      ]
     },
     "execution_count": 32,
     "metadata": {},
     "output_type": "execute_result"
    }
   ],
   "source": [
    "den1"
   ]
  },
  {
   "cell_type": "code",
   "execution_count": 33,
   "id": "525881e4",
   "metadata": {},
   "outputs": [],
   "source": [
    "den2=Dense(units=128,activation=\"relu\")(den1)"
   ]
  },
  {
   "cell_type": "code",
   "execution_count": 34,
   "id": "ec8e49f8",
   "metadata": {},
   "outputs": [
    {
     "data": {
      "text/plain": [
       "<KerasTensor: shape=(None, 128) dtype=float32 (created by layer 'dense_1')>"
      ]
     },
     "execution_count": 34,
     "metadata": {},
     "output_type": "execute_result"
    }
   ],
   "source": [
    "den2"
   ]
  },
  {
   "cell_type": "code",
   "execution_count": 35,
   "id": "9c5e542d",
   "metadata": {},
   "outputs": [],
   "source": [
    "den3=Dense(units=64,activation=\"relu\")(den2)"
   ]
  },
  {
   "cell_type": "code",
   "execution_count": 36,
   "id": "17033c84",
   "metadata": {},
   "outputs": [
    {
     "data": {
      "text/plain": [
       "<KerasTensor: shape=(None, 64) dtype=float32 (created by layer 'dense_2')>"
      ]
     },
     "execution_count": 36,
     "metadata": {},
     "output_type": "execute_result"
    }
   ],
   "source": [
    "den3"
   ]
  },
  {
   "cell_type": "code",
   "execution_count": 37,
   "id": "b817721b",
   "metadata": {},
   "outputs": [],
   "source": [
    "den4=Dense(units=128,activation=\"relu\")(den3)"
   ]
  },
  {
   "cell_type": "code",
   "execution_count": 38,
   "id": "73b82042",
   "metadata": {},
   "outputs": [
    {
     "data": {
      "text/plain": [
       "<KerasTensor: shape=(None, 128) dtype=float32 (created by layer 'dense_3')>"
      ]
     },
     "execution_count": 38,
     "metadata": {},
     "output_type": "execute_result"
    }
   ],
   "source": [
    "den4"
   ]
  },
  {
   "cell_type": "code",
   "execution_count": 40,
   "id": "1a662724",
   "metadata": {},
   "outputs": [],
   "source": [
    "den5=Dense(units=256,activation=\"relu\")(den4)"
   ]
  },
  {
   "cell_type": "code",
   "execution_count": 41,
   "id": "268543d5",
   "metadata": {},
   "outputs": [
    {
     "data": {
      "text/plain": [
       "<KerasTensor: shape=(None, 256) dtype=float32 (created by layer 'dense_5')>"
      ]
     },
     "execution_count": 41,
     "metadata": {},
     "output_type": "execute_result"
    }
   ],
   "source": [
    "den5"
   ]
  },
  {
   "cell_type": "code",
   "execution_count": 42,
   "id": "6d803c7d",
   "metadata": {},
   "outputs": [],
   "source": [
    "out=Dense(units=10,activation=\"softmax\")(den5)"
   ]
  },
  {
   "cell_type": "code",
   "execution_count": 43,
   "id": "63fece29",
   "metadata": {},
   "outputs": [
    {
     "data": {
      "text/plain": [
       "<KerasTensor: shape=(None, 10) dtype=float32 (created by layer 'dense_6')>"
      ]
     },
     "execution_count": 43,
     "metadata": {},
     "output_type": "execute_result"
    }
   ],
   "source": [
    "out"
   ]
  },
  {
   "cell_type": "code",
   "execution_count": 45,
   "id": "d344e0ab",
   "metadata": {},
   "outputs": [],
   "source": [
    "fun_model=Model(inputs=feed,outputs=out)"
   ]
  },
  {
   "cell_type": "code",
   "execution_count": 46,
   "id": "74d36da1",
   "metadata": {},
   "outputs": [
    {
     "data": {
      "text/plain": [
       "<keras.src.engine.functional.Functional at 0x259f120b580>"
      ]
     },
     "execution_count": 46,
     "metadata": {},
     "output_type": "execute_result"
    }
   ],
   "source": [
    "fun_model"
   ]
  },
  {
   "cell_type": "code",
   "execution_count": 47,
   "id": "48224c85",
   "metadata": {},
   "outputs": [
    {
     "name": "stdout",
     "output_type": "stream",
     "text": [
      "Model: \"model\"\n",
      "_________________________________________________________________\n",
      " Layer (type)                Output Shape              Param #   \n",
      "=================================================================\n",
      " input_1 (InputLayer)        [(None, 32, 32, 3)]       0         \n",
      "                                                                 \n",
      " flatten (Flatten)           (None, 3072)              0         \n",
      "                                                                 \n",
      " dense (Dense)               (None, 256)               786688    \n",
      "                                                                 \n",
      " dense_1 (Dense)             (None, 128)               32896     \n",
      "                                                                 \n",
      " dense_2 (Dense)             (None, 64)                8256      \n",
      "                                                                 \n",
      " dense_3 (Dense)             (None, 128)               8320      \n",
      "                                                                 \n",
      " dense_5 (Dense)             (None, 256)               33024     \n",
      "                                                                 \n",
      " dense_6 (Dense)             (None, 10)                2570      \n",
      "                                                                 \n",
      "=================================================================\n",
      "Total params: 871754 (3.33 MB)\n",
      "Trainable params: 871754 (3.33 MB)\n",
      "Non-trainable params: 0 (0.00 Byte)\n",
      "_________________________________________________________________\n"
     ]
    }
   ],
   "source": [
    "fun_model.summary()"
   ]
  },
  {
   "cell_type": "code",
   "execution_count": 48,
   "id": "4df2a5fd",
   "metadata": {},
   "outputs": [],
   "source": [
    "fun_model.compile(optimizer=\"adam\",loss=\"sparse_categorical_crossentropy\",\n",
    "                 metrics=[\"accuracy\"])"
   ]
  },
  {
   "cell_type": "code",
   "execution_count": 50,
   "id": "9f4fac41",
   "metadata": {},
   "outputs": [
    {
     "name": "stdout",
     "output_type": "stream",
     "text": [
      "Epoch 1/100\n",
      "1563/1563 [==============================] - 16s 10ms/step - loss: 1.2911 - accuracy: 0.5345\n",
      "Epoch 2/100\n",
      "1563/1563 [==============================] - 16s 10ms/step - loss: 1.2824 - accuracy: 0.5371\n",
      "Epoch 3/100\n",
      "1563/1563 [==============================] - 17s 11ms/step - loss: 1.2708 - accuracy: 0.5435\n",
      "Epoch 4/100\n",
      "1563/1563 [==============================] - 16s 10ms/step - loss: 1.2620 - accuracy: 0.5427\n",
      "Epoch 5/100\n",
      "1563/1563 [==============================] - 16s 10ms/step - loss: 1.2523 - accuracy: 0.5466\n",
      "Epoch 6/100\n",
      "1563/1563 [==============================] - 16s 10ms/step - loss: 1.2402 - accuracy: 0.5511\n",
      "Epoch 7/100\n",
      "1563/1563 [==============================] - 16s 10ms/step - loss: 1.2292 - accuracy: 0.5569\n",
      "Epoch 8/100\n",
      "1563/1563 [==============================] - 16s 10ms/step - loss: 1.2238 - accuracy: 0.5580\n",
      "Epoch 9/100\n",
      "1563/1563 [==============================] - 16s 10ms/step - loss: 1.2150 - accuracy: 0.5578\n",
      "Epoch 10/100\n",
      "1563/1563 [==============================] - 16s 10ms/step - loss: 1.2078 - accuracy: 0.5619\n",
      "Epoch 11/100\n",
      "1563/1563 [==============================] - 16s 10ms/step - loss: 1.2001 - accuracy: 0.5621\n",
      "Epoch 12/100\n",
      "1563/1563 [==============================] - 16s 11ms/step - loss: 1.1970 - accuracy: 0.5675\n",
      "Epoch 13/100\n",
      "1563/1563 [==============================] - 16s 10ms/step - loss: 1.1858 - accuracy: 0.5692\n",
      "Epoch 14/100\n",
      "1563/1563 [==============================] - 16s 10ms/step - loss: 1.1763 - accuracy: 0.5725\n",
      "Epoch 15/100\n",
      "1563/1563 [==============================] - 16s 10ms/step - loss: 1.1700 - accuracy: 0.5751\n",
      "Epoch 16/100\n",
      "1563/1563 [==============================] - 16s 10ms/step - loss: 1.1728 - accuracy: 0.5754\n",
      "Epoch 17/100\n",
      "1563/1563 [==============================] - 15s 10ms/step - loss: 1.1665 - accuracy: 0.5750\n",
      "Epoch 18/100\n",
      "1563/1563 [==============================] - 15s 10ms/step - loss: 1.1572 - accuracy: 0.5805\n",
      "Epoch 19/100\n",
      "1563/1563 [==============================] - 15s 10ms/step - loss: 1.1461 - accuracy: 0.5804\n",
      "Epoch 20/100\n",
      "1563/1563 [==============================] - 16s 10ms/step - loss: 1.1471 - accuracy: 0.5851\n",
      "Epoch 21/100\n",
      "1563/1563 [==============================] - 15s 10ms/step - loss: 1.1329 - accuracy: 0.5895\n",
      "Epoch 22/100\n",
      "1563/1563 [==============================] - 15s 10ms/step - loss: 1.1388 - accuracy: 0.5862\n",
      "Epoch 23/100\n",
      "1563/1563 [==============================] - 15s 10ms/step - loss: 1.1267 - accuracy: 0.5898\n",
      "Epoch 24/100\n",
      "1563/1563 [==============================] - 16s 10ms/step - loss: 1.1230 - accuracy: 0.5917\n",
      "Epoch 25/100\n",
      "1563/1563 [==============================] - 15s 10ms/step - loss: 1.1129 - accuracy: 0.5945\n",
      "Epoch 26/100\n",
      "1563/1563 [==============================] - 15s 10ms/step - loss: 1.1142 - accuracy: 0.5973\n",
      "Epoch 27/100\n",
      "1563/1563 [==============================] - 15s 10ms/step - loss: 1.1097 - accuracy: 0.5949\n",
      "Epoch 28/100\n",
      "1563/1563 [==============================] - 15s 10ms/step - loss: 1.1112 - accuracy: 0.5970\n",
      "Epoch 29/100\n",
      "1563/1563 [==============================] - 16s 10ms/step - loss: 1.1032 - accuracy: 0.5955\n",
      "Epoch 30/100\n",
      "1563/1563 [==============================] - 15s 10ms/step - loss: 1.0913 - accuracy: 0.6018\n",
      "Epoch 31/100\n",
      "1563/1563 [==============================] - 15s 10ms/step - loss: 1.0915 - accuracy: 0.6029\n",
      "Epoch 32/100\n",
      "1563/1563 [==============================] - 15s 10ms/step - loss: 1.0843 - accuracy: 0.6048\n",
      "Epoch 33/100\n",
      "1563/1563 [==============================] - 16s 10ms/step - loss: 1.0843 - accuracy: 0.6049\n",
      "Epoch 34/100\n",
      "1563/1563 [==============================] - 15s 10ms/step - loss: 1.0691 - accuracy: 0.6082\n",
      "Epoch 35/100\n",
      "1563/1563 [==============================] - 15s 10ms/step - loss: 1.0659 - accuracy: 0.6120\n",
      "Epoch 36/100\n",
      "1563/1563 [==============================] - 15s 10ms/step - loss: 1.0678 - accuracy: 0.6126\n",
      "Epoch 37/100\n",
      "1563/1563 [==============================] - 16s 10ms/step - loss: 1.0640 - accuracy: 0.6109\n",
      "Epoch 38/100\n",
      "1563/1563 [==============================] - 15s 10ms/step - loss: 1.0532 - accuracy: 0.6164\n",
      "Epoch 39/100\n",
      "1563/1563 [==============================] - 15s 10ms/step - loss: 1.0607 - accuracy: 0.6160\n",
      "Epoch 40/100\n",
      "1563/1563 [==============================] - 15s 10ms/step - loss: 1.0537 - accuracy: 0.6162\n",
      "Epoch 41/100\n",
      "1563/1563 [==============================] - 15s 10ms/step - loss: 1.0426 - accuracy: 0.6213\n",
      "Epoch 42/100\n",
      "1563/1563 [==============================] - 15s 10ms/step - loss: 1.0379 - accuracy: 0.6215\n",
      "Epoch 43/100\n",
      "1563/1563 [==============================] - 15s 10ms/step - loss: 1.0362 - accuracy: 0.6230\n",
      "Epoch 44/100\n",
      "1563/1563 [==============================] - 17s 11ms/step - loss: 1.0286 - accuracy: 0.6238\n",
      "Epoch 45/100\n",
      "1563/1563 [==============================] - 701s 449ms/step - loss: 1.0344 - accuracy: 0.6245\n",
      "Epoch 46/100\n",
      "1563/1563 [==============================] - 17s 11ms/step - loss: 1.0222 - accuracy: 0.6275\n",
      "Epoch 47/100\n",
      "1563/1563 [==============================] - 16s 10ms/step - loss: 1.0188 - accuracy: 0.6290\n",
      "Epoch 48/100\n",
      "1563/1563 [==============================] - 17s 11ms/step - loss: 1.0268 - accuracy: 0.6240\n",
      "Epoch 49/100\n",
      "1563/1563 [==============================] - 17s 11ms/step - loss: 1.0126 - accuracy: 0.6308\n",
      "Epoch 50/100\n",
      "1563/1563 [==============================] - 17s 11ms/step - loss: 1.0185 - accuracy: 0.6290\n",
      "Epoch 51/100\n",
      "1563/1563 [==============================] - 17s 11ms/step - loss: 1.0034 - accuracy: 0.6344\n",
      "Epoch 52/100\n",
      "1563/1563 [==============================] - 17s 11ms/step - loss: 1.0143 - accuracy: 0.6315\n",
      "Epoch 53/100\n",
      "1563/1563 [==============================] - 16s 10ms/step - loss: 1.0143 - accuracy: 0.6308\n",
      "Epoch 54/100\n",
      "1563/1563 [==============================] - 16s 10ms/step - loss: 1.0072 - accuracy: 0.6326\n",
      "Epoch 55/100\n",
      "1563/1563 [==============================] - 16s 10ms/step - loss: 0.9985 - accuracy: 0.6355\n",
      "Epoch 56/100\n",
      "1563/1563 [==============================] - 18s 11ms/step - loss: 0.9927 - accuracy: 0.6367\n",
      "Epoch 57/100\n",
      "1563/1563 [==============================] - 17s 11ms/step - loss: 1.0023 - accuracy: 0.6360\n",
      "Epoch 58/100\n",
      "1563/1563 [==============================] - 16s 10ms/step - loss: 0.9914 - accuracy: 0.6391\n",
      "Epoch 59/100\n",
      "1563/1563 [==============================] - 16s 10ms/step - loss: 0.9921 - accuracy: 0.6418\n",
      "Epoch 60/100\n",
      "1563/1563 [==============================] - 16s 10ms/step - loss: 0.9862 - accuracy: 0.6393\n",
      "Epoch 61/100\n",
      "1563/1563 [==============================] - 16s 10ms/step - loss: 0.9773 - accuracy: 0.6411\n",
      "Epoch 62/100\n",
      "1563/1563 [==============================] - 16s 10ms/step - loss: 0.9795 - accuracy: 0.6423\n",
      "Epoch 63/100\n",
      "1563/1563 [==============================] - 18s 11ms/step - loss: 0.9799 - accuracy: 0.6427\n",
      "Epoch 64/100\n",
      "1563/1563 [==============================] - 16s 10ms/step - loss: 0.9731 - accuracy: 0.6435\n",
      "Epoch 65/100\n",
      "1563/1563 [==============================] - 16s 10ms/step - loss: 0.9686 - accuracy: 0.6461\n",
      "Epoch 66/100\n",
      "1563/1563 [==============================] - 15s 10ms/step - loss: 0.9687 - accuracy: 0.6458\n",
      "Epoch 67/100\n",
      "1563/1563 [==============================] - 15s 10ms/step - loss: 0.9766 - accuracy: 0.6452\n",
      "Epoch 68/100\n",
      "1563/1563 [==============================] - 15s 10ms/step - loss: 0.9535 - accuracy: 0.6508\n",
      "Epoch 69/100\n",
      "1563/1563 [==============================] - 16s 10ms/step - loss: 0.9607 - accuracy: 0.6528\n",
      "Epoch 70/100\n",
      "1563/1563 [==============================] - 15s 10ms/step - loss: 0.9659 - accuracy: 0.6488\n",
      "Epoch 71/100\n",
      "1563/1563 [==============================] - 15s 10ms/step - loss: 0.9650 - accuracy: 0.6499\n",
      "Epoch 72/100\n",
      "1563/1563 [==============================] - 15s 10ms/step - loss: 0.9687 - accuracy: 0.6495\n",
      "Epoch 73/100\n",
      "1563/1563 [==============================] - 16s 10ms/step - loss: 0.9498 - accuracy: 0.6550\n",
      "Epoch 74/100\n",
      "1563/1563 [==============================] - 15s 10ms/step - loss: 0.9499 - accuracy: 0.6548\n",
      "Epoch 75/100\n",
      "1563/1563 [==============================] - 16s 10ms/step - loss: 0.9474 - accuracy: 0.6540\n",
      "Epoch 76/100\n",
      "1563/1563 [==============================] - 16s 10ms/step - loss: 0.9574 - accuracy: 0.6516\n",
      "Epoch 77/100\n",
      "1563/1563 [==============================] - 16s 10ms/step - loss: 0.9358 - accuracy: 0.6587\n",
      "Epoch 78/100\n",
      "1563/1563 [==============================] - 15s 10ms/step - loss: 0.9493 - accuracy: 0.6553\n",
      "Epoch 79/100\n",
      "1563/1563 [==============================] - 15s 10ms/step - loss: 0.9412 - accuracy: 0.6572\n",
      "Epoch 80/100\n",
      "1563/1563 [==============================] - 15s 10ms/step - loss: 0.9261 - accuracy: 0.6636\n",
      "Epoch 81/100\n",
      "1563/1563 [==============================] - 15s 10ms/step - loss: 0.9406 - accuracy: 0.6581\n",
      "Epoch 82/100\n",
      "1563/1563 [==============================] - 16s 10ms/step - loss: 0.9379 - accuracy: 0.6604\n",
      "Epoch 83/100\n",
      "1563/1563 [==============================] - 16s 10ms/step - loss: 0.9381 - accuracy: 0.6604\n",
      "Epoch 84/100\n",
      "1563/1563 [==============================] - 16s 10ms/step - loss: 0.9295 - accuracy: 0.6612\n",
      "Epoch 85/100\n",
      "1563/1563 [==============================] - 16s 10ms/step - loss: 0.9220 - accuracy: 0.6642\n",
      "Epoch 86/100\n",
      "1563/1563 [==============================] - 16s 10ms/step - loss: 0.9333 - accuracy: 0.6618\n",
      "Epoch 87/100\n",
      "1563/1563 [==============================] - 461s 295ms/step - loss: 0.9233 - accuracy: 0.6644\n",
      "Epoch 88/100\n",
      "1563/1563 [==============================] - 18s 12ms/step - loss: 0.9230 - accuracy: 0.6630\n",
      "Epoch 89/100\n",
      "1563/1563 [==============================] - 17s 11ms/step - loss: 0.9328 - accuracy: 0.6590\n",
      "Epoch 90/100\n",
      "1563/1563 [==============================] - 17s 11ms/step - loss: 0.9145 - accuracy: 0.6661\n",
      "Epoch 91/100\n",
      "1563/1563 [==============================] - 17s 11ms/step - loss: 0.9049 - accuracy: 0.6677\n",
      "Epoch 92/100\n",
      "1563/1563 [==============================] - 16s 10ms/step - loss: 0.9249 - accuracy: 0.6647\n",
      "Epoch 93/100\n",
      "1563/1563 [==============================] - 16s 10ms/step - loss: 0.9113 - accuracy: 0.6680\n",
      "Epoch 94/100\n",
      "1563/1563 [==============================] - 17s 11ms/step - loss: 0.9077 - accuracy: 0.6688\n",
      "Epoch 95/100\n",
      "1563/1563 [==============================] - 22s 14ms/step - loss: 0.8947 - accuracy: 0.6717\n",
      "Epoch 96/100\n",
      "1563/1563 [==============================] - 23s 15ms/step - loss: 0.9129 - accuracy: 0.6685\n",
      "Epoch 97/100\n",
      "1563/1563 [==============================] - 19s 12ms/step - loss: 0.8950 - accuracy: 0.6760\n",
      "Epoch 98/100\n",
      "1563/1563 [==============================] - 19s 12ms/step - loss: 0.9044 - accuracy: 0.6706\n",
      "Epoch 99/100\n",
      "1563/1563 [==============================] - 19s 12ms/step - loss: 0.9106 - accuracy: 0.6684\n",
      "Epoch 100/100\n",
      "1563/1563 [==============================] - 18s 12ms/step - loss: 0.8923 - accuracy: 0.6765\n"
     ]
    },
    {
     "data": {
      "text/plain": [
       "<keras.src.callbacks.History at 0x259feee6e60>"
      ]
     },
     "execution_count": 50,
     "metadata": {},
     "output_type": "execute_result"
    }
   ],
   "source": [
    "fun_model.fit(X_train_scale,y_train,epochs=100)"
   ]
  },
  {
   "cell_type": "code",
   "execution_count": 51,
   "id": "1e91a98e",
   "metadata": {},
   "outputs": [
    {
     "name": "stdout",
     "output_type": "stream",
     "text": [
      "313/313 [==============================] - 2s 6ms/step - loss: 2.0440 - accuracy: 0.4811\n"
     ]
    },
    {
     "data": {
      "text/plain": [
       "[2.0440187454223633, 0.4810999929904938]"
      ]
     },
     "execution_count": 51,
     "metadata": {},
     "output_type": "execute_result"
    }
   ],
   "source": [
    "fun_model.evaluate(X_test_scale,y_test)"
   ]
  },
  {
   "cell_type": "markdown",
   "id": "6b569367",
   "metadata": {},
   "source": [
    "# perducation"
   ]
  },
  {
   "cell_type": "code",
   "execution_count": 52,
   "id": "14af1d58",
   "metadata": {},
   "outputs": [
    {
     "data": {
      "text/plain": [
       "array([[[0.66666667, 0.67843137, 0.68627451],\n",
       "        [0.6745098 , 0.68235294, 0.69019608],\n",
       "        [0.68235294, 0.69411765, 0.69803922],\n",
       "        ...,\n",
       "        [0.70588235, 0.72156863, 0.73333333],\n",
       "        [0.69803922, 0.71764706, 0.72941176],\n",
       "        [0.69019608, 0.70980392, 0.72156863]],\n",
       "\n",
       "       [[0.67843137, 0.68235294, 0.68627451],\n",
       "        [0.68235294, 0.68627451, 0.69019608],\n",
       "        [0.69019608, 0.69411765, 0.69411765],\n",
       "        ...,\n",
       "        [0.72156863, 0.73333333, 0.7372549 ],\n",
       "        [0.71372549, 0.7254902 , 0.73333333],\n",
       "        [0.70980392, 0.72156863, 0.7254902 ]],\n",
       "\n",
       "       [[0.66666667, 0.66666667, 0.66666667],\n",
       "        [0.67058824, 0.67058824, 0.67058824],\n",
       "        [0.67843137, 0.67843137, 0.67843137],\n",
       "        ...,\n",
       "        [0.71764706, 0.72156863, 0.7254902 ],\n",
       "        [0.71372549, 0.71764706, 0.71764706],\n",
       "        [0.70588235, 0.70980392, 0.70980392]],\n",
       "\n",
       "       ...,\n",
       "\n",
       "       [[0.4745098 , 0.34117647, 0.10980392],\n",
       "        [0.4627451 , 0.3254902 , 0.08235294],\n",
       "        [0.50196078, 0.47058824, 0.39215686],\n",
       "        ...,\n",
       "        [0.20392157, 0.19215686, 0.09019608],\n",
       "        [0.20784314, 0.19215686, 0.09803922],\n",
       "        [0.2       , 0.18039216, 0.09803922]],\n",
       "\n",
       "       [[0.46666667, 0.36078431, 0.17254902],\n",
       "        [0.4627451 , 0.30588235, 0.03529412],\n",
       "        [0.4745098 , 0.42745098, 0.31764706],\n",
       "        ...,\n",
       "        [0.16078431, 0.16078431, 0.08627451],\n",
       "        [0.19215686, 0.18431373, 0.09803922],\n",
       "        [0.18823529, 0.18039216, 0.10196078]],\n",
       "\n",
       "       [[0.44705882, 0.38039216, 0.24313725],\n",
       "        [0.4627451 , 0.30196078, 0.02352941],\n",
       "        [0.45490196, 0.37254902, 0.22352941],\n",
       "        ...,\n",
       "        [0.10196078, 0.11764706, 0.08627451],\n",
       "        [0.15294118, 0.15294118, 0.09019608],\n",
       "        [0.18823529, 0.17647059, 0.09803922]]])"
      ]
     },
     "execution_count": 52,
     "metadata": {},
     "output_type": "execute_result"
    }
   ],
   "source": [
    "X_train_scale[1234]"
   ]
  },
  {
   "cell_type": "code",
   "execution_count": 54,
   "id": "8b14f692",
   "metadata": {},
   "outputs": [
    {
     "data": {
      "text/plain": [
       "(50000, 32, 32, 3)"
      ]
     },
     "execution_count": 54,
     "metadata": {},
     "output_type": "execute_result"
    }
   ],
   "source": [
    "X_train_scale.shape"
   ]
  },
  {
   "cell_type": "code",
   "execution_count": 55,
   "id": "a06a46dd",
   "metadata": {},
   "outputs": [
    {
     "data": {
      "text/plain": [
       "(32, 32, 3)"
      ]
     },
     "execution_count": 55,
     "metadata": {},
     "output_type": "execute_result"
    }
   ],
   "source": [
    "X_train_scale[1234].shape"
   ]
  },
  {
   "cell_type": "code",
   "execution_count": 56,
   "id": "33876653",
   "metadata": {},
   "outputs": [],
   "source": [
    "img=X_train_scale[1234].reshape((1,)+X_train_scale[1234].shape)"
   ]
  },
  {
   "cell_type": "code",
   "execution_count": 57,
   "id": "9aedf30f",
   "metadata": {},
   "outputs": [
    {
     "data": {
      "text/plain": [
       "array([[[[0.66666667, 0.67843137, 0.68627451],\n",
       "         [0.6745098 , 0.68235294, 0.69019608],\n",
       "         [0.68235294, 0.69411765, 0.69803922],\n",
       "         ...,\n",
       "         [0.70588235, 0.72156863, 0.73333333],\n",
       "         [0.69803922, 0.71764706, 0.72941176],\n",
       "         [0.69019608, 0.70980392, 0.72156863]],\n",
       "\n",
       "        [[0.67843137, 0.68235294, 0.68627451],\n",
       "         [0.68235294, 0.68627451, 0.69019608],\n",
       "         [0.69019608, 0.69411765, 0.69411765],\n",
       "         ...,\n",
       "         [0.72156863, 0.73333333, 0.7372549 ],\n",
       "         [0.71372549, 0.7254902 , 0.73333333],\n",
       "         [0.70980392, 0.72156863, 0.7254902 ]],\n",
       "\n",
       "        [[0.66666667, 0.66666667, 0.66666667],\n",
       "         [0.67058824, 0.67058824, 0.67058824],\n",
       "         [0.67843137, 0.67843137, 0.67843137],\n",
       "         ...,\n",
       "         [0.71764706, 0.72156863, 0.7254902 ],\n",
       "         [0.71372549, 0.71764706, 0.71764706],\n",
       "         [0.70588235, 0.70980392, 0.70980392]],\n",
       "\n",
       "        ...,\n",
       "\n",
       "        [[0.4745098 , 0.34117647, 0.10980392],\n",
       "         [0.4627451 , 0.3254902 , 0.08235294],\n",
       "         [0.50196078, 0.47058824, 0.39215686],\n",
       "         ...,\n",
       "         [0.20392157, 0.19215686, 0.09019608],\n",
       "         [0.20784314, 0.19215686, 0.09803922],\n",
       "         [0.2       , 0.18039216, 0.09803922]],\n",
       "\n",
       "        [[0.46666667, 0.36078431, 0.17254902],\n",
       "         [0.4627451 , 0.30588235, 0.03529412],\n",
       "         [0.4745098 , 0.42745098, 0.31764706],\n",
       "         ...,\n",
       "         [0.16078431, 0.16078431, 0.08627451],\n",
       "         [0.19215686, 0.18431373, 0.09803922],\n",
       "         [0.18823529, 0.18039216, 0.10196078]],\n",
       "\n",
       "        [[0.44705882, 0.38039216, 0.24313725],\n",
       "         [0.4627451 , 0.30196078, 0.02352941],\n",
       "         [0.45490196, 0.37254902, 0.22352941],\n",
       "         ...,\n",
       "         [0.10196078, 0.11764706, 0.08627451],\n",
       "         [0.15294118, 0.15294118, 0.09019608],\n",
       "         [0.18823529, 0.17647059, 0.09803922]]]])"
      ]
     },
     "execution_count": 57,
     "metadata": {},
     "output_type": "execute_result"
    }
   ],
   "source": [
    "img"
   ]
  },
  {
   "cell_type": "code",
   "execution_count": 58,
   "id": "2c7b7227",
   "metadata": {},
   "outputs": [
    {
     "data": {
      "text/plain": [
       "(1, 32, 32, 3)"
      ]
     },
     "execution_count": 58,
     "metadata": {},
     "output_type": "execute_result"
    }
   ],
   "source": [
    "img.shape"
   ]
  },
  {
   "cell_type": "code",
   "execution_count": 60,
   "id": "b2818de3",
   "metadata": {},
   "outputs": [
    {
     "name": "stdout",
     "output_type": "stream",
     "text": [
      "1/1 [==============================] - 0s 95ms/step\n"
     ]
    },
    {
     "data": {
      "text/plain": [
       "array([[7.8764170e-01, 7.3289867e-03, 4.5136777e-03, 7.5788051e-04,\n",
       "        1.4983772e-02, 1.3635736e-03, 1.2430970e-02, 1.8113319e-02,\n",
       "        9.1886871e-02, 6.0979329e-02]], dtype=float32)"
      ]
     },
     "execution_count": 60,
     "metadata": {},
     "output_type": "execute_result"
    }
   ],
   "source": [
    "fun_model.predict(img)"
   ]
  },
  {
   "cell_type": "code",
   "execution_count": 61,
   "id": "a1388fe9",
   "metadata": {},
   "outputs": [
    {
     "name": "stdout",
     "output_type": "stream",
     "text": [
      "1/1 [==============================] - 0s 26ms/step\n"
     ]
    },
    {
     "data": {
      "text/plain": [
       "0"
      ]
     },
     "execution_count": 61,
     "metadata": {},
     "output_type": "execute_result"
    }
   ],
   "source": [
    "np.argmax(fun_model.predict(img))"
   ]
  },
  {
   "cell_type": "code",
   "execution_count": 62,
   "id": "a30c751f",
   "metadata": {},
   "outputs": [
    {
     "data": {
      "text/plain": [
       "'Aeroplane'"
      ]
     },
     "execution_count": 62,
     "metadata": {},
     "output_type": "execute_result"
    }
   ],
   "source": [
    "namelist[0]"
   ]
  },
  {
   "cell_type": "code",
   "execution_count": 63,
   "id": "ffa4527f",
   "metadata": {},
   "outputs": [
    {
     "data": {
      "text/plain": [
       "<matplotlib.image.AxesImage at 0x259f14d9480>"
      ]
     },
     "execution_count": 63,
     "metadata": {},
     "output_type": "execute_result"
    },
    {
     "data": {
      "image/png": "[encoded data removed]",
      "text/plain": [
       "<Figure size 640x480 with 1 Axes>"
      ]
     },
     "metadata": {},
     "output_type": "display_data"
    }
   ],
   "source": [
    "plt.imshow(X_train_scale[1234])"
   ]
  },
  {
   "cell_type": "code",
   "execution_count": 64,
   "id": "b9ad67ed",
   "metadata": {},
   "outputs": [
    {
     "data": {
      "text/plain": [
       "array([0], dtype=uint8)"
      ]
     },
     "execution_count": 64,
     "metadata": {},
     "output_type": "execute_result"
    }
   ],
   "source": [
    "y_train[1234]"
   ]
  },
  {
   "cell_type": "code",
   "execution_count": 65,
   "id": "e127278e",
   "metadata": {},
   "outputs": [
    {
     "data": {
      "text/plain": [
       "'Aeroplane'"
      ]
     },
     "execution_count": 65,
     "metadata": {},
     "output_type": "execute_result"
    }
   ],
   "source": [
    "namelist[0]"
   ]
  },
  {
   "cell_type": "markdown",
   "id": "68862d73",
   "metadata": {},
   "source": [
    "# Second predication"
   ]
  },
  {
   "cell_type": "code",
   "execution_count": 66,
   "id": "5da6e45a",
   "metadata": {},
   "outputs": [
    {
     "data": {
      "text/plain": [
       "array([[[0.90980392, 0.90980392, 0.90980392],\n",
       "        [0.89411765, 0.89411765, 0.89019608],\n",
       "        [0.89411765, 0.89803922, 0.89019608],\n",
       "        ...,\n",
       "        [0.88235294, 0.89411765, 0.89411765],\n",
       "        [0.88627451, 0.89411765, 0.89803922],\n",
       "        [0.89803922, 0.89803922, 0.89803922]],\n",
       "\n",
       "       [[0.91764706, 0.91764706, 0.91372549],\n",
       "        [0.86666667, 0.86666667, 0.85098039],\n",
       "        [0.84705882, 0.85098039, 0.82745098],\n",
       "        ...,\n",
       "        [0.84705882, 0.85490196, 0.83529412],\n",
       "        [0.84313725, 0.85098039, 0.83529412],\n",
       "        [0.87843137, 0.87843137, 0.8745098 ]],\n",
       "\n",
       "       [[0.88235294, 0.88627451, 0.87843137],\n",
       "        [0.76470588, 0.76470588, 0.73333333],\n",
       "        [0.72156863, 0.71764706, 0.67843137],\n",
       "        ...,\n",
       "        [0.72156863, 0.69803922, 0.62352941],\n",
       "        [0.6745098 , 0.65490196, 0.59215686],\n",
       "        [0.78431373, 0.78039216, 0.77647059]],\n",
       "\n",
       "       ...,\n",
       "\n",
       "       [[0.82745098, 0.83137255, 0.81960784],\n",
       "        [0.48235294, 0.49019608, 0.45098039],\n",
       "        [0.35686275, 0.36078431, 0.3254902 ],\n",
       "        ...,\n",
       "        [0.38039216, 0.36078431, 0.32941176],\n",
       "        [0.34901961, 0.32941176, 0.30196078],\n",
       "        [0.61176471, 0.60784314, 0.60392157]],\n",
       "\n",
       "       [[0.86666667, 0.87058824, 0.86666667],\n",
       "        [0.65098039, 0.65098039, 0.64705882],\n",
       "        [0.53333333, 0.53333333, 0.52941176],\n",
       "        ...,\n",
       "        [0.5254902 , 0.51764706, 0.51372549],\n",
       "        [0.54901961, 0.54117647, 0.54117647],\n",
       "        [0.7372549 , 0.73333333, 0.73333333]],\n",
       "\n",
       "       [[0.90588235, 0.90588235, 0.90588235],\n",
       "        [0.84313725, 0.84313725, 0.84313725],\n",
       "        [0.80784314, 0.80784314, 0.80784314],\n",
       "        ...,\n",
       "        [0.79215686, 0.79215686, 0.79215686],\n",
       "        [0.80392157, 0.80392157, 0.80392157],\n",
       "        [0.85882353, 0.85882353, 0.85882353]]])"
      ]
     },
     "execution_count": 66,
     "metadata": {},
     "output_type": "execute_result"
    }
   ],
   "source": [
    "X_test_scale[1234]"
   ]
  },
  {
   "cell_type": "code",
   "execution_count": 67,
   "id": "5b15e310",
   "metadata": {},
   "outputs": [
    {
     "data": {
      "text/plain": [
       "(10000, 32, 32, 3)"
      ]
     },
     "execution_count": 67,
     "metadata": {},
     "output_type": "execute_result"
    }
   ],
   "source": [
    "X_test_scale.shape"
   ]
  },
  {
   "cell_type": "code",
   "execution_count": 68,
   "id": "619cce8f",
   "metadata": {},
   "outputs": [
    {
     "data": {
      "text/plain": [
       "array([[[0.90980392, 0.90980392, 0.90980392],\n",
       "        [0.89411765, 0.89411765, 0.89019608],\n",
       "        [0.89411765, 0.89803922, 0.89019608],\n",
       "        ...,\n",
       "        [0.88235294, 0.89411765, 0.89411765],\n",
       "        [0.88627451, 0.89411765, 0.89803922],\n",
       "        [0.89803922, 0.89803922, 0.89803922]],\n",
       "\n",
       "       [[0.91764706, 0.91764706, 0.91372549],\n",
       "        [0.86666667, 0.86666667, 0.85098039],\n",
       "        [0.84705882, 0.85098039, 0.82745098],\n",
       "        ...,\n",
       "        [0.84705882, 0.85490196, 0.83529412],\n",
       "        [0.84313725, 0.85098039, 0.83529412],\n",
       "        [0.87843137, 0.87843137, 0.8745098 ]],\n",
       "\n",
       "       [[0.88235294, 0.88627451, 0.87843137],\n",
       "        [0.76470588, 0.76470588, 0.73333333],\n",
       "        [0.72156863, 0.71764706, 0.67843137],\n",
       "        ...,\n",
       "        [0.72156863, 0.69803922, 0.62352941],\n",
       "        [0.6745098 , 0.65490196, 0.59215686],\n",
       "        [0.78431373, 0.78039216, 0.77647059]],\n",
       "\n",
       "       ...,\n",
       "\n",
       "       [[0.82745098, 0.83137255, 0.81960784],\n",
       "        [0.48235294, 0.49019608, 0.45098039],\n",
       "        [0.35686275, 0.36078431, 0.3254902 ],\n",
       "        ...,\n",
       "        [0.38039216, 0.36078431, 0.32941176],\n",
       "        [0.34901961, 0.32941176, 0.30196078],\n",
       "        [0.61176471, 0.60784314, 0.60392157]],\n",
       "\n",
       "       [[0.86666667, 0.87058824, 0.86666667],\n",
       "        [0.65098039, 0.65098039, 0.64705882],\n",
       "        [0.53333333, 0.53333333, 0.52941176],\n",
       "        ...,\n",
       "        [0.5254902 , 0.51764706, 0.51372549],\n",
       "        [0.54901961, 0.54117647, 0.54117647],\n",
       "        [0.7372549 , 0.73333333, 0.73333333]],\n",
       "\n",
       "       [[0.90588235, 0.90588235, 0.90588235],\n",
       "        [0.84313725, 0.84313725, 0.84313725],\n",
       "        [0.80784314, 0.80784314, 0.80784314],\n",
       "        ...,\n",
       "        [0.79215686, 0.79215686, 0.79215686],\n",
       "        [0.80392157, 0.80392157, 0.80392157],\n",
       "        [0.85882353, 0.85882353, 0.85882353]]])"
      ]
     },
     "execution_count": 68,
     "metadata": {},
     "output_type": "execute_result"
    }
   ],
   "source": [
    "X_test_scale[1234]"
   ]
  },
  {
   "cell_type": "code",
   "execution_count": 69,
   "id": "53c10681",
   "metadata": {},
   "outputs": [],
   "source": [
    "img1=X_test_scale[1234].reshape((1,)+X_test_scale[1234].shape)"
   ]
  },
  {
   "cell_type": "code",
   "execution_count": 70,
   "id": "c751d995",
   "metadata": {},
   "outputs": [
    {
     "data": {
      "text/plain": [
       "array([[[[0.90980392, 0.90980392, 0.90980392],\n",
       "         [0.89411765, 0.89411765, 0.89019608],\n",
       "         [0.89411765, 0.89803922, 0.89019608],\n",
       "         ...,\n",
       "         [0.88235294, 0.89411765, 0.89411765],\n",
       "         [0.88627451, 0.89411765, 0.89803922],\n",
       "         [0.89803922, 0.89803922, 0.89803922]],\n",
       "\n",
       "        [[0.91764706, 0.91764706, 0.91372549],\n",
       "         [0.86666667, 0.86666667, 0.85098039],\n",
       "         [0.84705882, 0.85098039, 0.82745098],\n",
       "         ...,\n",
       "         [0.84705882, 0.85490196, 0.83529412],\n",
       "         [0.84313725, 0.85098039, 0.83529412],\n",
       "         [0.87843137, 0.87843137, 0.8745098 ]],\n",
       "\n",
       "        [[0.88235294, 0.88627451, 0.87843137],\n",
       "         [0.76470588, 0.76470588, 0.73333333],\n",
       "         [0.72156863, 0.71764706, 0.67843137],\n",
       "         ...,\n",
       "         [0.72156863, 0.69803922, 0.62352941],\n",
       "         [0.6745098 , 0.65490196, 0.59215686],\n",
       "         [0.78431373, 0.78039216, 0.77647059]],\n",
       "\n",
       "        ...,\n",
       "\n",
       "        [[0.82745098, 0.83137255, 0.81960784],\n",
       "         [0.48235294, 0.49019608, 0.45098039],\n",
       "         [0.35686275, 0.36078431, 0.3254902 ],\n",
       "         ...,\n",
       "         [0.38039216, 0.36078431, 0.32941176],\n",
       "         [0.34901961, 0.32941176, 0.30196078],\n",
       "         [0.61176471, 0.60784314, 0.60392157]],\n",
       "\n",
       "        [[0.86666667, 0.87058824, 0.86666667],\n",
       "         [0.65098039, 0.65098039, 0.64705882],\n",
       "         [0.53333333, 0.53333333, 0.52941176],\n",
       "         ...,\n",
       "         [0.5254902 , 0.51764706, 0.51372549],\n",
       "         [0.54901961, 0.54117647, 0.54117647],\n",
       "         [0.7372549 , 0.73333333, 0.73333333]],\n",
       "\n",
       "        [[0.90588235, 0.90588235, 0.90588235],\n",
       "         [0.84313725, 0.84313725, 0.84313725],\n",
       "         [0.80784314, 0.80784314, 0.80784314],\n",
       "         ...,\n",
       "         [0.79215686, 0.79215686, 0.79215686],\n",
       "         [0.80392157, 0.80392157, 0.80392157],\n",
       "         [0.85882353, 0.85882353, 0.85882353]]]])"
      ]
     },
     "execution_count": 70,
     "metadata": {},
     "output_type": "execute_result"
    }
   ],
   "source": [
    "img1"
   ]
  },
  {
   "cell_type": "code",
   "execution_count": 71,
   "id": "a927bcb7",
   "metadata": {},
   "outputs": [
    {
     "data": {
      "text/plain": [
       "(1, 32, 32, 3)"
      ]
     },
     "execution_count": 71,
     "metadata": {},
     "output_type": "execute_result"
    }
   ],
   "source": [
    "img1.shape"
   ]
  },
  {
   "cell_type": "code",
   "execution_count": 72,
   "id": "b18e70e5",
   "metadata": {},
   "outputs": [
    {
     "name": "stdout",
     "output_type": "stream",
     "text": [
      "1/1 [==============================] - 0s 24ms/step\n"
     ]
    },
    {
     "data": {
      "text/plain": [
       "array([[2.5475504e-07, 8.9717841e-01, 4.5200954e-10, 1.0763514e-11,\n",
       "        1.2871796e-08, 7.5303028e-11, 1.0029073e-09, 6.8280215e-11,\n",
       "        4.4586908e-05, 1.0277670e-01]], dtype=float32)"
      ]
     },
     "execution_count": 72,
     "metadata": {},
     "output_type": "execute_result"
    }
   ],
   "source": [
    "fun_model.predict(img1)"
   ]
  },
  {
   "cell_type": "code",
   "execution_count": 73,
   "id": "17bc7c79",
   "metadata": {},
   "outputs": [
    {
     "name": "stdout",
     "output_type": "stream",
     "text": [
      "1/1 [==============================] - 0s 15ms/step\n"
     ]
    },
    {
     "data": {
      "text/plain": [
       "1"
      ]
     },
     "execution_count": 73,
     "metadata": {},
     "output_type": "execute_result"
    }
   ],
   "source": [
    "np.argmax(fun_model.predict(img1))"
   ]
  },
  {
   "cell_type": "code",
   "execution_count": 74,
   "id": "9cb0a9fc",
   "metadata": {},
   "outputs": [
    {
     "data": {
      "text/plain": [
       "array([1], dtype=uint8)"
      ]
     },
     "execution_count": 74,
     "metadata": {},
     "output_type": "execute_result"
    }
   ],
   "source": [
    "y_test[1234]"
   ]
  },
  {
   "cell_type": "code",
   "execution_count": 76,
   "id": "137cb52a",
   "metadata": {},
   "outputs": [
    {
     "data": {
      "text/plain": [
       "'automobile'"
      ]
     },
     "execution_count": 76,
     "metadata": {},
     "output_type": "execute_result"
    }
   ],
   "source": [
    "namelist[1]"
   ]
  },
  {
   "cell_type": "code",
   "execution_count": 77,
   "id": "c8acc57d",
   "metadata": {},
   "outputs": [
    {
     "data": {
      "text/plain": [
       "<matplotlib.image.AxesImage at 0x25a021fb3d0>"
      ]
     },
     "execution_count": 77,
     "metadata": {},
     "output_type": "execute_result"
    },
    {
     "data": {
      "image/png": "[encoded data removed]",
      "text/plain": [
       "<Figure size 640x480 with 1 Axes>"
      ]
     },
     "metadata": {},
     "output_type": "display_data"
    }
   ],
   "source": [
    "plt.imshow(X_test_scale[1234])"
   ]
  },
  {
   "cell_type": "code",
   "execution_count": null,
   "id": "0ce886e7",
   "metadata": {},
   "outputs": [],
   "source": []
  }
 ],
 "metadata": {
  "kernelspec": {
   "display_name": "Python 3 (ipykernel)",
   "language": "python",
   "name": "python3"
  },
  "language_info": {
   "codemirror_mode": {
    "name": "ipython",
    "version": 3
   },
   "file_extension": ".py",
   "mimetype": "text/x-python",
   "name": "python",
   "nbconvert_exporter": "python",
   "pygments_lexer": "ipython3",
   "version": "3.10.9"
  }
 },
 "nbformat": 4,
 "nbformat_minor": 5
}
